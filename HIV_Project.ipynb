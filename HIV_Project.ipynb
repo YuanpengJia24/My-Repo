{
  "cells": [
    {
      "cell_type": "markdown",
      "metadata": {
        "id": "7HpWFythL0yT"
      },
      "source": [
        "#Introduction\n",
        "Throughout this notebook I'll be trying to predict HIV case counts around the world based on various indicators such as condom use, a person's comprehensive knowledge, age, and gender from Kaggle's public dataset (which can be found in the drive). I'll walk you through the entire process by downloading and acquiring preliminary datasets, extracting features, conducting EDA, and doing modeling.\n",
        "\n",
        "Let's begin!"
      ]
    },
    {
      "cell_type": "markdown",
      "metadata": {
        "id": "PJx5VsruDNz4"
      },
      "source": [
        "# Part 0 : Before Running\n",
        "\n",
        "Remember to upload your kaggle.json file (kaggle account required) to colab after you run the following channel. Or, you can directly download file from https://www.kaggle.com/theworldbank/health-nutrition-and-population-statistics and upload to colab.\n",
        "\n",
        "🆘 If you don't want to run it, make sure to load it in Colab to have a complete view of our data visualization."
      ]
    },
    {
      "cell_type": "markdown",
      "metadata": {
        "id": "Udjg-RlG0TCU"
      },
      "source": [
        "## Installing the Kaggle API in Colab\n",
        "\n",
        "The dataset we use from kaggle. If you wish to run this notebook, you can do following steps:\n",
        "\n",
        "\n",
        "First, grab your token from Kaggle.\n",
        "1. Navigate to https://www.kaggle.com.\n",
        "2. Then go to the [Account tab of your user profile](https://www.kaggle.com/me/account).\n",
        "3. select Create API Token. This will trigger the download of kaggle.json, a file containing your API credentials.\n",
        "\n",
        "Then run the cell below to upload kaggle.json to your Colab runtime."
      ]
    },
    {
      "cell_type": "code",
      "execution_count": null,
      "metadata": {
        "colab": {
          "base_uri": "https://localhost:8080/"
        },
        "id": "EAQoQGry3xZ2",
        "outputId": "ca0b153a-c282-4b0d-c86b-11f3aecbf8c5"
      },
      "outputs": [
        {
          "output_type": "stream",
          "name": "stdout",
          "text": [
            "Looking in indexes: https://pypi.org/simple, https://us-python.pkg.dev/colab-wheels/public/simple/\n",
            "Requirement already satisfied: kaggle in /usr/local/lib/python3.9/dist-packages (1.5.13)\n",
            "Requirement already satisfied: python-slugify in /usr/local/lib/python3.9/dist-packages (from kaggle) (8.0.1)\n",
            "Requirement already satisfied: urllib3 in /usr/local/lib/python3.9/dist-packages (from kaggle) (1.26.15)\n",
            "Requirement already satisfied: six>=1.10 in /usr/local/lib/python3.9/dist-packages (from kaggle) (1.15.0)\n",
            "Requirement already satisfied: python-dateutil in /usr/local/lib/python3.9/dist-packages (from kaggle) (2.8.2)\n",
            "Requirement already satisfied: certifi in /usr/local/lib/python3.9/dist-packages (from kaggle) (2022.12.7)\n",
            "Requirement already satisfied: requests in /usr/local/lib/python3.9/dist-packages (from kaggle) (2.27.1)\n",
            "Requirement already satisfied: tqdm in /usr/local/lib/python3.9/dist-packages (from kaggle) (4.65.0)\n",
            "Requirement already satisfied: text-unidecode>=1.3 in /usr/local/lib/python3.9/dist-packages (from python-slugify->kaggle) (1.3)\n",
            "Requirement already satisfied: charset-normalizer~=2.0.0 in /usr/local/lib/python3.9/dist-packages (from requests->kaggle) (2.0.12)\n",
            "Requirement already satisfied: idna<4,>=2.5 in /usr/local/lib/python3.9/dist-packages (from requests->kaggle) (3.4)\n"
          ]
        }
      ],
      "source": [
        "!pip install kaggle"
      ]
    },
    {
      "cell_type": "code",
      "execution_count": null,
      "metadata": {
        "id": "usvPd18T3Xfp"
      },
      "outputs": [],
      "source": [
        "from google.colab import files\n",
        "\n",
        "uploaded = files.upload()\n",
        "\n",
        "for fn in uploaded.keys():\n",
        "  print('User uploaded file \"{name}\" with length {length} bytes'.format(\n",
        "      name=fn, length=len(uploaded[fn])))\n",
        "\n",
        "!mkdir -p ~/.kaggle/ && mv kaggle.json ~/.kaggle/ && chmod 600 ~/.kaggle/kaggle.json"
      ]
    },
    {
      "cell_type": "markdown",
      "metadata": {
        "id": "GYXJYHVs3cag"
      },
      "source": [
        "## Downloading Dataset"
      ]
    },
    {
      "cell_type": "code",
      "execution_count": null,
      "metadata": {
        "colab": {
          "base_uri": "https://localhost:8080/"
        },
        "id": "XKVvswH8DQuN",
        "outputId": "5a275b7f-624b-4d41-eaa5-6451f3c75d82"
      },
      "outputs": [
        {
          "output_type": "stream",
          "name": "stdout",
          "text": [
            "Downloading health-nutrition-and-population-statistics.zip to /content\n",
            " 36% 5.00M/14.0M [00:00<00:00, 28.6MB/s]\n",
            "100% 14.0M/14.0M [00:00<00:00, 54.2MB/s]\n",
            "Archive:  health-nutrition-and-population-statistics.zip\n",
            "  inflating: data.csv                \n",
            "Collecting pycountry\n",
            "  Downloading pycountry-20.7.3.tar.gz (10.1 MB)\n",
            "\u001b[K     |████████████████████████████████| 10.1 MB 6.0 MB/s \n",
            "\u001b[?25hBuilding wheels for collected packages: pycountry\n",
            "  Building wheel for pycountry (setup.py) ... \u001b[?25l\u001b[?25hdone\n",
            "  Created wheel for pycountry: filename=pycountry-20.7.3-py2.py3-none-any.whl size=10746883 sha256=bb56bb0484c3c263acb3e74cfd46cad9f21b822e675efd156f2b974b00a5a974\n",
            "  Stored in directory: /root/.cache/pip/wheels/57/e8/3f/120ccc1ff7541c108bc5d656e2a14c39da0d824653b62284c6\n",
            "Successfully built pycountry\n",
            "Installing collected packages: pycountry\n",
            "Successfully installed pycountry-20.7.3\n",
            "Collecting pycountry-convert\n",
            "  Downloading pycountry_convert-0.7.2-py3-none-any.whl (13 kB)\n",
            "Requirement already satisfied: pytest>=3.4.0 in /usr/local/lib/python3.7/dist-packages (from pycountry-convert) (3.6.4)\n",
            "Requirement already satisfied: pycountry>=16.11.27.1 in /usr/local/lib/python3.7/dist-packages (from pycountry-convert) (20.7.3)\n",
            "Collecting repoze.lru>=0.7\n",
            "  Downloading repoze.lru-0.7-py3-none-any.whl (10 kB)\n",
            "Collecting pprintpp>=0.3.0\n",
            "  Downloading pprintpp-0.4.0-py2.py3-none-any.whl (16 kB)\n",
            "Requirement already satisfied: wheel>=0.30.0 in /usr/local/lib/python3.7/dist-packages (from pycountry-convert) (0.37.0)\n",
            "Collecting pytest-cov>=2.5.1\n",
            "  Downloading pytest_cov-3.0.0-py3-none-any.whl (20 kB)\n",
            "Collecting pytest-mock>=1.6.3\n",
            "  Downloading pytest_mock-3.6.1-py3-none-any.whl (12 kB)\n",
            "Requirement already satisfied: py>=1.5.0 in /usr/local/lib/python3.7/dist-packages (from pytest>=3.4.0->pycountry-convert) (1.11.0)\n",
            "Requirement already satisfied: more-itertools>=4.0.0 in /usr/local/lib/python3.7/dist-packages (from pytest>=3.4.0->pycountry-convert) (8.12.0)\n",
            "Requirement already satisfied: atomicwrites>=1.0 in /usr/local/lib/python3.7/dist-packages (from pytest>=3.4.0->pycountry-convert) (1.4.0)\n",
            "Requirement already satisfied: six>=1.10.0 in /usr/local/lib/python3.7/dist-packages (from pytest>=3.4.0->pycountry-convert) (1.15.0)\n",
            "Requirement already satisfied: attrs>=17.4.0 in /usr/local/lib/python3.7/dist-packages (from pytest>=3.4.0->pycountry-convert) (21.2.0)\n",
            "Requirement already satisfied: pluggy<0.8,>=0.5 in /usr/local/lib/python3.7/dist-packages (from pytest>=3.4.0->pycountry-convert) (0.7.1)\n",
            "Requirement already satisfied: setuptools in /usr/local/lib/python3.7/dist-packages (from pytest>=3.4.0->pycountry-convert) (57.4.0)\n",
            "Collecting pytest>=3.4.0\n",
            "  Downloading pytest-6.2.5-py3-none-any.whl (280 kB)\n",
            "\u001b[K     |████████████████████████████████| 280 kB 7.9 MB/s \n",
            "\u001b[?25hCollecting coverage[toml]>=5.2.1\n",
            "  Downloading coverage-6.2-cp37-cp37m-manylinux_2_5_x86_64.manylinux1_x86_64.manylinux_2_12_x86_64.manylinux2010_x86_64.whl (213 kB)\n",
            "\u001b[K     |████████████████████████████████| 213 kB 11.6 MB/s \n",
            "\u001b[?25hRequirement already satisfied: tomli in /usr/local/lib/python3.7/dist-packages (from coverage[toml]>=5.2.1->pytest-cov>=2.5.1->pycountry-convert) (1.2.2)\n",
            "Requirement already satisfied: toml in /usr/local/lib/python3.7/dist-packages (from pytest>=3.4.0->pycountry-convert) (0.10.2)\n",
            "Requirement already satisfied: importlib-metadata>=0.12 in /usr/local/lib/python3.7/dist-packages (from pytest>=3.4.0->pycountry-convert) (4.8.2)\n",
            "Collecting pytest>=3.4.0\n",
            "  Downloading pytest-6.2.4-py3-none-any.whl (280 kB)\n",
            "\u001b[K     |████████████████████████████████| 280 kB 1.9 MB/s \n",
            "\u001b[?25h  Downloading pytest-6.2.3-py3-none-any.whl (280 kB)\n",
            "\u001b[K     |████████████████████████████████| 280 kB 36.8 MB/s \n",
            "\u001b[?25h  Downloading pytest-6.2.2-py3-none-any.whl (280 kB)\n",
            "\u001b[K     |████████████████████████████████| 280 kB 46.0 MB/s \n",
            "\u001b[?25h  Downloading pytest-6.2.1-py3-none-any.whl (279 kB)\n",
            "\u001b[K     |████████████████████████████████| 279 kB 24.8 MB/s \n",
            "\u001b[?25h  Downloading pytest-6.2.0-py3-none-any.whl (279 kB)\n",
            "\u001b[K     |████████████████████████████████| 279 kB 44.2 MB/s \n",
            "\u001b[?25h  Downloading pytest-6.1.2-py3-none-any.whl (272 kB)\n",
            "\u001b[K     |████████████████████████████████| 272 kB 36.7 MB/s \n",
            "\u001b[?25h  Downloading pytest-6.1.1-py3-none-any.whl (272 kB)\n",
            "\u001b[K     |████████████████████████████████| 272 kB 41.4 MB/s \n",
            "\u001b[?25h  Downloading pytest-6.1.0-py3-none-any.whl (272 kB)\n",
            "\u001b[K     |████████████████████████████████| 272 kB 44.9 MB/s \n",
            "\u001b[?25h  Downloading pytest-6.0.2-py3-none-any.whl (270 kB)\n",
            "\u001b[K     |████████████████████████████████| 270 kB 26.8 MB/s \n",
            "\u001b[?25h  Downloading pytest-6.0.1-py3-none-any.whl (270 kB)\n",
            "\u001b[K     |████████████████████████████████| 270 kB 39.2 MB/s \n",
            "\u001b[?25h  Downloading pytest-6.0.0-py3-none-any.whl (270 kB)\n",
            "\u001b[K     |████████████████████████████████| 270 kB 18.5 MB/s \n",
            "\u001b[?25h  Downloading pytest-5.4.3-py3-none-any.whl (248 kB)\n",
            "\u001b[K     |████████████████████████████████| 248 kB 43.7 MB/s \n",
            "\u001b[?25h  Downloading pytest-5.4.2-py3-none-any.whl (247 kB)\n",
            "\u001b[K     |████████████████████████████████| 247 kB 46.5 MB/s \n",
            "\u001b[?25h  Downloading pytest-5.4.1-py3-none-any.whl (246 kB)\n",
            "\u001b[K     |████████████████████████████████| 246 kB 42.6 MB/s \n",
            "\u001b[?25h  Downloading pytest-5.4.0-py3-none-any.whl (247 kB)\n",
            "\u001b[K     |████████████████████████████████| 247 kB 42.5 MB/s \n",
            "\u001b[?25h  Downloading pytest-5.3.5-py3-none-any.whl (235 kB)\n",
            "\u001b[K     |████████████████████████████████| 235 kB 43.5 MB/s \n",
            "\u001b[?25h  Downloading pytest-5.3.4-py3-none-any.whl (235 kB)\n",
            "\u001b[K     |████████████████████████████████| 235 kB 39.6 MB/s \n",
            "\u001b[?25h  Downloading pytest-5.3.3-py3-none-any.whl (235 kB)\n",
            "\u001b[K     |████████████████████████████████| 235 kB 31.3 MB/s \n",
            "\u001b[?25h  Downloading pytest-5.3.2-py3-none-any.whl (234 kB)\n",
            "\u001b[K     |████████████████████████████████| 234 kB 39.0 MB/s \n",
            "\u001b[?25h  Downloading pytest-5.3.1-py3-none-any.whl (233 kB)\n",
            "\u001b[K     |████████████████████████████████| 233 kB 35.2 MB/s \n",
            "\u001b[?25h  Downloading pytest-5.3.0-py3-none-any.whl (233 kB)\n",
            "\u001b[K     |████████████████████████████████| 233 kB 7.8 MB/s \n",
            "\u001b[?25h  Downloading pytest-5.2.4-py3-none-any.whl (227 kB)\n",
            "\u001b[K     |████████████████████████████████| 227 kB 37.3 MB/s \n",
            "\u001b[?25h  Downloading pytest-5.2.3-py3-none-any.whl (227 kB)\n",
            "\u001b[K     |████████████████████████████████| 227 kB 38.3 MB/s \n",
            "\u001b[?25h  Downloading pytest-5.2.2-py3-none-any.whl (227 kB)\n",
            "\u001b[K     |████████████████████████████████| 227 kB 43.5 MB/s \n",
            "\u001b[?25h  Downloading pytest-5.2.1-py3-none-any.whl (226 kB)\n",
            "\u001b[K     |████████████████████████████████| 226 kB 46.2 MB/s \n",
            "\u001b[?25h  Downloading pytest-5.2.0-py3-none-any.whl (226 kB)\n",
            "\u001b[K     |████████████████████████████████| 226 kB 70.7 MB/s \n",
            "\u001b[?25h  Downloading pytest-5.1.3-py3-none-any.whl (224 kB)\n",
            "\u001b[K     |████████████████████████████████| 224 kB 41.0 MB/s \n",
            "\u001b[?25h  Downloading pytest-5.1.2-py3-none-any.whl (224 kB)\n",
            "\u001b[K     |████████████████████████████████| 224 kB 52.2 MB/s \n",
            "\u001b[?25h  Downloading pytest-5.1.1-py3-none-any.whl (223 kB)\n",
            "\u001b[K     |████████████████████████████████| 223 kB 55.9 MB/s \n",
            "\u001b[?25h  Downloading pytest-5.1.0-py3-none-any.whl (223 kB)\n",
            "\u001b[K     |████████████████████████████████| 223 kB 39.5 MB/s \n",
            "\u001b[?25h  Downloading pytest-5.0.1-py3-none-any.whl (221 kB)\n",
            "\u001b[K     |████████████████████████████████| 221 kB 52.9 MB/s \n",
            "\u001b[?25h  Downloading pytest-5.0.0-py3-none-any.whl (221 kB)\n",
            "\u001b[K     |████████████████████████████████| 221 kB 48.8 MB/s \n",
            "\u001b[?25h  Downloading pytest-4.6.11-py2.py3-none-any.whl (231 kB)\n",
            "\u001b[K     |████████████████████████████████| 231 kB 42.0 MB/s \n",
            "\u001b[?25h  Downloading pytest-4.6.10-py2.py3-none-any.whl (231 kB)\n",
            "\u001b[K     |████████████████████████████████| 231 kB 54.0 MB/s \n",
            "\u001b[?25h  Downloading pytest-4.6.9-py2.py3-none-any.whl (231 kB)\n",
            "\u001b[K     |████████████████████████████████| 231 kB 53.5 MB/s \n",
            "\u001b[?25h  Downloading pytest-4.6.8-py2.py3-none-any.whl (230 kB)\n",
            "\u001b[K     |████████████████████████████████| 230 kB 54.5 MB/s \n",
            "\u001b[?25h  Downloading pytest-4.6.7-py2.py3-none-any.whl (230 kB)\n",
            "\u001b[K     |████████████████████████████████| 230 kB 53.1 MB/s \n",
            "\u001b[?25h  Downloading pytest-4.6.6-py2.py3-none-any.whl (230 kB)\n",
            "\u001b[K     |████████████████████████████████| 230 kB 32.5 MB/s \n",
            "\u001b[?25h  Downloading pytest-4.6.5-py2.py3-none-any.whl (230 kB)\n",
            "\u001b[K     |████████████████████████████████| 230 kB 52.6 MB/s \n",
            "\u001b[?25h  Downloading pytest-4.6.4-py2.py3-none-any.whl (229 kB)\n",
            "\u001b[K     |████████████████████████████████| 229 kB 52.9 MB/s \n",
            "\u001b[?25h  Downloading pytest-4.6.3-py2.py3-none-any.whl (229 kB)\n",
            "\u001b[K     |████████████████████████████████| 229 kB 38.0 MB/s \n",
            "\u001b[?25h  Downloading pytest-4.6.2-py2.py3-none-any.whl (229 kB)\n",
            "\u001b[K     |████████████████████████████████| 229 kB 56.0 MB/s \n",
            "\u001b[?25h  Downloading pytest-4.6.1-py2.py3-none-any.whl (229 kB)\n",
            "\u001b[K     |████████████████████████████████| 229 kB 46.2 MB/s \n",
            "\u001b[?25h  Downloading pytest-4.6.0-py2.py3-none-any.whl (229 kB)\n",
            "\u001b[K     |████████████████████████████████| 229 kB 45.8 MB/s \n",
            "\u001b[?25hINFO: pip is looking at multiple versions of coverage to determine which version is compatible with other requirements. This could take a while.\n",
            "INFO: pip is looking at multiple versions of coverage[toml] to determine which version is compatible with other requirements. This could take a while.\n",
            "Collecting coverage[toml]>=5.2.1\n",
            "  Downloading coverage-6.1.2-cp37-cp37m-manylinux_2_5_x86_64.manylinux1_x86_64.manylinux_2_12_x86_64.manylinux2010_x86_64.whl (213 kB)\n",
            "\u001b[K     |████████████████████████████████| 213 kB 65.2 MB/s \n",
            "\u001b[?25h  Downloading coverage-6.1.1-cp37-cp37m-manylinux_2_5_x86_64.manylinux1_x86_64.manylinux_2_12_x86_64.manylinux2010_x86_64.whl (213 kB)\n",
            "\u001b[K     |████████████████████████████████| 213 kB 41.5 MB/s \n",
            "\u001b[?25h  Downloading coverage-6.1-cp37-cp37m-manylinux_2_5_x86_64.manylinux1_x86_64.manylinux_2_12_x86_64.manylinux2010_x86_64.whl (213 kB)\n",
            "\u001b[K     |████████████████████████████████| 213 kB 60.9 MB/s \n",
            "\u001b[?25h  Downloading coverage-6.0.2-cp37-cp37m-manylinux_2_5_x86_64.manylinux1_x86_64.manylinux_2_12_x86_64.manylinux2010_x86_64.whl (253 kB)\n",
            "\u001b[K     |████████████████████████████████| 253 kB 61.0 MB/s \n",
            "\u001b[?25h  Downloading coverage-6.0.1-cp37-cp37m-manylinux_2_5_x86_64.manylinux1_x86_64.manylinux_2_12_x86_64.manylinux2010_x86_64.whl (252 kB)\n",
            "\u001b[K     |████████████████████████████████| 252 kB 53.4 MB/s \n",
            "\u001b[?25h  Downloading coverage-6.0-cp37-cp37m-manylinux_2_5_x86_64.manylinux1_x86_64.manylinux_2_12_x86_64.manylinux2010_x86_64.whl (252 kB)\n",
            "\u001b[K     |████████████████████████████████| 252 kB 51.6 MB/s \n",
            "\u001b[?25h  Downloading coverage-5.5-cp37-cp37m-manylinux2010_x86_64.whl (242 kB)\n",
            "\u001b[K     |████████████████████████████████| 242 kB 60.0 MB/s \n",
            "\u001b[?25hINFO: pip is looking at multiple versions of coverage to determine which version is compatible with other requirements. This could take a while.\n",
            "INFO: pip is looking at multiple versions of coverage[toml] to determine which version is compatible with other requirements. This could take a while.\n",
            "  Downloading coverage-5.4-cp37-cp37m-manylinux2010_x86_64.whl (242 kB)\n",
            "\u001b[K     |████████████████████████████████| 242 kB 65.6 MB/s \n",
            "\u001b[?25h  Downloading coverage-5.3.1-cp37-cp37m-manylinux2010_x86_64.whl (242 kB)\n",
            "\u001b[K     |████████████████████████████████| 242 kB 48.5 MB/s \n",
            "\u001b[?25h  Downloading coverage-5.3-cp37-cp37m-manylinux1_x86_64.whl (229 kB)\n",
            "\u001b[K     |████████████████████████████████| 229 kB 69.7 MB/s \n",
            "\u001b[?25h  Downloading coverage-5.2.1-cp37-cp37m-manylinux1_x86_64.whl (229 kB)\n",
            "\u001b[K     |████████████████████████████████| 229 kB 58.5 MB/s \n",
            "\u001b[?25hINFO: pip is looking at multiple versions of <Python from Requires-Python> to determine which version is compatible with other requirements. This could take a while.\n",
            "INFO: pip is looking at multiple versions of pytest-cov to determine which version is compatible with other requirements. This could take a while.\n",
            "Collecting pytest-cov>=2.5.1\n",
            "  Downloading pytest_cov-2.12.1-py2.py3-none-any.whl (20 kB)\n",
            "INFO: This is taking longer than usual. You might need to provide the dependency resolver with stricter constraints to reduce runtime. If you want to abort this run, you can press Ctrl + C to do so. To improve how pip performs, tell us what happened here: https://pip.pypa.io/surveys/backtracking\n",
            "  Downloading pytest_cov-2.12.0-py2.py3-none-any.whl (20 kB)\n",
            "INFO: This is taking longer than usual. You might need to provide the dependency resolver with stricter constraints to reduce runtime. If you want to abort this run, you can press Ctrl + C to do so. To improve how pip performs, tell us what happened here: https://pip.pypa.io/surveys/backtracking\n",
            "  Downloading pytest_cov-2.11.1-py2.py3-none-any.whl (20 kB)\n",
            "  Downloading pytest_cov-2.11.0-py2.py3-none-any.whl (20 kB)\n",
            "  Downloading pytest_cov-2.10.1-py2.py3-none-any.whl (19 kB)\n",
            "Collecting coverage>=4.4\n",
            "  Downloading coverage-5.2-cp37-cp37m-manylinux1_x86_64.whl (229 kB)\n",
            "\u001b[K     |████████████████████████████████| 229 kB 52.8 MB/s \n",
            "\u001b[?25h  Downloading coverage-5.1-cp37-cp37m-manylinux1_x86_64.whl (227 kB)\n",
            "\u001b[K     |████████████████████████████████| 227 kB 53.6 MB/s \n",
            "\u001b[?25h  Downloading coverage-5.0.4-cp37-cp37m-manylinux1_x86_64.whl (227 kB)\n",
            "\u001b[K     |████████████████████████████████| 227 kB 48.9 MB/s \n",
            "\u001b[?25h  Downloading coverage-5.0.3-cp37-cp37m-manylinux1_x86_64.whl (227 kB)\n",
            "\u001b[K     |████████████████████████████████| 227 kB 67.8 MB/s \n",
            "\u001b[?25h  Downloading coverage-5.0.2-cp37-cp37m-manylinux1_x86_64.whl (226 kB)\n",
            "\u001b[K     |████████████████████████████████| 226 kB 64.2 MB/s \n",
            "\u001b[?25h  Downloading coverage-5.0.1-cp37-cp37m-manylinux1_x86_64.whl (226 kB)\n",
            "\u001b[K     |████████████████████████████████| 226 kB 53.6 MB/s \n",
            "\u001b[?25h  Downloading coverage-5.0-cp37-cp37m-manylinux1_x86_64.whl (226 kB)\n",
            "\u001b[K     |████████████████████████████████| 226 kB 52.3 MB/s \n",
            "\u001b[?25h  Downloading coverage-4.5.4-cp37-cp37m-manylinux1_x86_64.whl (205 kB)\n",
            "\u001b[K     |████████████████████████████████| 205 kB 54.4 MB/s \n",
            "\u001b[?25h  Downloading coverage-4.5.3-cp37-cp37m-manylinux1_x86_64.whl (204 kB)\n",
            "\u001b[K     |████████████████████████████████| 204 kB 55.2 MB/s \n",
            "\u001b[?25h  Downloading coverage-4.5.2-cp37-cp37m-manylinux1_x86_64.whl (205 kB)\n",
            "\u001b[K     |████████████████████████████████| 205 kB 53.3 MB/s \n",
            "\u001b[?25h  Downloading coverage-4.5.1-cp37-cp37m-manylinux1_x86_64.whl (202 kB)\n",
            "\u001b[K     |████████████████████████████████| 202 kB 43.7 MB/s \n",
            "\u001b[?25h  Downloading coverage-4.5.tar.gz (378 kB)\n",
            "\u001b[K     |████████████████████████████████| 378 kB 45.1 MB/s \n",
            "\u001b[?25h  Downloading coverage-4.4.2.tar.gz (374 kB)\n",
            "\u001b[K     |████████████████████████████████| 374 kB 40.5 MB/s \n",
            "\u001b[?25h  Downloading coverage-4.4.1.tar.gz (369 kB)\n",
            "\u001b[K     |████████████████████████████████| 369 kB 38.1 MB/s \n",
            "\u001b[?25h  Downloading coverage-4.4.tar.gz (369 kB)\n",
            "\u001b[K     |████████████████████████████████| 369 kB 35.0 MB/s \n",
            "\u001b[?25hCollecting pytest-cov>=2.5.1\n",
            "  Downloading pytest_cov-2.10.0-py2.py3-none-any.whl (19 kB)\n",
            "  Downloading pytest_cov-2.9.0-py2.py3-none-any.whl (19 kB)\n",
            "INFO: pip is looking at multiple versions of pytest-mock to determine which version is compatible with other requirements. This could take a while.\n",
            "Collecting pytest-mock>=1.6.3\n",
            "  Downloading pytest_mock-3.6.0-py3-none-any.whl (12 kB)\n",
            "  Downloading pytest_mock-3.5.1-py3-none-any.whl (12 kB)\n",
            "  Downloading pytest_mock-3.5.0-py3-none-any.whl (12 kB)\n",
            "  Downloading pytest_mock-3.4.0-py3-none-any.whl (11 kB)\n",
            "  Downloading pytest_mock-3.3.1-py3-none-any.whl (11 kB)\n",
            "  Downloading pytest_mock-3.3.0-py3-none-any.whl (11 kB)\n",
            "  Downloading pytest_mock-3.2.0-py3-none-any.whl (10 kB)\n",
            "Installing collected packages: coverage, repoze.lru, pytest-mock, pytest-cov, pprintpp, pycountry-convert\n",
            "  Attempting uninstall: coverage\n",
            "    Found existing installation: coverage 3.7.1\n",
            "    Uninstalling coverage-3.7.1:\n",
            "      Successfully uninstalled coverage-3.7.1\n",
            "\u001b[31mERROR: pip's dependency resolver does not currently take into account all the packages that are installed. This behaviour is the source of the following dependency conflicts.\n",
            "datascience 0.10.6 requires coverage==3.7.1, but you have coverage 6.2 which is incompatible.\n",
            "datascience 0.10.6 requires folium==0.2.1, but you have folium 0.8.3 which is incompatible.\n",
            "coveralls 0.5 requires coverage<3.999,>=3.6, but you have coverage 6.2 which is incompatible.\u001b[0m\n",
            "Successfully installed coverage-6.2 pprintpp-0.4.0 pycountry-convert-0.7.2 pytest-cov-2.9.0 pytest-mock-3.2.0 repoze.lru-0.7\n"
          ]
        }
      ],
      "source": [
        "# ! pip install kaggle\n",
        "# ! mkdir ~/.kaggle\n",
        "# ! cp kaggle.json ~/.kaggle/\n",
        "# ! chmod 600 ~/.kaggle/kaggle.json\n",
        "! kaggle datasets download theworldbank/health-nutrition-and-population-statistics\n",
        "! unzip health-nutrition-and-population-statistics\n",
        "! pip install pycountry\n",
        "! pip install pycountry-convert"
      ]
    },
    {
      "cell_type": "markdown",
      "metadata": {
        "id": "5PKjuX9u3RtJ"
      },
      "source": [
        "# Part 1 : Data Extraction & Cleaning"
      ]
    },
    {
      "cell_type": "code",
      "execution_count": null,
      "metadata": {
        "id": "TvsSNXn_Inft"
      },
      "outputs": [],
      "source": [
        "import pandas as pd\n",
        "import pycountry_convert as pc\n",
        "import matplotlib\n",
        "import matplotlib.pyplot as plt\n",
        "import seaborn as sns"
      ]
    },
    {
      "cell_type": "markdown",
      "metadata": {
        "id": "UqjIgPeKN9Pd"
      },
      "source": [
        "## Data Loading\n",
        "\n",
        "We are loading the Health Nutrition and Population Statistics data.csv file that we downloaded from Kaggle.\n",
        "\n",
        "Load `data.csv` as `data_df`."
      ]
    },
    {
      "cell_type": "code",
      "execution_count": null,
      "metadata": {
        "colab": {
          "base_uri": "https://localhost:8080/",
          "height": 538
        },
        "id": "fQPod8xfLP0S",
        "outputId": "9adc3809-3f85-4368-c5be-00c53fe2532a"
      },
      "outputs": [
        {
          "output_type": "execute_result",
          "data": {
            "text/html": [
              "<div>\n",
              "<style scoped>\n",
              "    .dataframe tbody tr th:only-of-type {\n",
              "        vertical-align: middle;\n",
              "    }\n",
              "\n",
              "    .dataframe tbody tr th {\n",
              "        vertical-align: top;\n",
              "    }\n",
              "\n",
              "    .dataframe thead th {\n",
              "        text-align: right;\n",
              "    }\n",
              "</style>\n",
              "<table border=\"1\" class=\"dataframe\">\n",
              "  <thead>\n",
              "    <tr style=\"text-align: right;\">\n",
              "      <th></th>\n",
              "      <th>Country Name</th>\n",
              "      <th>Country Code</th>\n",
              "      <th>Indicator Name</th>\n",
              "      <th>Indicator Code</th>\n",
              "      <th>1960</th>\n",
              "      <th>1961</th>\n",
              "      <th>1962</th>\n",
              "      <th>1963</th>\n",
              "      <th>1964</th>\n",
              "      <th>1965</th>\n",
              "      <th>1966</th>\n",
              "      <th>1967</th>\n",
              "      <th>1968</th>\n",
              "      <th>1969</th>\n",
              "      <th>1970</th>\n",
              "      <th>1971</th>\n",
              "      <th>1972</th>\n",
              "      <th>1973</th>\n",
              "      <th>1974</th>\n",
              "      <th>1975</th>\n",
              "      <th>1976</th>\n",
              "      <th>1977</th>\n",
              "      <th>1978</th>\n",
              "      <th>1979</th>\n",
              "      <th>1980</th>\n",
              "      <th>1981</th>\n",
              "      <th>1982</th>\n",
              "      <th>1983</th>\n",
              "      <th>1984</th>\n",
              "      <th>1985</th>\n",
              "      <th>1986</th>\n",
              "      <th>1987</th>\n",
              "      <th>1988</th>\n",
              "      <th>1989</th>\n",
              "      <th>1990</th>\n",
              "      <th>1991</th>\n",
              "      <th>1992</th>\n",
              "      <th>1993</th>\n",
              "      <th>1994</th>\n",
              "      <th>1995</th>\n",
              "      <th>1996</th>\n",
              "      <th>1997</th>\n",
              "      <th>1998</th>\n",
              "      <th>1999</th>\n",
              "      <th>2000</th>\n",
              "      <th>2001</th>\n",
              "      <th>2002</th>\n",
              "      <th>2003</th>\n",
              "      <th>2004</th>\n",
              "      <th>2005</th>\n",
              "      <th>2006</th>\n",
              "      <th>2007</th>\n",
              "      <th>2008</th>\n",
              "      <th>2009</th>\n",
              "      <th>2010</th>\n",
              "      <th>2011</th>\n",
              "      <th>2012</th>\n",
              "      <th>2013</th>\n",
              "      <th>2014</th>\n",
              "      <th>2015</th>\n",
              "      <th>Unnamed: 60</th>\n",
              "    </tr>\n",
              "  </thead>\n",
              "  <tbody>\n",
              "    <tr>\n",
              "      <th>0</th>\n",
              "      <td>Arab World</td>\n",
              "      <td>ARB</td>\n",
              "      <td>% of females ages 15-49 having comprehensive c...</td>\n",
              "      <td>SH.HIV.KNOW.FE.ZS</td>\n",
              "      <td>NaN</td>\n",
              "      <td>NaN</td>\n",
              "      <td>NaN</td>\n",
              "      <td>NaN</td>\n",
              "      <td>NaN</td>\n",
              "      <td>NaN</td>\n",
              "      <td>NaN</td>\n",
              "      <td>NaN</td>\n",
              "      <td>NaN</td>\n",
              "      <td>NaN</td>\n",
              "      <td>NaN</td>\n",
              "      <td>NaN</td>\n",
              "      <td>NaN</td>\n",
              "      <td>NaN</td>\n",
              "      <td>NaN</td>\n",
              "      <td>NaN</td>\n",
              "      <td>NaN</td>\n",
              "      <td>NaN</td>\n",
              "      <td>NaN</td>\n",
              "      <td>NaN</td>\n",
              "      <td>NaN</td>\n",
              "      <td>NaN</td>\n",
              "      <td>NaN</td>\n",
              "      <td>NaN</td>\n",
              "      <td>NaN</td>\n",
              "      <td>NaN</td>\n",
              "      <td>NaN</td>\n",
              "      <td>NaN</td>\n",
              "      <td>NaN</td>\n",
              "      <td>NaN</td>\n",
              "      <td>NaN</td>\n",
              "      <td>NaN</td>\n",
              "      <td>NaN</td>\n",
              "      <td>NaN</td>\n",
              "      <td>NaN</td>\n",
              "      <td>NaN</td>\n",
              "      <td>NaN</td>\n",
              "      <td>NaN</td>\n",
              "      <td>NaN</td>\n",
              "      <td>NaN</td>\n",
              "      <td>NaN</td>\n",
              "      <td>NaN</td>\n",
              "      <td>NaN</td>\n",
              "      <td>NaN</td>\n",
              "      <td>NaN</td>\n",
              "      <td>NaN</td>\n",
              "      <td>NaN</td>\n",
              "      <td>NaN</td>\n",
              "      <td>NaN</td>\n",
              "      <td>NaN</td>\n",
              "      <td>NaN</td>\n",
              "      <td>NaN</td>\n",
              "      <td>NaN</td>\n",
              "      <td>NaN</td>\n",
              "      <td>NaN</td>\n",
              "      <td>NaN</td>\n",
              "      <td>NaN</td>\n",
              "    </tr>\n",
              "    <tr>\n",
              "      <th>1</th>\n",
              "      <td>Arab World</td>\n",
              "      <td>ARB</td>\n",
              "      <td>% of males ages 15-49 having comprehensive cor...</td>\n",
              "      <td>SH.HIV.KNOW.MA.ZS</td>\n",
              "      <td>NaN</td>\n",
              "      <td>NaN</td>\n",
              "      <td>NaN</td>\n",
              "      <td>NaN</td>\n",
              "      <td>NaN</td>\n",
              "      <td>NaN</td>\n",
              "      <td>NaN</td>\n",
              "      <td>NaN</td>\n",
              "      <td>NaN</td>\n",
              "      <td>NaN</td>\n",
              "      <td>NaN</td>\n",
              "      <td>NaN</td>\n",
              "      <td>NaN</td>\n",
              "      <td>NaN</td>\n",
              "      <td>NaN</td>\n",
              "      <td>NaN</td>\n",
              "      <td>NaN</td>\n",
              "      <td>NaN</td>\n",
              "      <td>NaN</td>\n",
              "      <td>NaN</td>\n",
              "      <td>NaN</td>\n",
              "      <td>NaN</td>\n",
              "      <td>NaN</td>\n",
              "      <td>NaN</td>\n",
              "      <td>NaN</td>\n",
              "      <td>NaN</td>\n",
              "      <td>NaN</td>\n",
              "      <td>NaN</td>\n",
              "      <td>NaN</td>\n",
              "      <td>NaN</td>\n",
              "      <td>NaN</td>\n",
              "      <td>NaN</td>\n",
              "      <td>NaN</td>\n",
              "      <td>NaN</td>\n",
              "      <td>NaN</td>\n",
              "      <td>NaN</td>\n",
              "      <td>NaN</td>\n",
              "      <td>NaN</td>\n",
              "      <td>NaN</td>\n",
              "      <td>NaN</td>\n",
              "      <td>NaN</td>\n",
              "      <td>NaN</td>\n",
              "      <td>NaN</td>\n",
              "      <td>NaN</td>\n",
              "      <td>NaN</td>\n",
              "      <td>NaN</td>\n",
              "      <td>NaN</td>\n",
              "      <td>NaN</td>\n",
              "      <td>NaN</td>\n",
              "      <td>NaN</td>\n",
              "      <td>NaN</td>\n",
              "      <td>NaN</td>\n",
              "      <td>NaN</td>\n",
              "      <td>NaN</td>\n",
              "      <td>NaN</td>\n",
              "      <td>NaN</td>\n",
              "      <td>NaN</td>\n",
              "    </tr>\n",
              "    <tr>\n",
              "      <th>2</th>\n",
              "      <td>Arab World</td>\n",
              "      <td>ARB</td>\n",
              "      <td>Adolescent fertility rate (births per 1,000 wo...</td>\n",
              "      <td>SP.ADO.TFRT</td>\n",
              "      <td>133.555013</td>\n",
              "      <td>134.159119</td>\n",
              "      <td>134.857912</td>\n",
              "      <td>134.504576</td>\n",
              "      <td>134.105211</td>\n",
              "      <td>133.569626</td>\n",
              "      <td>132.675635</td>\n",
              "      <td>131.665502</td>\n",
              "      <td>129.19098</td>\n",
              "      <td>126.736756</td>\n",
              "      <td>124.382809</td>\n",
              "      <td>122.133431</td>\n",
              "      <td>120.020186</td>\n",
              "      <td>118.087531</td>\n",
              "      <td>116.132988</td>\n",
              "      <td>114.100918</td>\n",
              "      <td>111.980005</td>\n",
              "      <td>109.783822</td>\n",
              "      <td>106.033489</td>\n",
              "      <td>102.341721</td>\n",
              "      <td>98.739002</td>\n",
              "      <td>95.241251</td>\n",
              "      <td>91.791192</td>\n",
              "      <td>88.001177</td>\n",
              "      <td>84.207256</td>\n",
              "      <td>80.359323</td>\n",
              "      <td>76.441596</td>\n",
              "      <td>72.51458</td>\n",
              "      <td>71.170664</td>\n",
              "      <td>69.888768</td>\n",
              "      <td>69.004413</td>\n",
              "      <td>67.755992</td>\n",
              "      <td>66.928451</td>\n",
              "      <td>64.948968</td>\n",
              "      <td>62.922778</td>\n",
              "      <td>60.70707</td>\n",
              "      <td>58.596631</td>\n",
              "      <td>56.440128</td>\n",
              "      <td>55.53154</td>\n",
              "      <td>54.658781</td>\n",
              "      <td>53.83141</td>\n",
              "      <td>52.901528</td>\n",
              "      <td>51.990793</td>\n",
              "      <td>51.522856</td>\n",
              "      <td>51.10325</td>\n",
              "      <td>50.73259</td>\n",
              "      <td>50.329135</td>\n",
              "      <td>49.999851</td>\n",
              "      <td>49.887046</td>\n",
              "      <td>49.781207</td>\n",
              "      <td>49.672975</td>\n",
              "      <td>49.536047</td>\n",
              "      <td>49.383745</td>\n",
              "      <td>48.796558</td>\n",
              "      <td>48.196418</td>\n",
              "      <td>NaN</td>\n",
              "      <td>NaN</td>\n",
              "    </tr>\n",
              "    <tr>\n",
              "      <th>3</th>\n",
              "      <td>Arab World</td>\n",
              "      <td>ARB</td>\n",
              "      <td>Adults (ages 15+) and children (0-14 years) li...</td>\n",
              "      <td>SH.HIV.TOTL</td>\n",
              "      <td>NaN</td>\n",
              "      <td>NaN</td>\n",
              "      <td>NaN</td>\n",
              "      <td>NaN</td>\n",
              "      <td>NaN</td>\n",
              "      <td>NaN</td>\n",
              "      <td>NaN</td>\n",
              "      <td>NaN</td>\n",
              "      <td>NaN</td>\n",
              "      <td>NaN</td>\n",
              "      <td>NaN</td>\n",
              "      <td>NaN</td>\n",
              "      <td>NaN</td>\n",
              "      <td>NaN</td>\n",
              "      <td>NaN</td>\n",
              "      <td>NaN</td>\n",
              "      <td>NaN</td>\n",
              "      <td>NaN</td>\n",
              "      <td>NaN</td>\n",
              "      <td>NaN</td>\n",
              "      <td>NaN</td>\n",
              "      <td>NaN</td>\n",
              "      <td>NaN</td>\n",
              "      <td>NaN</td>\n",
              "      <td>NaN</td>\n",
              "      <td>NaN</td>\n",
              "      <td>NaN</td>\n",
              "      <td>NaN</td>\n",
              "      <td>NaN</td>\n",
              "      <td>NaN</td>\n",
              "      <td>NaN</td>\n",
              "      <td>NaN</td>\n",
              "      <td>NaN</td>\n",
              "      <td>NaN</td>\n",
              "      <td>NaN</td>\n",
              "      <td>NaN</td>\n",
              "      <td>NaN</td>\n",
              "      <td>NaN</td>\n",
              "      <td>NaN</td>\n",
              "      <td>NaN</td>\n",
              "      <td>NaN</td>\n",
              "      <td>NaN</td>\n",
              "      <td>NaN</td>\n",
              "      <td>NaN</td>\n",
              "      <td>NaN</td>\n",
              "      <td>NaN</td>\n",
              "      <td>NaN</td>\n",
              "      <td>NaN</td>\n",
              "      <td>NaN</td>\n",
              "      <td>NaN</td>\n",
              "      <td>NaN</td>\n",
              "      <td>NaN</td>\n",
              "      <td>NaN</td>\n",
              "      <td>NaN</td>\n",
              "      <td>NaN</td>\n",
              "      <td>NaN</td>\n",
              "      <td>NaN</td>\n",
              "    </tr>\n",
              "    <tr>\n",
              "      <th>4</th>\n",
              "      <td>Arab World</td>\n",
              "      <td>ARB</td>\n",
              "      <td>Adults (ages 15+) and children (ages 0-14) new...</td>\n",
              "      <td>SH.HIV.INCD.TL</td>\n",
              "      <td>NaN</td>\n",
              "      <td>NaN</td>\n",
              "      <td>NaN</td>\n",
              "      <td>NaN</td>\n",
              "      <td>NaN</td>\n",
              "      <td>NaN</td>\n",
              "      <td>NaN</td>\n",
              "      <td>NaN</td>\n",
              "      <td>NaN</td>\n",
              "      <td>NaN</td>\n",
              "      <td>NaN</td>\n",
              "      <td>NaN</td>\n",
              "      <td>NaN</td>\n",
              "      <td>NaN</td>\n",
              "      <td>NaN</td>\n",
              "      <td>NaN</td>\n",
              "      <td>NaN</td>\n",
              "      <td>NaN</td>\n",
              "      <td>NaN</td>\n",
              "      <td>NaN</td>\n",
              "      <td>NaN</td>\n",
              "      <td>NaN</td>\n",
              "      <td>NaN</td>\n",
              "      <td>NaN</td>\n",
              "      <td>NaN</td>\n",
              "      <td>NaN</td>\n",
              "      <td>NaN</td>\n",
              "      <td>NaN</td>\n",
              "      <td>NaN</td>\n",
              "      <td>NaN</td>\n",
              "      <td>NaN</td>\n",
              "      <td>NaN</td>\n",
              "      <td>NaN</td>\n",
              "      <td>NaN</td>\n",
              "      <td>NaN</td>\n",
              "      <td>NaN</td>\n",
              "      <td>NaN</td>\n",
              "      <td>NaN</td>\n",
              "      <td>NaN</td>\n",
              "      <td>NaN</td>\n",
              "      <td>NaN</td>\n",
              "      <td>NaN</td>\n",
              "      <td>NaN</td>\n",
              "      <td>NaN</td>\n",
              "      <td>NaN</td>\n",
              "      <td>NaN</td>\n",
              "      <td>NaN</td>\n",
              "      <td>NaN</td>\n",
              "      <td>NaN</td>\n",
              "      <td>NaN</td>\n",
              "      <td>NaN</td>\n",
              "      <td>NaN</td>\n",
              "      <td>NaN</td>\n",
              "      <td>NaN</td>\n",
              "      <td>NaN</td>\n",
              "      <td>NaN</td>\n",
              "      <td>NaN</td>\n",
              "    </tr>\n",
              "  </tbody>\n",
              "</table>\n",
              "</div>"
            ],
            "text/plain": [
              "  Country Name Country Code  ... 2015 Unnamed: 60\n",
              "0   Arab World          ARB  ...  NaN         NaN\n",
              "1   Arab World          ARB  ...  NaN         NaN\n",
              "2   Arab World          ARB  ...  NaN         NaN\n",
              "3   Arab World          ARB  ...  NaN         NaN\n",
              "4   Arab World          ARB  ...  NaN         NaN\n",
              "\n",
              "[5 rows x 61 columns]"
            ]
          },
          "metadata": {},
          "execution_count": 5
        }
      ],
      "source": [
        "data_df = pd.read_csv('data.csv')\n",
        "data_df.head(5)"
      ]
    },
    {
      "cell_type": "markdown",
      "metadata": {
        "id": "MkuCSc3AOgAJ"
      },
      "source": [
        "## Data Cleaning and Preprocessing\n",
        "\n",
        "In this section we will\n",
        "\n",
        "*   Clean the data by removing nulls, duplicating, unwanted column like `Unnamed: 60` and regions\n",
        "*   Create a helper function to help indentify regions in the country name column in order to delete them.\n",
        "*   Store the processed data into cleaned_df.\n"
      ]
    },
    {
      "cell_type": "code",
      "execution_count": null,
      "metadata": {
        "id": "BarHlBBU3YJS"
      },
      "outputs": [],
      "source": [
        "# drop the last column\n",
        "data_df = data_df.iloc[:, :-1]\n",
        "\n",
        "data_df.drop_duplicates(inplace=True)"
      ]
    },
    {
      "cell_type": "markdown",
      "metadata": {
        "id": "eW8nay-PywoL"
      },
      "source": [
        "* Here we created a helper function to help indentify region's name from Country Name column."
      ]
    },
    {
      "cell_type": "code",
      "execution_count": null,
      "metadata": {
        "id": "nx80yWlcCfWa"
      },
      "outputs": [],
      "source": [
        "#check regions in dataset in order to remove them\n",
        "columns=[i for i in range(4,60)]\n",
        "data_df=data_df[data_df.iloc[:,columns].any(not None)]\n",
        "#store world_df here for future use\n",
        "world_df=data_df[data_df[\"Country Code\"]==\"WLD\"]\n",
        "regions=set()\n",
        "#referenced from https://towardsdatascience.com/using-python-to-create-a-world-map-from-a-list-of-country-names-cd7480d03b10\n",
        "def check_country(country):\n",
        "    try:\n",
        "        country_code = pc.country_name_to_country_alpha2(country)\n",
        "        try:\n",
        "          continent_code = pc.country_alpha2_to_continent_code(country_code)\n",
        "        except:\n",
        "          regions.add(country)\n",
        "    except:\n",
        "        regions.add(country)\n",
        "check=data_df[\"Country Name\"].apply(lambda x:check_country(x))"
      ]
    },
    {
      "cell_type": "markdown",
      "metadata": {
        "id": "Sl6tiGdASyq9"
      },
      "source": [
        "Those are some regions we did not consider due to the overlap with countries."
      ]
    },
    {
      "cell_type": "code",
      "execution_count": null,
      "metadata": {
        "colab": {
          "base_uri": "https://localhost:8080/"
        },
        "id": "6RbpHws0_QXl",
        "outputId": "ce6199c2-2fe6-4a2d-8afc-adcb19735018"
      },
      "outputs": [
        {
          "output_type": "execute_result",
          "data": {
            "text/plain": [
              "{'Arab World',\n",
              " 'Bahamas, The',\n",
              " 'Caribbean small states',\n",
              " 'Central Europe and the Baltics',\n",
              " 'Channel Islands',\n",
              " 'Congo, Dem. Rep.',\n",
              " 'Congo, Rep.',\n",
              " \"Cote d'Ivoire\",\n",
              " 'Curacao',\n",
              " 'Early-demographic dividend',\n",
              " 'East Asia & Pacific',\n",
              " 'East Asia & Pacific (IDA & IBRD countries)',\n",
              " 'East Asia & Pacific (excluding high income)',\n",
              " 'Egypt, Arab Rep.',\n",
              " 'Euro area',\n",
              " 'Europe & Central Asia',\n",
              " 'Europe & Central Asia (IDA & IBRD countries)',\n",
              " 'Europe & Central Asia (excluding high income)',\n",
              " 'European Union',\n",
              " 'Fragile and conflict affected situations',\n",
              " 'Gambia, The',\n",
              " 'Heavily indebted poor countries (HIPC)',\n",
              " 'High income',\n",
              " 'Hong Kong SAR, China',\n",
              " 'Iran, Islamic Rep.',\n",
              " 'Korea, Dem. People’s Rep.',\n",
              " 'Korea, Rep.',\n",
              " 'Kosovo',\n",
              " 'Lao PDR',\n",
              " 'Late-demographic dividend',\n",
              " 'Latin America & Caribbean',\n",
              " 'Latin America & Caribbean (excluding high income)',\n",
              " 'Latin America & the Caribbean (IDA & IBRD countries)',\n",
              " 'Least developed countries: UN classification',\n",
              " 'Low & middle income',\n",
              " 'Low income',\n",
              " 'Lower middle income',\n",
              " 'Macao SAR, China',\n",
              " 'Macedonia, FYR',\n",
              " 'Micronesia, Fed. Sts.',\n",
              " 'Middle East & North Africa',\n",
              " 'Middle East & North Africa (IDA & IBRD countries)',\n",
              " 'Middle East & North Africa (excluding high income)',\n",
              " 'Middle income',\n",
              " 'North America',\n",
              " 'OECD members',\n",
              " 'Other small states',\n",
              " 'Pacific island small states',\n",
              " 'Post-demographic dividend',\n",
              " 'Pre-demographic dividend',\n",
              " 'Sint Maarten (Dutch part)',\n",
              " 'Small states',\n",
              " 'South Asia',\n",
              " 'South Asia (IDA & IBRD)',\n",
              " 'St. Martin (French part)',\n",
              " 'St. Vincent and the Grenadines',\n",
              " 'Sub-Saharan Africa',\n",
              " 'Sub-Saharan Africa (IDA & IBRD countries)',\n",
              " 'Sub-Saharan Africa (excluding high income)',\n",
              " 'Timor-Leste',\n",
              " 'Upper middle income',\n",
              " 'Venezuela, RB',\n",
              " 'Virgin Islands (U.S.)',\n",
              " 'West Bank and Gaza',\n",
              " 'World',\n",
              " 'Yemen, Rep.'}"
            ]
          },
          "metadata": {},
          "execution_count": 8
        }
      ],
      "source": [
        "regions"
      ]
    },
    {
      "cell_type": "code",
      "execution_count": null,
      "metadata": {
        "colab": {
          "base_uri": "https://localhost:8080/"
        },
        "id": "iAPvT9yasJok",
        "outputId": "fdd00bb3-334b-43ff-b908-06fcdac97e02"
      },
      "outputs": [
        {
          "output_type": "stream",
          "name": "stderr",
          "text": [
            "/usr/local/lib/python3.7/dist-packages/ipykernel_launcher.py:3: SettingWithCopyWarning: \n",
            "A value is trying to be set on a copy of a slice from a DataFrame.\n",
            "Try using .loc[row_indexer,col_indexer] = value instead\n",
            "\n",
            "See the caveats in the documentation: https://pandas.pydata.org/pandas-docs/stable/user_guide/indexing.html#returning-a-view-versus-a-copy\n",
            "  This is separate from the ipykernel package so we can avoid doing imports until\n",
            "/usr/local/lib/python3.7/dist-packages/ipykernel_launcher.py:4: SettingWithCopyWarning: \n",
            "A value is trying to be set on a copy of a slice from a DataFrame.\n",
            "Try using .loc[row_indexer,col_indexer] = value instead\n",
            "\n",
            "See the caveats in the documentation: https://pandas.pydata.org/pandas-docs/stable/user_guide/indexing.html#returning-a-view-versus-a-copy\n",
            "  after removing the cwd from sys.path.\n"
          ]
        }
      ],
      "source": [
        "#remove regions\n",
        "cleaned_df=data_df[~data_df[\"Country Name\"].isin(regions)]\n",
        "cleaned_df[\"Continent Code\"]=cleaned_df[\"Country Name\"].apply(lambda x:pc.country_alpha2_to_continent_code(pc.country_name_to_country_alpha2(x)))\n",
        "cleaned_df[\"Continent Name\"]=cleaned_df[\"Continent Code\"].apply(lambda x:pc.convert_continent_code_to_continent_name(x))"
      ]
    },
    {
      "cell_type": "code",
      "execution_count": null,
      "metadata": {
        "colab": {
          "base_uri": "https://localhost:8080/",
          "height": 504
        },
        "id": "mQKtKLg9tGh9",
        "outputId": "46f14fdf-e43d-48b3-c6e4-ed756b5030a9"
      },
      "outputs": [
        {
          "output_type": "execute_result",
          "data": {
            "text/html": [
              "<div>\n",
              "<style scoped>\n",
              "    .dataframe tbody tr th:only-of-type {\n",
              "        vertical-align: middle;\n",
              "    }\n",
              "\n",
              "    .dataframe tbody tr th {\n",
              "        vertical-align: top;\n",
              "    }\n",
              "\n",
              "    .dataframe thead th {\n",
              "        text-align: right;\n",
              "    }\n",
              "</style>\n",
              "<table border=\"1\" class=\"dataframe\">\n",
              "  <thead>\n",
              "    <tr style=\"text-align: right;\">\n",
              "      <th></th>\n",
              "      <th>Country Name</th>\n",
              "      <th>Country Code</th>\n",
              "      <th>Indicator Name</th>\n",
              "      <th>Indicator Code</th>\n",
              "      <th>1960</th>\n",
              "      <th>1961</th>\n",
              "      <th>1962</th>\n",
              "      <th>1963</th>\n",
              "      <th>1964</th>\n",
              "      <th>1965</th>\n",
              "      <th>1966</th>\n",
              "      <th>1967</th>\n",
              "      <th>1968</th>\n",
              "      <th>1969</th>\n",
              "      <th>1970</th>\n",
              "      <th>1971</th>\n",
              "      <th>1972</th>\n",
              "      <th>1973</th>\n",
              "      <th>1974</th>\n",
              "      <th>1975</th>\n",
              "      <th>1976</th>\n",
              "      <th>1977</th>\n",
              "      <th>1978</th>\n",
              "      <th>1979</th>\n",
              "      <th>1980</th>\n",
              "      <th>1981</th>\n",
              "      <th>1982</th>\n",
              "      <th>1983</th>\n",
              "      <th>1984</th>\n",
              "      <th>1985</th>\n",
              "      <th>1986</th>\n",
              "      <th>1987</th>\n",
              "      <th>1988</th>\n",
              "      <th>1989</th>\n",
              "      <th>1990</th>\n",
              "      <th>1991</th>\n",
              "      <th>1992</th>\n",
              "      <th>1993</th>\n",
              "      <th>1994</th>\n",
              "      <th>1995</th>\n",
              "      <th>1996</th>\n",
              "      <th>1997</th>\n",
              "      <th>1998</th>\n",
              "      <th>1999</th>\n",
              "      <th>2000</th>\n",
              "      <th>2001</th>\n",
              "      <th>2002</th>\n",
              "      <th>2003</th>\n",
              "      <th>2004</th>\n",
              "      <th>2005</th>\n",
              "      <th>2006</th>\n",
              "      <th>2007</th>\n",
              "      <th>2008</th>\n",
              "      <th>2009</th>\n",
              "      <th>2010</th>\n",
              "      <th>2011</th>\n",
              "      <th>2012</th>\n",
              "      <th>2013</th>\n",
              "      <th>2014</th>\n",
              "      <th>2015</th>\n",
              "      <th>Continent Code</th>\n",
              "      <th>Continent Name</th>\n",
              "    </tr>\n",
              "  </thead>\n",
              "  <tbody>\n",
              "    <tr>\n",
              "      <th>14145</th>\n",
              "      <td>Afghanistan</td>\n",
              "      <td>AFG</td>\n",
              "      <td>% of females ages 15-49 having comprehensive c...</td>\n",
              "      <td>SH.HIV.KNOW.FE.ZS</td>\n",
              "      <td>NaN</td>\n",
              "      <td>NaN</td>\n",
              "      <td>NaN</td>\n",
              "      <td>NaN</td>\n",
              "      <td>NaN</td>\n",
              "      <td>NaN</td>\n",
              "      <td>NaN</td>\n",
              "      <td>NaN</td>\n",
              "      <td>NaN</td>\n",
              "      <td>NaN</td>\n",
              "      <td>NaN</td>\n",
              "      <td>NaN</td>\n",
              "      <td>NaN</td>\n",
              "      <td>NaN</td>\n",
              "      <td>NaN</td>\n",
              "      <td>NaN</td>\n",
              "      <td>NaN</td>\n",
              "      <td>NaN</td>\n",
              "      <td>NaN</td>\n",
              "      <td>NaN</td>\n",
              "      <td>NaN</td>\n",
              "      <td>NaN</td>\n",
              "      <td>NaN</td>\n",
              "      <td>NaN</td>\n",
              "      <td>NaN</td>\n",
              "      <td>NaN</td>\n",
              "      <td>NaN</td>\n",
              "      <td>NaN</td>\n",
              "      <td>NaN</td>\n",
              "      <td>NaN</td>\n",
              "      <td>NaN</td>\n",
              "      <td>NaN</td>\n",
              "      <td>NaN</td>\n",
              "      <td>NaN</td>\n",
              "      <td>NaN</td>\n",
              "      <td>NaN</td>\n",
              "      <td>NaN</td>\n",
              "      <td>NaN</td>\n",
              "      <td>NaN</td>\n",
              "      <td>NaN</td>\n",
              "      <td>NaN</td>\n",
              "      <td>NaN</td>\n",
              "      <td>NaN</td>\n",
              "      <td>NaN</td>\n",
              "      <td>NaN</td>\n",
              "      <td>NaN</td>\n",
              "      <td>NaN</td>\n",
              "      <td>NaN</td>\n",
              "      <td>NaN</td>\n",
              "      <td>NaN</td>\n",
              "      <td>NaN</td>\n",
              "      <td>1.5000</td>\n",
              "      <td>NaN</td>\n",
              "      <td>NaN</td>\n",
              "      <td>NaN</td>\n",
              "      <td>NaN</td>\n",
              "      <td>AS</td>\n",
              "      <td>Asia</td>\n",
              "    </tr>\n",
              "    <tr>\n",
              "      <th>14147</th>\n",
              "      <td>Afghanistan</td>\n",
              "      <td>AFG</td>\n",
              "      <td>Adolescent fertility rate (births per 1,000 wo...</td>\n",
              "      <td>SP.ADO.TFRT</td>\n",
              "      <td>145.321</td>\n",
              "      <td>145.321</td>\n",
              "      <td>145.321</td>\n",
              "      <td>145.321</td>\n",
              "      <td>145.321</td>\n",
              "      <td>145.321</td>\n",
              "      <td>145.321</td>\n",
              "      <td>145.321</td>\n",
              "      <td>145.321</td>\n",
              "      <td>145.321</td>\n",
              "      <td>145.321</td>\n",
              "      <td>145.321</td>\n",
              "      <td>145.321</td>\n",
              "      <td>146.215</td>\n",
              "      <td>147.109</td>\n",
              "      <td>148.003</td>\n",
              "      <td>148.897</td>\n",
              "      <td>149.791</td>\n",
              "      <td>150.8782</td>\n",
              "      <td>151.9654</td>\n",
              "      <td>153.0526</td>\n",
              "      <td>154.1398</td>\n",
              "      <td>155.227</td>\n",
              "      <td>156.3758</td>\n",
              "      <td>157.5246</td>\n",
              "      <td>158.6734</td>\n",
              "      <td>159.8222</td>\n",
              "      <td>160.971</td>\n",
              "      <td>161.56</td>\n",
              "      <td>162.149</td>\n",
              "      <td>162.738</td>\n",
              "      <td>163.327</td>\n",
              "      <td>163.916</td>\n",
              "      <td>164.1812</td>\n",
              "      <td>164.4464</td>\n",
              "      <td>164.7116</td>\n",
              "      <td>164.9768</td>\n",
              "      <td>165.242</td>\n",
              "      <td>161.4432</td>\n",
              "      <td>157.6444</td>\n",
              "      <td>153.8456</td>\n",
              "      <td>150.0468</td>\n",
              "      <td>146.248</td>\n",
              "      <td>140.4764</td>\n",
              "      <td>134.7048</td>\n",
              "      <td>128.9332</td>\n",
              "      <td>123.1616</td>\n",
              "      <td>117.39</td>\n",
              "      <td>111.4708</td>\n",
              "      <td>105.5516</td>\n",
              "      <td>99.6324</td>\n",
              "      <td>93.7132</td>\n",
              "      <td>87.794</td>\n",
              "      <td>82.2638</td>\n",
              "      <td>76.7336</td>\n",
              "      <td>NaN</td>\n",
              "      <td>AS</td>\n",
              "      <td>Asia</td>\n",
              "    </tr>\n",
              "    <tr>\n",
              "      <th>14148</th>\n",
              "      <td>Afghanistan</td>\n",
              "      <td>AFG</td>\n",
              "      <td>Adults (ages 15+) and children (0-14 years) li...</td>\n",
              "      <td>SH.HIV.TOTL</td>\n",
              "      <td>NaN</td>\n",
              "      <td>NaN</td>\n",
              "      <td>NaN</td>\n",
              "      <td>NaN</td>\n",
              "      <td>NaN</td>\n",
              "      <td>NaN</td>\n",
              "      <td>NaN</td>\n",
              "      <td>NaN</td>\n",
              "      <td>NaN</td>\n",
              "      <td>NaN</td>\n",
              "      <td>NaN</td>\n",
              "      <td>NaN</td>\n",
              "      <td>NaN</td>\n",
              "      <td>NaN</td>\n",
              "      <td>NaN</td>\n",
              "      <td>NaN</td>\n",
              "      <td>NaN</td>\n",
              "      <td>NaN</td>\n",
              "      <td>NaN</td>\n",
              "      <td>NaN</td>\n",
              "      <td>NaN</td>\n",
              "      <td>NaN</td>\n",
              "      <td>NaN</td>\n",
              "      <td>NaN</td>\n",
              "      <td>NaN</td>\n",
              "      <td>NaN</td>\n",
              "      <td>NaN</td>\n",
              "      <td>NaN</td>\n",
              "      <td>NaN</td>\n",
              "      <td>NaN</td>\n",
              "      <td>500.000</td>\n",
              "      <td>500.000</td>\n",
              "      <td>1000.000</td>\n",
              "      <td>1000.0000</td>\n",
              "      <td>1000.0000</td>\n",
              "      <td>1100.0000</td>\n",
              "      <td>1300.0000</td>\n",
              "      <td>1400.000</td>\n",
              "      <td>1600.0000</td>\n",
              "      <td>1700.0000</td>\n",
              "      <td>1900.0000</td>\n",
              "      <td>2100.0000</td>\n",
              "      <td>2300.000</td>\n",
              "      <td>2600.0000</td>\n",
              "      <td>2800.0000</td>\n",
              "      <td>3100.0000</td>\n",
              "      <td>3300.0000</td>\n",
              "      <td>3500.00</td>\n",
              "      <td>3800.0000</td>\n",
              "      <td>4200.0000</td>\n",
              "      <td>4500.0000</td>\n",
              "      <td>4900.0000</td>\n",
              "      <td>5300.000</td>\n",
              "      <td>5900.0000</td>\n",
              "      <td>6400.0000</td>\n",
              "      <td>6900.0</td>\n",
              "      <td>AS</td>\n",
              "      <td>Asia</td>\n",
              "    </tr>\n",
              "    <tr>\n",
              "      <th>14149</th>\n",
              "      <td>Afghanistan</td>\n",
              "      <td>AFG</td>\n",
              "      <td>Adults (ages 15+) and children (ages 0-14) new...</td>\n",
              "      <td>SH.HIV.INCD.TL</td>\n",
              "      <td>NaN</td>\n",
              "      <td>NaN</td>\n",
              "      <td>NaN</td>\n",
              "      <td>NaN</td>\n",
              "      <td>NaN</td>\n",
              "      <td>NaN</td>\n",
              "      <td>NaN</td>\n",
              "      <td>NaN</td>\n",
              "      <td>NaN</td>\n",
              "      <td>NaN</td>\n",
              "      <td>NaN</td>\n",
              "      <td>NaN</td>\n",
              "      <td>NaN</td>\n",
              "      <td>NaN</td>\n",
              "      <td>NaN</td>\n",
              "      <td>NaN</td>\n",
              "      <td>NaN</td>\n",
              "      <td>NaN</td>\n",
              "      <td>NaN</td>\n",
              "      <td>NaN</td>\n",
              "      <td>NaN</td>\n",
              "      <td>NaN</td>\n",
              "      <td>NaN</td>\n",
              "      <td>NaN</td>\n",
              "      <td>NaN</td>\n",
              "      <td>NaN</td>\n",
              "      <td>NaN</td>\n",
              "      <td>NaN</td>\n",
              "      <td>NaN</td>\n",
              "      <td>NaN</td>\n",
              "      <td>100.000</td>\n",
              "      <td>200.000</td>\n",
              "      <td>200.000</td>\n",
              "      <td>200.0000</td>\n",
              "      <td>200.0000</td>\n",
              "      <td>500.0000</td>\n",
              "      <td>500.0000</td>\n",
              "      <td>500.000</td>\n",
              "      <td>500.0000</td>\n",
              "      <td>500.0000</td>\n",
              "      <td>500.0000</td>\n",
              "      <td>500.0000</td>\n",
              "      <td>500.000</td>\n",
              "      <td>500.0000</td>\n",
              "      <td>500.0000</td>\n",
              "      <td>500.0000</td>\n",
              "      <td>500.0000</td>\n",
              "      <td>1000.00</td>\n",
              "      <td>1000.0000</td>\n",
              "      <td>1000.0000</td>\n",
              "      <td>1000.0000</td>\n",
              "      <td>1000.0000</td>\n",
              "      <td>1000.000</td>\n",
              "      <td>1000.0000</td>\n",
              "      <td>1000.0000</td>\n",
              "      <td>1000.0</td>\n",
              "      <td>AS</td>\n",
              "      <td>Asia</td>\n",
              "    </tr>\n",
              "    <tr>\n",
              "      <th>14150</th>\n",
              "      <td>Afghanistan</td>\n",
              "      <td>AFG</td>\n",
              "      <td>Adults (ages 15+) living with HIV</td>\n",
              "      <td>SH.DYN.AIDS</td>\n",
              "      <td>NaN</td>\n",
              "      <td>NaN</td>\n",
              "      <td>NaN</td>\n",
              "      <td>NaN</td>\n",
              "      <td>NaN</td>\n",
              "      <td>NaN</td>\n",
              "      <td>NaN</td>\n",
              "      <td>NaN</td>\n",
              "      <td>NaN</td>\n",
              "      <td>NaN</td>\n",
              "      <td>NaN</td>\n",
              "      <td>NaN</td>\n",
              "      <td>NaN</td>\n",
              "      <td>NaN</td>\n",
              "      <td>NaN</td>\n",
              "      <td>NaN</td>\n",
              "      <td>NaN</td>\n",
              "      <td>NaN</td>\n",
              "      <td>NaN</td>\n",
              "      <td>NaN</td>\n",
              "      <td>NaN</td>\n",
              "      <td>NaN</td>\n",
              "      <td>NaN</td>\n",
              "      <td>NaN</td>\n",
              "      <td>NaN</td>\n",
              "      <td>NaN</td>\n",
              "      <td>NaN</td>\n",
              "      <td>NaN</td>\n",
              "      <td>NaN</td>\n",
              "      <td>NaN</td>\n",
              "      <td>500.000</td>\n",
              "      <td>500.000</td>\n",
              "      <td>1000.000</td>\n",
              "      <td>1000.0000</td>\n",
              "      <td>1000.0000</td>\n",
              "      <td>1100.0000</td>\n",
              "      <td>1200.0000</td>\n",
              "      <td>1400.000</td>\n",
              "      <td>1500.0000</td>\n",
              "      <td>1600.0000</td>\n",
              "      <td>1800.0000</td>\n",
              "      <td>2000.0000</td>\n",
              "      <td>2200.000</td>\n",
              "      <td>2500.0000</td>\n",
              "      <td>2700.0000</td>\n",
              "      <td>3000.0000</td>\n",
              "      <td>3200.0000</td>\n",
              "      <td>3400.00</td>\n",
              "      <td>3700.0000</td>\n",
              "      <td>4000.0000</td>\n",
              "      <td>4300.0000</td>\n",
              "      <td>4700.0000</td>\n",
              "      <td>5200.000</td>\n",
              "      <td>5600.0000</td>\n",
              "      <td>6200.0000</td>\n",
              "      <td>6700.0</td>\n",
              "      <td>AS</td>\n",
              "      <td>Asia</td>\n",
              "    </tr>\n",
              "  </tbody>\n",
              "</table>\n",
              "</div>"
            ],
            "text/plain": [
              "      Country Name Country Code  ... Continent Code Continent Name\n",
              "14145  Afghanistan          AFG  ...             AS           Asia\n",
              "14147  Afghanistan          AFG  ...             AS           Asia\n",
              "14148  Afghanistan          AFG  ...             AS           Asia\n",
              "14149  Afghanistan          AFG  ...             AS           Asia\n",
              "14150  Afghanistan          AFG  ...             AS           Asia\n",
              "\n",
              "[5 rows x 62 columns]"
            ]
          },
          "metadata": {},
          "execution_count": 10
        }
      ],
      "source": [
        "cleaned_df.head(5)"
      ]
    },
    {
      "cell_type": "markdown",
      "metadata": {
        "id": "heL8rifYZ9L-"
      },
      "source": [
        "* Save the cleaned dataframe to a new csv file."
      ]
    },
    {
      "cell_type": "code",
      "execution_count": null,
      "metadata": {
        "id": "a6UQqsnUIz4K"
      },
      "outputs": [],
      "source": [
        "cleaned_df.to_csv(\"cleaned.csv\")"
      ]
    },
    {
      "cell_type": "markdown",
      "metadata": {
        "id": "TmjRUwFooXLb"
      },
      "source": [
        "# Part 2 : Data Visualization"
      ]
    },
    {
      "cell_type": "markdown",
      "metadata": {
        "id": "FsSU0SMWKRGO"
      },
      "source": [
        "## Identify key indicators related to HIV counts\n",
        "\n",
        "* Here we create a dictionary that consist Indicator Codes and Indicator Names that contains the key word 'HIV'."
      ]
    },
    {
      "cell_type": "code",
      "execution_count": null,
      "metadata": {
        "id": "4ikpVmCWSLeV"
      },
      "outputs": [],
      "source": [
        "indicator_dict={}\n",
        "for a,b in zip(cleaned_df[\"Indicator Code\"], cleaned_df[\"Indicator Name\"]):\n",
        "  indicator_dict[a]=b\n",
        "all_indicators=list(cleaned_df[\"Indicator Code\"].unique())\n",
        "HIV_indicators=[x for x in all_indicators if 'HIV' in x]\n",
        "HIV_dict={}\n",
        "for key, val in indicator_dict.items():\n",
        "  if key in HIV_indicators:\n",
        "    HIV_dict[key]=val"
      ]
    },
    {
      "cell_type": "code",
      "execution_count": null,
      "metadata": {
        "colab": {
          "base_uri": "https://localhost:8080/"
        },
        "id": "uJ_mOUiVTMsw",
        "outputId": "13073ca7-7e95-4c49-b187-0f7688239918"
      },
      "outputs": [
        {
          "output_type": "execute_result",
          "data": {
            "text/plain": [
              "{'SH.HIV.0014': 'Children (0-14) living with HIV',\n",
              " 'SH.HIV.1524.FE.ZS': 'Prevalence of HIV, female (% ages 15-24)',\n",
              " 'SH.HIV.1524.KW.FE.ZS': 'Comprehensive correct knowledge of HIV/AIDS, ages 15-24, female (2 prevent ways and reject 3 misconceptions)',\n",
              " 'SH.HIV.1524.KW.MA.ZS': 'Comprehensive correct knowledge of HIV/AIDS, ages 15-24, male (2 prevent ways and reject 3 misconceptions)',\n",
              " 'SH.HIV.1524.MA.ZS': 'Prevalence of HIV, male (% ages 15-24)',\n",
              " 'SH.HIV.ARTC.ZS': 'Antiretroviral therapy coverage (% of people living with HIV)',\n",
              " 'SH.HIV.INCD': 'Adults (ages 15+) newly infected with HIV',\n",
              " 'SH.HIV.INCD.14': 'Children (ages 0-14) newly infected with HIV',\n",
              " 'SH.HIV.INCD.TL': 'Adults (ages 15+) and children (ages 0-14) newly infected with HIV',\n",
              " 'SH.HIV.INCD.ZS': 'Incidence of HIV (% of uninfected population ages 15-49)',\n",
              " 'SH.HIV.KNOW.FE.ZS': '% of females ages 15-49 having comprehensive correct knowledge about HIV (2 prevent ways and reject 3 misconceptions)',\n",
              " 'SH.HIV.KNOW.MA.ZS': '% of males ages 15-49 having comprehensive correct knowledge about HIV (2 prevent ways and reject 3 misconceptions)',\n",
              " 'SH.HIV.ORPH': 'Children orphaned by HIV/AIDS',\n",
              " 'SH.HIV.PMTC.ZS': 'Antiretroviral therapy coverage for PMTCT (% of pregnant women living with HIV)',\n",
              " 'SH.HIV.TOTL': 'Adults (ages 15+) and children (0-14 years) living with HIV'}"
            ]
          },
          "metadata": {},
          "execution_count": 13
        }
      ],
      "source": [
        "HIV_dict"
      ]
    },
    {
      "cell_type": "markdown",
      "metadata": {
        "id": "DUXd1YwvL15J"
      },
      "source": [
        "## Mean, Standard Deviation, Min, and Max for countries\n",
        "\n",
        "* Compute some simple statistics like mean, standard deviation, min and max for the numerical features (each year) in the dataset and store them into lists in order `['1990', '1991', '1992', '1993', '1994', '1995', '1996', '1997', '1998', '1999', '2000', '2001', '2002', '2003', '2004', '2005', '2006', '2007', '2008', '2009', '2010', '2011', '2012', '2013', '2014', '2015']`.\n",
        "* Since it lacks too much data before 1990, we clean the data again by dropping columns prior to year 1990.\n"
      ]
    },
    {
      "cell_type": "code",
      "execution_count": null,
      "metadata": {
        "colab": {
          "base_uri": "https://localhost:8080/"
        },
        "id": "sqY4olx3fl19",
        "outputId": "ff4f77cc-0be6-4695-bd2f-e224773c50ca"
      },
      "outputs": [
        {
          "output_type": "stream",
          "name": "stderr",
          "text": [
            "/usr/local/lib/python3.7/dist-packages/pandas/core/frame.py:4174: SettingWithCopyWarning: \n",
            "A value is trying to be set on a copy of a slice from a DataFrame\n",
            "\n",
            "See the caveats in the documentation: https://pandas.pydata.org/pandas-docs/stable/user_guide/indexing.html#returning-a-view-versus-a-copy\n",
            "  errors=errors,\n"
          ]
        }
      ],
      "source": [
        "unused_years=[str(y) for y in range(1960,1990)]\n",
        "used_years=[str(y) for y in range(1990,2016)]\n",
        "cleaned_df.drop(columns=unused_years,inplace=True)\n",
        "world_df.drop(columns=unused_years,inplace=True)"
      ]
    },
    {
      "cell_type": "code",
      "execution_count": null,
      "metadata": {
        "colab": {
          "base_uri": "https://localhost:8080/",
          "height": 982
        },
        "id": "phlZiyYJ4lZo",
        "outputId": "0c58377f-6b8d-4508-f872-c05a7afeb6d5"
      },
      "outputs": [
        {
          "output_type": "execute_result",
          "data": {
            "text/html": [
              "<div>\n",
              "<style scoped>\n",
              "    .dataframe tbody tr th:only-of-type {\n",
              "        vertical-align: middle;\n",
              "    }\n",
              "\n",
              "    .dataframe tbody tr th {\n",
              "        vertical-align: top;\n",
              "    }\n",
              "\n",
              "    .dataframe thead th {\n",
              "        text-align: right;\n",
              "    }\n",
              "</style>\n",
              "<table border=\"1\" class=\"dataframe\">\n",
              "  <thead>\n",
              "    <tr style=\"text-align: right;\">\n",
              "      <th></th>\n",
              "      <th>Country Name</th>\n",
              "      <th>Country Code</th>\n",
              "      <th>Indicator Name</th>\n",
              "      <th>Indicator Code</th>\n",
              "      <th>1990</th>\n",
              "      <th>1991</th>\n",
              "      <th>1992</th>\n",
              "      <th>1993</th>\n",
              "      <th>1994</th>\n",
              "      <th>1995</th>\n",
              "      <th>1996</th>\n",
              "      <th>1997</th>\n",
              "      <th>1998</th>\n",
              "      <th>1999</th>\n",
              "      <th>2000</th>\n",
              "      <th>2001</th>\n",
              "      <th>2002</th>\n",
              "      <th>2003</th>\n",
              "      <th>2004</th>\n",
              "      <th>2005</th>\n",
              "      <th>2006</th>\n",
              "      <th>2007</th>\n",
              "      <th>2008</th>\n",
              "      <th>2009</th>\n",
              "      <th>2010</th>\n",
              "      <th>2011</th>\n",
              "      <th>2012</th>\n",
              "      <th>2013</th>\n",
              "      <th>2014</th>\n",
              "      <th>2015</th>\n",
              "      <th>Continent Code</th>\n",
              "      <th>Continent Name</th>\n",
              "    </tr>\n",
              "  </thead>\n",
              "  <tbody>\n",
              "    <tr>\n",
              "      <th>14145</th>\n",
              "      <td>Afghanistan</td>\n",
              "      <td>AFG</td>\n",
              "      <td>% of females ages 15-49 having comprehensive c...</td>\n",
              "      <td>SH.HIV.KNOW.FE.ZS</td>\n",
              "      <td>NaN</td>\n",
              "      <td>NaN</td>\n",
              "      <td>NaN</td>\n",
              "      <td>NaN</td>\n",
              "      <td>NaN</td>\n",
              "      <td>NaN</td>\n",
              "      <td>NaN</td>\n",
              "      <td>NaN</td>\n",
              "      <td>NaN</td>\n",
              "      <td>NaN</td>\n",
              "      <td>NaN</td>\n",
              "      <td>NaN</td>\n",
              "      <td>NaN</td>\n",
              "      <td>NaN</td>\n",
              "      <td>NaN</td>\n",
              "      <td>NaN</td>\n",
              "      <td>NaN</td>\n",
              "      <td>NaN</td>\n",
              "      <td>NaN</td>\n",
              "      <td>NaN</td>\n",
              "      <td>NaN</td>\n",
              "      <td>1.500000</td>\n",
              "      <td>NaN</td>\n",
              "      <td>NaN</td>\n",
              "      <td>NaN</td>\n",
              "      <td>NaN</td>\n",
              "      <td>AS</td>\n",
              "      <td>Asia</td>\n",
              "    </tr>\n",
              "    <tr>\n",
              "      <th>14147</th>\n",
              "      <td>Afghanistan</td>\n",
              "      <td>AFG</td>\n",
              "      <td>Adolescent fertility rate (births per 1,000 wo...</td>\n",
              "      <td>SP.ADO.TFRT</td>\n",
              "      <td>162.738000</td>\n",
              "      <td>163.327000</td>\n",
              "      <td>163.916000</td>\n",
              "      <td>164.181200</td>\n",
              "      <td>164.446400</td>\n",
              "      <td>164.711600</td>\n",
              "      <td>164.97680</td>\n",
              "      <td>165.242000</td>\n",
              "      <td>161.443200</td>\n",
              "      <td>157.644400</td>\n",
              "      <td>153.845600</td>\n",
              "      <td>150.046800</td>\n",
              "      <td>146.24800</td>\n",
              "      <td>140.476400</td>\n",
              "      <td>134.704800</td>\n",
              "      <td>128.933200</td>\n",
              "      <td>123.161600</td>\n",
              "      <td>117.390000</td>\n",
              "      <td>111.470800</td>\n",
              "      <td>105.551600</td>\n",
              "      <td>99.632400</td>\n",
              "      <td>93.713200</td>\n",
              "      <td>87.79400</td>\n",
              "      <td>82.263800</td>\n",
              "      <td>76.733600</td>\n",
              "      <td>NaN</td>\n",
              "      <td>AS</td>\n",
              "      <td>Asia</td>\n",
              "    </tr>\n",
              "    <tr>\n",
              "      <th>14148</th>\n",
              "      <td>Afghanistan</td>\n",
              "      <td>AFG</td>\n",
              "      <td>Adults (ages 15+) and children (0-14 years) li...</td>\n",
              "      <td>SH.HIV.TOTL</td>\n",
              "      <td>500.000000</td>\n",
              "      <td>500.000000</td>\n",
              "      <td>1000.000000</td>\n",
              "      <td>1000.000000</td>\n",
              "      <td>1000.000000</td>\n",
              "      <td>1100.000000</td>\n",
              "      <td>1300.00000</td>\n",
              "      <td>1400.000000</td>\n",
              "      <td>1600.000000</td>\n",
              "      <td>1700.000000</td>\n",
              "      <td>1900.000000</td>\n",
              "      <td>2100.000000</td>\n",
              "      <td>2300.00000</td>\n",
              "      <td>2600.000000</td>\n",
              "      <td>2800.000000</td>\n",
              "      <td>3100.000000</td>\n",
              "      <td>3300.000000</td>\n",
              "      <td>3500.000000</td>\n",
              "      <td>3800.000000</td>\n",
              "      <td>4200.000000</td>\n",
              "      <td>4500.000000</td>\n",
              "      <td>4900.000000</td>\n",
              "      <td>5300.00000</td>\n",
              "      <td>5900.000000</td>\n",
              "      <td>6400.000000</td>\n",
              "      <td>6900.000000</td>\n",
              "      <td>AS</td>\n",
              "      <td>Asia</td>\n",
              "    </tr>\n",
              "    <tr>\n",
              "      <th>14149</th>\n",
              "      <td>Afghanistan</td>\n",
              "      <td>AFG</td>\n",
              "      <td>Adults (ages 15+) and children (ages 0-14) new...</td>\n",
              "      <td>SH.HIV.INCD.TL</td>\n",
              "      <td>100.000000</td>\n",
              "      <td>200.000000</td>\n",
              "      <td>200.000000</td>\n",
              "      <td>200.000000</td>\n",
              "      <td>200.000000</td>\n",
              "      <td>500.000000</td>\n",
              "      <td>500.00000</td>\n",
              "      <td>500.000000</td>\n",
              "      <td>500.000000</td>\n",
              "      <td>500.000000</td>\n",
              "      <td>500.000000</td>\n",
              "      <td>500.000000</td>\n",
              "      <td>500.00000</td>\n",
              "      <td>500.000000</td>\n",
              "      <td>500.000000</td>\n",
              "      <td>500.000000</td>\n",
              "      <td>500.000000</td>\n",
              "      <td>1000.000000</td>\n",
              "      <td>1000.000000</td>\n",
              "      <td>1000.000000</td>\n",
              "      <td>1000.000000</td>\n",
              "      <td>1000.000000</td>\n",
              "      <td>1000.00000</td>\n",
              "      <td>1000.000000</td>\n",
              "      <td>1000.000000</td>\n",
              "      <td>1000.000000</td>\n",
              "      <td>AS</td>\n",
              "      <td>Asia</td>\n",
              "    </tr>\n",
              "    <tr>\n",
              "      <th>14150</th>\n",
              "      <td>Afghanistan</td>\n",
              "      <td>AFG</td>\n",
              "      <td>Adults (ages 15+) living with HIV</td>\n",
              "      <td>SH.DYN.AIDS</td>\n",
              "      <td>500.000000</td>\n",
              "      <td>500.000000</td>\n",
              "      <td>1000.000000</td>\n",
              "      <td>1000.000000</td>\n",
              "      <td>1000.000000</td>\n",
              "      <td>1100.000000</td>\n",
              "      <td>1200.00000</td>\n",
              "      <td>1400.000000</td>\n",
              "      <td>1500.000000</td>\n",
              "      <td>1600.000000</td>\n",
              "      <td>1800.000000</td>\n",
              "      <td>2000.000000</td>\n",
              "      <td>2200.00000</td>\n",
              "      <td>2500.000000</td>\n",
              "      <td>2700.000000</td>\n",
              "      <td>3000.000000</td>\n",
              "      <td>3200.000000</td>\n",
              "      <td>3400.000000</td>\n",
              "      <td>3700.000000</td>\n",
              "      <td>4000.000000</td>\n",
              "      <td>4300.000000</td>\n",
              "      <td>4700.000000</td>\n",
              "      <td>5200.00000</td>\n",
              "      <td>5600.000000</td>\n",
              "      <td>6200.000000</td>\n",
              "      <td>6700.000000</td>\n",
              "      <td>AS</td>\n",
              "      <td>Asia</td>\n",
              "    </tr>\n",
              "    <tr>\n",
              "      <th>...</th>\n",
              "      <td>...</td>\n",
              "      <td>...</td>\n",
              "      <td>...</td>\n",
              "      <td>...</td>\n",
              "      <td>...</td>\n",
              "      <td>...</td>\n",
              "      <td>...</td>\n",
              "      <td>...</td>\n",
              "      <td>...</td>\n",
              "      <td>...</td>\n",
              "      <td>...</td>\n",
              "      <td>...</td>\n",
              "      <td>...</td>\n",
              "      <td>...</td>\n",
              "      <td>...</td>\n",
              "      <td>...</td>\n",
              "      <td>...</td>\n",
              "      <td>...</td>\n",
              "      <td>...</td>\n",
              "      <td>...</td>\n",
              "      <td>...</td>\n",
              "      <td>...</td>\n",
              "      <td>...</td>\n",
              "      <td>...</td>\n",
              "      <td>...</td>\n",
              "      <td>...</td>\n",
              "      <td>...</td>\n",
              "      <td>...</td>\n",
              "      <td>...</td>\n",
              "      <td>...</td>\n",
              "      <td>...</td>\n",
              "      <td>...</td>\n",
              "    </tr>\n",
              "    <tr>\n",
              "      <th>89005</th>\n",
              "      <td>Zimbabwe</td>\n",
              "      <td>ZWE</td>\n",
              "      <td>Use of insecticide-treated bed nets (% of unde...</td>\n",
              "      <td>SH.MLR.NETS.ZS</td>\n",
              "      <td>NaN</td>\n",
              "      <td>NaN</td>\n",
              "      <td>NaN</td>\n",
              "      <td>NaN</td>\n",
              "      <td>NaN</td>\n",
              "      <td>NaN</td>\n",
              "      <td>NaN</td>\n",
              "      <td>NaN</td>\n",
              "      <td>NaN</td>\n",
              "      <td>NaN</td>\n",
              "      <td>NaN</td>\n",
              "      <td>NaN</td>\n",
              "      <td>NaN</td>\n",
              "      <td>NaN</td>\n",
              "      <td>NaN</td>\n",
              "      <td>NaN</td>\n",
              "      <td>3.100000</td>\n",
              "      <td>NaN</td>\n",
              "      <td>NaN</td>\n",
              "      <td>17.300000</td>\n",
              "      <td>NaN</td>\n",
              "      <td>9.700000</td>\n",
              "      <td>NaN</td>\n",
              "      <td>NaN</td>\n",
              "      <td>26.800000</td>\n",
              "      <td>NaN</td>\n",
              "      <td>AF</td>\n",
              "      <td>Africa</td>\n",
              "    </tr>\n",
              "    <tr>\n",
              "      <th>89006</th>\n",
              "      <td>Zimbabwe</td>\n",
              "      <td>ZWE</td>\n",
              "      <td>Use of Intermittent Preventive Treatment of ma...</td>\n",
              "      <td>SH.MLR.SPF2.ZS</td>\n",
              "      <td>NaN</td>\n",
              "      <td>NaN</td>\n",
              "      <td>NaN</td>\n",
              "      <td>NaN</td>\n",
              "      <td>NaN</td>\n",
              "      <td>NaN</td>\n",
              "      <td>NaN</td>\n",
              "      <td>NaN</td>\n",
              "      <td>NaN</td>\n",
              "      <td>NaN</td>\n",
              "      <td>NaN</td>\n",
              "      <td>NaN</td>\n",
              "      <td>NaN</td>\n",
              "      <td>NaN</td>\n",
              "      <td>NaN</td>\n",
              "      <td>NaN</td>\n",
              "      <td>6.300000</td>\n",
              "      <td>NaN</td>\n",
              "      <td>NaN</td>\n",
              "      <td>13.900000</td>\n",
              "      <td>NaN</td>\n",
              "      <td>7.300000</td>\n",
              "      <td>NaN</td>\n",
              "      <td>NaN</td>\n",
              "      <td>12.900000</td>\n",
              "      <td>NaN</td>\n",
              "      <td>AF</td>\n",
              "      <td>Africa</td>\n",
              "    </tr>\n",
              "    <tr>\n",
              "      <th>89007</th>\n",
              "      <td>Zimbabwe</td>\n",
              "      <td>ZWE</td>\n",
              "      <td>Vitamin A supplementation coverage rate (% of ...</td>\n",
              "      <td>SN.ITK.VITA.ZS</td>\n",
              "      <td>NaN</td>\n",
              "      <td>NaN</td>\n",
              "      <td>NaN</td>\n",
              "      <td>NaN</td>\n",
              "      <td>NaN</td>\n",
              "      <td>NaN</td>\n",
              "      <td>NaN</td>\n",
              "      <td>NaN</td>\n",
              "      <td>NaN</td>\n",
              "      <td>NaN</td>\n",
              "      <td>0.000000</td>\n",
              "      <td>0.000000</td>\n",
              "      <td>0.00000</td>\n",
              "      <td>19.000000</td>\n",
              "      <td>20.000000</td>\n",
              "      <td>81.000000</td>\n",
              "      <td>67.000000</td>\n",
              "      <td>83.000000</td>\n",
              "      <td>0.000000</td>\n",
              "      <td>77.000000</td>\n",
              "      <td>49.000000</td>\n",
              "      <td>47.000000</td>\n",
              "      <td>61.00000</td>\n",
              "      <td>34.000000</td>\n",
              "      <td>32.000000</td>\n",
              "      <td>NaN</td>\n",
              "      <td>AF</td>\n",
              "      <td>Africa</td>\n",
              "    </tr>\n",
              "    <tr>\n",
              "      <th>89008</th>\n",
              "      <td>Zimbabwe</td>\n",
              "      <td>ZWE</td>\n",
              "      <td>Wanted fertility rate (births per woman)</td>\n",
              "      <td>SP.DYN.WFRT</td>\n",
              "      <td>NaN</td>\n",
              "      <td>NaN</td>\n",
              "      <td>NaN</td>\n",
              "      <td>NaN</td>\n",
              "      <td>3.500000</td>\n",
              "      <td>NaN</td>\n",
              "      <td>NaN</td>\n",
              "      <td>NaN</td>\n",
              "      <td>NaN</td>\n",
              "      <td>3.400000</td>\n",
              "      <td>NaN</td>\n",
              "      <td>NaN</td>\n",
              "      <td>NaN</td>\n",
              "      <td>NaN</td>\n",
              "      <td>NaN</td>\n",
              "      <td>NaN</td>\n",
              "      <td>3.300000</td>\n",
              "      <td>NaN</td>\n",
              "      <td>NaN</td>\n",
              "      <td>NaN</td>\n",
              "      <td>NaN</td>\n",
              "      <td>3.500000</td>\n",
              "      <td>NaN</td>\n",
              "      <td>NaN</td>\n",
              "      <td>NaN</td>\n",
              "      <td>NaN</td>\n",
              "      <td>AF</td>\n",
              "      <td>Africa</td>\n",
              "    </tr>\n",
              "    <tr>\n",
              "      <th>89009</th>\n",
              "      <td>Zimbabwe</td>\n",
              "      <td>ZWE</td>\n",
              "      <td>Women's share of population ages 15+ living wi...</td>\n",
              "      <td>SH.DYN.AIDS.FE.ZS</td>\n",
              "      <td>53.380109</td>\n",
              "      <td>54.085606</td>\n",
              "      <td>54.636842</td>\n",
              "      <td>55.076277</td>\n",
              "      <td>55.415038</td>\n",
              "      <td>55.674514</td>\n",
              "      <td>55.89633</td>\n",
              "      <td>56.082648</td>\n",
              "      <td>56.259096</td>\n",
              "      <td>56.447369</td>\n",
              "      <td>56.684974</td>\n",
              "      <td>56.949107</td>\n",
              "      <td>57.22538</td>\n",
              "      <td>57.500417</td>\n",
              "      <td>57.769947</td>\n",
              "      <td>58.045596</td>\n",
              "      <td>58.331272</td>\n",
              "      <td>58.586086</td>\n",
              "      <td>58.760796</td>\n",
              "      <td>58.812421</td>\n",
              "      <td>58.825943</td>\n",
              "      <td>58.899308</td>\n",
              "      <td>58.93908</td>\n",
              "      <td>58.900126</td>\n",
              "      <td>58.822335</td>\n",
              "      <td>58.855551</td>\n",
              "      <td>AF</td>\n",
              "      <td>Africa</td>\n",
              "    </tr>\n",
              "  </tbody>\n",
              "</table>\n",
              "<p>53959 rows × 32 columns</p>\n",
              "</div>"
            ],
            "text/plain": [
              "      Country Name Country Code  ... Continent Code Continent Name\n",
              "14145  Afghanistan          AFG  ...             AS           Asia\n",
              "14147  Afghanistan          AFG  ...             AS           Asia\n",
              "14148  Afghanistan          AFG  ...             AS           Asia\n",
              "14149  Afghanistan          AFG  ...             AS           Asia\n",
              "14150  Afghanistan          AFG  ...             AS           Asia\n",
              "...            ...          ...  ...            ...            ...\n",
              "89005     Zimbabwe          ZWE  ...             AF         Africa\n",
              "89006     Zimbabwe          ZWE  ...             AF         Africa\n",
              "89007     Zimbabwe          ZWE  ...             AF         Africa\n",
              "89008     Zimbabwe          ZWE  ...             AF         Africa\n",
              "89009     Zimbabwe          ZWE  ...             AF         Africa\n",
              "\n",
              "[53959 rows x 32 columns]"
            ]
          },
          "metadata": {},
          "execution_count": 15
        }
      ],
      "source": [
        "cleaned_df"
      ]
    },
    {
      "cell_type": "code",
      "execution_count": null,
      "metadata": {
        "colab": {
          "base_uri": "https://localhost:8080/",
          "height": 320
        },
        "id": "kqCHxicSIFnL",
        "outputId": "46d39f54-4da0-4554-db8c-9f8c063d70a4"
      },
      "outputs": [
        {
          "output_type": "execute_result",
          "data": {
            "text/html": [
              "<div>\n",
              "<style scoped>\n",
              "    .dataframe tbody tr th:only-of-type {\n",
              "        vertical-align: middle;\n",
              "    }\n",
              "\n",
              "    .dataframe tbody tr th {\n",
              "        vertical-align: top;\n",
              "    }\n",
              "\n",
              "    .dataframe thead th {\n",
              "        text-align: right;\n",
              "    }\n",
              "</style>\n",
              "<table border=\"1\" class=\"dataframe\">\n",
              "  <thead>\n",
              "    <tr style=\"text-align: right;\">\n",
              "      <th></th>\n",
              "      <th>1990</th>\n",
              "      <th>1991</th>\n",
              "      <th>1992</th>\n",
              "      <th>1993</th>\n",
              "      <th>1994</th>\n",
              "      <th>1995</th>\n",
              "      <th>1996</th>\n",
              "      <th>1997</th>\n",
              "      <th>1998</th>\n",
              "      <th>1999</th>\n",
              "      <th>2000</th>\n",
              "      <th>2001</th>\n",
              "      <th>2002</th>\n",
              "      <th>2003</th>\n",
              "      <th>2004</th>\n",
              "      <th>2005</th>\n",
              "      <th>2006</th>\n",
              "      <th>2007</th>\n",
              "      <th>2008</th>\n",
              "      <th>2009</th>\n",
              "      <th>2010</th>\n",
              "      <th>2011</th>\n",
              "      <th>2012</th>\n",
              "      <th>2013</th>\n",
              "      <th>2014</th>\n",
              "      <th>2015</th>\n",
              "    </tr>\n",
              "  </thead>\n",
              "  <tbody>\n",
              "    <tr>\n",
              "      <th>count</th>\n",
              "      <td>9.900000e+01</td>\n",
              "      <td>9.900000e+01</td>\n",
              "      <td>9.900000e+01</td>\n",
              "      <td>9.900000e+01</td>\n",
              "      <td>9.900000e+01</td>\n",
              "      <td>9.900000e+01</td>\n",
              "      <td>9.900000e+01</td>\n",
              "      <td>9.900000e+01</td>\n",
              "      <td>9.900000e+01</td>\n",
              "      <td>9.900000e+01</td>\n",
              "      <td>9.900000e+01</td>\n",
              "      <td>9.900000e+01</td>\n",
              "      <td>9.900000e+01</td>\n",
              "      <td>9.900000e+01</td>\n",
              "      <td>9.900000e+01</td>\n",
              "      <td>9.900000e+01</td>\n",
              "      <td>9.900000e+01</td>\n",
              "      <td>9.900000e+01</td>\n",
              "      <td>9.900000e+01</td>\n",
              "      <td>9.900000e+01</td>\n",
              "      <td>9.900000e+01</td>\n",
              "      <td>9.900000e+01</td>\n",
              "      <td>9.900000e+01</td>\n",
              "      <td>9.900000e+01</td>\n",
              "      <td>9.900000e+01</td>\n",
              "      <td>9.900000e+01</td>\n",
              "    </tr>\n",
              "    <tr>\n",
              "      <th>mean</th>\n",
              "      <td>7.272222e+04</td>\n",
              "      <td>8.833636e+04</td>\n",
              "      <td>1.062040e+05</td>\n",
              "      <td>1.249525e+05</td>\n",
              "      <td>1.446364e+05</td>\n",
              "      <td>1.642030e+05</td>\n",
              "      <td>1.851505e+05</td>\n",
              "      <td>2.039162e+05</td>\n",
              "      <td>2.208939e+05</td>\n",
              "      <td>2.360222e+05</td>\n",
              "      <td>2.482313e+05</td>\n",
              "      <td>2.585051e+05</td>\n",
              "      <td>2.635657e+05</td>\n",
              "      <td>2.706636e+05</td>\n",
              "      <td>2.724606e+05</td>\n",
              "      <td>2.725323e+05</td>\n",
              "      <td>2.741717e+05</td>\n",
              "      <td>2.746202e+05</td>\n",
              "      <td>2.784040e+05</td>\n",
              "      <td>2.808576e+05</td>\n",
              "      <td>2.861434e+05</td>\n",
              "      <td>2.893525e+05</td>\n",
              "      <td>2.928040e+05</td>\n",
              "      <td>2.973747e+05</td>\n",
              "      <td>3.044212e+05</td>\n",
              "      <td>3.102889e+05</td>\n",
              "    </tr>\n",
              "    <tr>\n",
              "      <th>std</th>\n",
              "      <td>1.868599e+05</td>\n",
              "      <td>2.159691e+05</td>\n",
              "      <td>2.522798e+05</td>\n",
              "      <td>2.929436e+05</td>\n",
              "      <td>3.380946e+05</td>\n",
              "      <td>3.909992e+05</td>\n",
              "      <td>4.516894e+05</td>\n",
              "      <td>5.124345e+05</td>\n",
              "      <td>5.731511e+05</td>\n",
              "      <td>6.288052e+05</td>\n",
              "      <td>6.808404e+05</td>\n",
              "      <td>7.250071e+05</td>\n",
              "      <td>7.477593e+05</td>\n",
              "      <td>7.764626e+05</td>\n",
              "      <td>7.853301e+05</td>\n",
              "      <td>7.829808e+05</td>\n",
              "      <td>7.828769e+05</td>\n",
              "      <td>7.803782e+05</td>\n",
              "      <td>7.785542e+05</td>\n",
              "      <td>7.801012e+05</td>\n",
              "      <td>7.875102e+05</td>\n",
              "      <td>7.892797e+05</td>\n",
              "      <td>8.011552e+05</td>\n",
              "      <td>8.120797e+05</td>\n",
              "      <td>8.356392e+05</td>\n",
              "      <td>8.569770e+05</td>\n",
              "    </tr>\n",
              "    <tr>\n",
              "      <th>min</th>\n",
              "      <td>1.000000e+02</td>\n",
              "      <td>1.000000e+02</td>\n",
              "      <td>1.000000e+02</td>\n",
              "      <td>1.000000e+02</td>\n",
              "      <td>1.000000e+02</td>\n",
              "      <td>1.000000e+02</td>\n",
              "      <td>1.000000e+02</td>\n",
              "      <td>1.000000e+02</td>\n",
              "      <td>1.000000e+02</td>\n",
              "      <td>1.000000e+02</td>\n",
              "      <td>1.000000e+02</td>\n",
              "      <td>1.000000e+02</td>\n",
              "      <td>1.000000e+02</td>\n",
              "      <td>1.000000e+02</td>\n",
              "      <td>1.000000e+02</td>\n",
              "      <td>1.000000e+02</td>\n",
              "      <td>1.000000e+02</td>\n",
              "      <td>1.000000e+02</td>\n",
              "      <td>2.000000e+02</td>\n",
              "      <td>2.000000e+02</td>\n",
              "      <td>2.000000e+02</td>\n",
              "      <td>5.000000e+02</td>\n",
              "      <td>5.000000e+02</td>\n",
              "      <td>5.000000e+02</td>\n",
              "      <td>5.000000e+02</td>\n",
              "      <td>5.000000e+02</td>\n",
              "    </tr>\n",
              "    <tr>\n",
              "      <th>25%</th>\n",
              "      <td>7.500000e+02</td>\n",
              "      <td>1.000000e+03</td>\n",
              "      <td>1.000000e+03</td>\n",
              "      <td>1.100000e+03</td>\n",
              "      <td>1.700000e+03</td>\n",
              "      <td>2.400000e+03</td>\n",
              "      <td>3.300000e+03</td>\n",
              "      <td>4.600000e+03</td>\n",
              "      <td>5.500000e+03</td>\n",
              "      <td>6.250000e+03</td>\n",
              "      <td>7.500000e+03</td>\n",
              "      <td>8.050000e+03</td>\n",
              "      <td>8.800000e+03</td>\n",
              "      <td>9.500000e+03</td>\n",
              "      <td>9.600000e+03</td>\n",
              "      <td>9.550000e+03</td>\n",
              "      <td>9.650000e+03</td>\n",
              "      <td>9.900000e+03</td>\n",
              "      <td>1.100000e+04</td>\n",
              "      <td>1.200000e+04</td>\n",
              "      <td>1.250000e+04</td>\n",
              "      <td>1.350000e+04</td>\n",
              "      <td>1.400000e+04</td>\n",
              "      <td>1.450000e+04</td>\n",
              "      <td>1.500000e+04</td>\n",
              "      <td>1.500000e+04</td>\n",
              "    </tr>\n",
              "    <tr>\n",
              "      <th>50%</th>\n",
              "      <td>4.900000e+03</td>\n",
              "      <td>6.500000e+03</td>\n",
              "      <td>8.200000e+03</td>\n",
              "      <td>9.400000e+03</td>\n",
              "      <td>1.100000e+04</td>\n",
              "      <td>1.300000e+04</td>\n",
              "      <td>1.500000e+04</td>\n",
              "      <td>2.200000e+04</td>\n",
              "      <td>2.300000e+04</td>\n",
              "      <td>2.800000e+04</td>\n",
              "      <td>3.100000e+04</td>\n",
              "      <td>3.100000e+04</td>\n",
              "      <td>3.700000e+04</td>\n",
              "      <td>4.000000e+04</td>\n",
              "      <td>4.100000e+04</td>\n",
              "      <td>4.500000e+04</td>\n",
              "      <td>4.700000e+04</td>\n",
              "      <td>4.500000e+04</td>\n",
              "      <td>4.300000e+04</td>\n",
              "      <td>4.300000e+04</td>\n",
              "      <td>4.600000e+04</td>\n",
              "      <td>4.700000e+04</td>\n",
              "      <td>4.700000e+04</td>\n",
              "      <td>4.700000e+04</td>\n",
              "      <td>4.700000e+04</td>\n",
              "      <td>4.700000e+04</td>\n",
              "    </tr>\n",
              "    <tr>\n",
              "      <th>75%</th>\n",
              "      <td>3.100000e+04</td>\n",
              "      <td>3.700000e+04</td>\n",
              "      <td>4.750000e+04</td>\n",
              "      <td>5.600000e+04</td>\n",
              "      <td>6.550000e+04</td>\n",
              "      <td>7.700000e+04</td>\n",
              "      <td>9.550000e+04</td>\n",
              "      <td>1.100000e+05</td>\n",
              "      <td>1.100000e+05</td>\n",
              "      <td>1.200000e+05</td>\n",
              "      <td>1.300000e+05</td>\n",
              "      <td>1.450000e+05</td>\n",
              "      <td>1.450000e+05</td>\n",
              "      <td>1.550000e+05</td>\n",
              "      <td>1.650000e+05</td>\n",
              "      <td>1.650000e+05</td>\n",
              "      <td>1.650000e+05</td>\n",
              "      <td>1.700000e+05</td>\n",
              "      <td>1.750000e+05</td>\n",
              "      <td>1.750000e+05</td>\n",
              "      <td>1.800000e+05</td>\n",
              "      <td>1.750000e+05</td>\n",
              "      <td>1.750000e+05</td>\n",
              "      <td>1.800000e+05</td>\n",
              "      <td>1.850000e+05</td>\n",
              "      <td>1.900000e+05</td>\n",
              "    </tr>\n",
              "    <tr>\n",
              "      <th>max</th>\n",
              "      <td>1.100000e+06</td>\n",
              "      <td>1.100000e+06</td>\n",
              "      <td>1.200000e+06</td>\n",
              "      <td>1.300000e+06</td>\n",
              "      <td>1.500000e+06</td>\n",
              "      <td>2.000000e+06</td>\n",
              "      <td>2.700000e+06</td>\n",
              "      <td>3.400000e+06</td>\n",
              "      <td>4.100000e+06</td>\n",
              "      <td>4.700000e+06</td>\n",
              "      <td>5.300000e+06</td>\n",
              "      <td>5.800000e+06</td>\n",
              "      <td>6.100000e+06</td>\n",
              "      <td>6.400000e+06</td>\n",
              "      <td>6.500000e+06</td>\n",
              "      <td>6.500000e+06</td>\n",
              "      <td>6.500000e+06</td>\n",
              "      <td>6.500000e+06</td>\n",
              "      <td>6.400000e+06</td>\n",
              "      <td>6.400000e+06</td>\n",
              "      <td>6.400000e+06</td>\n",
              "      <td>6.400000e+06</td>\n",
              "      <td>6.500000e+06</td>\n",
              "      <td>6.600000e+06</td>\n",
              "      <td>6.800000e+06</td>\n",
              "      <td>7.000000e+06</td>\n",
              "    </tr>\n",
              "  </tbody>\n",
              "</table>\n",
              "</div>"
            ],
            "text/plain": [
              "               1990          1991  ...          2014          2015\n",
              "count  9.900000e+01  9.900000e+01  ...  9.900000e+01  9.900000e+01\n",
              "mean   7.272222e+04  8.833636e+04  ...  3.044212e+05  3.102889e+05\n",
              "std    1.868599e+05  2.159691e+05  ...  8.356392e+05  8.569770e+05\n",
              "min    1.000000e+02  1.000000e+02  ...  5.000000e+02  5.000000e+02\n",
              "25%    7.500000e+02  1.000000e+03  ...  1.500000e+04  1.500000e+04\n",
              "50%    4.900000e+03  6.500000e+03  ...  4.700000e+04  4.700000e+04\n",
              "75%    3.100000e+04  3.700000e+04  ...  1.850000e+05  1.900000e+05\n",
              "max    1.100000e+06  1.100000e+06  ...  6.800000e+06  7.000000e+06\n",
              "\n",
              "[8 rows x 26 columns]"
            ]
          },
          "metadata": {},
          "execution_count": 16
        }
      ],
      "source": [
        "total_HIV_df=cleaned_df[(cleaned_df[\"Indicator Code\"]==\"SH.HIV.TOTL\")]\n",
        "stats=total_HIV_df[used_years].describe()\n",
        "stats\n",
        "# means = total_HIV_df[years].mean()[]\n",
        "# stds = total_HIV_df[years].std().tolist()\n",
        "# mins = total_HIV_df[years].min().tolist()\n",
        "# maxes = total_HIV_df[years].max().tolist()\n",
        "\n",
        "# print(maxes)\n",
        "# print(mins)\n",
        "# print(stds)\n",
        "# print(means)"
      ]
    },
    {
      "cell_type": "markdown",
      "metadata": {
        "id": "CAzMygo9TP4S"
      },
      "source": [
        "## Plot HIV counts for each country and continent\n",
        "\n",
        "In this section, we are going to create visual images for the average distribution of Total HIV count.\n",
        "\n",
        "1. Calculate the mean of Total HIV counts over the years for each country.\n",
        "2. Create box plot that shows the average HIV count for each country over the years.\n",
        "3. Create pie charts for average precentage distribution of HIV counts around the world and at different continents.\n",
        "4. Create world maps for average data distribution of HIV counts around the world."
      ]
    },
    {
      "cell_type": "code",
      "execution_count": null,
      "metadata": {
        "colab": {
          "base_uri": "https://localhost:8080/"
        },
        "id": "WM6h3OFWPm8h",
        "outputId": "1cea4033-5178-44f7-f180-7ecfef98440a"
      },
      "outputs": [
        {
          "output_type": "stream",
          "name": "stderr",
          "text": [
            "/usr/local/lib/python3.7/dist-packages/ipykernel_launcher.py:1: SettingWithCopyWarning: \n",
            "A value is trying to be set on a copy of a slice from a DataFrame.\n",
            "Try using .loc[row_indexer,col_indexer] = value instead\n",
            "\n",
            "See the caveats in the documentation: https://pandas.pydata.org/pandas-docs/stable/user_guide/indexing.html#returning-a-view-versus-a-copy\n",
            "  \"\"\"Entry point for launching an IPython kernel.\n"
          ]
        }
      ],
      "source": [
        "total_HIV_df[\"mean\"]=total_HIV_df.mean(axis=1) # This mean value is useful for our following plots"
      ]
    },
    {
      "cell_type": "code",
      "execution_count": null,
      "metadata": {
        "colab": {
          "base_uri": "https://localhost:8080/",
          "height": 309
        },
        "id": "C0RA2GcjJyKz",
        "outputId": "fd681da7-cd9d-42ad-e1d0-ab4a6b06d540"
      },
      "outputs": [
        {
          "output_type": "execute_result",
          "data": {
            "text/plain": [
              "<matplotlib.axes._subplots.AxesSubplot at 0x7f178c02e490>"
            ]
          },
          "metadata": {},
          "execution_count": 18
        },
        {
          "output_type": "display_data",
          "data": {
            "image/png": "[encoded data removed]",
            "text/plain": [
              "<Figure size 432x288 with 1 Axes>"
            ]
          },
          "metadata": {
            "needs_background": "light"
          }
        }
      ],
      "source": [
        "total_HIV_df.boxplot(column=used_years,rot=90)"
      ]
    },
    {
      "cell_type": "markdown",
      "metadata": {
        "id": "XqAehT0evlq2"
      },
      "source": [
        "#### Data Percentage Distribution By Country\n",
        "**Motivation:** In the dataset, there is geographic information. We are curious about the average precentage distribution of HIV counts around the world.\n",
        "\n",
        "**Conclusion:** From the pie chart below, we see that the top three countries that have high percentage of HIV counts is South Africa, Nigeria, and India."
      ]
    },
    {
      "cell_type": "code",
      "execution_count": null,
      "metadata": {
        "colab": {
          "base_uri": "https://localhost:8080/",
          "height": 542
        },
        "id": "05u0itnSfV5c",
        "outputId": "c7cb53e7-263d-4a09-da61-11f71f81baf5"
      },
      "outputs": [
        {
          "output_type": "display_data",
          "data": {
            "text/html": [
              "<html>\n",
              "<head><meta charset=\"utf-8\" /></head>\n",
              "<body>\n",
              "    <div>\n",
              "            <script src=\"https://cdnjs.cloudflare.com/ajax/libs/mathjax/2.7.5/MathJax.js?config=TeX-AMS-MML_SVG\"></script><script type=\"text/javascript\">if (window.MathJax) {MathJax.Hub.Config({SVG: {font: \"STIX-Web\"}});}</script>\n",
              "                <script type=\"text/javascript\">window.PlotlyConfig = {MathJaxConfig: 'local'};</script>\n",
              "        <script src=\"https://cdn.plot.ly/plotly-latest.min.js\"></script>    \n",
              "            <div id=\"d06a9b70-be61-4685-a047-06be6807bb5f\" class=\"plotly-graph-div\" style=\"height:525px; width:100%;\"></div>\n",
              "            <script type=\"text/javascript\">\n",
              "                \n",
              "                    window.PLOTLYENV=window.PLOTLYENV || {};\n",
              "                    \n",
              "                if (document.getElementById(\"d06a9b70-be61-4685-a047-06be6807bb5f\")) {\n",
              "                    Plotly.newPlot(\n",
              "                        'd06a9b70-be61-4685-a047-06be6807bb5f',\n",
              "                        [{\"domain\": {\"x\": [0.0, 1.0], \"y\": [0.0, 1.0]}, \"hoverlabel\": {\"namelength\": 0}, \"hovertemplate\": \"Country Name=%{label}<br>mean=%{value}\", \"labels\": [\"Afghanistan\", \"Algeria\", \"Angola\", \"Argentina\", \"Armenia\", \"Australia\", \"Azerbaijan\", \"Bangladesh\", \"Barbados\", \"Belarus\", \"Belize\", \"Benin\", \"Bolivia\", \"Botswana\", \"Brazil\", \"Burkina Faso\", \"Burundi\", \"Cabo Verde\", \"Cambodia\", \"Cameroon\", \"Central African Republic\", \"Chad\", \"Chile\", \"Colombia\", \"Costa Rica\", \"Cuba\", \"Djibouti\", \"Dominican Republic\", \"Ecuador\", \"El Salvador\", \"Equatorial Guinea\", \"Eritrea\", \"Gabon\", \"Georgia\", \"Ghana\", \"Greece\", \"Guatemala\", \"Guinea\", \"Guyana\", \"Haiti\", \"Honduras\", \"India\", \"Indonesia\", \"Italy\", \"Jamaica\", \"Kazakhstan\", \"Kenya\", \"Kyrgyz Republic\", \"Latvia\", \"Lebanon\", \"Lesotho\", \"Liberia\", \"Madagascar\", \"Malawi\", \"Malaysia\", \"Mali\", \"Mauritania\", \"Mauritius\", \"Mexico\", \"Moldova\", \"Mongolia\", \"Morocco\", \"Mozambique\", \"Myanmar\", \"Namibia\", \"Nepal\", \"Nicaragua\", \"Niger\", \"Nigeria\", \"Pakistan\", \"Panama\", \"Papua New Guinea\", \"Paraguay\", \"Peru\", \"Philippines\", \"Rwanda\", \"Senegal\", \"Sierra Leone\", \"Somalia\", \"South Africa\", \"South Sudan\", \"Spain\", \"Sri Lanka\", \"Sudan\", \"Suriname\", \"Swaziland\", \"Tajikistan\", \"Tanzania\", \"Thailand\", \"Togo\", \"Trinidad and Tobago\", \"Tunisia\", \"Uganda\", \"Ukraine\", \"Uruguay\", \"Uzbekistan\", \"Vietnam\", \"Zambia\", \"Zimbabwe\"], \"legendgroup\": \"\", \"name\": \"\", \"showlegend\": true, \"type\": \"pie\", \"values\": [2869.230769230769, 3946.153846153846, 161269.23076923078, 72769.23076923077, 1696.1538461538462, 17807.69230769231, 3546.153846153846, 3788.4615384615386, 1442.3076923076924, 11780.76923076923, 2038.4615384615386, 48853.846153846156, 13542.307692307691, 246846.15384615384, 532307.6923076923, 137615.38461538462, 87769.23076923077, 2976.923076923077, 80276.92307692308, 446538.46153846156, 140384.61538461538, 132115.38461538462, 19000.0, 75653.84615384616, 5073.076923076923, 6219.2307692307695, 8523.076923076924, 79576.92307692308, 23280.76923076923, 13746.153846153846, 14876.923076923076, 13696.153846153846, 34688.46153846154, 3611.5384615384614, 265384.6153846154, 10819.23076923077, 25196.153846153848, 81653.84615384616, 4484.615384615385, 196730.76923076922, 36461.53846153846, 1693461.5384615385, 228257.6923076923, 72057.69230769231, 27153.846153846152, 7496.153846153846, 1446153.8461538462, 2776.923076923077, 5542.307692307692, 1334.6153846153845, 194576.92307692306, 29973.076923076922, 34161.53846153846, 878846.1538461539, 88673.07692307692, 105961.53846153847, 11292.307692307691, 6426.923076923077, 148307.6923076923, 9261.538461538461, 188.46153846153845, 13861.538461538461, 820461.5384615385, 173153.84615384616, 145500.0, 26992.30769230769, 9073.076923076924, 51076.92307692308, 2498076.923076923, 26607.69230769231, 11953.846153846154, 24584.615384615383, 11188.461538461539, 61615.38461538462, 9369.23076923077, 194615.38461538462, 35796.153846153844, 29403.846153846152, 21684.615384615383, 4711153.846153846, 99488.46153846153, 123807.69230769231, 1400.0, 24857.69230769231, 2803.846153846154, 127700.0, 7215.384615384615, 1249230.7692307692, 517692.3076923077, 103423.07692307692, 7907.692307692308, 988.4615384615385, 1117307.6923076923, 161538.46153846153, 7088.461538461538, 28830.76923076923, 132942.3076923077, 907307.6923076923, 1367307.6923076923]}],\n",
              "                        {\"legend\": {\"tracegroupgap\": 0}, \"piecolorway\": [\"rgb(103,0,31)\", \"rgb(178,24,43)\", \"rgb(214,96,77)\", \"rgb(244,165,130)\", \"rgb(253,219,199)\", \"rgb(247,247,247)\", \"rgb(209,229,240)\", \"rgb(146,197,222)\", \"rgb(67,147,195)\", \"rgb(33,102,172)\", \"rgb(5,48,97)\"], \"template\": {\"data\": {\"bar\": [{\"error_x\": {\"color\": \"#2a3f5f\"}, \"error_y\": {\"color\": \"#2a3f5f\"}, \"marker\": {\"line\": {\"color\": \"#E5ECF6\", \"width\": 0.5}}, \"type\": \"bar\"}], \"barpolar\": [{\"marker\": {\"line\": {\"color\": \"#E5ECF6\", \"width\": 0.5}}, \"type\": \"barpolar\"}], \"carpet\": [{\"aaxis\": {\"endlinecolor\": \"#2a3f5f\", \"gridcolor\": \"white\", \"linecolor\": \"white\", \"minorgridcolor\": \"white\", \"startlinecolor\": \"#2a3f5f\"}, \"baxis\": {\"endlinecolor\": \"#2a3f5f\", \"gridcolor\": \"white\", \"linecolor\": \"white\", \"minorgridcolor\": \"white\", \"startlinecolor\": \"#2a3f5f\"}, \"type\": \"carpet\"}], \"choropleth\": [{\"colorbar\": {\"outlinewidth\": 0, \"ticks\": \"\"}, \"type\": \"choropleth\"}], \"contour\": [{\"colorbar\": {\"outlinewidth\": 0, \"ticks\": \"\"}, \"colorscale\": [[0.0, \"#0d0887\"], [0.1111111111111111, \"#46039f\"], [0.2222222222222222, \"#7201a8\"], [0.3333333333333333, \"#9c179e\"], [0.4444444444444444, \"#bd3786\"], [0.5555555555555556, \"#d8576b\"], [0.6666666666666666, \"#ed7953\"], [0.7777777777777778, \"#fb9f3a\"], [0.8888888888888888, \"#fdca26\"], [1.0, \"#f0f921\"]], \"type\": \"contour\"}], \"contourcarpet\": [{\"colorbar\": {\"outlinewidth\": 0, \"ticks\": \"\"}, \"type\": \"contourcarpet\"}], \"heatmap\": [{\"colorbar\": {\"outlinewidth\": 0, \"ticks\": \"\"}, \"colorscale\": [[0.0, \"#0d0887\"], [0.1111111111111111, \"#46039f\"], [0.2222222222222222, \"#7201a8\"], [0.3333333333333333, \"#9c179e\"], [0.4444444444444444, \"#bd3786\"], [0.5555555555555556, \"#d8576b\"], [0.6666666666666666, \"#ed7953\"], [0.7777777777777778, \"#fb9f3a\"], [0.8888888888888888, \"#fdca26\"], [1.0, \"#f0f921\"]], \"type\": \"heatmap\"}], \"heatmapgl\": [{\"colorbar\": {\"outlinewidth\": 0, \"ticks\": \"\"}, \"colorscale\": [[0.0, \"#0d0887\"], [0.1111111111111111, \"#46039f\"], [0.2222222222222222, \"#7201a8\"], [0.3333333333333333, \"#9c179e\"], [0.4444444444444444, \"#bd3786\"], [0.5555555555555556, \"#d8576b\"], [0.6666666666666666, \"#ed7953\"], [0.7777777777777778, \"#fb9f3a\"], [0.8888888888888888, \"#fdca26\"], [1.0, \"#f0f921\"]], \"type\": \"heatmapgl\"}], \"histogram\": [{\"marker\": {\"colorbar\": {\"outlinewidth\": 0, \"ticks\": \"\"}}, \"type\": \"histogram\"}], \"histogram2d\": [{\"colorbar\": {\"outlinewidth\": 0, \"ticks\": \"\"}, \"colorscale\": [[0.0, \"#0d0887\"], [0.1111111111111111, \"#46039f\"], [0.2222222222222222, \"#7201a8\"], [0.3333333333333333, \"#9c179e\"], [0.4444444444444444, \"#bd3786\"], [0.5555555555555556, \"#d8576b\"], [0.6666666666666666, \"#ed7953\"], [0.7777777777777778, \"#fb9f3a\"], [0.8888888888888888, \"#fdca26\"], [1.0, \"#f0f921\"]], \"type\": \"histogram2d\"}], \"histogram2dcontour\": [{\"colorbar\": {\"outlinewidth\": 0, \"ticks\": \"\"}, \"colorscale\": [[0.0, \"#0d0887\"], [0.1111111111111111, \"#46039f\"], [0.2222222222222222, \"#7201a8\"], [0.3333333333333333, \"#9c179e\"], [0.4444444444444444, \"#bd3786\"], [0.5555555555555556, \"#d8576b\"], [0.6666666666666666, \"#ed7953\"], [0.7777777777777778, \"#fb9f3a\"], [0.8888888888888888, \"#fdca26\"], [1.0, \"#f0f921\"]], \"type\": \"histogram2dcontour\"}], \"mesh3d\": [{\"colorbar\": {\"outlinewidth\": 0, \"ticks\": \"\"}, \"type\": \"mesh3d\"}], \"parcoords\": [{\"line\": {\"colorbar\": {\"outlinewidth\": 0, \"ticks\": \"\"}}, \"type\": \"parcoords\"}], \"pie\": [{\"automargin\": true, \"type\": \"pie\"}], \"scatter\": [{\"marker\": {\"colorbar\": {\"outlinewidth\": 0, \"ticks\": \"\"}}, \"type\": \"scatter\"}], \"scatter3d\": [{\"line\": {\"colorbar\": {\"outlinewidth\": 0, \"ticks\": \"\"}}, \"marker\": {\"colorbar\": {\"outlinewidth\": 0, \"ticks\": \"\"}}, \"type\": \"scatter3d\"}], \"scattercarpet\": [{\"marker\": {\"colorbar\": {\"outlinewidth\": 0, \"ticks\": \"\"}}, \"type\": \"scattercarpet\"}], \"scattergeo\": [{\"marker\": {\"colorbar\": {\"outlinewidth\": 0, \"ticks\": \"\"}}, \"type\": \"scattergeo\"}], \"scattergl\": [{\"marker\": {\"colorbar\": {\"outlinewidth\": 0, \"ticks\": \"\"}}, \"type\": \"scattergl\"}], \"scattermapbox\": [{\"marker\": {\"colorbar\": {\"outlinewidth\": 0, \"ticks\": \"\"}}, \"type\": \"scattermapbox\"}], \"scatterpolar\": [{\"marker\": {\"colorbar\": {\"outlinewidth\": 0, \"ticks\": \"\"}}, \"type\": \"scatterpolar\"}], \"scatterpolargl\": [{\"marker\": {\"colorbar\": {\"outlinewidth\": 0, \"ticks\": \"\"}}, \"type\": \"scatterpolargl\"}], \"scatterternary\": [{\"marker\": {\"colorbar\": {\"outlinewidth\": 0, \"ticks\": \"\"}}, \"type\": \"scatterternary\"}], \"surface\": [{\"colorbar\": {\"outlinewidth\": 0, \"ticks\": \"\"}, \"colorscale\": [[0.0, \"#0d0887\"], [0.1111111111111111, \"#46039f\"], [0.2222222222222222, \"#7201a8\"], [0.3333333333333333, \"#9c179e\"], [0.4444444444444444, \"#bd3786\"], [0.5555555555555556, \"#d8576b\"], [0.6666666666666666, \"#ed7953\"], [0.7777777777777778, \"#fb9f3a\"], [0.8888888888888888, \"#fdca26\"], [1.0, \"#f0f921\"]], \"type\": \"surface\"}], \"table\": [{\"cells\": {\"fill\": {\"color\": \"#EBF0F8\"}, \"line\": {\"color\": \"white\"}}, \"header\": {\"fill\": {\"color\": \"#C8D4E3\"}, \"line\": {\"color\": \"white\"}}, \"type\": \"table\"}]}, \"layout\": {\"annotationdefaults\": {\"arrowcolor\": \"#2a3f5f\", \"arrowhead\": 0, \"arrowwidth\": 1}, \"coloraxis\": {\"colorbar\": {\"outlinewidth\": 0, \"ticks\": \"\"}}, \"colorscale\": {\"diverging\": [[0, \"#8e0152\"], [0.1, \"#c51b7d\"], [0.2, \"#de77ae\"], [0.3, \"#f1b6da\"], [0.4, \"#fde0ef\"], [0.5, \"#f7f7f7\"], [0.6, \"#e6f5d0\"], [0.7, \"#b8e186\"], [0.8, \"#7fbc41\"], [0.9, \"#4d9221\"], [1, \"#276419\"]], \"sequential\": [[0.0, \"#0d0887\"], [0.1111111111111111, \"#46039f\"], [0.2222222222222222, \"#7201a8\"], [0.3333333333333333, \"#9c179e\"], [0.4444444444444444, \"#bd3786\"], [0.5555555555555556, \"#d8576b\"], [0.6666666666666666, \"#ed7953\"], [0.7777777777777778, \"#fb9f3a\"], [0.8888888888888888, \"#fdca26\"], [1.0, \"#f0f921\"]], \"sequentialminus\": [[0.0, \"#0d0887\"], [0.1111111111111111, \"#46039f\"], [0.2222222222222222, \"#7201a8\"], [0.3333333333333333, \"#9c179e\"], [0.4444444444444444, \"#bd3786\"], [0.5555555555555556, \"#d8576b\"], [0.6666666666666666, \"#ed7953\"], [0.7777777777777778, \"#fb9f3a\"], [0.8888888888888888, \"#fdca26\"], [1.0, \"#f0f921\"]]}, \"colorway\": [\"#636efa\", \"#EF553B\", \"#00cc96\", \"#ab63fa\", \"#FFA15A\", \"#19d3f3\", \"#FF6692\", \"#B6E880\", \"#FF97FF\", \"#FECB52\"], \"font\": {\"color\": \"#2a3f5f\"}, \"geo\": {\"bgcolor\": \"white\", \"lakecolor\": \"white\", \"landcolor\": \"#E5ECF6\", \"showlakes\": true, \"showland\": true, \"subunitcolor\": \"white\"}, \"hoverlabel\": {\"align\": \"left\"}, \"hovermode\": \"closest\", \"mapbox\": {\"style\": \"light\"}, \"paper_bgcolor\": \"white\", \"plot_bgcolor\": \"#E5ECF6\", \"polar\": {\"angularaxis\": {\"gridcolor\": \"white\", \"linecolor\": \"white\", \"ticks\": \"\"}, \"bgcolor\": \"#E5ECF6\", \"radialaxis\": {\"gridcolor\": \"white\", \"linecolor\": \"white\", \"ticks\": \"\"}}, \"scene\": {\"xaxis\": {\"backgroundcolor\": \"#E5ECF6\", \"gridcolor\": \"white\", \"gridwidth\": 2, \"linecolor\": \"white\", \"showbackground\": true, \"ticks\": \"\", \"zerolinecolor\": \"white\"}, \"yaxis\": {\"backgroundcolor\": \"#E5ECF6\", \"gridcolor\": \"white\", \"gridwidth\": 2, \"linecolor\": \"white\", \"showbackground\": true, \"ticks\": \"\", \"zerolinecolor\": \"white\"}, \"zaxis\": {\"backgroundcolor\": \"#E5ECF6\", \"gridcolor\": \"white\", \"gridwidth\": 2, \"linecolor\": \"white\", \"showbackground\": true, \"ticks\": \"\", \"zerolinecolor\": \"white\"}}, \"shapedefaults\": {\"line\": {\"color\": \"#2a3f5f\"}}, \"ternary\": {\"aaxis\": {\"gridcolor\": \"white\", \"linecolor\": \"white\", \"ticks\": \"\"}, \"baxis\": {\"gridcolor\": \"white\", \"linecolor\": \"white\", \"ticks\": \"\"}, \"bgcolor\": \"#E5ECF6\", \"caxis\": {\"gridcolor\": \"white\", \"linecolor\": \"white\", \"ticks\": \"\"}}, \"title\": {\"x\": 0.05}, \"xaxis\": {\"automargin\": true, \"gridcolor\": \"white\", \"linecolor\": \"white\", \"ticks\": \"\", \"title\": {\"standoff\": 15}, \"zerolinecolor\": \"white\", \"zerolinewidth\": 2}, \"yaxis\": {\"automargin\": true, \"gridcolor\": \"white\", \"linecolor\": \"white\", \"ticks\": \"\", \"title\": {\"standoff\": 15}, \"zerolinecolor\": \"white\", \"zerolinewidth\": 2}}}, \"title\": {\"text\": \"Average Total HIV Percentage for Different Countries\"}},\n",
              "                        {\"responsive\": true}\n",
              "                    ).then(function(){\n",
              "                            \n",
              "var gd = document.getElementById('d06a9b70-be61-4685-a047-06be6807bb5f');\n",
              "var x = new MutationObserver(function (mutations, observer) {{\n",
              "        var display = window.getComputedStyle(gd).display;\n",
              "        if (!display || display === 'none') {{\n",
              "            console.log([gd, 'removed!']);\n",
              "            Plotly.purge(gd);\n",
              "            observer.disconnect();\n",
              "        }}\n",
              "}});\n",
              "\n",
              "// Listen for the removal of the full notebook cells\n",
              "var notebookContainer = gd.closest('#notebook-container');\n",
              "if (notebookContainer) {{\n",
              "    x.observe(notebookContainer, {childList: true});\n",
              "}}\n",
              "\n",
              "// Listen for the clearing of the current output cell\n",
              "var outputEl = gd.closest('.output');\n",
              "if (outputEl) {{\n",
              "    x.observe(outputEl, {childList: true});\n",
              "}}\n",
              "\n",
              "                        })\n",
              "                };\n",
              "                \n",
              "            </script>\n",
              "        </div>\n",
              "</body>\n",
              "</html>"
            ]
          },
          "metadata": {}
        }
      ],
      "source": [
        "import pycountry\n",
        "import plotly.express as px\n",
        "\n",
        "px.pie(total_HIV_df, values='mean', names='Country Name',\n",
        "       title='Average Total HIV Percentage for Different Countries',\n",
        "       color_discrete_sequence=px.colors.sequential.RdBu)"
      ]
    },
    {
      "cell_type": "markdown",
      "metadata": {
        "id": "M_v0KN4_v1PF"
      },
      "source": [
        "#### Data Percentage Distribution By Continents\n",
        "**Motivation:** In the dataset, there is geographic information. We are curious about the average precentage distribution of HIV counts at each continent.\n",
        "\n",
        "**Conclusion:** From the pie chart below, we see that the continent that has highest percentage of people living with HIV is Africa with a precentage of 78.7%."
      ]
    },
    {
      "cell_type": "code",
      "execution_count": null,
      "metadata": {
        "colab": {
          "base_uri": "https://localhost:8080/",
          "height": 542
        },
        "id": "6AJlKLr50TsE",
        "outputId": "292f85a5-402c-49d5-9ef9-749ac4b6a9cc"
      },
      "outputs": [
        {
          "output_type": "display_data",
          "data": {
            "text/html": [
              "<html>\n",
              "<head><meta charset=\"utf-8\" /></head>\n",
              "<body>\n",
              "    <div>\n",
              "            <script src=\"https://cdnjs.cloudflare.com/ajax/libs/mathjax/2.7.5/MathJax.js?config=TeX-AMS-MML_SVG\"></script><script type=\"text/javascript\">if (window.MathJax) {MathJax.Hub.Config({SVG: {font: \"STIX-Web\"}});}</script>\n",
              "                <script type=\"text/javascript\">window.PlotlyConfig = {MathJaxConfig: 'local'};</script>\n",
              "        <script src=\"https://cdn.plot.ly/plotly-latest.min.js\"></script>    \n",
              "            <div id=\"69c4f4dc-c13b-4ef7-9d97-2b51ccd2d1fa\" class=\"plotly-graph-div\" style=\"height:525px; width:100%;\"></div>\n",
              "            <script type=\"text/javascript\">\n",
              "                \n",
              "                    window.PLOTLYENV=window.PLOTLYENV || {};\n",
              "                    \n",
              "                if (document.getElementById(\"69c4f4dc-c13b-4ef7-9d97-2b51ccd2d1fa\")) {\n",
              "                    Plotly.newPlot(\n",
              "                        '69c4f4dc-c13b-4ef7-9d97-2b51ccd2d1fa',\n",
              "                        [{\"domain\": {\"x\": [0.0, 1.0], \"y\": [0.0, 1.0]}, \"hoverlabel\": {\"namelength\": 0}, \"hovertemplate\": \"Continent Name=%{label}<br>mean=%{value}\", \"labels\": [\"Asia\", \"Africa\", \"Africa\", \"South America\", \"Asia\", \"Oceania\", \"Asia\", \"Asia\", \"North America\", \"Europe\", \"North America\", \"Africa\", \"South America\", \"Africa\", \"South America\", \"Africa\", \"Africa\", \"Africa\", \"Asia\", \"Africa\", \"Africa\", \"Africa\", \"South America\", \"South America\", \"North America\", \"North America\", \"Africa\", \"North America\", \"South America\", \"North America\", \"Africa\", \"Africa\", \"Africa\", \"Asia\", \"Africa\", \"Europe\", \"North America\", \"Africa\", \"South America\", \"North America\", \"North America\", \"Asia\", \"Asia\", \"Europe\", \"North America\", \"Asia\", \"Africa\", \"Asia\", \"Europe\", \"Asia\", \"Africa\", \"Africa\", \"Africa\", \"Africa\", \"Asia\", \"Africa\", \"Africa\", \"Africa\", \"North America\", \"Europe\", \"Asia\", \"Africa\", \"Africa\", \"Asia\", \"Africa\", \"Asia\", \"North America\", \"Africa\", \"Africa\", \"Asia\", \"North America\", \"Oceania\", \"South America\", \"South America\", \"Asia\", \"Africa\", \"Africa\", \"Africa\", \"Africa\", \"Africa\", \"Africa\", \"Europe\", \"Asia\", \"Africa\", \"South America\", \"Africa\", \"Asia\", \"Africa\", \"Asia\", \"Africa\", \"North America\", \"Africa\", \"Africa\", \"Europe\", \"South America\", \"Asia\", \"Asia\", \"Africa\", \"Africa\"], \"legendgroup\": \"\", \"name\": \"\", \"showlegend\": true, \"type\": \"pie\", \"values\": [2869.230769230769, 3946.153846153846, 161269.23076923078, 72769.23076923077, 1696.1538461538462, 17807.69230769231, 3546.153846153846, 3788.4615384615386, 1442.3076923076924, 11780.76923076923, 2038.4615384615386, 48853.846153846156, 13542.307692307691, 246846.15384615384, 532307.6923076923, 137615.38461538462, 87769.23076923077, 2976.923076923077, 80276.92307692308, 446538.46153846156, 140384.61538461538, 132115.38461538462, 19000.0, 75653.84615384616, 5073.076923076923, 6219.2307692307695, 8523.076923076924, 79576.92307692308, 23280.76923076923, 13746.153846153846, 14876.923076923076, 13696.153846153846, 34688.46153846154, 3611.5384615384614, 265384.6153846154, 10819.23076923077, 25196.153846153848, 81653.84615384616, 4484.615384615385, 196730.76923076922, 36461.53846153846, 1693461.5384615385, 228257.6923076923, 72057.69230769231, 27153.846153846152, 7496.153846153846, 1446153.8461538462, 2776.923076923077, 5542.307692307692, 1334.6153846153845, 194576.92307692306, 29973.076923076922, 34161.53846153846, 878846.1538461539, 88673.07692307692, 105961.53846153847, 11292.307692307691, 6426.923076923077, 148307.6923076923, 9261.538461538461, 188.46153846153845, 13861.538461538461, 820461.5384615385, 173153.84615384616, 145500.0, 26992.30769230769, 9073.076923076924, 51076.92307692308, 2498076.923076923, 26607.69230769231, 11953.846153846154, 24584.615384615383, 11188.461538461539, 61615.38461538462, 9369.23076923077, 194615.38461538462, 35796.153846153844, 29403.846153846152, 21684.615384615383, 4711153.846153846, 99488.46153846153, 123807.69230769231, 1400.0, 24857.69230769231, 2803.846153846154, 127700.0, 7215.384615384615, 1249230.7692307692, 517692.3076923077, 103423.07692307692, 7907.692307692308, 988.4615384615385, 1117307.6923076923, 161538.46153846153, 7088.461538461538, 28830.76923076923, 132942.3076923077, 907307.6923076923, 1367307.6923076923]}],\n",
              "                        {\"legend\": {\"tracegroupgap\": 0}, \"piecolorway\": [\"rgb(103,0,31)\", \"rgb(178,24,43)\", \"rgb(214,96,77)\", \"rgb(244,165,130)\", \"rgb(253,219,199)\", \"rgb(247,247,247)\", \"rgb(209,229,240)\", \"rgb(146,197,222)\", \"rgb(67,147,195)\", \"rgb(33,102,172)\", \"rgb(5,48,97)\"], \"template\": {\"data\": {\"bar\": [{\"error_x\": {\"color\": \"#2a3f5f\"}, \"error_y\": {\"color\": \"#2a3f5f\"}, \"marker\": {\"line\": {\"color\": \"#E5ECF6\", \"width\": 0.5}}, \"type\": \"bar\"}], \"barpolar\": [{\"marker\": {\"line\": {\"color\": \"#E5ECF6\", \"width\": 0.5}}, \"type\": \"barpolar\"}], \"carpet\": [{\"aaxis\": {\"endlinecolor\": \"#2a3f5f\", \"gridcolor\": \"white\", \"linecolor\": \"white\", \"minorgridcolor\": \"white\", \"startlinecolor\": \"#2a3f5f\"}, \"baxis\": {\"endlinecolor\": \"#2a3f5f\", \"gridcolor\": \"white\", \"linecolor\": \"white\", \"minorgridcolor\": \"white\", \"startlinecolor\": \"#2a3f5f\"}, \"type\": \"carpet\"}], \"choropleth\": [{\"colorbar\": {\"outlinewidth\": 0, \"ticks\": \"\"}, \"type\": \"choropleth\"}], \"contour\": [{\"colorbar\": {\"outlinewidth\": 0, \"ticks\": \"\"}, \"colorscale\": [[0.0, \"#0d0887\"], [0.1111111111111111, \"#46039f\"], [0.2222222222222222, \"#7201a8\"], [0.3333333333333333, \"#9c179e\"], [0.4444444444444444, \"#bd3786\"], [0.5555555555555556, \"#d8576b\"], [0.6666666666666666, \"#ed7953\"], [0.7777777777777778, \"#fb9f3a\"], [0.8888888888888888, \"#fdca26\"], [1.0, \"#f0f921\"]], \"type\": \"contour\"}], \"contourcarpet\": [{\"colorbar\": {\"outlinewidth\": 0, \"ticks\": \"\"}, \"type\": \"contourcarpet\"}], \"heatmap\": [{\"colorbar\": {\"outlinewidth\": 0, \"ticks\": \"\"}, \"colorscale\": [[0.0, \"#0d0887\"], [0.1111111111111111, \"#46039f\"], [0.2222222222222222, \"#7201a8\"], [0.3333333333333333, \"#9c179e\"], [0.4444444444444444, \"#bd3786\"], [0.5555555555555556, \"#d8576b\"], [0.6666666666666666, \"#ed7953\"], [0.7777777777777778, \"#fb9f3a\"], [0.8888888888888888, \"#fdca26\"], [1.0, \"#f0f921\"]], \"type\": \"heatmap\"}], \"heatmapgl\": [{\"colorbar\": {\"outlinewidth\": 0, \"ticks\": \"\"}, \"colorscale\": [[0.0, \"#0d0887\"], [0.1111111111111111, \"#46039f\"], [0.2222222222222222, \"#7201a8\"], [0.3333333333333333, \"#9c179e\"], [0.4444444444444444, \"#bd3786\"], [0.5555555555555556, \"#d8576b\"], [0.6666666666666666, \"#ed7953\"], [0.7777777777777778, \"#fb9f3a\"], [0.8888888888888888, \"#fdca26\"], [1.0, \"#f0f921\"]], \"type\": \"heatmapgl\"}], \"histogram\": [{\"marker\": {\"colorbar\": {\"outlinewidth\": 0, \"ticks\": \"\"}}, \"type\": \"histogram\"}], \"histogram2d\": [{\"colorbar\": {\"outlinewidth\": 0, \"ticks\": \"\"}, \"colorscale\": [[0.0, \"#0d0887\"], [0.1111111111111111, \"#46039f\"], [0.2222222222222222, \"#7201a8\"], [0.3333333333333333, \"#9c179e\"], [0.4444444444444444, \"#bd3786\"], [0.5555555555555556, \"#d8576b\"], [0.6666666666666666, \"#ed7953\"], [0.7777777777777778, \"#fb9f3a\"], [0.8888888888888888, \"#fdca26\"], [1.0, \"#f0f921\"]], \"type\": \"histogram2d\"}], \"histogram2dcontour\": [{\"colorbar\": {\"outlinewidth\": 0, \"ticks\": \"\"}, \"colorscale\": [[0.0, \"#0d0887\"], [0.1111111111111111, \"#46039f\"], [0.2222222222222222, \"#7201a8\"], [0.3333333333333333, \"#9c179e\"], [0.4444444444444444, \"#bd3786\"], [0.5555555555555556, \"#d8576b\"], [0.6666666666666666, \"#ed7953\"], [0.7777777777777778, \"#fb9f3a\"], [0.8888888888888888, \"#fdca26\"], [1.0, \"#f0f921\"]], \"type\": \"histogram2dcontour\"}], \"mesh3d\": [{\"colorbar\": {\"outlinewidth\": 0, \"ticks\": \"\"}, \"type\": \"mesh3d\"}], \"parcoords\": [{\"line\": {\"colorbar\": {\"outlinewidth\": 0, \"ticks\": \"\"}}, \"type\": \"parcoords\"}], \"pie\": [{\"automargin\": true, \"type\": \"pie\"}], \"scatter\": [{\"marker\": {\"colorbar\": {\"outlinewidth\": 0, \"ticks\": \"\"}}, \"type\": \"scatter\"}], \"scatter3d\": [{\"line\": {\"colorbar\": {\"outlinewidth\": 0, \"ticks\": \"\"}}, \"marker\": {\"colorbar\": {\"outlinewidth\": 0, \"ticks\": \"\"}}, \"type\": \"scatter3d\"}], \"scattercarpet\": [{\"marker\": {\"colorbar\": {\"outlinewidth\": 0, \"ticks\": \"\"}}, \"type\": \"scattercarpet\"}], \"scattergeo\": [{\"marker\": {\"colorbar\": {\"outlinewidth\": 0, \"ticks\": \"\"}}, \"type\": \"scattergeo\"}], \"scattergl\": [{\"marker\": {\"colorbar\": {\"outlinewidth\": 0, \"ticks\": \"\"}}, \"type\": \"scattergl\"}], \"scattermapbox\": [{\"marker\": {\"colorbar\": {\"outlinewidth\": 0, \"ticks\": \"\"}}, \"type\": \"scattermapbox\"}], \"scatterpolar\": [{\"marker\": {\"colorbar\": {\"outlinewidth\": 0, \"ticks\": \"\"}}, \"type\": \"scatterpolar\"}], \"scatterpolargl\": [{\"marker\": {\"colorbar\": {\"outlinewidth\": 0, \"ticks\": \"\"}}, \"type\": \"scatterpolargl\"}], \"scatterternary\": [{\"marker\": {\"colorbar\": {\"outlinewidth\": 0, \"ticks\": \"\"}}, \"type\": \"scatterternary\"}], \"surface\": [{\"colorbar\": {\"outlinewidth\": 0, \"ticks\": \"\"}, \"colorscale\": [[0.0, \"#0d0887\"], [0.1111111111111111, \"#46039f\"], [0.2222222222222222, \"#7201a8\"], [0.3333333333333333, \"#9c179e\"], [0.4444444444444444, \"#bd3786\"], [0.5555555555555556, \"#d8576b\"], [0.6666666666666666, \"#ed7953\"], [0.7777777777777778, \"#fb9f3a\"], [0.8888888888888888, \"#fdca26\"], [1.0, \"#f0f921\"]], \"type\": \"surface\"}], \"table\": [{\"cells\": {\"fill\": {\"color\": \"#EBF0F8\"}, \"line\": {\"color\": \"white\"}}, \"header\": {\"fill\": {\"color\": \"#C8D4E3\"}, \"line\": {\"color\": \"white\"}}, \"type\": \"table\"}]}, \"layout\": {\"annotationdefaults\": {\"arrowcolor\": \"#2a3f5f\", \"arrowhead\": 0, \"arrowwidth\": 1}, \"coloraxis\": {\"colorbar\": {\"outlinewidth\": 0, \"ticks\": \"\"}}, \"colorscale\": {\"diverging\": [[0, \"#8e0152\"], [0.1, \"#c51b7d\"], [0.2, \"#de77ae\"], [0.3, \"#f1b6da\"], [0.4, \"#fde0ef\"], [0.5, \"#f7f7f7\"], [0.6, \"#e6f5d0\"], [0.7, \"#b8e186\"], [0.8, \"#7fbc41\"], [0.9, \"#4d9221\"], [1, \"#276419\"]], \"sequential\": [[0.0, \"#0d0887\"], [0.1111111111111111, \"#46039f\"], [0.2222222222222222, \"#7201a8\"], [0.3333333333333333, \"#9c179e\"], [0.4444444444444444, \"#bd3786\"], [0.5555555555555556, \"#d8576b\"], [0.6666666666666666, \"#ed7953\"], [0.7777777777777778, \"#fb9f3a\"], [0.8888888888888888, \"#fdca26\"], [1.0, \"#f0f921\"]], \"sequentialminus\": [[0.0, \"#0d0887\"], [0.1111111111111111, \"#46039f\"], [0.2222222222222222, \"#7201a8\"], [0.3333333333333333, \"#9c179e\"], [0.4444444444444444, \"#bd3786\"], [0.5555555555555556, \"#d8576b\"], [0.6666666666666666, \"#ed7953\"], [0.7777777777777778, \"#fb9f3a\"], [0.8888888888888888, \"#fdca26\"], [1.0, \"#f0f921\"]]}, \"colorway\": [\"#636efa\", \"#EF553B\", \"#00cc96\", \"#ab63fa\", \"#FFA15A\", \"#19d3f3\", \"#FF6692\", \"#B6E880\", \"#FF97FF\", \"#FECB52\"], \"font\": {\"color\": \"#2a3f5f\"}, \"geo\": {\"bgcolor\": \"white\", \"lakecolor\": \"white\", \"landcolor\": \"#E5ECF6\", \"showlakes\": true, \"showland\": true, \"subunitcolor\": \"white\"}, \"hoverlabel\": {\"align\": \"left\"}, \"hovermode\": \"closest\", \"mapbox\": {\"style\": \"light\"}, \"paper_bgcolor\": \"white\", \"plot_bgcolor\": \"#E5ECF6\", \"polar\": {\"angularaxis\": {\"gridcolor\": \"white\", \"linecolor\": \"white\", \"ticks\": \"\"}, \"bgcolor\": \"#E5ECF6\", \"radialaxis\": {\"gridcolor\": \"white\", \"linecolor\": \"white\", \"ticks\": \"\"}}, \"scene\": {\"xaxis\": {\"backgroundcolor\": \"#E5ECF6\", \"gridcolor\": \"white\", \"gridwidth\": 2, \"linecolor\": \"white\", \"showbackground\": true, \"ticks\": \"\", \"zerolinecolor\": \"white\"}, \"yaxis\": {\"backgroundcolor\": \"#E5ECF6\", \"gridcolor\": \"white\", \"gridwidth\": 2, \"linecolor\": \"white\", \"showbackground\": true, \"ticks\": \"\", \"zerolinecolor\": \"white\"}, \"zaxis\": {\"backgroundcolor\": \"#E5ECF6\", \"gridcolor\": \"white\", \"gridwidth\": 2, \"linecolor\": \"white\", \"showbackground\": true, \"ticks\": \"\", \"zerolinecolor\": \"white\"}}, \"shapedefaults\": {\"line\": {\"color\": \"#2a3f5f\"}}, \"ternary\": {\"aaxis\": {\"gridcolor\": \"white\", \"linecolor\": \"white\", \"ticks\": \"\"}, \"baxis\": {\"gridcolor\": \"white\", \"linecolor\": \"white\", \"ticks\": \"\"}, \"bgcolor\": \"#E5ECF6\", \"caxis\": {\"gridcolor\": \"white\", \"linecolor\": \"white\", \"ticks\": \"\"}}, \"title\": {\"x\": 0.05}, \"xaxis\": {\"automargin\": true, \"gridcolor\": \"white\", \"linecolor\": \"white\", \"ticks\": \"\", \"title\": {\"standoff\": 15}, \"zerolinecolor\": \"white\", \"zerolinewidth\": 2}, \"yaxis\": {\"automargin\": true, \"gridcolor\": \"white\", \"linecolor\": \"white\", \"ticks\": \"\", \"title\": {\"standoff\": 15}, \"zerolinecolor\": \"white\", \"zerolinewidth\": 2}}}, \"title\": {\"text\": \"Average Total HIV Percentage for Different Continents\"}},\n",
              "                        {\"responsive\": true}\n",
              "                    ).then(function(){\n",
              "                            \n",
              "var gd = document.getElementById('69c4f4dc-c13b-4ef7-9d97-2b51ccd2d1fa');\n",
              "var x = new MutationObserver(function (mutations, observer) {{\n",
              "        var display = window.getComputedStyle(gd).display;\n",
              "        if (!display || display === 'none') {{\n",
              "            console.log([gd, 'removed!']);\n",
              "            Plotly.purge(gd);\n",
              "            observer.disconnect();\n",
              "        }}\n",
              "}});\n",
              "\n",
              "// Listen for the removal of the full notebook cells\n",
              "var notebookContainer = gd.closest('#notebook-container');\n",
              "if (notebookContainer) {{\n",
              "    x.observe(notebookContainer, {childList: true});\n",
              "}}\n",
              "\n",
              "// Listen for the clearing of the current output cell\n",
              "var outputEl = gd.closest('.output');\n",
              "if (outputEl) {{\n",
              "    x.observe(outputEl, {childList: true});\n",
              "}}\n",
              "\n",
              "                        })\n",
              "                };\n",
              "                \n",
              "            </script>\n",
              "        </div>\n",
              "</body>\n",
              "</html>"
            ]
          },
          "metadata": {}
        }
      ],
      "source": [
        "px.pie(total_HIV_df, values='mean', names='Continent Name',\n",
        "       title='Average Total HIV Percentage for Different Continents',\n",
        "       color_discrete_sequence=px.colors.sequential.RdBu)"
      ]
    },
    {
      "cell_type": "markdown",
      "metadata": {
        "id": "vW-RLZn-jSrF"
      },
      "source": [
        "#### Data Point Distribution By Country\n",
        "**Motivation:** In the dataset, there is geographic information. We are curious about the average distribution of HIV counts around the world from 1990 to 2015."
      ]
    },
    {
      "cell_type": "code",
      "execution_count": null,
      "metadata": {
        "colab": {
          "base_uri": "https://localhost:8080/",
          "height": 542
        },
        "id": "oGM38Qc7pP1X",
        "outputId": "ed28bab6-0405-4968-a68d-98d58e3b9fab"
      },
      "outputs": [
        {
          "output_type": "display_data",
          "data": {
            "text/html": [
              "<html>\n",
              "<head><meta charset=\"utf-8\" /></head>\n",
              "<body>\n",
              "    <div>\n",
              "            <script src=\"https://cdnjs.cloudflare.com/ajax/libs/mathjax/2.7.5/MathJax.js?config=TeX-AMS-MML_SVG\"></script><script type=\"text/javascript\">if (window.MathJax) {MathJax.Hub.Config({SVG: {font: \"STIX-Web\"}});}</script>\n",
              "                <script type=\"text/javascript\">window.PlotlyConfig = {MathJaxConfig: 'local'};</script>\n",
              "        <script src=\"https://cdn.plot.ly/plotly-latest.min.js\"></script>    \n",
              "            <div id=\"b4b105d5-0870-4ced-9abd-d7f53f1dce1a\" class=\"plotly-graph-div\" style=\"height:525px; width:100%;\"></div>\n",
              "            <script type=\"text/javascript\">\n",
              "                \n",
              "                    window.PLOTLYENV=window.PLOTLYENV || {};\n",
              "                    \n",
              "                if (document.getElementById(\"b4b105d5-0870-4ced-9abd-d7f53f1dce1a\")) {\n",
              "                    Plotly.newPlot(\n",
              "                        'b4b105d5-0870-4ced-9abd-d7f53f1dce1a',\n",
              "                        [{\"geo\": \"geo\", \"hoverlabel\": {\"namelength\": 0}, \"hovertemplate\": \"<b>%{hovertext}</b><br><br>Country Name=Afghanistan<br>mean=%{marker.size}<br>Country Code=%{location}\", \"hovertext\": [\"Afghanistan\"], \"legendgroup\": \"Country Name=Afghanistan\", \"locations\": [\"AFG\"], \"marker\": {\"color\": \"#636efa\", \"size\": [2869.230769230769], \"sizemode\": \"area\", \"sizeref\": 11777.884615384615}, \"name\": \"Country Name=Afghanistan\", \"showlegend\": true, \"type\": \"scattergeo\"}, {\"geo\": \"geo\", \"hoverlabel\": {\"namelength\": 0}, \"hovertemplate\": \"<b>%{hovertext}</b><br><br>Country Name=Algeria<br>mean=%{marker.size}<br>Country Code=%{location}\", \"hovertext\": [\"Algeria\"], \"legendgroup\": \"Country Name=Algeria\", \"locations\": [\"DZA\"], \"marker\": {\"color\": \"#EF553B\", \"size\": [3946.153846153846], \"sizemode\": \"area\", \"sizeref\": 11777.884615384615}, \"name\": \"Country Name=Algeria\", \"showlegend\": true, \"type\": \"scattergeo\"}, {\"geo\": \"geo\", \"hoverlabel\": {\"namelength\": 0}, \"hovertemplate\": \"<b>%{hovertext}</b><br><br>Country Name=Angola<br>mean=%{marker.size}<br>Country Code=%{location}\", \"hovertext\": [\"Angola\"], \"legendgroup\": \"Country Name=Angola\", \"locations\": [\"AGO\"], \"marker\": {\"color\": \"#00cc96\", \"size\": [161269.23076923078], \"sizemode\": \"area\", \"sizeref\": 11777.884615384615}, \"name\": \"Country Name=Angola\", \"showlegend\": true, \"type\": \"scattergeo\"}, {\"geo\": \"geo\", \"hoverlabel\": {\"namelength\": 0}, \"hovertemplate\": \"<b>%{hovertext}</b><br><br>Country Name=Argentina<br>mean=%{marker.size}<br>Country Code=%{location}\", \"hovertext\": [\"Argentina\"], \"legendgroup\": \"Country Name=Argentina\", \"locations\": [\"ARG\"], \"marker\": {\"color\": \"#ab63fa\", \"size\": [72769.23076923077], \"sizemode\": \"area\", \"sizeref\": 11777.884615384615}, \"name\": \"Country Name=Argentina\", \"showlegend\": true, \"type\": \"scattergeo\"}, {\"geo\": \"geo\", \"hoverlabel\": {\"namelength\": 0}, \"hovertemplate\": \"<b>%{hovertext}</b><br><br>Country Name=Armenia<br>mean=%{marker.size}<br>Country Code=%{location}\", \"hovertext\": [\"Armenia\"], \"legendgroup\": \"Country Name=Armenia\", \"locations\": [\"ARM\"], \"marker\": {\"color\": \"#FFA15A\", \"size\": [1696.1538461538462], \"sizemode\": \"area\", \"sizeref\": 11777.884615384615}, \"name\": \"Country Name=Armenia\", \"showlegend\": true, \"type\": \"scattergeo\"}, {\"geo\": \"geo\", \"hoverlabel\": {\"namelength\": 0}, \"hovertemplate\": \"<b>%{hovertext}</b><br><br>Country Name=Australia<br>mean=%{marker.size}<br>Country Code=%{location}\", \"hovertext\": [\"Australia\"], \"legendgroup\": \"Country Name=Australia\", \"locations\": [\"AUS\"], \"marker\": {\"color\": \"#19d3f3\", \"size\": [17807.69230769231], \"sizemode\": \"area\", \"sizeref\": 11777.884615384615}, \"name\": \"Country Name=Australia\", \"showlegend\": true, \"type\": \"scattergeo\"}, {\"geo\": \"geo\", \"hoverlabel\": {\"namelength\": 0}, \"hovertemplate\": \"<b>%{hovertext}</b><br><br>Country Name=Azerbaijan<br>mean=%{marker.size}<br>Country Code=%{location}\", \"hovertext\": [\"Azerbaijan\"], \"legendgroup\": \"Country Name=Azerbaijan\", \"locations\": [\"AZE\"], \"marker\": {\"color\": \"#FF6692\", \"size\": [3546.153846153846], \"sizemode\": \"area\", \"sizeref\": 11777.884615384615}, \"name\": \"Country Name=Azerbaijan\", \"showlegend\": true, \"type\": \"scattergeo\"}, {\"geo\": \"geo\", \"hoverlabel\": {\"namelength\": 0}, \"hovertemplate\": \"<b>%{hovertext}</b><br><br>Country Name=Bangladesh<br>mean=%{marker.size}<br>Country Code=%{location}\", \"hovertext\": [\"Bangladesh\"], \"legendgroup\": \"Country Name=Bangladesh\", \"locations\": [\"BGD\"], \"marker\": {\"color\": \"#B6E880\", \"size\": [3788.4615384615386], \"sizemode\": \"area\", \"sizeref\": 11777.884615384615}, \"name\": \"Country Name=Bangladesh\", \"showlegend\": true, \"type\": \"scattergeo\"}, {\"geo\": \"geo\", \"hoverlabel\": {\"namelength\": 0}, \"hovertemplate\": \"<b>%{hovertext}</b><br><br>Country Name=Barbados<br>mean=%{marker.size}<br>Country Code=%{location}\", \"hovertext\": [\"Barbados\"], \"legendgroup\": \"Country Name=Barbados\", \"locations\": [\"BRB\"], \"marker\": {\"color\": \"#FF97FF\", \"size\": [1442.3076923076924], \"sizemode\": \"area\", \"sizeref\": 11777.884615384615}, \"name\": \"Country Name=Barbados\", \"showlegend\": true, \"type\": \"scattergeo\"}, {\"geo\": \"geo\", \"hoverlabel\": {\"namelength\": 0}, \"hovertemplate\": \"<b>%{hovertext}</b><br><br>Country Name=Belarus<br>mean=%{marker.size}<br>Country Code=%{location}\", \"hovertext\": [\"Belarus\"], \"legendgroup\": \"Country Name=Belarus\", \"locations\": [\"BLR\"], \"marker\": {\"color\": \"#FECB52\", \"size\": [11780.76923076923], \"sizemode\": \"area\", \"sizeref\": 11777.884615384615}, \"name\": \"Country Name=Belarus\", \"showlegend\": true, \"type\": \"scattergeo\"}, {\"geo\": \"geo\", \"hoverlabel\": {\"namelength\": 0}, \"hovertemplate\": \"<b>%{hovertext}</b><br><br>Country Name=Belize<br>mean=%{marker.size}<br>Country Code=%{location}\", \"hovertext\": [\"Belize\"], \"legendgroup\": \"Country Name=Belize\", \"locations\": [\"BLZ\"], \"marker\": {\"color\": \"#636efa\", \"size\": [2038.4615384615386], \"sizemode\": \"area\", \"sizeref\": 11777.884615384615}, \"name\": \"Country Name=Belize\", \"showlegend\": true, \"type\": \"scattergeo\"}, {\"geo\": \"geo\", \"hoverlabel\": {\"namelength\": 0}, \"hovertemplate\": \"<b>%{hovertext}</b><br><br>Country Name=Benin<br>mean=%{marker.size}<br>Country Code=%{location}\", \"hovertext\": [\"Benin\"], \"legendgroup\": \"Country Name=Benin\", \"locations\": [\"BEN\"], \"marker\": {\"color\": \"#EF553B\", \"size\": [48853.846153846156], \"sizemode\": \"area\", \"sizeref\": 11777.884615384615}, \"name\": \"Country Name=Benin\", \"showlegend\": true, \"type\": \"scattergeo\"}, {\"geo\": \"geo\", \"hoverlabel\": {\"namelength\": 0}, \"hovertemplate\": \"<b>%{hovertext}</b><br><br>Country Name=Bolivia<br>mean=%{marker.size}<br>Country Code=%{location}\", \"hovertext\": [\"Bolivia\"], \"legendgroup\": \"Country Name=Bolivia\", \"locations\": [\"BOL\"], \"marker\": {\"color\": \"#00cc96\", \"size\": [13542.307692307691], \"sizemode\": \"area\", \"sizeref\": 11777.884615384615}, \"name\": \"Country Name=Bolivia\", \"showlegend\": true, \"type\": \"scattergeo\"}, {\"geo\": \"geo\", \"hoverlabel\": {\"namelength\": 0}, \"hovertemplate\": \"<b>%{hovertext}</b><br><br>Country Name=Botswana<br>mean=%{marker.size}<br>Country Code=%{location}\", \"hovertext\": [\"Botswana\"], \"legendgroup\": \"Country Name=Botswana\", \"locations\": [\"BWA\"], \"marker\": {\"color\": \"#ab63fa\", \"size\": [246846.15384615384], \"sizemode\": \"area\", \"sizeref\": 11777.884615384615}, \"name\": \"Country Name=Botswana\", \"showlegend\": true, \"type\": \"scattergeo\"}, {\"geo\": \"geo\", \"hoverlabel\": {\"namelength\": 0}, \"hovertemplate\": \"<b>%{hovertext}</b><br><br>Country Name=Brazil<br>mean=%{marker.size}<br>Country Code=%{location}\", \"hovertext\": [\"Brazil\"], \"legendgroup\": \"Country Name=Brazil\", \"locations\": [\"BRA\"], \"marker\": {\"color\": \"#FFA15A\", \"size\": [532307.6923076923], \"sizemode\": \"area\", \"sizeref\": 11777.884615384615}, \"name\": \"Country Name=Brazil\", \"showlegend\": true, \"type\": \"scattergeo\"}, {\"geo\": \"geo\", \"hoverlabel\": {\"namelength\": 0}, \"hovertemplate\": \"<b>%{hovertext}</b><br><br>Country Name=Burkina Faso<br>mean=%{marker.size}<br>Country Code=%{location}\", \"hovertext\": [\"Burkina Faso\"], \"legendgroup\": \"Country Name=Burkina Faso\", \"locations\": [\"BFA\"], \"marker\": {\"color\": \"#19d3f3\", \"size\": [137615.38461538462], \"sizemode\": \"area\", \"sizeref\": 11777.884615384615}, \"name\": \"Country Name=Burkina Faso\", \"showlegend\": true, \"type\": \"scattergeo\"}, {\"geo\": \"geo\", \"hoverlabel\": {\"namelength\": 0}, \"hovertemplate\": \"<b>%{hovertext}</b><br><br>Country Name=Burundi<br>mean=%{marker.size}<br>Country Code=%{location}\", \"hovertext\": [\"Burundi\"], \"legendgroup\": \"Country Name=Burundi\", \"locations\": [\"BDI\"], \"marker\": {\"color\": \"#FF6692\", \"size\": [87769.23076923077], \"sizemode\": \"area\", \"sizeref\": 11777.884615384615}, \"name\": \"Country Name=Burundi\", \"showlegend\": true, \"type\": \"scattergeo\"}, {\"geo\": \"geo\", \"hoverlabel\": {\"namelength\": 0}, \"hovertemplate\": \"<b>%{hovertext}</b><br><br>Country Name=Cabo Verde<br>mean=%{marker.size}<br>Country Code=%{location}\", \"hovertext\": [\"Cabo Verde\"], \"legendgroup\": \"Country Name=Cabo Verde\", \"locations\": [\"CPV\"], \"marker\": {\"color\": \"#B6E880\", \"size\": [2976.923076923077], \"sizemode\": \"area\", \"sizeref\": 11777.884615384615}, \"name\": \"Country Name=Cabo Verde\", \"showlegend\": true, \"type\": \"scattergeo\"}, {\"geo\": \"geo\", \"hoverlabel\": {\"namelength\": 0}, \"hovertemplate\": \"<b>%{hovertext}</b><br><br>Country Name=Cambodia<br>mean=%{marker.size}<br>Country Code=%{location}\", \"hovertext\": [\"Cambodia\"], \"legendgroup\": \"Country Name=Cambodia\", \"locations\": [\"KHM\"], \"marker\": {\"color\": \"#FF97FF\", \"size\": [80276.92307692308], \"sizemode\": \"area\", \"sizeref\": 11777.884615384615}, \"name\": \"Country Name=Cambodia\", \"showlegend\": true, \"type\": \"scattergeo\"}, {\"geo\": \"geo\", \"hoverlabel\": {\"namelength\": 0}, \"hovertemplate\": \"<b>%{hovertext}</b><br><br>Country Name=Cameroon<br>mean=%{marker.size}<br>Country Code=%{location}\", \"hovertext\": [\"Cameroon\"], \"legendgroup\": \"Country Name=Cameroon\", \"locations\": [\"CMR\"], \"marker\": {\"color\": \"#FECB52\", \"size\": [446538.46153846156], \"sizemode\": \"area\", \"sizeref\": 11777.884615384615}, \"name\": \"Country Name=Cameroon\", \"showlegend\": true, \"type\": \"scattergeo\"}, {\"geo\": \"geo\", \"hoverlabel\": {\"namelength\": 0}, \"hovertemplate\": \"<b>%{hovertext}</b><br><br>Country Name=Central African Republic<br>mean=%{marker.size}<br>Country Code=%{location}\", \"hovertext\": [\"Central African Republic\"], \"legendgroup\": \"Country Name=Central African Republic\", \"locations\": [\"CAF\"], \"marker\": {\"color\": \"#636efa\", \"size\": [140384.61538461538], \"sizemode\": \"area\", \"sizeref\": 11777.884615384615}, \"name\": \"Country Name=Central African Republic\", \"showlegend\": true, \"type\": \"scattergeo\"}, {\"geo\": \"geo\", \"hoverlabel\": {\"namelength\": 0}, \"hovertemplate\": \"<b>%{hovertext}</b><br><br>Country Name=Chad<br>mean=%{marker.size}<br>Country Code=%{location}\", \"hovertext\": [\"Chad\"], \"legendgroup\": \"Country Name=Chad\", \"locations\": [\"TCD\"], \"marker\": {\"color\": \"#EF553B\", \"size\": [132115.38461538462], \"sizemode\": \"area\", \"sizeref\": 11777.884615384615}, \"name\": \"Country Name=Chad\", \"showlegend\": true, \"type\": \"scattergeo\"}, {\"geo\": \"geo\", \"hoverlabel\": {\"namelength\": 0}, \"hovertemplate\": \"<b>%{hovertext}</b><br><br>Country Name=Chile<br>mean=%{marker.size}<br>Country Code=%{location}\", \"hovertext\": [\"Chile\"], \"legendgroup\": \"Country Name=Chile\", \"locations\": [\"CHL\"], \"marker\": {\"color\": \"#00cc96\", \"size\": [19000.0], \"sizemode\": \"area\", \"sizeref\": 11777.884615384615}, \"name\": \"Country Name=Chile\", \"showlegend\": true, \"type\": \"scattergeo\"}, {\"geo\": \"geo\", \"hoverlabel\": {\"namelength\": 0}, \"hovertemplate\": \"<b>%{hovertext}</b><br><br>Country Name=Colombia<br>mean=%{marker.size}<br>Country Code=%{location}\", \"hovertext\": [\"Colombia\"], \"legendgroup\": \"Country Name=Colombia\", \"locations\": [\"COL\"], \"marker\": {\"color\": \"#ab63fa\", \"size\": [75653.84615384616], \"sizemode\": \"area\", \"sizeref\": 11777.884615384615}, \"name\": \"Country Name=Colombia\", \"showlegend\": true, \"type\": \"scattergeo\"}, {\"geo\": \"geo\", \"hoverlabel\": {\"namelength\": 0}, \"hovertemplate\": \"<b>%{hovertext}</b><br><br>Country Name=Costa Rica<br>mean=%{marker.size}<br>Country Code=%{location}\", \"hovertext\": [\"Costa Rica\"], \"legendgroup\": \"Country Name=Costa Rica\", \"locations\": [\"CRI\"], \"marker\": {\"color\": \"#FFA15A\", \"size\": [5073.076923076923], \"sizemode\": \"area\", \"sizeref\": 11777.884615384615}, \"name\": \"Country Name=Costa Rica\", \"showlegend\": true, \"type\": \"scattergeo\"}, {\"geo\": \"geo\", \"hoverlabel\": {\"namelength\": 0}, \"hovertemplate\": \"<b>%{hovertext}</b><br><br>Country Name=Cuba<br>mean=%{marker.size}<br>Country Code=%{location}\", \"hovertext\": [\"Cuba\"], \"legendgroup\": \"Country Name=Cuba\", \"locations\": [\"CUB\"], \"marker\": {\"color\": \"#19d3f3\", \"size\": [6219.2307692307695], \"sizemode\": \"area\", \"sizeref\": 11777.884615384615}, \"name\": \"Country Name=Cuba\", \"showlegend\": true, \"type\": \"scattergeo\"}, {\"geo\": \"geo\", \"hoverlabel\": {\"namelength\": 0}, \"hovertemplate\": \"<b>%{hovertext}</b><br><br>Country Name=Djibouti<br>mean=%{marker.size}<br>Country Code=%{location}\", \"hovertext\": [\"Djibouti\"], \"legendgroup\": \"Country Name=Djibouti\", \"locations\": [\"DJI\"], \"marker\": {\"color\": \"#FF6692\", \"size\": [8523.076923076924], \"sizemode\": \"area\", \"sizeref\": 11777.884615384615}, \"name\": \"Country Name=Djibouti\", \"showlegend\": true, \"type\": \"scattergeo\"}, {\"geo\": \"geo\", \"hoverlabel\": {\"namelength\": 0}, \"hovertemplate\": \"<b>%{hovertext}</b><br><br>Country Name=Dominican Republic<br>mean=%{marker.size}<br>Country Code=%{location}\", \"hovertext\": [\"Dominican Republic\"], \"legendgroup\": \"Country Name=Dominican Republic\", \"locations\": [\"DOM\"], \"marker\": {\"color\": \"#B6E880\", \"size\": [79576.92307692308], \"sizemode\": \"area\", \"sizeref\": 11777.884615384615}, \"name\": \"Country Name=Dominican Republic\", \"showlegend\": true, \"type\": \"scattergeo\"}, {\"geo\": \"geo\", \"hoverlabel\": {\"namelength\": 0}, \"hovertemplate\": \"<b>%{hovertext}</b><br><br>Country Name=Ecuador<br>mean=%{marker.size}<br>Country Code=%{location}\", \"hovertext\": [\"Ecuador\"], \"legendgroup\": \"Country Name=Ecuador\", \"locations\": [\"ECU\"], \"marker\": {\"color\": \"#FF97FF\", \"size\": [23280.76923076923], \"sizemode\": \"area\", \"sizeref\": 11777.884615384615}, \"name\": \"Country Name=Ecuador\", \"showlegend\": true, \"type\": \"scattergeo\"}, {\"geo\": \"geo\", \"hoverlabel\": {\"namelength\": 0}, \"hovertemplate\": \"<b>%{hovertext}</b><br><br>Country Name=El Salvador<br>mean=%{marker.size}<br>Country Code=%{location}\", \"hovertext\": [\"El Salvador\"], \"legendgroup\": \"Country Name=El Salvador\", \"locations\": [\"SLV\"], \"marker\": {\"color\": \"#FECB52\", \"size\": [13746.153846153846], \"sizemode\": \"area\", \"sizeref\": 11777.884615384615}, \"name\": \"Country Name=El Salvador\", \"showlegend\": true, \"type\": \"scattergeo\"}, {\"geo\": \"geo\", \"hoverlabel\": {\"namelength\": 0}, \"hovertemplate\": \"<b>%{hovertext}</b><br><br>Country Name=Equatorial Guinea<br>mean=%{marker.size}<br>Country Code=%{location}\", \"hovertext\": [\"Equatorial Guinea\"], \"legendgroup\": \"Country Name=Equatorial Guinea\", \"locations\": [\"GNQ\"], \"marker\": {\"color\": \"#636efa\", \"size\": [14876.923076923076], \"sizemode\": \"area\", \"sizeref\": 11777.884615384615}, \"name\": \"Country Name=Equatorial Guinea\", \"showlegend\": true, \"type\": \"scattergeo\"}, {\"geo\": \"geo\", \"hoverlabel\": {\"namelength\": 0}, \"hovertemplate\": \"<b>%{hovertext}</b><br><br>Country Name=Eritrea<br>mean=%{marker.size}<br>Country Code=%{location}\", \"hovertext\": [\"Eritrea\"], \"legendgroup\": \"Country Name=Eritrea\", \"locations\": [\"ERI\"], \"marker\": {\"color\": \"#EF553B\", \"size\": [13696.153846153846], \"sizemode\": \"area\", \"sizeref\": 11777.884615384615}, \"name\": \"Country Name=Eritrea\", \"showlegend\": true, \"type\": \"scattergeo\"}, {\"geo\": \"geo\", \"hoverlabel\": {\"namelength\": 0}, \"hovertemplate\": \"<b>%{hovertext}</b><br><br>Country Name=Gabon<br>mean=%{marker.size}<br>Country Code=%{location}\", \"hovertext\": [\"Gabon\"], \"legendgroup\": \"Country Name=Gabon\", \"locations\": [\"GAB\"], \"marker\": {\"color\": \"#00cc96\", \"size\": [34688.46153846154], \"sizemode\": \"area\", \"sizeref\": 11777.884615384615}, \"name\": \"Country Name=Gabon\", \"showlegend\": true, \"type\": \"scattergeo\"}, {\"geo\": \"geo\", \"hoverlabel\": {\"namelength\": 0}, \"hovertemplate\": \"<b>%{hovertext}</b><br><br>Country Name=Georgia<br>mean=%{marker.size}<br>Country Code=%{location}\", \"hovertext\": [\"Georgia\"], \"legendgroup\": \"Country Name=Georgia\", \"locations\": [\"GEO\"], \"marker\": {\"color\": \"#ab63fa\", \"size\": [3611.5384615384614], \"sizemode\": \"area\", \"sizeref\": 11777.884615384615}, \"name\": \"Country Name=Georgia\", \"showlegend\": true, \"type\": \"scattergeo\"}, {\"geo\": \"geo\", \"hoverlabel\": {\"namelength\": 0}, \"hovertemplate\": \"<b>%{hovertext}</b><br><br>Country Name=Ghana<br>mean=%{marker.size}<br>Country Code=%{location}\", \"hovertext\": [\"Ghana\"], \"legendgroup\": \"Country Name=Ghana\", \"locations\": [\"GHA\"], \"marker\": {\"color\": \"#FFA15A\", \"size\": [265384.6153846154], \"sizemode\": \"area\", \"sizeref\": 11777.884615384615}, \"name\": \"Country Name=Ghana\", \"showlegend\": true, \"type\": \"scattergeo\"}, {\"geo\": \"geo\", \"hoverlabel\": {\"namelength\": 0}, \"hovertemplate\": \"<b>%{hovertext}</b><br><br>Country Name=Greece<br>mean=%{marker.size}<br>Country Code=%{location}\", \"hovertext\": [\"Greece\"], \"legendgroup\": \"Country Name=Greece\", \"locations\": [\"GRC\"], \"marker\": {\"color\": \"#19d3f3\", \"size\": [10819.23076923077], \"sizemode\": \"area\", \"sizeref\": 11777.884615384615}, \"name\": \"Country Name=Greece\", \"showlegend\": true, \"type\": \"scattergeo\"}, {\"geo\": \"geo\", \"hoverlabel\": {\"namelength\": 0}, \"hovertemplate\": \"<b>%{hovertext}</b><br><br>Country Name=Guatemala<br>mean=%{marker.size}<br>Country Code=%{location}\", \"hovertext\": [\"Guatemala\"], \"legendgroup\": \"Country Name=Guatemala\", \"locations\": [\"GTM\"], \"marker\": {\"color\": \"#FF6692\", \"size\": [25196.153846153848], \"sizemode\": \"area\", \"sizeref\": 11777.884615384615}, \"name\": \"Country Name=Guatemala\", \"showlegend\": true, \"type\": \"scattergeo\"}, {\"geo\": \"geo\", \"hoverlabel\": {\"namelength\": 0}, \"hovertemplate\": \"<b>%{hovertext}</b><br><br>Country Name=Guinea<br>mean=%{marker.size}<br>Country Code=%{location}\", \"hovertext\": [\"Guinea\"], \"legendgroup\": \"Country Name=Guinea\", \"locations\": [\"GIN\"], \"marker\": {\"color\": \"#B6E880\", \"size\": [81653.84615384616], \"sizemode\": \"area\", \"sizeref\": 11777.884615384615}, \"name\": \"Country Name=Guinea\", \"showlegend\": true, \"type\": \"scattergeo\"}, {\"geo\": \"geo\", \"hoverlabel\": {\"namelength\": 0}, \"hovertemplate\": \"<b>%{hovertext}</b><br><br>Country Name=Guyana<br>mean=%{marker.size}<br>Country Code=%{location}\", \"hovertext\": [\"Guyana\"], \"legendgroup\": \"Country Name=Guyana\", \"locations\": [\"GUY\"], \"marker\": {\"color\": \"#FF97FF\", \"size\": [4484.615384615385], \"sizemode\": \"area\", \"sizeref\": 11777.884615384615}, \"name\": \"Country Name=Guyana\", \"showlegend\": true, \"type\": \"scattergeo\"}, {\"geo\": \"geo\", \"hoverlabel\": {\"namelength\": 0}, \"hovertemplate\": \"<b>%{hovertext}</b><br><br>Country Name=Haiti<br>mean=%{marker.size}<br>Country Code=%{location}\", \"hovertext\": [\"Haiti\"], \"legendgroup\": \"Country Name=Haiti\", \"locations\": [\"HTI\"], \"marker\": {\"color\": \"#FECB52\", \"size\": [196730.76923076922], \"sizemode\": \"area\", \"sizeref\": 11777.884615384615}, \"name\": \"Country Name=Haiti\", \"showlegend\": true, \"type\": \"scattergeo\"}, {\"geo\": \"geo\", \"hoverlabel\": {\"namelength\": 0}, \"hovertemplate\": \"<b>%{hovertext}</b><br><br>Country Name=Honduras<br>mean=%{marker.size}<br>Country Code=%{location}\", \"hovertext\": [\"Honduras\"], \"legendgroup\": \"Country Name=Honduras\", \"locations\": [\"HND\"], \"marker\": {\"color\": \"#636efa\", \"size\": [36461.53846153846], \"sizemode\": \"area\", \"sizeref\": 11777.884615384615}, \"name\": \"Country Name=Honduras\", \"showlegend\": true, \"type\": \"scattergeo\"}, {\"geo\": \"geo\", \"hoverlabel\": {\"namelength\": 0}, \"hovertemplate\": \"<b>%{hovertext}</b><br><br>Country Name=India<br>mean=%{marker.size}<br>Country Code=%{location}\", \"hovertext\": [\"India\"], \"legendgroup\": \"Country Name=India\", \"locations\": [\"IND\"], \"marker\": {\"color\": \"#EF553B\", \"size\": [1693461.5384615385], \"sizemode\": \"area\", \"sizeref\": 11777.884615384615}, \"name\": \"Country Name=India\", \"showlegend\": true, \"type\": \"scattergeo\"}, {\"geo\": \"geo\", \"hoverlabel\": {\"namelength\": 0}, \"hovertemplate\": \"<b>%{hovertext}</b><br><br>Country Name=Indonesia<br>mean=%{marker.size}<br>Country Code=%{location}\", \"hovertext\": [\"Indonesia\"], \"legendgroup\": \"Country Name=Indonesia\", \"locations\": [\"IDN\"], \"marker\": {\"color\": \"#00cc96\", \"size\": [228257.6923076923], \"sizemode\": \"area\", \"sizeref\": 11777.884615384615}, \"name\": \"Country Name=Indonesia\", \"showlegend\": true, \"type\": \"scattergeo\"}, {\"geo\": \"geo\", \"hoverlabel\": {\"namelength\": 0}, \"hovertemplate\": \"<b>%{hovertext}</b><br><br>Country Name=Italy<br>mean=%{marker.size}<br>Country Code=%{location}\", \"hovertext\": [\"Italy\"], \"legendgroup\": \"Country Name=Italy\", \"locations\": [\"ITA\"], \"marker\": {\"color\": \"#ab63fa\", \"size\": [72057.69230769231], \"sizemode\": \"area\", \"sizeref\": 11777.884615384615}, \"name\": \"Country Name=Italy\", \"showlegend\": true, \"type\": \"scattergeo\"}, {\"geo\": \"geo\", \"hoverlabel\": {\"namelength\": 0}, \"hovertemplate\": \"<b>%{hovertext}</b><br><br>Country Name=Jamaica<br>mean=%{marker.size}<br>Country Code=%{location}\", \"hovertext\": [\"Jamaica\"], \"legendgroup\": \"Country Name=Jamaica\", \"locations\": [\"JAM\"], \"marker\": {\"color\": \"#FFA15A\", \"size\": [27153.846153846152], \"sizemode\": \"area\", \"sizeref\": 11777.884615384615}, \"name\": \"Country Name=Jamaica\", \"showlegend\": true, \"type\": \"scattergeo\"}, {\"geo\": \"geo\", \"hoverlabel\": {\"namelength\": 0}, \"hovertemplate\": \"<b>%{hovertext}</b><br><br>Country Name=Kazakhstan<br>mean=%{marker.size}<br>Country Code=%{location}\", \"hovertext\": [\"Kazakhstan\"], \"legendgroup\": \"Country Name=Kazakhstan\", \"locations\": [\"KAZ\"], \"marker\": {\"color\": \"#19d3f3\", \"size\": [7496.153846153846], \"sizemode\": \"area\", \"sizeref\": 11777.884615384615}, \"name\": \"Country Name=Kazakhstan\", \"showlegend\": true, \"type\": \"scattergeo\"}, {\"geo\": \"geo\", \"hoverlabel\": {\"namelength\": 0}, \"hovertemplate\": \"<b>%{hovertext}</b><br><br>Country Name=Kenya<br>mean=%{marker.size}<br>Country Code=%{location}\", \"hovertext\": [\"Kenya\"], \"legendgroup\": \"Country Name=Kenya\", \"locations\": [\"KEN\"], \"marker\": {\"color\": \"#FF6692\", \"size\": [1446153.8461538462], \"sizemode\": \"area\", \"sizeref\": 11777.884615384615}, \"name\": \"Country Name=Kenya\", \"showlegend\": true, \"type\": \"scattergeo\"}, {\"geo\": \"geo\", \"hoverlabel\": {\"namelength\": 0}, \"hovertemplate\": \"<b>%{hovertext}</b><br><br>Country Name=Kyrgyz Republic<br>mean=%{marker.size}<br>Country Code=%{location}\", \"hovertext\": [\"Kyrgyz Republic\"], \"legendgroup\": \"Country Name=Kyrgyz Republic\", \"locations\": [\"KGZ\"], \"marker\": {\"color\": \"#B6E880\", \"size\": [2776.923076923077], \"sizemode\": \"area\", \"sizeref\": 11777.884615384615}, \"name\": \"Country Name=Kyrgyz Republic\", \"showlegend\": true, \"type\": \"scattergeo\"}, {\"geo\": \"geo\", \"hoverlabel\": {\"namelength\": 0}, \"hovertemplate\": \"<b>%{hovertext}</b><br><br>Country Name=Latvia<br>mean=%{marker.size}<br>Country Code=%{location}\", \"hovertext\": [\"Latvia\"], \"legendgroup\": \"Country Name=Latvia\", \"locations\": [\"LVA\"], \"marker\": {\"color\": \"#FF97FF\", \"size\": [5542.307692307692], \"sizemode\": \"area\", \"sizeref\": 11777.884615384615}, \"name\": \"Country Name=Latvia\", \"showlegend\": true, \"type\": \"scattergeo\"}, {\"geo\": \"geo\", \"hoverlabel\": {\"namelength\": 0}, \"hovertemplate\": \"<b>%{hovertext}</b><br><br>Country Name=Lebanon<br>mean=%{marker.size}<br>Country Code=%{location}\", \"hovertext\": [\"Lebanon\"], \"legendgroup\": \"Country Name=Lebanon\", \"locations\": [\"LBN\"], \"marker\": {\"color\": \"#FECB52\", \"size\": [1334.6153846153845], \"sizemode\": \"area\", \"sizeref\": 11777.884615384615}, \"name\": \"Country Name=Lebanon\", \"showlegend\": true, \"type\": \"scattergeo\"}, {\"geo\": \"geo\", \"hoverlabel\": {\"namelength\": 0}, \"hovertemplate\": \"<b>%{hovertext}</b><br><br>Country Name=Lesotho<br>mean=%{marker.size}<br>Country Code=%{location}\", \"hovertext\": [\"Lesotho\"], \"legendgroup\": \"Country Name=Lesotho\", \"locations\": [\"LSO\"], \"marker\": {\"color\": \"#636efa\", \"size\": [194576.92307692306], \"sizemode\": \"area\", \"sizeref\": 11777.884615384615}, \"name\": \"Country Name=Lesotho\", \"showlegend\": true, \"type\": \"scattergeo\"}, {\"geo\": \"geo\", \"hoverlabel\": {\"namelength\": 0}, \"hovertemplate\": \"<b>%{hovertext}</b><br><br>Country Name=Liberia<br>mean=%{marker.size}<br>Country Code=%{location}\", \"hovertext\": [\"Liberia\"], \"legendgroup\": \"Country Name=Liberia\", \"locations\": [\"LBR\"], \"marker\": {\"color\": \"#EF553B\", \"size\": [29973.076923076922], \"sizemode\": \"area\", \"sizeref\": 11777.884615384615}, \"name\": \"Country Name=Liberia\", \"showlegend\": true, \"type\": \"scattergeo\"}, {\"geo\": \"geo\", \"hoverlabel\": {\"namelength\": 0}, \"hovertemplate\": \"<b>%{hovertext}</b><br><br>Country Name=Madagascar<br>mean=%{marker.size}<br>Country Code=%{location}\", \"hovertext\": [\"Madagascar\"], \"legendgroup\": \"Country Name=Madagascar\", \"locations\": [\"MDG\"], \"marker\": {\"color\": \"#00cc96\", \"size\": [34161.53846153846], \"sizemode\": \"area\", \"sizeref\": 11777.884615384615}, \"name\": \"Country Name=Madagascar\", \"showlegend\": true, \"type\": \"scattergeo\"}, {\"geo\": \"geo\", \"hoverlabel\": {\"namelength\": 0}, \"hovertemplate\": \"<b>%{hovertext}</b><br><br>Country Name=Malawi<br>mean=%{marker.size}<br>Country Code=%{location}\", \"hovertext\": [\"Malawi\"], \"legendgroup\": \"Country Name=Malawi\", \"locations\": [\"MWI\"], \"marker\": {\"color\": \"#ab63fa\", \"size\": [878846.1538461539], \"sizemode\": \"area\", \"sizeref\": 11777.884615384615}, \"name\": \"Country Name=Malawi\", \"showlegend\": true, \"type\": \"scattergeo\"}, {\"geo\": \"geo\", \"hoverlabel\": {\"namelength\": 0}, \"hovertemplate\": \"<b>%{hovertext}</b><br><br>Country Name=Malaysia<br>mean=%{marker.size}<br>Country Code=%{location}\", \"hovertext\": [\"Malaysia\"], \"legendgroup\": \"Country Name=Malaysia\", \"locations\": [\"MYS\"], \"marker\": {\"color\": \"#FFA15A\", \"size\": [88673.07692307692], \"sizemode\": \"area\", \"sizeref\": 11777.884615384615}, \"name\": \"Country Name=Malaysia\", \"showlegend\": true, \"type\": \"scattergeo\"}, {\"geo\": \"geo\", \"hoverlabel\": {\"namelength\": 0}, \"hovertemplate\": \"<b>%{hovertext}</b><br><br>Country Name=Mali<br>mean=%{marker.size}<br>Country Code=%{location}\", \"hovertext\": [\"Mali\"], \"legendgroup\": \"Country Name=Mali\", \"locations\": [\"MLI\"], \"marker\": {\"color\": \"#19d3f3\", \"size\": [105961.53846153847], \"sizemode\": \"area\", \"sizeref\": 11777.884615384615}, \"name\": \"Country Name=Mali\", \"showlegend\": true, \"type\": \"scattergeo\"}, {\"geo\": \"geo\", \"hoverlabel\": {\"namelength\": 0}, \"hovertemplate\": \"<b>%{hovertext}</b><br><br>Country Name=Mauritania<br>mean=%{marker.size}<br>Country Code=%{location}\", \"hovertext\": [\"Mauritania\"], \"legendgroup\": \"Country Name=Mauritania\", \"locations\": [\"MRT\"], \"marker\": {\"color\": \"#FF6692\", \"size\": [11292.307692307691], \"sizemode\": \"area\", \"sizeref\": 11777.884615384615}, \"name\": \"Country Name=Mauritania\", \"showlegend\": true, \"type\": \"scattergeo\"}, {\"geo\": \"geo\", \"hoverlabel\": {\"namelength\": 0}, \"hovertemplate\": \"<b>%{hovertext}</b><br><br>Country Name=Mauritius<br>mean=%{marker.size}<br>Country Code=%{location}\", \"hovertext\": [\"Mauritius\"], \"legendgroup\": \"Country Name=Mauritius\", \"locations\": [\"MUS\"], \"marker\": {\"color\": \"#B6E880\", \"size\": [6426.923076923077], \"sizemode\": \"area\", \"sizeref\": 11777.884615384615}, \"name\": \"Country Name=Mauritius\", \"showlegend\": true, \"type\": \"scattergeo\"}, {\"geo\": \"geo\", \"hoverlabel\": {\"namelength\": 0}, \"hovertemplate\": \"<b>%{hovertext}</b><br><br>Country Name=Mexico<br>mean=%{marker.size}<br>Country Code=%{location}\", \"hovertext\": [\"Mexico\"], \"legendgroup\": \"Country Name=Mexico\", \"locations\": [\"MEX\"], \"marker\": {\"color\": \"#FF97FF\", \"size\": [148307.6923076923], \"sizemode\": \"area\", \"sizeref\": 11777.884615384615}, \"name\": \"Country Name=Mexico\", \"showlegend\": true, \"type\": \"scattergeo\"}, {\"geo\": \"geo\", \"hoverlabel\": {\"namelength\": 0}, \"hovertemplate\": \"<b>%{hovertext}</b><br><br>Country Name=Moldova<br>mean=%{marker.size}<br>Country Code=%{location}\", \"hovertext\": [\"Moldova\"], \"legendgroup\": \"Country Name=Moldova\", \"locations\": [\"MDA\"], \"marker\": {\"color\": \"#FECB52\", \"size\": [9261.538461538461], \"sizemode\": \"area\", \"sizeref\": 11777.884615384615}, \"name\": \"Country Name=Moldova\", \"showlegend\": true, \"type\": \"scattergeo\"}, {\"geo\": \"geo\", \"hoverlabel\": {\"namelength\": 0}, \"hovertemplate\": \"<b>%{hovertext}</b><br><br>Country Name=Mongolia<br>mean=%{marker.size}<br>Country Code=%{location}\", \"hovertext\": [\"Mongolia\"], \"legendgroup\": \"Country Name=Mongolia\", \"locations\": [\"MNG\"], \"marker\": {\"color\": \"#636efa\", \"size\": [188.46153846153845], \"sizemode\": \"area\", \"sizeref\": 11777.884615384615}, \"name\": \"Country Name=Mongolia\", \"showlegend\": true, \"type\": \"scattergeo\"}, {\"geo\": \"geo\", \"hoverlabel\": {\"namelength\": 0}, \"hovertemplate\": \"<b>%{hovertext}</b><br><br>Country Name=Morocco<br>mean=%{marker.size}<br>Country Code=%{location}\", \"hovertext\": [\"Morocco\"], \"legendgroup\": \"Country Name=Morocco\", \"locations\": [\"MAR\"], \"marker\": {\"color\": \"#EF553B\", \"size\": [13861.538461538461], \"sizemode\": \"area\", \"sizeref\": 11777.884615384615}, \"name\": \"Country Name=Morocco\", \"showlegend\": true, \"type\": \"scattergeo\"}, {\"geo\": \"geo\", \"hoverlabel\": {\"namelength\": 0}, \"hovertemplate\": \"<b>%{hovertext}</b><br><br>Country Name=Mozambique<br>mean=%{marker.size}<br>Country Code=%{location}\", \"hovertext\": [\"Mozambique\"], \"legendgroup\": \"Country Name=Mozambique\", \"locations\": [\"MOZ\"], \"marker\": {\"color\": \"#00cc96\", \"size\": [820461.5384615385], \"sizemode\": \"area\", \"sizeref\": 11777.884615384615}, \"name\": \"Country Name=Mozambique\", \"showlegend\": true, \"type\": \"scattergeo\"}, {\"geo\": \"geo\", \"hoverlabel\": {\"namelength\": 0}, \"hovertemplate\": \"<b>%{hovertext}</b><br><br>Country Name=Myanmar<br>mean=%{marker.size}<br>Country Code=%{location}\", \"hovertext\": [\"Myanmar\"], \"legendgroup\": \"Country Name=Myanmar\", \"locations\": [\"MMR\"], \"marker\": {\"color\": \"#ab63fa\", \"size\": [173153.84615384616], \"sizemode\": \"area\", \"sizeref\": 11777.884615384615}, \"name\": \"Country Name=Myanmar\", \"showlegend\": true, \"type\": \"scattergeo\"}, {\"geo\": \"geo\", \"hoverlabel\": {\"namelength\": 0}, \"hovertemplate\": \"<b>%{hovertext}</b><br><br>Country Name=Namibia<br>mean=%{marker.size}<br>Country Code=%{location}\", \"hovertext\": [\"Namibia\"], \"legendgroup\": \"Country Name=Namibia\", \"locations\": [\"NAM\"], \"marker\": {\"color\": \"#FFA15A\", \"size\": [145500.0], \"sizemode\": \"area\", \"sizeref\": 11777.884615384615}, \"name\": \"Country Name=Namibia\", \"showlegend\": true, \"type\": \"scattergeo\"}, {\"geo\": \"geo\", \"hoverlabel\": {\"namelength\": 0}, \"hovertemplate\": \"<b>%{hovertext}</b><br><br>Country Name=Nepal<br>mean=%{marker.size}<br>Country Code=%{location}\", \"hovertext\": [\"Nepal\"], \"legendgroup\": \"Country Name=Nepal\", \"locations\": [\"NPL\"], \"marker\": {\"color\": \"#19d3f3\", \"size\": [26992.30769230769], \"sizemode\": \"area\", \"sizeref\": 11777.884615384615}, \"name\": \"Country Name=Nepal\", \"showlegend\": true, \"type\": \"scattergeo\"}, {\"geo\": \"geo\", \"hoverlabel\": {\"namelength\": 0}, \"hovertemplate\": \"<b>%{hovertext}</b><br><br>Country Name=Nicaragua<br>mean=%{marker.size}<br>Country Code=%{location}\", \"hovertext\": [\"Nicaragua\"], \"legendgroup\": \"Country Name=Nicaragua\", \"locations\": [\"NIC\"], \"marker\": {\"color\": \"#FF6692\", \"size\": [9073.076923076924], \"sizemode\": \"area\", \"sizeref\": 11777.884615384615}, \"name\": \"Country Name=Nicaragua\", \"showlegend\": true, \"type\": \"scattergeo\"}, {\"geo\": \"geo\", \"hoverlabel\": {\"namelength\": 0}, \"hovertemplate\": \"<b>%{hovertext}</b><br><br>Country Name=Niger<br>mean=%{marker.size}<br>Country Code=%{location}\", \"hovertext\": [\"Niger\"], \"legendgroup\": \"Country Name=Niger\", \"locations\": [\"NER\"], \"marker\": {\"color\": \"#B6E880\", \"size\": [51076.92307692308], \"sizemode\": \"area\", \"sizeref\": 11777.884615384615}, \"name\": \"Country Name=Niger\", \"showlegend\": true, \"type\": \"scattergeo\"}, {\"geo\": \"geo\", \"hoverlabel\": {\"namelength\": 0}, \"hovertemplate\": \"<b>%{hovertext}</b><br><br>Country Name=Nigeria<br>mean=%{marker.size}<br>Country Code=%{location}\", \"hovertext\": [\"Nigeria\"], \"legendgroup\": \"Country Name=Nigeria\", \"locations\": [\"NGA\"], \"marker\": {\"color\": \"#FF97FF\", \"size\": [2498076.923076923], \"sizemode\": \"area\", \"sizeref\": 11777.884615384615}, \"name\": \"Country Name=Nigeria\", \"showlegend\": true, \"type\": \"scattergeo\"}, {\"geo\": \"geo\", \"hoverlabel\": {\"namelength\": 0}, \"hovertemplate\": \"<b>%{hovertext}</b><br><br>Country Name=Pakistan<br>mean=%{marker.size}<br>Country Code=%{location}\", \"hovertext\": [\"Pakistan\"], \"legendgroup\": \"Country Name=Pakistan\", \"locations\": [\"PAK\"], \"marker\": {\"color\": \"#FECB52\", \"size\": [26607.69230769231], \"sizemode\": \"area\", \"sizeref\": 11777.884615384615}, \"name\": \"Country Name=Pakistan\", \"showlegend\": true, \"type\": \"scattergeo\"}, {\"geo\": \"geo\", \"hoverlabel\": {\"namelength\": 0}, \"hovertemplate\": \"<b>%{hovertext}</b><br><br>Country Name=Panama<br>mean=%{marker.size}<br>Country Code=%{location}\", \"hovertext\": [\"Panama\"], \"legendgroup\": \"Country Name=Panama\", \"locations\": [\"PAN\"], \"marker\": {\"color\": \"#636efa\", \"size\": [11953.846153846154], \"sizemode\": \"area\", \"sizeref\": 11777.884615384615}, \"name\": \"Country Name=Panama\", \"showlegend\": true, \"type\": \"scattergeo\"}, {\"geo\": \"geo\", \"hoverlabel\": {\"namelength\": 0}, \"hovertemplate\": \"<b>%{hovertext}</b><br><br>Country Name=Papua New Guinea<br>mean=%{marker.size}<br>Country Code=%{location}\", \"hovertext\": [\"Papua New Guinea\"], \"legendgroup\": \"Country Name=Papua New Guinea\", \"locations\": [\"PNG\"], \"marker\": {\"color\": \"#EF553B\", \"size\": [24584.615384615383], \"sizemode\": \"area\", \"sizeref\": 11777.884615384615}, \"name\": \"Country Name=Papua New Guinea\", \"showlegend\": true, \"type\": \"scattergeo\"}, {\"geo\": \"geo\", \"hoverlabel\": {\"namelength\": 0}, \"hovertemplate\": \"<b>%{hovertext}</b><br><br>Country Name=Paraguay<br>mean=%{marker.size}<br>Country Code=%{location}\", \"hovertext\": [\"Paraguay\"], \"legendgroup\": \"Country Name=Paraguay\", \"locations\": [\"PRY\"], \"marker\": {\"color\": \"#00cc96\", \"size\": [11188.461538461539], \"sizemode\": \"area\", \"sizeref\": 11777.884615384615}, \"name\": \"Country Name=Paraguay\", \"showlegend\": true, \"type\": \"scattergeo\"}, {\"geo\": \"geo\", \"hoverlabel\": {\"namelength\": 0}, \"hovertemplate\": \"<b>%{hovertext}</b><br><br>Country Name=Peru<br>mean=%{marker.size}<br>Country Code=%{location}\", \"hovertext\": [\"Peru\"], \"legendgroup\": \"Country Name=Peru\", \"locations\": [\"PER\"], \"marker\": {\"color\": \"#ab63fa\", \"size\": [61615.38461538462], \"sizemode\": \"area\", \"sizeref\": 11777.884615384615}, \"name\": \"Country Name=Peru\", \"showlegend\": true, \"type\": \"scattergeo\"}, {\"geo\": \"geo\", \"hoverlabel\": {\"namelength\": 0}, \"hovertemplate\": \"<b>%{hovertext}</b><br><br>Country Name=Philippines<br>mean=%{marker.size}<br>Country Code=%{location}\", \"hovertext\": [\"Philippines\"], \"legendgroup\": \"Country Name=Philippines\", \"locations\": [\"PHL\"], \"marker\": {\"color\": \"#FFA15A\", \"size\": [9369.23076923077], \"sizemode\": \"area\", \"sizeref\": 11777.884615384615}, \"name\": \"Country Name=Philippines\", \"showlegend\": true, \"type\": \"scattergeo\"}, {\"geo\": \"geo\", \"hoverlabel\": {\"namelength\": 0}, \"hovertemplate\": \"<b>%{hovertext}</b><br><br>Country Name=Rwanda<br>mean=%{marker.size}<br>Country Code=%{location}\", \"hovertext\": [\"Rwanda\"], \"legendgroup\": \"Country Name=Rwanda\", \"locations\": [\"RWA\"], \"marker\": {\"color\": \"#19d3f3\", \"size\": [194615.38461538462], \"sizemode\": \"area\", \"sizeref\": 11777.884615384615}, \"name\": \"Country Name=Rwanda\", \"showlegend\": true, \"type\": \"scattergeo\"}, {\"geo\": \"geo\", \"hoverlabel\": {\"namelength\": 0}, \"hovertemplate\": \"<b>%{hovertext}</b><br><br>Country Name=Senegal<br>mean=%{marker.size}<br>Country Code=%{location}\", \"hovertext\": [\"Senegal\"], \"legendgroup\": \"Country Name=Senegal\", \"locations\": [\"SEN\"], \"marker\": {\"color\": \"#FF6692\", \"size\": [35796.153846153844], \"sizemode\": \"area\", \"sizeref\": 11777.884615384615}, \"name\": \"Country Name=Senegal\", \"showlegend\": true, \"type\": \"scattergeo\"}, {\"geo\": \"geo\", \"hoverlabel\": {\"namelength\": 0}, \"hovertemplate\": \"<b>%{hovertext}</b><br><br>Country Name=Sierra Leone<br>mean=%{marker.size}<br>Country Code=%{location}\", \"hovertext\": [\"Sierra Leone\"], \"legendgroup\": \"Country Name=Sierra Leone\", \"locations\": [\"SLE\"], \"marker\": {\"color\": \"#B6E880\", \"size\": [29403.846153846152], \"sizemode\": \"area\", \"sizeref\": 11777.884615384615}, \"name\": \"Country Name=Sierra Leone\", \"showlegend\": true, \"type\": \"scattergeo\"}, {\"geo\": \"geo\", \"hoverlabel\": {\"namelength\": 0}, \"hovertemplate\": \"<b>%{hovertext}</b><br><br>Country Name=Somalia<br>mean=%{marker.size}<br>Country Code=%{location}\", \"hovertext\": [\"Somalia\"], \"legendgroup\": \"Country Name=Somalia\", \"locations\": [\"SOM\"], \"marker\": {\"color\": \"#FF97FF\", \"size\": [21684.615384615383], \"sizemode\": \"area\", \"sizeref\": 11777.884615384615}, \"name\": \"Country Name=Somalia\", \"showlegend\": true, \"type\": \"scattergeo\"}, {\"geo\": \"geo\", \"hoverlabel\": {\"namelength\": 0}, \"hovertemplate\": \"<b>%{hovertext}</b><br><br>Country Name=South Africa<br>mean=%{marker.size}<br>Country Code=%{location}\", \"hovertext\": [\"South Africa\"], \"legendgroup\": \"Country Name=South Africa\", \"locations\": [\"ZAF\"], \"marker\": {\"color\": \"#FECB52\", \"size\": [4711153.846153846], \"sizemode\": \"area\", \"sizeref\": 11777.884615384615}, \"name\": \"Country Name=South Africa\", \"showlegend\": true, \"type\": \"scattergeo\"}, {\"geo\": \"geo\", \"hoverlabel\": {\"namelength\": 0}, \"hovertemplate\": \"<b>%{hovertext}</b><br><br>Country Name=South Sudan<br>mean=%{marker.size}<br>Country Code=%{location}\", \"hovertext\": [\"South Sudan\"], \"legendgroup\": \"Country Name=South Sudan\", \"locations\": [\"SSD\"], \"marker\": {\"color\": \"#636efa\", \"size\": [99488.46153846153], \"sizemode\": \"area\", \"sizeref\": 11777.884615384615}, \"name\": \"Country Name=South Sudan\", \"showlegend\": true, \"type\": \"scattergeo\"}, {\"geo\": \"geo\", \"hoverlabel\": {\"namelength\": 0}, \"hovertemplate\": \"<b>%{hovertext}</b><br><br>Country Name=Spain<br>mean=%{marker.size}<br>Country Code=%{location}\", \"hovertext\": [\"Spain\"], \"legendgroup\": \"Country Name=Spain\", \"locations\": [\"ESP\"], \"marker\": {\"color\": \"#EF553B\", \"size\": [123807.69230769231], \"sizemode\": \"area\", \"sizeref\": 11777.884615384615}, \"name\": \"Country Name=Spain\", \"showlegend\": true, \"type\": \"scattergeo\"}, {\"geo\": \"geo\", \"hoverlabel\": {\"namelength\": 0}, \"hovertemplate\": \"<b>%{hovertext}</b><br><br>Country Name=Sri Lanka<br>mean=%{marker.size}<br>Country Code=%{location}\", \"hovertext\": [\"Sri Lanka\"], \"legendgroup\": \"Country Name=Sri Lanka\", \"locations\": [\"LKA\"], \"marker\": {\"color\": \"#00cc96\", \"size\": [1400.0], \"sizemode\": \"area\", \"sizeref\": 11777.884615384615}, \"name\": \"Country Name=Sri Lanka\", \"showlegend\": true, \"type\": \"scattergeo\"}, {\"geo\": \"geo\", \"hoverlabel\": {\"namelength\": 0}, \"hovertemplate\": \"<b>%{hovertext}</b><br><br>Country Name=Sudan<br>mean=%{marker.size}<br>Country Code=%{location}\", \"hovertext\": [\"Sudan\"], \"legendgroup\": \"Country Name=Sudan\", \"locations\": [\"SDN\"], \"marker\": {\"color\": \"#ab63fa\", \"size\": [24857.69230769231], \"sizemode\": \"area\", \"sizeref\": 11777.884615384615}, \"name\": \"Country Name=Sudan\", \"showlegend\": true, \"type\": \"scattergeo\"}, {\"geo\": \"geo\", \"hoverlabel\": {\"namelength\": 0}, \"hovertemplate\": \"<b>%{hovertext}</b><br><br>Country Name=Suriname<br>mean=%{marker.size}<br>Country Code=%{location}\", \"hovertext\": [\"Suriname\"], \"legendgroup\": \"Country Name=Suriname\", \"locations\": [\"SUR\"], \"marker\": {\"color\": \"#FFA15A\", \"size\": [2803.846153846154], \"sizemode\": \"area\", \"sizeref\": 11777.884615384615}, \"name\": \"Country Name=Suriname\", \"showlegend\": true, \"type\": \"scattergeo\"}, {\"geo\": \"geo\", \"hoverlabel\": {\"namelength\": 0}, \"hovertemplate\": \"<b>%{hovertext}</b><br><br>Country Name=Swaziland<br>mean=%{marker.size}<br>Country Code=%{location}\", \"hovertext\": [\"Swaziland\"], \"legendgroup\": \"Country Name=Swaziland\", \"locations\": [\"SWZ\"], \"marker\": {\"color\": \"#19d3f3\", \"size\": [127700.0], \"sizemode\": \"area\", \"sizeref\": 11777.884615384615}, \"name\": \"Country Name=Swaziland\", \"showlegend\": true, \"type\": \"scattergeo\"}, {\"geo\": \"geo\", \"hoverlabel\": {\"namelength\": 0}, \"hovertemplate\": \"<b>%{hovertext}</b><br><br>Country Name=Tajikistan<br>mean=%{marker.size}<br>Country Code=%{location}\", \"hovertext\": [\"Tajikistan\"], \"legendgroup\": \"Country Name=Tajikistan\", \"locations\": [\"TJK\"], \"marker\": {\"color\": \"#FF6692\", \"size\": [7215.384615384615], \"sizemode\": \"area\", \"sizeref\": 11777.884615384615}, \"name\": \"Country Name=Tajikistan\", \"showlegend\": true, \"type\": \"scattergeo\"}, {\"geo\": \"geo\", \"hoverlabel\": {\"namelength\": 0}, \"hovertemplate\": \"<b>%{hovertext}</b><br><br>Country Name=Tanzania<br>mean=%{marker.size}<br>Country Code=%{location}\", \"hovertext\": [\"Tanzania\"], \"legendgroup\": \"Country Name=Tanzania\", \"locations\": [\"TZA\"], \"marker\": {\"color\": \"#B6E880\", \"size\": [1249230.7692307692], \"sizemode\": \"area\", \"sizeref\": 11777.884615384615}, \"name\": \"Country Name=Tanzania\", \"showlegend\": true, \"type\": \"scattergeo\"}, {\"geo\": \"geo\", \"hoverlabel\": {\"namelength\": 0}, \"hovertemplate\": \"<b>%{hovertext}</b><br><br>Country Name=Thailand<br>mean=%{marker.size}<br>Country Code=%{location}\", \"hovertext\": [\"Thailand\"], \"legendgroup\": \"Country Name=Thailand\", \"locations\": [\"THA\"], \"marker\": {\"color\": \"#FF97FF\", \"size\": [517692.3076923077], \"sizemode\": \"area\", \"sizeref\": 11777.884615384615}, \"name\": \"Country Name=Thailand\", \"showlegend\": true, \"type\": \"scattergeo\"}, {\"geo\": \"geo\", \"hoverlabel\": {\"namelength\": 0}, \"hovertemplate\": \"<b>%{hovertext}</b><br><br>Country Name=Togo<br>mean=%{marker.size}<br>Country Code=%{location}\", \"hovertext\": [\"Togo\"], \"legendgroup\": \"Country Name=Togo\", \"locations\": [\"TGO\"], \"marker\": {\"color\": \"#FECB52\", \"size\": [103423.07692307692], \"sizemode\": \"area\", \"sizeref\": 11777.884615384615}, \"name\": \"Country Name=Togo\", \"showlegend\": true, \"type\": \"scattergeo\"}, {\"geo\": \"geo\", \"hoverlabel\": {\"namelength\": 0}, \"hovertemplate\": \"<b>%{hovertext}</b><br><br>Country Name=Trinidad and Tobago<br>mean=%{marker.size}<br>Country Code=%{location}\", \"hovertext\": [\"Trinidad and Tobago\"], \"legendgroup\": \"Country Name=Trinidad and Tobago\", \"locations\": [\"TTO\"], \"marker\": {\"color\": \"#636efa\", \"size\": [7907.692307692308], \"sizemode\": \"area\", \"sizeref\": 11777.884615384615}, \"name\": \"Country Name=Trinidad and Tobago\", \"showlegend\": true, \"type\": \"scattergeo\"}, {\"geo\": \"geo\", \"hoverlabel\": {\"namelength\": 0}, \"hovertemplate\": \"<b>%{hovertext}</b><br><br>Country Name=Tunisia<br>mean=%{marker.size}<br>Country Code=%{location}\", \"hovertext\": [\"Tunisia\"], \"legendgroup\": \"Country Name=Tunisia\", \"locations\": [\"TUN\"], \"marker\": {\"color\": \"#EF553B\", \"size\": [988.4615384615385], \"sizemode\": \"area\", \"sizeref\": 11777.884615384615}, \"name\": \"Country Name=Tunisia\", \"showlegend\": true, \"type\": \"scattergeo\"}, {\"geo\": \"geo\", \"hoverlabel\": {\"namelength\": 0}, \"hovertemplate\": \"<b>%{hovertext}</b><br><br>Country Name=Uganda<br>mean=%{marker.size}<br>Country Code=%{location}\", \"hovertext\": [\"Uganda\"], \"legendgroup\": \"Country Name=Uganda\", \"locations\": [\"UGA\"], \"marker\": {\"color\": \"#00cc96\", \"size\": [1117307.6923076923], \"sizemode\": \"area\", \"sizeref\": 11777.884615384615}, \"name\": \"Country Name=Uganda\", \"showlegend\": true, \"type\": \"scattergeo\"}, {\"geo\": \"geo\", \"hoverlabel\": {\"namelength\": 0}, \"hovertemplate\": \"<b>%{hovertext}</b><br><br>Country Name=Ukraine<br>mean=%{marker.size}<br>Country Code=%{location}\", \"hovertext\": [\"Ukraine\"], \"legendgroup\": \"Country Name=Ukraine\", \"locations\": [\"UKR\"], \"marker\": {\"color\": \"#ab63fa\", \"size\": [161538.46153846153], \"sizemode\": \"area\", \"sizeref\": 11777.884615384615}, \"name\": \"Country Name=Ukraine\", \"showlegend\": true, \"type\": \"scattergeo\"}, {\"geo\": \"geo\", \"hoverlabel\": {\"namelength\": 0}, \"hovertemplate\": \"<b>%{hovertext}</b><br><br>Country Name=Uruguay<br>mean=%{marker.size}<br>Country Code=%{location}\", \"hovertext\": [\"Uruguay\"], \"legendgroup\": \"Country Name=Uruguay\", \"locations\": [\"URY\"], \"marker\": {\"color\": \"#FFA15A\", \"size\": [7088.461538461538], \"sizemode\": \"area\", \"sizeref\": 11777.884615384615}, \"name\": \"Country Name=Uruguay\", \"showlegend\": true, \"type\": \"scattergeo\"}, {\"geo\": \"geo\", \"hoverlabel\": {\"namelength\": 0}, \"hovertemplate\": \"<b>%{hovertext}</b><br><br>Country Name=Uzbekistan<br>mean=%{marker.size}<br>Country Code=%{location}\", \"hovertext\": [\"Uzbekistan\"], \"legendgroup\": \"Country Name=Uzbekistan\", \"locations\": [\"UZB\"], \"marker\": {\"color\": \"#19d3f3\", \"size\": [28830.76923076923], \"sizemode\": \"area\", \"sizeref\": 11777.884615384615}, \"name\": \"Country Name=Uzbekistan\", \"showlegend\": true, \"type\": \"scattergeo\"}, {\"geo\": \"geo\", \"hoverlabel\": {\"namelength\": 0}, \"hovertemplate\": \"<b>%{hovertext}</b><br><br>Country Name=Vietnam<br>mean=%{marker.size}<br>Country Code=%{location}\", \"hovertext\": [\"Vietnam\"], \"legendgroup\": \"Country Name=Vietnam\", \"locations\": [\"VNM\"], \"marker\": {\"color\": \"#FF6692\", \"size\": [132942.3076923077], \"sizemode\": \"area\", \"sizeref\": 11777.884615384615}, \"name\": \"Country Name=Vietnam\", \"showlegend\": true, \"type\": \"scattergeo\"}, {\"geo\": \"geo\", \"hoverlabel\": {\"namelength\": 0}, \"hovertemplate\": \"<b>%{hovertext}</b><br><br>Country Name=Zambia<br>mean=%{marker.size}<br>Country Code=%{location}\", \"hovertext\": [\"Zambia\"], \"legendgroup\": \"Country Name=Zambia\", \"locations\": [\"ZMB\"], \"marker\": {\"color\": \"#B6E880\", \"size\": [907307.6923076923], \"sizemode\": \"area\", \"sizeref\": 11777.884615384615}, \"name\": \"Country Name=Zambia\", \"showlegend\": true, \"type\": \"scattergeo\"}, {\"geo\": \"geo\", \"hoverlabel\": {\"namelength\": 0}, \"hovertemplate\": \"<b>%{hovertext}</b><br><br>Country Name=Zimbabwe<br>mean=%{marker.size}<br>Country Code=%{location}\", \"hovertext\": [\"Zimbabwe\"], \"legendgroup\": \"Country Name=Zimbabwe\", \"locations\": [\"ZWE\"], \"marker\": {\"color\": \"#FF97FF\", \"size\": [1367307.6923076923], \"sizemode\": \"area\", \"sizeref\": 11777.884615384615}, \"name\": \"Country Name=Zimbabwe\", \"showlegend\": true, \"type\": \"scattergeo\"}],\n",
              "                        {\"geo\": {\"center\": {}, \"domain\": {\"x\": [0.0, 1.0], \"y\": [0.0, 1.0]}, \"projection\": {\"type\": \"orthographic\"}}, \"legend\": {\"itemsizing\": \"constant\", \"tracegroupgap\": 0}, \"template\": {\"data\": {\"bar\": [{\"error_x\": {\"color\": \"#2a3f5f\"}, \"error_y\": {\"color\": \"#2a3f5f\"}, \"marker\": {\"line\": {\"color\": \"#E5ECF6\", \"width\": 0.5}}, \"type\": \"bar\"}], \"barpolar\": [{\"marker\": {\"line\": {\"color\": \"#E5ECF6\", \"width\": 0.5}}, \"type\": \"barpolar\"}], \"carpet\": [{\"aaxis\": {\"endlinecolor\": \"#2a3f5f\", \"gridcolor\": \"white\", \"linecolor\": \"white\", \"minorgridcolor\": \"white\", \"startlinecolor\": \"#2a3f5f\"}, \"baxis\": {\"endlinecolor\": \"#2a3f5f\", \"gridcolor\": \"white\", \"linecolor\": \"white\", \"minorgridcolor\": \"white\", \"startlinecolor\": \"#2a3f5f\"}, \"type\": \"carpet\"}], \"choropleth\": [{\"colorbar\": {\"outlinewidth\": 0, \"ticks\": \"\"}, \"type\": \"choropleth\"}], \"contour\": [{\"colorbar\": {\"outlinewidth\": 0, \"ticks\": \"\"}, \"colorscale\": [[0.0, \"#0d0887\"], [0.1111111111111111, \"#46039f\"], [0.2222222222222222, \"#7201a8\"], [0.3333333333333333, \"#9c179e\"], [0.4444444444444444, \"#bd3786\"], [0.5555555555555556, \"#d8576b\"], [0.6666666666666666, \"#ed7953\"], [0.7777777777777778, \"#fb9f3a\"], [0.8888888888888888, \"#fdca26\"], [1.0, \"#f0f921\"]], \"type\": \"contour\"}], \"contourcarpet\": [{\"colorbar\": {\"outlinewidth\": 0, \"ticks\": \"\"}, \"type\": \"contourcarpet\"}], \"heatmap\": [{\"colorbar\": {\"outlinewidth\": 0, \"ticks\": \"\"}, \"colorscale\": [[0.0, \"#0d0887\"], [0.1111111111111111, \"#46039f\"], [0.2222222222222222, \"#7201a8\"], [0.3333333333333333, \"#9c179e\"], [0.4444444444444444, \"#bd3786\"], [0.5555555555555556, \"#d8576b\"], [0.6666666666666666, \"#ed7953\"], [0.7777777777777778, \"#fb9f3a\"], [0.8888888888888888, \"#fdca26\"], [1.0, \"#f0f921\"]], \"type\": \"heatmap\"}], \"heatmapgl\": [{\"colorbar\": {\"outlinewidth\": 0, \"ticks\": \"\"}, \"colorscale\": [[0.0, \"#0d0887\"], [0.1111111111111111, \"#46039f\"], [0.2222222222222222, \"#7201a8\"], [0.3333333333333333, \"#9c179e\"], [0.4444444444444444, \"#bd3786\"], [0.5555555555555556, \"#d8576b\"], [0.6666666666666666, \"#ed7953\"], [0.7777777777777778, \"#fb9f3a\"], [0.8888888888888888, \"#fdca26\"], [1.0, \"#f0f921\"]], \"type\": \"heatmapgl\"}], \"histogram\": [{\"marker\": {\"colorbar\": {\"outlinewidth\": 0, \"ticks\": \"\"}}, \"type\": \"histogram\"}], \"histogram2d\": [{\"colorbar\": {\"outlinewidth\": 0, \"ticks\": \"\"}, \"colorscale\": [[0.0, \"#0d0887\"], [0.1111111111111111, \"#46039f\"], [0.2222222222222222, \"#7201a8\"], [0.3333333333333333, \"#9c179e\"], [0.4444444444444444, \"#bd3786\"], [0.5555555555555556, \"#d8576b\"], [0.6666666666666666, \"#ed7953\"], [0.7777777777777778, \"#fb9f3a\"], [0.8888888888888888, \"#fdca26\"], [1.0, \"#f0f921\"]], \"type\": \"histogram2d\"}], \"histogram2dcontour\": [{\"colorbar\": {\"outlinewidth\": 0, \"ticks\": \"\"}, \"colorscale\": [[0.0, \"#0d0887\"], [0.1111111111111111, \"#46039f\"], [0.2222222222222222, \"#7201a8\"], [0.3333333333333333, \"#9c179e\"], [0.4444444444444444, \"#bd3786\"], [0.5555555555555556, \"#d8576b\"], [0.6666666666666666, \"#ed7953\"], [0.7777777777777778, \"#fb9f3a\"], [0.8888888888888888, \"#fdca26\"], [1.0, \"#f0f921\"]], \"type\": \"histogram2dcontour\"}], \"mesh3d\": [{\"colorbar\": {\"outlinewidth\": 0, \"ticks\": \"\"}, \"type\": \"mesh3d\"}], \"parcoords\": [{\"line\": {\"colorbar\": {\"outlinewidth\": 0, \"ticks\": \"\"}}, \"type\": \"parcoords\"}], \"pie\": [{\"automargin\": true, \"type\": \"pie\"}], \"scatter\": [{\"marker\": {\"colorbar\": {\"outlinewidth\": 0, \"ticks\": \"\"}}, \"type\": \"scatter\"}], \"scatter3d\": [{\"line\": {\"colorbar\": {\"outlinewidth\": 0, \"ticks\": \"\"}}, \"marker\": {\"colorbar\": {\"outlinewidth\": 0, \"ticks\": \"\"}}, \"type\": \"scatter3d\"}], \"scattercarpet\": [{\"marker\": {\"colorbar\": {\"outlinewidth\": 0, \"ticks\": \"\"}}, \"type\": \"scattercarpet\"}], \"scattergeo\": [{\"marker\": {\"colorbar\": {\"outlinewidth\": 0, \"ticks\": \"\"}}, \"type\": \"scattergeo\"}], \"scattergl\": [{\"marker\": {\"colorbar\": {\"outlinewidth\": 0, \"ticks\": \"\"}}, \"type\": \"scattergl\"}], \"scattermapbox\": [{\"marker\": {\"colorbar\": {\"outlinewidth\": 0, \"ticks\": \"\"}}, \"type\": \"scattermapbox\"}], \"scatterpolar\": [{\"marker\": {\"colorbar\": {\"outlinewidth\": 0, \"ticks\": \"\"}}, \"type\": \"scatterpolar\"}], \"scatterpolargl\": [{\"marker\": {\"colorbar\": {\"outlinewidth\": 0, \"ticks\": \"\"}}, \"type\": \"scatterpolargl\"}], \"scatterternary\": [{\"marker\": {\"colorbar\": {\"outlinewidth\": 0, \"ticks\": \"\"}}, \"type\": \"scatterternary\"}], \"surface\": [{\"colorbar\": {\"outlinewidth\": 0, \"ticks\": \"\"}, \"colorscale\": [[0.0, \"#0d0887\"], [0.1111111111111111, \"#46039f\"], [0.2222222222222222, \"#7201a8\"], [0.3333333333333333, \"#9c179e\"], [0.4444444444444444, \"#bd3786\"], [0.5555555555555556, \"#d8576b\"], [0.6666666666666666, \"#ed7953\"], [0.7777777777777778, \"#fb9f3a\"], [0.8888888888888888, \"#fdca26\"], [1.0, \"#f0f921\"]], \"type\": \"surface\"}], \"table\": [{\"cells\": {\"fill\": {\"color\": \"#EBF0F8\"}, \"line\": {\"color\": \"white\"}}, \"header\": {\"fill\": {\"color\": \"#C8D4E3\"}, \"line\": {\"color\": \"white\"}}, \"type\": \"table\"}]}, \"layout\": {\"annotationdefaults\": {\"arrowcolor\": \"#2a3f5f\", \"arrowhead\": 0, \"arrowwidth\": 1}, \"coloraxis\": {\"colorbar\": {\"outlinewidth\": 0, \"ticks\": \"\"}}, \"colorscale\": {\"diverging\": [[0, \"#8e0152\"], [0.1, \"#c51b7d\"], [0.2, \"#de77ae\"], [0.3, \"#f1b6da\"], [0.4, \"#fde0ef\"], [0.5, \"#f7f7f7\"], [0.6, \"#e6f5d0\"], [0.7, \"#b8e186\"], [0.8, \"#7fbc41\"], [0.9, \"#4d9221\"], [1, \"#276419\"]], \"sequential\": [[0.0, \"#0d0887\"], [0.1111111111111111, \"#46039f\"], [0.2222222222222222, \"#7201a8\"], [0.3333333333333333, \"#9c179e\"], [0.4444444444444444, \"#bd3786\"], [0.5555555555555556, \"#d8576b\"], [0.6666666666666666, \"#ed7953\"], [0.7777777777777778, \"#fb9f3a\"], [0.8888888888888888, \"#fdca26\"], [1.0, \"#f0f921\"]], \"sequentialminus\": [[0.0, \"#0d0887\"], [0.1111111111111111, \"#46039f\"], [0.2222222222222222, \"#7201a8\"], [0.3333333333333333, \"#9c179e\"], [0.4444444444444444, \"#bd3786\"], [0.5555555555555556, \"#d8576b\"], [0.6666666666666666, \"#ed7953\"], [0.7777777777777778, \"#fb9f3a\"], [0.8888888888888888, \"#fdca26\"], [1.0, \"#f0f921\"]]}, \"colorway\": [\"#636efa\", \"#EF553B\", \"#00cc96\", \"#ab63fa\", \"#FFA15A\", \"#19d3f3\", \"#FF6692\", \"#B6E880\", \"#FF97FF\", \"#FECB52\"], \"font\": {\"color\": \"#2a3f5f\"}, \"geo\": {\"bgcolor\": \"white\", \"lakecolor\": \"white\", \"landcolor\": \"#E5ECF6\", \"showlakes\": true, \"showland\": true, \"subunitcolor\": \"white\"}, \"hoverlabel\": {\"align\": \"left\"}, \"hovermode\": \"closest\", \"mapbox\": {\"style\": \"light\"}, \"paper_bgcolor\": \"white\", \"plot_bgcolor\": \"#E5ECF6\", \"polar\": {\"angularaxis\": {\"gridcolor\": \"white\", \"linecolor\": \"white\", \"ticks\": \"\"}, \"bgcolor\": \"#E5ECF6\", \"radialaxis\": {\"gridcolor\": \"white\", \"linecolor\": \"white\", \"ticks\": \"\"}}, \"scene\": {\"xaxis\": {\"backgroundcolor\": \"#E5ECF6\", \"gridcolor\": \"white\", \"gridwidth\": 2, \"linecolor\": \"white\", \"showbackground\": true, \"ticks\": \"\", \"zerolinecolor\": \"white\"}, \"yaxis\": {\"backgroundcolor\": \"#E5ECF6\", \"gridcolor\": \"white\", \"gridwidth\": 2, \"linecolor\": \"white\", \"showbackground\": true, \"ticks\": \"\", \"zerolinecolor\": \"white\"}, \"zaxis\": {\"backgroundcolor\": \"#E5ECF6\", \"gridcolor\": \"white\", \"gridwidth\": 2, \"linecolor\": \"white\", \"showbackground\": true, \"ticks\": \"\", \"zerolinecolor\": \"white\"}}, \"shapedefaults\": {\"line\": {\"color\": \"#2a3f5f\"}}, \"ternary\": {\"aaxis\": {\"gridcolor\": \"white\", \"linecolor\": \"white\", \"ticks\": \"\"}, \"baxis\": {\"gridcolor\": \"white\", \"linecolor\": \"white\", \"ticks\": \"\"}, \"bgcolor\": \"#E5ECF6\", \"caxis\": {\"gridcolor\": \"white\", \"linecolor\": \"white\", \"ticks\": \"\"}}, \"title\": {\"x\": 0.05}, \"xaxis\": {\"automargin\": true, \"gridcolor\": \"white\", \"linecolor\": \"white\", \"ticks\": \"\", \"title\": {\"standoff\": 15}, \"zerolinecolor\": \"white\", \"zerolinewidth\": 2}, \"yaxis\": {\"automargin\": true, \"gridcolor\": \"white\", \"linecolor\": \"white\", \"ticks\": \"\", \"title\": {\"standoff\": 15}, \"zerolinecolor\": \"white\", \"zerolinewidth\": 2}}}, \"title\": {\"text\": \"Average Total HIV Counts for different Countries from 1990 to 2015\"}},\n",
              "                        {\"responsive\": true}\n",
              "                    ).then(function(){\n",
              "                            \n",
              "var gd = document.getElementById('b4b105d5-0870-4ced-9abd-d7f53f1dce1a');\n",
              "var x = new MutationObserver(function (mutations, observer) {{\n",
              "        var display = window.getComputedStyle(gd).display;\n",
              "        if (!display || display === 'none') {{\n",
              "            console.log([gd, 'removed!']);\n",
              "            Plotly.purge(gd);\n",
              "            observer.disconnect();\n",
              "        }}\n",
              "}});\n",
              "\n",
              "// Listen for the removal of the full notebook cells\n",
              "var notebookContainer = gd.closest('#notebook-container');\n",
              "if (notebookContainer) {{\n",
              "    x.observe(notebookContainer, {childList: true});\n",
              "}}\n",
              "\n",
              "// Listen for the clearing of the current output cell\n",
              "var outputEl = gd.closest('.output');\n",
              "if (outputEl) {{\n",
              "    x.observe(outputEl, {childList: true});\n",
              "}}\n",
              "\n",
              "                        })\n",
              "                };\n",
              "                \n",
              "            </script>\n",
              "        </div>\n",
              "</body>\n",
              "</html>"
            ]
          },
          "metadata": {}
        }
      ],
      "source": [
        "fig = px.scatter_geo(total_HIV_df, locations=\"Country Code\",\n",
        "                     color=\"Country Name\", # which column to use to set the color of markers\n",
        "                     hover_name=\"Country Name\", # column added to hover information\n",
        "                     size=\"mean\", # size of markers\n",
        "                     projection=\"orthographic\",\n",
        "                     title=\"Average Total HIV Counts for different Countries from 1990 to 2015\")\n",
        "fig"
      ]
    },
    {
      "cell_type": "markdown",
      "metadata": {
        "id": "wh7mo4kTjMVJ"
      },
      "source": [
        "#### Data Point Distribution By Continents\n",
        "**Motivation:** In the dataset, there is geographic information. We are curious about the average distribution of HIV counts at each continent from 1990 to 2015."
      ]
    },
    {
      "cell_type": "code",
      "execution_count": null,
      "metadata": {
        "colab": {
          "base_uri": "https://localhost:8080/",
          "height": 542
        },
        "id": "5oIBkP7NvGKJ",
        "outputId": "6375e05b-542b-4847-dd43-16fddc6719ba"
      },
      "outputs": [
        {
          "output_type": "display_data",
          "data": {
            "text/html": [
              "<html>\n",
              "<head><meta charset=\"utf-8\" /></head>\n",
              "<body>\n",
              "    <div>\n",
              "            <script src=\"https://cdnjs.cloudflare.com/ajax/libs/mathjax/2.7.5/MathJax.js?config=TeX-AMS-MML_SVG\"></script><script type=\"text/javascript\">if (window.MathJax) {MathJax.Hub.Config({SVG: {font: \"STIX-Web\"}});}</script>\n",
              "                <script type=\"text/javascript\">window.PlotlyConfig = {MathJaxConfig: 'local'};</script>\n",
              "        <script src=\"https://cdn.plot.ly/plotly-latest.min.js\"></script>    \n",
              "            <div id=\"4f853423-6b4d-4d29-849d-1db6a060eedd\" class=\"plotly-graph-div\" style=\"height:525px; width:100%;\"></div>\n",
              "            <script type=\"text/javascript\">\n",
              "                \n",
              "                    window.PLOTLYENV=window.PLOTLYENV || {};\n",
              "                    \n",
              "                if (document.getElementById(\"4f853423-6b4d-4d29-849d-1db6a060eedd\")) {\n",
              "                    Plotly.newPlot(\n",
              "                        '4f853423-6b4d-4d29-849d-1db6a060eedd',\n",
              "                        [{\"geo\": \"geo\", \"hoverlabel\": {\"namelength\": 0}, \"hovertemplate\": \"<b>%{hovertext}</b><br><br>Continent Name=Asia<br>mean=%{marker.size}<br>Country Code=%{location}\", \"hovertext\": [\"Afghanistan\", \"Armenia\", \"Azerbaijan\", \"Bangladesh\", \"Cambodia\", \"Georgia\", \"India\", \"Indonesia\", \"Kazakhstan\", \"Kyrgyz Republic\", \"Lebanon\", \"Malaysia\", \"Mongolia\", \"Myanmar\", \"Nepal\", \"Pakistan\", \"Philippines\", \"Sri Lanka\", \"Tajikistan\", \"Thailand\", \"Uzbekistan\", \"Vietnam\"], \"legendgroup\": \"Continent Name=Asia\", \"locations\": [\"AFG\", \"ARM\", \"AZE\", \"BGD\", \"KHM\", \"GEO\", \"IND\", \"IDN\", \"KAZ\", \"KGZ\", \"LBN\", \"MYS\", \"MNG\", \"MMR\", \"NPL\", \"PAK\", \"PHL\", \"LKA\", \"TJK\", \"THA\", \"UZB\", \"VNM\"], \"marker\": {\"color\": \"#636efa\", \"size\": [2869.230769230769, 1696.1538461538462, 3546.153846153846, 3788.4615384615386, 80276.92307692308, 3611.5384615384614, 1693461.5384615385, 228257.6923076923, 7496.153846153846, 2776.923076923077, 1334.6153846153845, 88673.07692307692, 188.46153846153845, 173153.84615384616, 26992.30769230769, 26607.69230769231, 9369.23076923077, 1400.0, 7215.384615384615, 517692.3076923077, 28830.76923076923, 132942.3076923077], \"sizemode\": \"area\", \"sizeref\": 11777.884615384615}, \"name\": \"Continent Name=Asia\", \"showlegend\": true, \"type\": \"scattergeo\"}, {\"geo\": \"geo\", \"hoverlabel\": {\"namelength\": 0}, \"hovertemplate\": \"<b>%{hovertext}</b><br><br>Continent Name=Africa<br>mean=%{marker.size}<br>Country Code=%{location}\", \"hovertext\": [\"Algeria\", \"Angola\", \"Benin\", \"Botswana\", \"Burkina Faso\", \"Burundi\", \"Cabo Verde\", \"Cameroon\", \"Central African Republic\", \"Chad\", \"Djibouti\", \"Equatorial Guinea\", \"Eritrea\", \"Gabon\", \"Ghana\", \"Guinea\", \"Kenya\", \"Lesotho\", \"Liberia\", \"Madagascar\", \"Malawi\", \"Mali\", \"Mauritania\", \"Mauritius\", \"Morocco\", \"Mozambique\", \"Namibia\", \"Niger\", \"Nigeria\", \"Rwanda\", \"Senegal\", \"Sierra Leone\", \"Somalia\", \"South Africa\", \"South Sudan\", \"Sudan\", \"Swaziland\", \"Tanzania\", \"Togo\", \"Tunisia\", \"Uganda\", \"Zambia\", \"Zimbabwe\"], \"legendgroup\": \"Continent Name=Africa\", \"locations\": [\"DZA\", \"AGO\", \"BEN\", \"BWA\", \"BFA\", \"BDI\", \"CPV\", \"CMR\", \"CAF\", \"TCD\", \"DJI\", \"GNQ\", \"ERI\", \"GAB\", \"GHA\", \"GIN\", \"KEN\", \"LSO\", \"LBR\", \"MDG\", \"MWI\", \"MLI\", \"MRT\", \"MUS\", \"MAR\", \"MOZ\", \"NAM\", \"NER\", \"NGA\", \"RWA\", \"SEN\", \"SLE\", \"SOM\", \"ZAF\", \"SSD\", \"SDN\", \"SWZ\", \"TZA\", \"TGO\", \"TUN\", \"UGA\", \"ZMB\", \"ZWE\"], \"marker\": {\"color\": \"#EF553B\", \"size\": [3946.153846153846, 161269.23076923078, 48853.846153846156, 246846.15384615384, 137615.38461538462, 87769.23076923077, 2976.923076923077, 446538.46153846156, 140384.61538461538, 132115.38461538462, 8523.076923076924, 14876.923076923076, 13696.153846153846, 34688.46153846154, 265384.6153846154, 81653.84615384616, 1446153.8461538462, 194576.92307692306, 29973.076923076922, 34161.53846153846, 878846.1538461539, 105961.53846153847, 11292.307692307691, 6426.923076923077, 13861.538461538461, 820461.5384615385, 145500.0, 51076.92307692308, 2498076.923076923, 194615.38461538462, 35796.153846153844, 29403.846153846152, 21684.615384615383, 4711153.846153846, 99488.46153846153, 24857.69230769231, 127700.0, 1249230.7692307692, 103423.07692307692, 988.4615384615385, 1117307.6923076923, 907307.6923076923, 1367307.6923076923], \"sizemode\": \"area\", \"sizeref\": 11777.884615384615}, \"name\": \"Continent Name=Africa\", \"showlegend\": true, \"type\": \"scattergeo\"}, {\"geo\": \"geo\", \"hoverlabel\": {\"namelength\": 0}, \"hovertemplate\": \"<b>%{hovertext}</b><br><br>Continent Name=South America<br>mean=%{marker.size}<br>Country Code=%{location}\", \"hovertext\": [\"Argentina\", \"Bolivia\", \"Brazil\", \"Chile\", \"Colombia\", \"Ecuador\", \"Guyana\", \"Paraguay\", \"Peru\", \"Suriname\", \"Uruguay\"], \"legendgroup\": \"Continent Name=South America\", \"locations\": [\"ARG\", \"BOL\", \"BRA\", \"CHL\", \"COL\", \"ECU\", \"GUY\", \"PRY\", \"PER\", \"SUR\", \"URY\"], \"marker\": {\"color\": \"#00cc96\", \"size\": [72769.23076923077, 13542.307692307691, 532307.6923076923, 19000.0, 75653.84615384616, 23280.76923076923, 4484.615384615385, 11188.461538461539, 61615.38461538462, 2803.846153846154, 7088.461538461538], \"sizemode\": \"area\", \"sizeref\": 11777.884615384615}, \"name\": \"Continent Name=South America\", \"showlegend\": true, \"type\": \"scattergeo\"}, {\"geo\": \"geo\", \"hoverlabel\": {\"namelength\": 0}, \"hovertemplate\": \"<b>%{hovertext}</b><br><br>Continent Name=Oceania<br>mean=%{marker.size}<br>Country Code=%{location}\", \"hovertext\": [\"Australia\", \"Papua New Guinea\"], \"legendgroup\": \"Continent Name=Oceania\", \"locations\": [\"AUS\", \"PNG\"], \"marker\": {\"color\": \"#ab63fa\", \"size\": [17807.69230769231, 24584.615384615383], \"sizemode\": \"area\", \"sizeref\": 11777.884615384615}, \"name\": \"Continent Name=Oceania\", \"showlegend\": true, \"type\": \"scattergeo\"}, {\"geo\": \"geo\", \"hoverlabel\": {\"namelength\": 0}, \"hovertemplate\": \"<b>%{hovertext}</b><br><br>Continent Name=North America<br>mean=%{marker.size}<br>Country Code=%{location}\", \"hovertext\": [\"Barbados\", \"Belize\", \"Costa Rica\", \"Cuba\", \"Dominican Republic\", \"El Salvador\", \"Guatemala\", \"Haiti\", \"Honduras\", \"Jamaica\", \"Mexico\", \"Nicaragua\", \"Panama\", \"Trinidad and Tobago\"], \"legendgroup\": \"Continent Name=North America\", \"locations\": [\"BRB\", \"BLZ\", \"CRI\", \"CUB\", \"DOM\", \"SLV\", \"GTM\", \"HTI\", \"HND\", \"JAM\", \"MEX\", \"NIC\", \"PAN\", \"TTO\"], \"marker\": {\"color\": \"#FFA15A\", \"size\": [1442.3076923076924, 2038.4615384615386, 5073.076923076923, 6219.2307692307695, 79576.92307692308, 13746.153846153846, 25196.153846153848, 196730.76923076922, 36461.53846153846, 27153.846153846152, 148307.6923076923, 9073.076923076924, 11953.846153846154, 7907.692307692308], \"sizemode\": \"area\", \"sizeref\": 11777.884615384615}, \"name\": \"Continent Name=North America\", \"showlegend\": true, \"type\": \"scattergeo\"}, {\"geo\": \"geo\", \"hoverlabel\": {\"namelength\": 0}, \"hovertemplate\": \"<b>%{hovertext}</b><br><br>Continent Name=Europe<br>mean=%{marker.size}<br>Country Code=%{location}\", \"hovertext\": [\"Belarus\", \"Greece\", \"Italy\", \"Latvia\", \"Moldova\", \"Spain\", \"Ukraine\"], \"legendgroup\": \"Continent Name=Europe\", \"locations\": [\"BLR\", \"GRC\", \"ITA\", \"LVA\", \"MDA\", \"ESP\", \"UKR\"], \"marker\": {\"color\": \"#19d3f3\", \"size\": [11780.76923076923, 10819.23076923077, 72057.69230769231, 5542.307692307692, 9261.538461538461, 123807.69230769231, 161538.46153846153], \"sizemode\": \"area\", \"sizeref\": 11777.884615384615}, \"name\": \"Continent Name=Europe\", \"showlegend\": true, \"type\": \"scattergeo\"}],\n",
              "                        {\"geo\": {\"center\": {}, \"domain\": {\"x\": [0.0, 1.0], \"y\": [0.0, 1.0]}, \"projection\": {\"type\": \"orthographic\"}}, \"legend\": {\"itemsizing\": \"constant\", \"tracegroupgap\": 0}, \"template\": {\"data\": {\"bar\": [{\"error_x\": {\"color\": \"#2a3f5f\"}, \"error_y\": {\"color\": \"#2a3f5f\"}, \"marker\": {\"line\": {\"color\": \"#E5ECF6\", \"width\": 0.5}}, \"type\": \"bar\"}], \"barpolar\": [{\"marker\": {\"line\": {\"color\": \"#E5ECF6\", \"width\": 0.5}}, \"type\": \"barpolar\"}], \"carpet\": [{\"aaxis\": {\"endlinecolor\": \"#2a3f5f\", \"gridcolor\": \"white\", \"linecolor\": \"white\", \"minorgridcolor\": \"white\", \"startlinecolor\": \"#2a3f5f\"}, \"baxis\": {\"endlinecolor\": \"#2a3f5f\", \"gridcolor\": \"white\", \"linecolor\": \"white\", \"minorgridcolor\": \"white\", \"startlinecolor\": \"#2a3f5f\"}, \"type\": \"carpet\"}], \"choropleth\": [{\"colorbar\": {\"outlinewidth\": 0, \"ticks\": \"\"}, \"type\": \"choropleth\"}], \"contour\": [{\"colorbar\": {\"outlinewidth\": 0, \"ticks\": \"\"}, \"colorscale\": [[0.0, \"#0d0887\"], [0.1111111111111111, \"#46039f\"], [0.2222222222222222, \"#7201a8\"], [0.3333333333333333, \"#9c179e\"], [0.4444444444444444, \"#bd3786\"], [0.5555555555555556, \"#d8576b\"], [0.6666666666666666, \"#ed7953\"], [0.7777777777777778, \"#fb9f3a\"], [0.8888888888888888, \"#fdca26\"], [1.0, \"#f0f921\"]], \"type\": \"contour\"}], \"contourcarpet\": [{\"colorbar\": {\"outlinewidth\": 0, \"ticks\": \"\"}, \"type\": \"contourcarpet\"}], \"heatmap\": [{\"colorbar\": {\"outlinewidth\": 0, \"ticks\": \"\"}, \"colorscale\": [[0.0, \"#0d0887\"], [0.1111111111111111, \"#46039f\"], [0.2222222222222222, \"#7201a8\"], [0.3333333333333333, \"#9c179e\"], [0.4444444444444444, \"#bd3786\"], [0.5555555555555556, \"#d8576b\"], [0.6666666666666666, \"#ed7953\"], [0.7777777777777778, \"#fb9f3a\"], [0.8888888888888888, \"#fdca26\"], [1.0, \"#f0f921\"]], \"type\": \"heatmap\"}], \"heatmapgl\": [{\"colorbar\": {\"outlinewidth\": 0, \"ticks\": \"\"}, \"colorscale\": [[0.0, \"#0d0887\"], [0.1111111111111111, \"#46039f\"], [0.2222222222222222, \"#7201a8\"], [0.3333333333333333, \"#9c179e\"], [0.4444444444444444, \"#bd3786\"], [0.5555555555555556, \"#d8576b\"], [0.6666666666666666, \"#ed7953\"], [0.7777777777777778, \"#fb9f3a\"], [0.8888888888888888, \"#fdca26\"], [1.0, \"#f0f921\"]], \"type\": \"heatmapgl\"}], \"histogram\": [{\"marker\": {\"colorbar\": {\"outlinewidth\": 0, \"ticks\": \"\"}}, \"type\": \"histogram\"}], \"histogram2d\": [{\"colorbar\": {\"outlinewidth\": 0, \"ticks\": \"\"}, \"colorscale\": [[0.0, \"#0d0887\"], [0.1111111111111111, \"#46039f\"], [0.2222222222222222, \"#7201a8\"], [0.3333333333333333, \"#9c179e\"], [0.4444444444444444, \"#bd3786\"], [0.5555555555555556, \"#d8576b\"], [0.6666666666666666, \"#ed7953\"], [0.7777777777777778, \"#fb9f3a\"], [0.8888888888888888, \"#fdca26\"], [1.0, \"#f0f921\"]], \"type\": \"histogram2d\"}], \"histogram2dcontour\": [{\"colorbar\": {\"outlinewidth\": 0, \"ticks\": \"\"}, \"colorscale\": [[0.0, \"#0d0887\"], [0.1111111111111111, \"#46039f\"], [0.2222222222222222, \"#7201a8\"], [0.3333333333333333, \"#9c179e\"], [0.4444444444444444, \"#bd3786\"], [0.5555555555555556, \"#d8576b\"], [0.6666666666666666, \"#ed7953\"], [0.7777777777777778, \"#fb9f3a\"], [0.8888888888888888, \"#fdca26\"], [1.0, \"#f0f921\"]], \"type\": \"histogram2dcontour\"}], \"mesh3d\": [{\"colorbar\": {\"outlinewidth\": 0, \"ticks\": \"\"}, \"type\": \"mesh3d\"}], \"parcoords\": [{\"line\": {\"colorbar\": {\"outlinewidth\": 0, \"ticks\": \"\"}}, \"type\": \"parcoords\"}], \"pie\": [{\"automargin\": true, \"type\": \"pie\"}], \"scatter\": [{\"marker\": {\"colorbar\": {\"outlinewidth\": 0, \"ticks\": \"\"}}, \"type\": \"scatter\"}], \"scatter3d\": [{\"line\": {\"colorbar\": {\"outlinewidth\": 0, \"ticks\": \"\"}}, \"marker\": {\"colorbar\": {\"outlinewidth\": 0, \"ticks\": \"\"}}, \"type\": \"scatter3d\"}], \"scattercarpet\": [{\"marker\": {\"colorbar\": {\"outlinewidth\": 0, \"ticks\": \"\"}}, \"type\": \"scattercarpet\"}], \"scattergeo\": [{\"marker\": {\"colorbar\": {\"outlinewidth\": 0, \"ticks\": \"\"}}, \"type\": \"scattergeo\"}], \"scattergl\": [{\"marker\": {\"colorbar\": {\"outlinewidth\": 0, \"ticks\": \"\"}}, \"type\": \"scattergl\"}], \"scattermapbox\": [{\"marker\": {\"colorbar\": {\"outlinewidth\": 0, \"ticks\": \"\"}}, \"type\": \"scattermapbox\"}], \"scatterpolar\": [{\"marker\": {\"colorbar\": {\"outlinewidth\": 0, \"ticks\": \"\"}}, \"type\": \"scatterpolar\"}], \"scatterpolargl\": [{\"marker\": {\"colorbar\": {\"outlinewidth\": 0, \"ticks\": \"\"}}, \"type\": \"scatterpolargl\"}], \"scatterternary\": [{\"marker\": {\"colorbar\": {\"outlinewidth\": 0, \"ticks\": \"\"}}, \"type\": \"scatterternary\"}], \"surface\": [{\"colorbar\": {\"outlinewidth\": 0, \"ticks\": \"\"}, \"colorscale\": [[0.0, \"#0d0887\"], [0.1111111111111111, \"#46039f\"], [0.2222222222222222, \"#7201a8\"], [0.3333333333333333, \"#9c179e\"], [0.4444444444444444, \"#bd3786\"], [0.5555555555555556, \"#d8576b\"], [0.6666666666666666, \"#ed7953\"], [0.7777777777777778, \"#fb9f3a\"], [0.8888888888888888, \"#fdca26\"], [1.0, \"#f0f921\"]], \"type\": \"surface\"}], \"table\": [{\"cells\": {\"fill\": {\"color\": \"#EBF0F8\"}, \"line\": {\"color\": \"white\"}}, \"header\": {\"fill\": {\"color\": \"#C8D4E3\"}, \"line\": {\"color\": \"white\"}}, \"type\": \"table\"}]}, \"layout\": {\"annotationdefaults\": {\"arrowcolor\": \"#2a3f5f\", \"arrowhead\": 0, \"arrowwidth\": 1}, \"coloraxis\": {\"colorbar\": {\"outlinewidth\": 0, \"ticks\": \"\"}}, \"colorscale\": {\"diverging\": [[0, \"#8e0152\"], [0.1, \"#c51b7d\"], [0.2, \"#de77ae\"], [0.3, \"#f1b6da\"], [0.4, \"#fde0ef\"], [0.5, \"#f7f7f7\"], [0.6, \"#e6f5d0\"], [0.7, \"#b8e186\"], [0.8, \"#7fbc41\"], [0.9, \"#4d9221\"], [1, \"#276419\"]], \"sequential\": [[0.0, \"#0d0887\"], [0.1111111111111111, \"#46039f\"], [0.2222222222222222, \"#7201a8\"], [0.3333333333333333, \"#9c179e\"], [0.4444444444444444, \"#bd3786\"], [0.5555555555555556, \"#d8576b\"], [0.6666666666666666, \"#ed7953\"], [0.7777777777777778, \"#fb9f3a\"], [0.8888888888888888, \"#fdca26\"], [1.0, \"#f0f921\"]], \"sequentialminus\": [[0.0, \"#0d0887\"], [0.1111111111111111, \"#46039f\"], [0.2222222222222222, \"#7201a8\"], [0.3333333333333333, \"#9c179e\"], [0.4444444444444444, \"#bd3786\"], [0.5555555555555556, \"#d8576b\"], [0.6666666666666666, \"#ed7953\"], [0.7777777777777778, \"#fb9f3a\"], [0.8888888888888888, \"#fdca26\"], [1.0, \"#f0f921\"]]}, \"colorway\": [\"#636efa\", \"#EF553B\", \"#00cc96\", \"#ab63fa\", \"#FFA15A\", \"#19d3f3\", \"#FF6692\", \"#B6E880\", \"#FF97FF\", \"#FECB52\"], \"font\": {\"color\": \"#2a3f5f\"}, \"geo\": {\"bgcolor\": \"white\", \"lakecolor\": \"white\", \"landcolor\": \"#E5ECF6\", \"showlakes\": true, \"showland\": true, \"subunitcolor\": \"white\"}, \"hoverlabel\": {\"align\": \"left\"}, \"hovermode\": \"closest\", \"mapbox\": {\"style\": \"light\"}, \"paper_bgcolor\": \"white\", \"plot_bgcolor\": \"#E5ECF6\", \"polar\": {\"angularaxis\": {\"gridcolor\": \"white\", \"linecolor\": \"white\", \"ticks\": \"\"}, \"bgcolor\": \"#E5ECF6\", \"radialaxis\": {\"gridcolor\": \"white\", \"linecolor\": \"white\", \"ticks\": \"\"}}, \"scene\": {\"xaxis\": {\"backgroundcolor\": \"#E5ECF6\", \"gridcolor\": \"white\", \"gridwidth\": 2, \"linecolor\": \"white\", \"showbackground\": true, \"ticks\": \"\", \"zerolinecolor\": \"white\"}, \"yaxis\": {\"backgroundcolor\": \"#E5ECF6\", \"gridcolor\": \"white\", \"gridwidth\": 2, \"linecolor\": \"white\", \"showbackground\": true, \"ticks\": \"\", \"zerolinecolor\": \"white\"}, \"zaxis\": {\"backgroundcolor\": \"#E5ECF6\", \"gridcolor\": \"white\", \"gridwidth\": 2, \"linecolor\": \"white\", \"showbackground\": true, \"ticks\": \"\", \"zerolinecolor\": \"white\"}}, \"shapedefaults\": {\"line\": {\"color\": \"#2a3f5f\"}}, \"ternary\": {\"aaxis\": {\"gridcolor\": \"white\", \"linecolor\": \"white\", \"ticks\": \"\"}, \"baxis\": {\"gridcolor\": \"white\", \"linecolor\": \"white\", \"ticks\": \"\"}, \"bgcolor\": \"#E5ECF6\", \"caxis\": {\"gridcolor\": \"white\", \"linecolor\": \"white\", \"ticks\": \"\"}}, \"title\": {\"x\": 0.05}, \"xaxis\": {\"automargin\": true, \"gridcolor\": \"white\", \"linecolor\": \"white\", \"ticks\": \"\", \"title\": {\"standoff\": 15}, \"zerolinecolor\": \"white\", \"zerolinewidth\": 2}, \"yaxis\": {\"automargin\": true, \"gridcolor\": \"white\", \"linecolor\": \"white\", \"ticks\": \"\", \"title\": {\"standoff\": 15}, \"zerolinecolor\": \"white\", \"zerolinewidth\": 2}}}, \"title\": {\"text\": \"Average Total HIV Counts for different Continents from 1990 to 2015\"}},\n",
              "                        {\"responsive\": true}\n",
              "                    ).then(function(){\n",
              "                            \n",
              "var gd = document.getElementById('4f853423-6b4d-4d29-849d-1db6a060eedd');\n",
              "var x = new MutationObserver(function (mutations, observer) {{\n",
              "        var display = window.getComputedStyle(gd).display;\n",
              "        if (!display || display === 'none') {{\n",
              "            console.log([gd, 'removed!']);\n",
              "            Plotly.purge(gd);\n",
              "            observer.disconnect();\n",
              "        }}\n",
              "}});\n",
              "\n",
              "// Listen for the removal of the full notebook cells\n",
              "var notebookContainer = gd.closest('#notebook-container');\n",
              "if (notebookContainer) {{\n",
              "    x.observe(notebookContainer, {childList: true});\n",
              "}}\n",
              "\n",
              "// Listen for the clearing of the current output cell\n",
              "var outputEl = gd.closest('.output');\n",
              "if (outputEl) {{\n",
              "    x.observe(outputEl, {childList: true});\n",
              "}}\n",
              "\n",
              "                        })\n",
              "                };\n",
              "                \n",
              "            </script>\n",
              "        </div>\n",
              "</body>\n",
              "</html>"
            ]
          },
          "metadata": {}
        }
      ],
      "source": [
        "fig = px.scatter_geo(total_HIV_df, locations=\"Country Code\",\n",
        "                     color=\"Continent Name\", # which column to use to set the color of markers\n",
        "                     hover_name=\"Country Name\", # column added to hover information\n",
        "                     size=\"mean\", # size of markers\n",
        "                     projection=\"orthographic\",\n",
        "                     title=\"Average Total HIV Counts for different Continents from 1990 to 2015\")\n",
        "fig"
      ]
    },
    {
      "cell_type": "markdown",
      "metadata": {
        "id": "28z954Pp3z7D"
      },
      "source": [
        "## Plot HIV counts for each country and continent among children\n",
        "\n",
        "In this section, we are going to create visual images for the average distribution of Children (0-14) living with HIV.\n",
        "\n",
        "1. Calculate the mean for Children (0-14) living with HIV over the years for each country.\n",
        "2. Create box plot that shows the average count for each country over the years.\n",
        "3. Create pie charts for average precentage distribution around the world and at different continents.\n",
        "4. Create world maps for average data distribution around the world."
      ]
    },
    {
      "cell_type": "code",
      "execution_count": null,
      "metadata": {
        "colab": {
          "base_uri": "https://localhost:8080/",
          "height": 556
        },
        "id": "9pXKVlSkToab",
        "outputId": "61c1edb9-a12c-4365-b36d-7e056570c629"
      },
      "outputs": [
        {
          "output_type": "stream",
          "name": "stderr",
          "text": [
            "/usr/local/lib/python3.7/dist-packages/ipykernel_launcher.py:2: SettingWithCopyWarning:\n",
            "\n",
            "\n",
            "A value is trying to be set on a copy of a slice from a DataFrame.\n",
            "Try using .loc[row_indexer,col_indexer] = value instead\n",
            "\n",
            "See the caveats in the documentation: https://pandas.pydata.org/pandas-docs/stable/user_guide/indexing.html#returning-a-view-versus-a-copy\n",
            "\n"
          ]
        },
        {
          "output_type": "execute_result",
          "data": {
            "text/html": [
              "<div>\n",
              "<style scoped>\n",
              "    .dataframe tbody tr th:only-of-type {\n",
              "        vertical-align: middle;\n",
              "    }\n",
              "\n",
              "    .dataframe tbody tr th {\n",
              "        vertical-align: top;\n",
              "    }\n",
              "\n",
              "    .dataframe thead th {\n",
              "        text-align: right;\n",
              "    }\n",
              "</style>\n",
              "<table border=\"1\" class=\"dataframe\">\n",
              "  <thead>\n",
              "    <tr style=\"text-align: right;\">\n",
              "      <th></th>\n",
              "      <th>Country Name</th>\n",
              "      <th>Country Code</th>\n",
              "      <th>Indicator Name</th>\n",
              "      <th>Indicator Code</th>\n",
              "      <th>1990</th>\n",
              "      <th>1991</th>\n",
              "      <th>1992</th>\n",
              "      <th>1993</th>\n",
              "      <th>1994</th>\n",
              "      <th>1995</th>\n",
              "      <th>1996</th>\n",
              "      <th>1997</th>\n",
              "      <th>1998</th>\n",
              "      <th>1999</th>\n",
              "      <th>2000</th>\n",
              "      <th>2001</th>\n",
              "      <th>2002</th>\n",
              "      <th>2003</th>\n",
              "      <th>2004</th>\n",
              "      <th>2005</th>\n",
              "      <th>2006</th>\n",
              "      <th>2007</th>\n",
              "      <th>2008</th>\n",
              "      <th>2009</th>\n",
              "      <th>2010</th>\n",
              "      <th>2011</th>\n",
              "      <th>2012</th>\n",
              "      <th>2013</th>\n",
              "      <th>2014</th>\n",
              "      <th>2015</th>\n",
              "      <th>Continent Code</th>\n",
              "      <th>Continent Name</th>\n",
              "      <th>mean</th>\n",
              "    </tr>\n",
              "  </thead>\n",
              "  <tbody>\n",
              "    <tr>\n",
              "      <th>74938</th>\n",
              "      <td>South Africa</td>\n",
              "      <td>ZAF</td>\n",
              "      <td>Children (0-14) living with HIV</td>\n",
              "      <td>SH.HIV.0014</td>\n",
              "      <td>5800.0</td>\n",
              "      <td>10000.0</td>\n",
              "      <td>17000.0</td>\n",
              "      <td>27000.0</td>\n",
              "      <td>40000.0</td>\n",
              "      <td>58000.0</td>\n",
              "      <td>81000.0</td>\n",
              "      <td>110000.0</td>\n",
              "      <td>140000.0</td>\n",
              "      <td>170000.0</td>\n",
              "      <td>200000.0</td>\n",
              "      <td>230000.0</td>\n",
              "      <td>260000.0</td>\n",
              "      <td>290000.0</td>\n",
              "      <td>320000.0</td>\n",
              "      <td>340000.0</td>\n",
              "      <td>350000.0</td>\n",
              "      <td>360000.0</td>\n",
              "      <td>370000.0</td>\n",
              "      <td>360000.0</td>\n",
              "      <td>340000.0</td>\n",
              "      <td>320000.0</td>\n",
              "      <td>300000.0</td>\n",
              "      <td>280000.0</td>\n",
              "      <td>260000.0</td>\n",
              "      <td>240000.0</td>\n",
              "      <td>AF</td>\n",
              "      <td>Africa</td>\n",
              "      <td>210723.076923</td>\n",
              "    </tr>\n",
              "    <tr>\n",
              "      <th>63898</th>\n",
              "      <td>Nigeria</td>\n",
              "      <td>NGA</td>\n",
              "      <td>Children (0-14) living with HIV</td>\n",
              "      <td>SH.HIV.0014</td>\n",
              "      <td>28000.0</td>\n",
              "      <td>35000.0</td>\n",
              "      <td>45000.0</td>\n",
              "      <td>56000.0</td>\n",
              "      <td>69000.0</td>\n",
              "      <td>83000.0</td>\n",
              "      <td>99000.0</td>\n",
              "      <td>120000.0</td>\n",
              "      <td>130000.0</td>\n",
              "      <td>150000.0</td>\n",
              "      <td>170000.0</td>\n",
              "      <td>180000.0</td>\n",
              "      <td>200000.0</td>\n",
              "      <td>210000.0</td>\n",
              "      <td>220000.0</td>\n",
              "      <td>240000.0</td>\n",
              "      <td>240000.0</td>\n",
              "      <td>250000.0</td>\n",
              "      <td>260000.0</td>\n",
              "      <td>260000.0</td>\n",
              "      <td>260000.0</td>\n",
              "      <td>270000.0</td>\n",
              "      <td>270000.0</td>\n",
              "      <td>270000.0</td>\n",
              "      <td>260000.0</td>\n",
              "      <td>260000.0</td>\n",
              "      <td>AF</td>\n",
              "      <td>Africa</td>\n",
              "      <td>178269.230769</td>\n",
              "    </tr>\n",
              "    <tr>\n",
              "      <th>48718</th>\n",
              "      <td>Kenya</td>\n",
              "      <td>KEN</td>\n",
              "      <td>Children (0-14) living with HIV</td>\n",
              "      <td>SH.HIV.0014</td>\n",
              "      <td>38000.0</td>\n",
              "      <td>51000.0</td>\n",
              "      <td>65000.0</td>\n",
              "      <td>81000.0</td>\n",
              "      <td>97000.0</td>\n",
              "      <td>110000.0</td>\n",
              "      <td>130000.0</td>\n",
              "      <td>140000.0</td>\n",
              "      <td>160000.0</td>\n",
              "      <td>170000.0</td>\n",
              "      <td>170000.0</td>\n",
              "      <td>180000.0</td>\n",
              "      <td>180000.0</td>\n",
              "      <td>190000.0</td>\n",
              "      <td>180000.0</td>\n",
              "      <td>180000.0</td>\n",
              "      <td>170000.0</td>\n",
              "      <td>170000.0</td>\n",
              "      <td>160000.0</td>\n",
              "      <td>150000.0</td>\n",
              "      <td>140000.0</td>\n",
              "      <td>130000.0</td>\n",
              "      <td>120000.0</td>\n",
              "      <td>110000.0</td>\n",
              "      <td>110000.0</td>\n",
              "      <td>98000.0</td>\n",
              "      <td>AF</td>\n",
              "      <td>Africa</td>\n",
              "      <td>133846.153846</td>\n",
              "    </tr>\n",
              "    <tr>\n",
              "      <th>83908</th>\n",
              "      <td>Uganda</td>\n",
              "      <td>UGA</td>\n",
              "      <td>Children (0-14) living with HIV</td>\n",
              "      <td>SH.HIV.0014</td>\n",
              "      <td>74000.0</td>\n",
              "      <td>85000.0</td>\n",
              "      <td>96000.0</td>\n",
              "      <td>110000.0</td>\n",
              "      <td>110000.0</td>\n",
              "      <td>120000.0</td>\n",
              "      <td>130000.0</td>\n",
              "      <td>130000.0</td>\n",
              "      <td>130000.0</td>\n",
              "      <td>140000.0</td>\n",
              "      <td>140000.0</td>\n",
              "      <td>140000.0</td>\n",
              "      <td>140000.0</td>\n",
              "      <td>130000.0</td>\n",
              "      <td>130000.0</td>\n",
              "      <td>130000.0</td>\n",
              "      <td>130000.0</td>\n",
              "      <td>130000.0</td>\n",
              "      <td>130000.0</td>\n",
              "      <td>130000.0</td>\n",
              "      <td>130000.0</td>\n",
              "      <td>130000.0</td>\n",
              "      <td>120000.0</td>\n",
              "      <td>110000.0</td>\n",
              "      <td>100000.0</td>\n",
              "      <td>96000.0</td>\n",
              "      <td>AF</td>\n",
              "      <td>Africa</td>\n",
              "      <td>120807.692308</td>\n",
              "    </tr>\n",
              "    <tr>\n",
              "      <th>80113</th>\n",
              "      <td>Tanzania</td>\n",
              "      <td>TZA</td>\n",
              "      <td>Children (0-14) living with HIV</td>\n",
              "      <td>SH.HIV.0014</td>\n",
              "      <td>36000.0</td>\n",
              "      <td>44000.0</td>\n",
              "      <td>53000.0</td>\n",
              "      <td>62000.0</td>\n",
              "      <td>72000.0</td>\n",
              "      <td>82000.0</td>\n",
              "      <td>91000.0</td>\n",
              "      <td>100000.0</td>\n",
              "      <td>110000.0</td>\n",
              "      <td>120000.0</td>\n",
              "      <td>120000.0</td>\n",
              "      <td>130000.0</td>\n",
              "      <td>140000.0</td>\n",
              "      <td>140000.0</td>\n",
              "      <td>140000.0</td>\n",
              "      <td>140000.0</td>\n",
              "      <td>140000.0</td>\n",
              "      <td>140000.0</td>\n",
              "      <td>140000.0</td>\n",
              "      <td>140000.0</td>\n",
              "      <td>130000.0</td>\n",
              "      <td>120000.0</td>\n",
              "      <td>110000.0</td>\n",
              "      <td>110000.0</td>\n",
              "      <td>98000.0</td>\n",
              "      <td>91000.0</td>\n",
              "      <td>AF</td>\n",
              "      <td>Africa</td>\n",
              "      <td>107653.846154</td>\n",
              "    </tr>\n",
              "  </tbody>\n",
              "</table>\n",
              "</div>"
            ],
            "text/plain": [
              "       Country Name Country Code  ... Continent Name           mean\n",
              "74938  South Africa          ZAF  ...         Africa  210723.076923\n",
              "63898       Nigeria          NGA  ...         Africa  178269.230769\n",
              "48718         Kenya          KEN  ...         Africa  133846.153846\n",
              "83908        Uganda          UGA  ...         Africa  120807.692308\n",
              "80113      Tanzania          TZA  ...         Africa  107653.846154\n",
              "\n",
              "[5 rows x 33 columns]"
            ]
          },
          "metadata": {},
          "execution_count": 23
        }
      ],
      "source": [
        "children_HIV_df=cleaned_df[(cleaned_df[\"Indicator Code\"]==\"SH.HIV.0014\")]\n",
        "children_HIV_df[\"mean\"]=children_HIV_df.mean(axis=1)\n",
        "children_HIV_df.sort_values(by=[\"mean\"],ascending=False).head(5)"
      ]
    },
    {
      "cell_type": "code",
      "execution_count": null,
      "metadata": {
        "colab": {
          "base_uri": "https://localhost:8080/",
          "height": 298
        },
        "id": "Ht1rJDIzT_Ze",
        "outputId": "b659fb64-f9f2-4b7b-f159-09fab2c41492"
      },
      "outputs": [
        {
          "output_type": "execute_result",
          "data": {
            "text/plain": [
              "<matplotlib.axes._subplots.AxesSubplot at 0x7f178874e710>"
            ]
          },
          "metadata": {},
          "execution_count": 24
        },
        {
          "output_type": "display_data",
          "data": {
            "image/png": "[encoded data removed]",
            "text/plain": [
              "<Figure size 432x288 with 1 Axes>"
            ]
          },
          "metadata": {
            "needs_background": "light"
          }
        }
      ],
      "source": [
        "children_HIV_df.boxplot(column=used_years,rot=90)"
      ]
    },
    {
      "cell_type": "markdown",
      "metadata": {
        "id": "xrU4Aoij5M3n"
      },
      "source": [
        "#### Data Percentage Distribution By Country\n",
        "**Motivation:** In the dataset, there is geographic information. I am curious about the average precentage distribution of HIV counts for children (0-14) living with HIV around the world.\n",
        "\n",
        "**Conclusion:** From the pie chart below, we see that the top three countries that have high percentage of children living with HIV is South Africa, Nigeria, and Kenya."
      ]
    },
    {
      "cell_type": "code",
      "execution_count": null,
      "metadata": {
        "colab": {
          "base_uri": "https://localhost:8080/",
          "height": 542
        },
        "id": "2__ENd1ZZIoy",
        "outputId": "4020e895-6aa9-45fc-f0e4-b5b707913185"
      },
      "outputs": [
        {
          "output_type": "display_data",
          "data": {
            "text/html": [
              "<html>\n",
              "<head><meta charset=\"utf-8\" /></head>\n",
              "<body>\n",
              "    <div>\n",
              "            <script src=\"https://cdnjs.cloudflare.com/ajax/libs/mathjax/2.7.5/MathJax.js?config=TeX-AMS-MML_SVG\"></script><script type=\"text/javascript\">if (window.MathJax) {MathJax.Hub.Config({SVG: {font: \"STIX-Web\"}});}</script>\n",
              "                <script type=\"text/javascript\">window.PlotlyConfig = {MathJaxConfig: 'local'};</script>\n",
              "        <script src=\"https://cdn.plot.ly/plotly-latest.min.js\"></script>    \n",
              "            <div id=\"f6447aef-7944-4f94-bce9-e9d1d03e077b\" class=\"plotly-graph-div\" style=\"height:525px; width:100%;\"></div>\n",
              "            <script type=\"text/javascript\">\n",
              "                \n",
              "                    window.PLOTLYENV=window.PLOTLYENV || {};\n",
              "                    \n",
              "                if (document.getElementById(\"f6447aef-7944-4f94-bce9-e9d1d03e077b\")) {\n",
              "                    Plotly.newPlot(\n",
              "                        'f6447aef-7944-4f94-bce9-e9d1d03e077b',\n",
              "                        [{\"domain\": {\"x\": [0.0, 1.0], \"y\": [0.0, 1.0]}, \"hoverlabel\": {\"namelength\": 0}, \"hovertemplate\": \"Country Code=%{label}<br>mean=%{value}\", \"labels\": [\"AFG\", \"DZA\", \"AGO\", \"ARG\", \"AUS\", \"AZE\", \"BGD\", \"BLR\", \"BLZ\", \"BEN\", \"BOL\", \"BWA\", \"BRA\", \"BFA\", \"BDI\", \"CPV\", \"CMR\", \"CAF\", \"TCD\", \"COL\", \"CRI\", \"CUB\", \"DJI\", \"DOM\", \"ECU\", \"SLV\", \"GNQ\", \"ERI\", \"GAB\", \"GEO\", \"GHA\", \"GRC\", \"GTM\", \"GIN\", \"GUY\", \"HTI\", \"HND\", \"IDN\", \"ITA\", \"JAM\", \"KAZ\", \"KEN\", \"KGZ\", \"LVA\", \"LSO\", \"LBR\", \"MDG\", \"MWI\", \"MYS\", \"MLI\", \"MRT\", \"MEX\", \"MDA\", \"MNG\", \"MAR\", \"MOZ\", \"MMR\", \"NAM\", \"NPL\", \"NIC\", \"NER\", \"NGA\", \"PAK\", \"PAN\", \"PNG\", \"PRY\", \"PER\", \"PHL\", \"RWA\", \"SEN\", \"SLE\", \"SOM\", \"ZAF\", \"SSD\", \"ESP\", \"LKA\", \"SDN\", \"SUR\", \"SWZ\", \"TJK\", \"TZA\", \"THA\", \"TGO\", \"TTO\", \"UGA\", \"UKR\", \"URY\", \"UZB\", \"VNM\", \"ZMB\", \"ZWE\"], \"legendgroup\": \"\", \"name\": \"\", \"showlegend\": true, \"type\": \"pie\", \"values\": [176.92307692307693, 157.69230769230768, 13742.307692307691, 1007.6923076923077, 100.0, 100.0, 196.15384615384616, 126.92307692307692, 142.30769230769232, 3507.6923076923076, 676.9230769230769, 9626.923076923076, 8953.846153846154, 15153.846153846154, 9250.0, 292.3076923076923, 31415.384615384617, 10911.538461538461, 13142.307692307691, 1500.0, 142.30769230769232, 100.0, 796.1538461538462, 2780.769230769231, 807.6923076923077, 411.53846153846155, 1238.4615384615386, 1446.1538461538462, 2030.7692307692307, 100.0, 18615.384615384617, 100.0, 796.1538461538462, 6353.846153846154, 242.30769230769232, 12223.076923076924, 2596.153846153846, 4303.846153846154, 480.7692307692308, 676.9230769230769, 142.30769230769232, 133846.15384615384, 134.6153846153846, 100.0, 9430.76923076923, 3169.230769230769, 2696.153846153846, 84000.0, 342.3076923076923, 11288.461538461539, 915.3846153846154, 1653.8461538461538, 146.15384615384616, 100.0, 376.9230769230769, 62976.92307692308, 5415.384615384615, 7407.692307692308, 996.1538461538462, 700.0, 4711.538461538462, 178269.23076923078, 792.3076923076923, 384.61538461538464, 2023.076923076923, 380.7692307692308, 1896.1538461538462, 230.76923076923077, 18576.923076923078, 2984.6153846153848, 2184.6153846153848, 1865.3846153846155, 210723.07692307694, 7265.384615384615, 396.15384615384613, 100.0, 1550.0, 130.76923076923077, 7515.384615384615, 265.38461538461536, 107653.84615384616, 8600.0, 8757.692307692309, 100.0, 120807.69230769231, 1653.8461538461538, 100.0, 569.2307692307693, 1942.3076923076924, 84576.92307692308, 93153.84615384616]}],\n",
              "                        {\"legend\": {\"tracegroupgap\": 0}, \"piecolorway\": [\"rgb(103,0,31)\", \"rgb(178,24,43)\", \"rgb(214,96,77)\", \"rgb(244,165,130)\", \"rgb(253,219,199)\", \"rgb(247,247,247)\", \"rgb(209,229,240)\", \"rgb(146,197,222)\", \"rgb(67,147,195)\", \"rgb(33,102,172)\", \"rgb(5,48,97)\"], \"template\": {\"data\": {\"bar\": [{\"error_x\": {\"color\": \"#2a3f5f\"}, \"error_y\": {\"color\": \"#2a3f5f\"}, \"marker\": {\"line\": {\"color\": \"#E5ECF6\", \"width\": 0.5}}, \"type\": \"bar\"}], \"barpolar\": [{\"marker\": {\"line\": {\"color\": \"#E5ECF6\", \"width\": 0.5}}, \"type\": \"barpolar\"}], \"carpet\": [{\"aaxis\": {\"endlinecolor\": \"#2a3f5f\", \"gridcolor\": \"white\", \"linecolor\": \"white\", \"minorgridcolor\": \"white\", \"startlinecolor\": \"#2a3f5f\"}, \"baxis\": {\"endlinecolor\": \"#2a3f5f\", \"gridcolor\": \"white\", \"linecolor\": \"white\", \"minorgridcolor\": \"white\", \"startlinecolor\": \"#2a3f5f\"}, \"type\": \"carpet\"}], \"choropleth\": [{\"colorbar\": {\"outlinewidth\": 0, \"ticks\": \"\"}, \"type\": \"choropleth\"}], \"contour\": [{\"colorbar\": {\"outlinewidth\": 0, \"ticks\": \"\"}, \"colorscale\": [[0.0, \"#0d0887\"], [0.1111111111111111, \"#46039f\"], [0.2222222222222222, \"#7201a8\"], [0.3333333333333333, \"#9c179e\"], [0.4444444444444444, \"#bd3786\"], [0.5555555555555556, \"#d8576b\"], [0.6666666666666666, \"#ed7953\"], [0.7777777777777778, \"#fb9f3a\"], [0.8888888888888888, \"#fdca26\"], [1.0, \"#f0f921\"]], \"type\": \"contour\"}], \"contourcarpet\": [{\"colorbar\": {\"outlinewidth\": 0, \"ticks\": \"\"}, \"type\": \"contourcarpet\"}], \"heatmap\": [{\"colorbar\": {\"outlinewidth\": 0, \"ticks\": \"\"}, \"colorscale\": [[0.0, \"#0d0887\"], [0.1111111111111111, \"#46039f\"], [0.2222222222222222, \"#7201a8\"], [0.3333333333333333, \"#9c179e\"], [0.4444444444444444, \"#bd3786\"], [0.5555555555555556, \"#d8576b\"], [0.6666666666666666, \"#ed7953\"], [0.7777777777777778, \"#fb9f3a\"], [0.8888888888888888, \"#fdca26\"], [1.0, \"#f0f921\"]], \"type\": \"heatmap\"}], \"heatmapgl\": [{\"colorbar\": {\"outlinewidth\": 0, \"ticks\": \"\"}, \"colorscale\": [[0.0, \"#0d0887\"], [0.1111111111111111, \"#46039f\"], [0.2222222222222222, \"#7201a8\"], [0.3333333333333333, \"#9c179e\"], [0.4444444444444444, \"#bd3786\"], [0.5555555555555556, \"#d8576b\"], [0.6666666666666666, \"#ed7953\"], [0.7777777777777778, \"#fb9f3a\"], [0.8888888888888888, \"#fdca26\"], [1.0, \"#f0f921\"]], \"type\": \"heatmapgl\"}], \"histogram\": [{\"marker\": {\"colorbar\": {\"outlinewidth\": 0, \"ticks\": \"\"}}, \"type\": \"histogram\"}], \"histogram2d\": [{\"colorbar\": {\"outlinewidth\": 0, \"ticks\": \"\"}, \"colorscale\": [[0.0, \"#0d0887\"], [0.1111111111111111, \"#46039f\"], [0.2222222222222222, \"#7201a8\"], [0.3333333333333333, \"#9c179e\"], [0.4444444444444444, \"#bd3786\"], [0.5555555555555556, \"#d8576b\"], [0.6666666666666666, \"#ed7953\"], [0.7777777777777778, \"#fb9f3a\"], [0.8888888888888888, \"#fdca26\"], [1.0, \"#f0f921\"]], \"type\": \"histogram2d\"}], \"histogram2dcontour\": [{\"colorbar\": {\"outlinewidth\": 0, \"ticks\": \"\"}, \"colorscale\": [[0.0, \"#0d0887\"], [0.1111111111111111, \"#46039f\"], [0.2222222222222222, \"#7201a8\"], [0.3333333333333333, \"#9c179e\"], [0.4444444444444444, \"#bd3786\"], [0.5555555555555556, \"#d8576b\"], [0.6666666666666666, \"#ed7953\"], [0.7777777777777778, \"#fb9f3a\"], [0.8888888888888888, \"#fdca26\"], [1.0, \"#f0f921\"]], \"type\": \"histogram2dcontour\"}], \"mesh3d\": [{\"colorbar\": {\"outlinewidth\": 0, \"ticks\": \"\"}, \"type\": \"mesh3d\"}], \"parcoords\": [{\"line\": {\"colorbar\": {\"outlinewidth\": 0, \"ticks\": \"\"}}, \"type\": \"parcoords\"}], \"pie\": [{\"automargin\": true, \"type\": \"pie\"}], \"scatter\": [{\"marker\": {\"colorbar\": {\"outlinewidth\": 0, \"ticks\": \"\"}}, \"type\": \"scatter\"}], \"scatter3d\": [{\"line\": {\"colorbar\": {\"outlinewidth\": 0, \"ticks\": \"\"}}, \"marker\": {\"colorbar\": {\"outlinewidth\": 0, \"ticks\": \"\"}}, \"type\": \"scatter3d\"}], \"scattercarpet\": [{\"marker\": {\"colorbar\": {\"outlinewidth\": 0, \"ticks\": \"\"}}, \"type\": \"scattercarpet\"}], \"scattergeo\": [{\"marker\": {\"colorbar\": {\"outlinewidth\": 0, \"ticks\": \"\"}}, \"type\": \"scattergeo\"}], \"scattergl\": [{\"marker\": {\"colorbar\": {\"outlinewidth\": 0, \"ticks\": \"\"}}, \"type\": \"scattergl\"}], \"scattermapbox\": [{\"marker\": {\"colorbar\": {\"outlinewidth\": 0, \"ticks\": \"\"}}, \"type\": \"scattermapbox\"}], \"scatterpolar\": [{\"marker\": {\"colorbar\": {\"outlinewidth\": 0, \"ticks\": \"\"}}, \"type\": \"scatterpolar\"}], \"scatterpolargl\": [{\"marker\": {\"colorbar\": {\"outlinewidth\": 0, \"ticks\": \"\"}}, \"type\": \"scatterpolargl\"}], \"scatterternary\": [{\"marker\": {\"colorbar\": {\"outlinewidth\": 0, \"ticks\": \"\"}}, \"type\": \"scatterternary\"}], \"surface\": [{\"colorbar\": {\"outlinewidth\": 0, \"ticks\": \"\"}, \"colorscale\": [[0.0, \"#0d0887\"], [0.1111111111111111, \"#46039f\"], [0.2222222222222222, \"#7201a8\"], [0.3333333333333333, \"#9c179e\"], [0.4444444444444444, \"#bd3786\"], [0.5555555555555556, \"#d8576b\"], [0.6666666666666666, \"#ed7953\"], [0.7777777777777778, \"#fb9f3a\"], [0.8888888888888888, \"#fdca26\"], [1.0, \"#f0f921\"]], \"type\": \"surface\"}], \"table\": [{\"cells\": {\"fill\": {\"color\": \"#EBF0F8\"}, \"line\": {\"color\": \"white\"}}, \"header\": {\"fill\": {\"color\": \"#C8D4E3\"}, \"line\": {\"color\": \"white\"}}, \"type\": \"table\"}]}, \"layout\": {\"annotationdefaults\": {\"arrowcolor\": \"#2a3f5f\", \"arrowhead\": 0, \"arrowwidth\": 1}, \"coloraxis\": {\"colorbar\": {\"outlinewidth\": 0, \"ticks\": \"\"}}, \"colorscale\": {\"diverging\": [[0, \"#8e0152\"], [0.1, \"#c51b7d\"], [0.2, \"#de77ae\"], [0.3, \"#f1b6da\"], [0.4, \"#fde0ef\"], [0.5, \"#f7f7f7\"], [0.6, \"#e6f5d0\"], [0.7, \"#b8e186\"], [0.8, \"#7fbc41\"], [0.9, \"#4d9221\"], [1, \"#276419\"]], \"sequential\": [[0.0, \"#0d0887\"], [0.1111111111111111, \"#46039f\"], [0.2222222222222222, \"#7201a8\"], [0.3333333333333333, \"#9c179e\"], [0.4444444444444444, \"#bd3786\"], [0.5555555555555556, \"#d8576b\"], [0.6666666666666666, \"#ed7953\"], [0.7777777777777778, \"#fb9f3a\"], [0.8888888888888888, \"#fdca26\"], [1.0, \"#f0f921\"]], \"sequentialminus\": [[0.0, \"#0d0887\"], [0.1111111111111111, \"#46039f\"], [0.2222222222222222, \"#7201a8\"], [0.3333333333333333, \"#9c179e\"], [0.4444444444444444, \"#bd3786\"], [0.5555555555555556, \"#d8576b\"], [0.6666666666666666, \"#ed7953\"], [0.7777777777777778, \"#fb9f3a\"], [0.8888888888888888, \"#fdca26\"], [1.0, \"#f0f921\"]]}, \"colorway\": [\"#636efa\", \"#EF553B\", \"#00cc96\", \"#ab63fa\", \"#FFA15A\", \"#19d3f3\", \"#FF6692\", \"#B6E880\", \"#FF97FF\", \"#FECB52\"], \"font\": {\"color\": \"#2a3f5f\"}, \"geo\": {\"bgcolor\": \"white\", \"lakecolor\": \"white\", \"landcolor\": \"#E5ECF6\", \"showlakes\": true, \"showland\": true, \"subunitcolor\": \"white\"}, \"hoverlabel\": {\"align\": \"left\"}, \"hovermode\": \"closest\", \"mapbox\": {\"style\": \"light\"}, \"paper_bgcolor\": \"white\", \"plot_bgcolor\": \"#E5ECF6\", \"polar\": {\"angularaxis\": {\"gridcolor\": \"white\", \"linecolor\": \"white\", \"ticks\": \"\"}, \"bgcolor\": \"#E5ECF6\", \"radialaxis\": {\"gridcolor\": \"white\", \"linecolor\": \"white\", \"ticks\": \"\"}}, \"scene\": {\"xaxis\": {\"backgroundcolor\": \"#E5ECF6\", \"gridcolor\": \"white\", \"gridwidth\": 2, \"linecolor\": \"white\", \"showbackground\": true, \"ticks\": \"\", \"zerolinecolor\": \"white\"}, \"yaxis\": {\"backgroundcolor\": \"#E5ECF6\", \"gridcolor\": \"white\", \"gridwidth\": 2, \"linecolor\": \"white\", \"showbackground\": true, \"ticks\": \"\", \"zerolinecolor\": \"white\"}, \"zaxis\": {\"backgroundcolor\": \"#E5ECF6\", \"gridcolor\": \"white\", \"gridwidth\": 2, \"linecolor\": \"white\", \"showbackground\": true, \"ticks\": \"\", \"zerolinecolor\": \"white\"}}, \"shapedefaults\": {\"line\": {\"color\": \"#2a3f5f\"}}, \"ternary\": {\"aaxis\": {\"gridcolor\": \"white\", \"linecolor\": \"white\", \"ticks\": \"\"}, \"baxis\": {\"gridcolor\": \"white\", \"linecolor\": \"white\", \"ticks\": \"\"}, \"bgcolor\": \"#E5ECF6\", \"caxis\": {\"gridcolor\": \"white\", \"linecolor\": \"white\", \"ticks\": \"\"}}, \"title\": {\"x\": 0.05}, \"xaxis\": {\"automargin\": true, \"gridcolor\": \"white\", \"linecolor\": \"white\", \"ticks\": \"\", \"title\": {\"standoff\": 15}, \"zerolinecolor\": \"white\", \"zerolinewidth\": 2}, \"yaxis\": {\"automargin\": true, \"gridcolor\": \"white\", \"linecolor\": \"white\", \"ticks\": \"\", \"title\": {\"standoff\": 15}, \"zerolinecolor\": \"white\", \"zerolinewidth\": 2}}}, \"title\": {\"text\": \"Average Children HIV Percentage for Different Countries\"}},\n",
              "                        {\"responsive\": true}\n",
              "                    ).then(function(){\n",
              "                            \n",
              "var gd = document.getElementById('f6447aef-7944-4f94-bce9-e9d1d03e077b');\n",
              "var x = new MutationObserver(function (mutations, observer) {{\n",
              "        var display = window.getComputedStyle(gd).display;\n",
              "        if (!display || display === 'none') {{\n",
              "            console.log([gd, 'removed!']);\n",
              "            Plotly.purge(gd);\n",
              "            observer.disconnect();\n",
              "        }}\n",
              "}});\n",
              "\n",
              "// Listen for the removal of the full notebook cells\n",
              "var notebookContainer = gd.closest('#notebook-container');\n",
              "if (notebookContainer) {{\n",
              "    x.observe(notebookContainer, {childList: true});\n",
              "}}\n",
              "\n",
              "// Listen for the clearing of the current output cell\n",
              "var outputEl = gd.closest('.output');\n",
              "if (outputEl) {{\n",
              "    x.observe(outputEl, {childList: true});\n",
              "}}\n",
              "\n",
              "                        })\n",
              "                };\n",
              "                \n",
              "            </script>\n",
              "        </div>\n",
              "</body>\n",
              "</html>"
            ]
          },
          "metadata": {}
        }
      ],
      "source": [
        "px.pie(children_HIV_df, values='mean', names='Country Code',\n",
        "       title='Average Children HIV Percentage for Different Countries',\n",
        "       color_discrete_sequence=px.colors.sequential.RdBu)"
      ]
    },
    {
      "cell_type": "markdown",
      "metadata": {
        "id": "bxuIwSdd5uoW"
      },
      "source": [
        "#### Data Percentage Distribution By Continents\n",
        "**Motivation:** In the dataset, there is geographic information. I am curious about the average precentage distribution of HIV counts for children (0-14) living with HIV around different continents.\n",
        "\n",
        "**Conclusion:** From the pie chart below, we can see that the Africa continent has the highest precentage of HIV counts for children (0-14), which is 95%."
      ]
    },
    {
      "cell_type": "code",
      "execution_count": null,
      "metadata": {
        "colab": {
          "base_uri": "https://localhost:8080/",
          "height": 542
        },
        "id": "YseXqykA6Civ",
        "outputId": "997de6b6-d65d-4f7a-8a8d-7e66f22ff654"
      },
      "outputs": [
        {
          "output_type": "display_data",
          "data": {
            "text/html": [
              "<html>\n",
              "<head><meta charset=\"utf-8\" /></head>\n",
              "<body>\n",
              "    <div>\n",
              "            <script src=\"https://cdnjs.cloudflare.com/ajax/libs/mathjax/2.7.5/MathJax.js?config=TeX-AMS-MML_SVG\"></script><script type=\"text/javascript\">if (window.MathJax) {MathJax.Hub.Config({SVG: {font: \"STIX-Web\"}});}</script>\n",
              "                <script type=\"text/javascript\">window.PlotlyConfig = {MathJaxConfig: 'local'};</script>\n",
              "        <script src=\"https://cdn.plot.ly/plotly-latest.min.js\"></script>    \n",
              "            <div id=\"9c6126ca-fac2-4dc4-9b72-5a69ec86d72b\" class=\"plotly-graph-div\" style=\"height:525px; width:100%;\"></div>\n",
              "            <script type=\"text/javascript\">\n",
              "                \n",
              "                    window.PLOTLYENV=window.PLOTLYENV || {};\n",
              "                    \n",
              "                if (document.getElementById(\"9c6126ca-fac2-4dc4-9b72-5a69ec86d72b\")) {\n",
              "                    Plotly.newPlot(\n",
              "                        '9c6126ca-fac2-4dc4-9b72-5a69ec86d72b',\n",
              "                        [{\"domain\": {\"x\": [0.0, 1.0], \"y\": [0.0, 1.0]}, \"hoverlabel\": {\"namelength\": 0}, \"hovertemplate\": \"Continent Name=%{label}<br>mean=%{value}\", \"labels\": [\"Asia\", \"Africa\", \"Africa\", \"South America\", \"Oceania\", \"Asia\", \"Asia\", \"Europe\", \"North America\", \"Africa\", \"South America\", \"Africa\", \"South America\", \"Africa\", \"Africa\", \"Africa\", \"Africa\", \"Africa\", \"Africa\", \"South America\", \"North America\", \"North America\", \"Africa\", \"North America\", \"South America\", \"North America\", \"Africa\", \"Africa\", \"Africa\", \"Asia\", \"Africa\", \"Europe\", \"North America\", \"Africa\", \"South America\", \"North America\", \"North America\", \"Asia\", \"Europe\", \"North America\", \"Asia\", \"Africa\", \"Asia\", \"Europe\", \"Africa\", \"Africa\", \"Africa\", \"Africa\", \"Asia\", \"Africa\", \"Africa\", \"North America\", \"Europe\", \"Asia\", \"Africa\", \"Africa\", \"Asia\", \"Africa\", \"Asia\", \"North America\", \"Africa\", \"Africa\", \"Asia\", \"North America\", \"Oceania\", \"South America\", \"South America\", \"Asia\", \"Africa\", \"Africa\", \"Africa\", \"Africa\", \"Africa\", \"Africa\", \"Europe\", \"Asia\", \"Africa\", \"South America\", \"Africa\", \"Asia\", \"Africa\", \"Asia\", \"Africa\", \"North America\", \"Africa\", \"Europe\", \"South America\", \"Asia\", \"Asia\", \"Africa\", \"Africa\"], \"legendgroup\": \"\", \"name\": \"\", \"showlegend\": true, \"type\": \"pie\", \"values\": [176.92307692307693, 157.69230769230768, 13742.307692307691, 1007.6923076923077, 100.0, 100.0, 196.15384615384616, 126.92307692307692, 142.30769230769232, 3507.6923076923076, 676.9230769230769, 9626.923076923076, 8953.846153846154, 15153.846153846154, 9250.0, 292.3076923076923, 31415.384615384617, 10911.538461538461, 13142.307692307691, 1500.0, 142.30769230769232, 100.0, 796.1538461538462, 2780.769230769231, 807.6923076923077, 411.53846153846155, 1238.4615384615386, 1446.1538461538462, 2030.7692307692307, 100.0, 18615.384615384617, 100.0, 796.1538461538462, 6353.846153846154, 242.30769230769232, 12223.076923076924, 2596.153846153846, 4303.846153846154, 480.7692307692308, 676.9230769230769, 142.30769230769232, 133846.15384615384, 134.6153846153846, 100.0, 9430.76923076923, 3169.230769230769, 2696.153846153846, 84000.0, 342.3076923076923, 11288.461538461539, 915.3846153846154, 1653.8461538461538, 146.15384615384616, 100.0, 376.9230769230769, 62976.92307692308, 5415.384615384615, 7407.692307692308, 996.1538461538462, 700.0, 4711.538461538462, 178269.23076923078, 792.3076923076923, 384.61538461538464, 2023.076923076923, 380.7692307692308, 1896.1538461538462, 230.76923076923077, 18576.923076923078, 2984.6153846153848, 2184.6153846153848, 1865.3846153846155, 210723.07692307694, 7265.384615384615, 396.15384615384613, 100.0, 1550.0, 130.76923076923077, 7515.384615384615, 265.38461538461536, 107653.84615384616, 8600.0, 8757.692307692309, 100.0, 120807.69230769231, 1653.8461538461538, 100.0, 569.2307692307693, 1942.3076923076924, 84576.92307692308, 93153.84615384616]}],\n",
              "                        {\"legend\": {\"tracegroupgap\": 0}, \"piecolorway\": [\"rgb(103,0,31)\", \"rgb(178,24,43)\", \"rgb(214,96,77)\", \"rgb(244,165,130)\", \"rgb(253,219,199)\", \"rgb(247,247,247)\", \"rgb(209,229,240)\", \"rgb(146,197,222)\", \"rgb(67,147,195)\", \"rgb(33,102,172)\", \"rgb(5,48,97)\"], \"template\": {\"data\": {\"bar\": [{\"error_x\": {\"color\": \"#2a3f5f\"}, \"error_y\": {\"color\": \"#2a3f5f\"}, \"marker\": {\"line\": {\"color\": \"#E5ECF6\", \"width\": 0.5}}, \"type\": \"bar\"}], \"barpolar\": [{\"marker\": {\"line\": {\"color\": \"#E5ECF6\", \"width\": 0.5}}, \"type\": \"barpolar\"}], \"carpet\": [{\"aaxis\": {\"endlinecolor\": \"#2a3f5f\", \"gridcolor\": \"white\", \"linecolor\": \"white\", \"minorgridcolor\": \"white\", \"startlinecolor\": \"#2a3f5f\"}, \"baxis\": {\"endlinecolor\": \"#2a3f5f\", \"gridcolor\": \"white\", \"linecolor\": \"white\", \"minorgridcolor\": \"white\", \"startlinecolor\": \"#2a3f5f\"}, \"type\": \"carpet\"}], \"choropleth\": [{\"colorbar\": {\"outlinewidth\": 0, \"ticks\": \"\"}, \"type\": \"choropleth\"}], \"contour\": [{\"colorbar\": {\"outlinewidth\": 0, \"ticks\": \"\"}, \"colorscale\": [[0.0, \"#0d0887\"], [0.1111111111111111, \"#46039f\"], [0.2222222222222222, \"#7201a8\"], [0.3333333333333333, \"#9c179e\"], [0.4444444444444444, \"#bd3786\"], [0.5555555555555556, \"#d8576b\"], [0.6666666666666666, \"#ed7953\"], [0.7777777777777778, \"#fb9f3a\"], [0.8888888888888888, \"#fdca26\"], [1.0, \"#f0f921\"]], \"type\": \"contour\"}], \"contourcarpet\": [{\"colorbar\": {\"outlinewidth\": 0, \"ticks\": \"\"}, \"type\": \"contourcarpet\"}], \"heatmap\": [{\"colorbar\": {\"outlinewidth\": 0, \"ticks\": \"\"}, \"colorscale\": [[0.0, \"#0d0887\"], [0.1111111111111111, \"#46039f\"], [0.2222222222222222, \"#7201a8\"], [0.3333333333333333, \"#9c179e\"], [0.4444444444444444, \"#bd3786\"], [0.5555555555555556, \"#d8576b\"], [0.6666666666666666, \"#ed7953\"], [0.7777777777777778, \"#fb9f3a\"], [0.8888888888888888, \"#fdca26\"], [1.0, \"#f0f921\"]], \"type\": \"heatmap\"}], \"heatmapgl\": [{\"colorbar\": {\"outlinewidth\": 0, \"ticks\": \"\"}, \"colorscale\": [[0.0, \"#0d0887\"], [0.1111111111111111, \"#46039f\"], [0.2222222222222222, \"#7201a8\"], [0.3333333333333333, \"#9c179e\"], [0.4444444444444444, \"#bd3786\"], [0.5555555555555556, \"#d8576b\"], [0.6666666666666666, \"#ed7953\"], [0.7777777777777778, \"#fb9f3a\"], [0.8888888888888888, \"#fdca26\"], [1.0, \"#f0f921\"]], \"type\": \"heatmapgl\"}], \"histogram\": [{\"marker\": {\"colorbar\": {\"outlinewidth\": 0, \"ticks\": \"\"}}, \"type\": \"histogram\"}], \"histogram2d\": [{\"colorbar\": {\"outlinewidth\": 0, \"ticks\": \"\"}, \"colorscale\": [[0.0, \"#0d0887\"], [0.1111111111111111, \"#46039f\"], [0.2222222222222222, \"#7201a8\"], [0.3333333333333333, \"#9c179e\"], [0.4444444444444444, \"#bd3786\"], [0.5555555555555556, \"#d8576b\"], [0.6666666666666666, \"#ed7953\"], [0.7777777777777778, \"#fb9f3a\"], [0.8888888888888888, \"#fdca26\"], [1.0, \"#f0f921\"]], \"type\": \"histogram2d\"}], \"histogram2dcontour\": [{\"colorbar\": {\"outlinewidth\": 0, \"ticks\": \"\"}, \"colorscale\": [[0.0, \"#0d0887\"], [0.1111111111111111, \"#46039f\"], [0.2222222222222222, \"#7201a8\"], [0.3333333333333333, \"#9c179e\"], [0.4444444444444444, \"#bd3786\"], [0.5555555555555556, \"#d8576b\"], [0.6666666666666666, \"#ed7953\"], [0.7777777777777778, \"#fb9f3a\"], [0.8888888888888888, \"#fdca26\"], [1.0, \"#f0f921\"]], \"type\": \"histogram2dcontour\"}], \"mesh3d\": [{\"colorbar\": {\"outlinewidth\": 0, \"ticks\": \"\"}, \"type\": \"mesh3d\"}], \"parcoords\": [{\"line\": {\"colorbar\": {\"outlinewidth\": 0, \"ticks\": \"\"}}, \"type\": \"parcoords\"}], \"pie\": [{\"automargin\": true, \"type\": \"pie\"}], \"scatter\": [{\"marker\": {\"colorbar\": {\"outlinewidth\": 0, \"ticks\": \"\"}}, \"type\": \"scatter\"}], \"scatter3d\": [{\"line\": {\"colorbar\": {\"outlinewidth\": 0, \"ticks\": \"\"}}, \"marker\": {\"colorbar\": {\"outlinewidth\": 0, \"ticks\": \"\"}}, \"type\": \"scatter3d\"}], \"scattercarpet\": [{\"marker\": {\"colorbar\": {\"outlinewidth\": 0, \"ticks\": \"\"}}, \"type\": \"scattercarpet\"}], \"scattergeo\": [{\"marker\": {\"colorbar\": {\"outlinewidth\": 0, \"ticks\": \"\"}}, \"type\": \"scattergeo\"}], \"scattergl\": [{\"marker\": {\"colorbar\": {\"outlinewidth\": 0, \"ticks\": \"\"}}, \"type\": \"scattergl\"}], \"scattermapbox\": [{\"marker\": {\"colorbar\": {\"outlinewidth\": 0, \"ticks\": \"\"}}, \"type\": \"scattermapbox\"}], \"scatterpolar\": [{\"marker\": {\"colorbar\": {\"outlinewidth\": 0, \"ticks\": \"\"}}, \"type\": \"scatterpolar\"}], \"scatterpolargl\": [{\"marker\": {\"colorbar\": {\"outlinewidth\": 0, \"ticks\": \"\"}}, \"type\": \"scatterpolargl\"}], \"scatterternary\": [{\"marker\": {\"colorbar\": {\"outlinewidth\": 0, \"ticks\": \"\"}}, \"type\": \"scatterternary\"}], \"surface\": [{\"colorbar\": {\"outlinewidth\": 0, \"ticks\": \"\"}, \"colorscale\": [[0.0, \"#0d0887\"], [0.1111111111111111, \"#46039f\"], [0.2222222222222222, \"#7201a8\"], [0.3333333333333333, \"#9c179e\"], [0.4444444444444444, \"#bd3786\"], [0.5555555555555556, \"#d8576b\"], [0.6666666666666666, \"#ed7953\"], [0.7777777777777778, \"#fb9f3a\"], [0.8888888888888888, \"#fdca26\"], [1.0, \"#f0f921\"]], \"type\": \"surface\"}], \"table\": [{\"cells\": {\"fill\": {\"color\": \"#EBF0F8\"}, \"line\": {\"color\": \"white\"}}, \"header\": {\"fill\": {\"color\": \"#C8D4E3\"}, \"line\": {\"color\": \"white\"}}, \"type\": \"table\"}]}, \"layout\": {\"annotationdefaults\": {\"arrowcolor\": \"#2a3f5f\", \"arrowhead\": 0, \"arrowwidth\": 1}, \"coloraxis\": {\"colorbar\": {\"outlinewidth\": 0, \"ticks\": \"\"}}, \"colorscale\": {\"diverging\": [[0, \"#8e0152\"], [0.1, \"#c51b7d\"], [0.2, \"#de77ae\"], [0.3, \"#f1b6da\"], [0.4, \"#fde0ef\"], [0.5, \"#f7f7f7\"], [0.6, \"#e6f5d0\"], [0.7, \"#b8e186\"], [0.8, \"#7fbc41\"], [0.9, \"#4d9221\"], [1, \"#276419\"]], \"sequential\": [[0.0, \"#0d0887\"], [0.1111111111111111, \"#46039f\"], [0.2222222222222222, \"#7201a8\"], [0.3333333333333333, \"#9c179e\"], [0.4444444444444444, \"#bd3786\"], [0.5555555555555556, \"#d8576b\"], [0.6666666666666666, \"#ed7953\"], [0.7777777777777778, \"#fb9f3a\"], [0.8888888888888888, \"#fdca26\"], [1.0, \"#f0f921\"]], \"sequentialminus\": [[0.0, \"#0d0887\"], [0.1111111111111111, \"#46039f\"], [0.2222222222222222, \"#7201a8\"], [0.3333333333333333, \"#9c179e\"], [0.4444444444444444, \"#bd3786\"], [0.5555555555555556, \"#d8576b\"], [0.6666666666666666, \"#ed7953\"], [0.7777777777777778, \"#fb9f3a\"], [0.8888888888888888, \"#fdca26\"], [1.0, \"#f0f921\"]]}, \"colorway\": [\"#636efa\", \"#EF553B\", \"#00cc96\", \"#ab63fa\", \"#FFA15A\", \"#19d3f3\", \"#FF6692\", \"#B6E880\", \"#FF97FF\", \"#FECB52\"], \"font\": {\"color\": \"#2a3f5f\"}, \"geo\": {\"bgcolor\": \"white\", \"lakecolor\": \"white\", \"landcolor\": \"#E5ECF6\", \"showlakes\": true, \"showland\": true, \"subunitcolor\": \"white\"}, \"hoverlabel\": {\"align\": \"left\"}, \"hovermode\": \"closest\", \"mapbox\": {\"style\": \"light\"}, \"paper_bgcolor\": \"white\", \"plot_bgcolor\": \"#E5ECF6\", \"polar\": {\"angularaxis\": {\"gridcolor\": \"white\", \"linecolor\": \"white\", \"ticks\": \"\"}, \"bgcolor\": \"#E5ECF6\", \"radialaxis\": {\"gridcolor\": \"white\", \"linecolor\": \"white\", \"ticks\": \"\"}}, \"scene\": {\"xaxis\": {\"backgroundcolor\": \"#E5ECF6\", \"gridcolor\": \"white\", \"gridwidth\": 2, \"linecolor\": \"white\", \"showbackground\": true, \"ticks\": \"\", \"zerolinecolor\": \"white\"}, \"yaxis\": {\"backgroundcolor\": \"#E5ECF6\", \"gridcolor\": \"white\", \"gridwidth\": 2, \"linecolor\": \"white\", \"showbackground\": true, \"ticks\": \"\", \"zerolinecolor\": \"white\"}, \"zaxis\": {\"backgroundcolor\": \"#E5ECF6\", \"gridcolor\": \"white\", \"gridwidth\": 2, \"linecolor\": \"white\", \"showbackground\": true, \"ticks\": \"\", \"zerolinecolor\": \"white\"}}, \"shapedefaults\": {\"line\": {\"color\": \"#2a3f5f\"}}, \"ternary\": {\"aaxis\": {\"gridcolor\": \"white\", \"linecolor\": \"white\", \"ticks\": \"\"}, \"baxis\": {\"gridcolor\": \"white\", \"linecolor\": \"white\", \"ticks\": \"\"}, \"bgcolor\": \"#E5ECF6\", \"caxis\": {\"gridcolor\": \"white\", \"linecolor\": \"white\", \"ticks\": \"\"}}, \"title\": {\"x\": 0.05}, \"xaxis\": {\"automargin\": true, \"gridcolor\": \"white\", \"linecolor\": \"white\", \"ticks\": \"\", \"title\": {\"standoff\": 15}, \"zerolinecolor\": \"white\", \"zerolinewidth\": 2}, \"yaxis\": {\"automargin\": true, \"gridcolor\": \"white\", \"linecolor\": \"white\", \"ticks\": \"\", \"title\": {\"standoff\": 15}, \"zerolinecolor\": \"white\", \"zerolinewidth\": 2}}}, \"title\": {\"text\": \"Average Children HIV Percentage for Different Continents\"}},\n",
              "                        {\"responsive\": true}\n",
              "                    ).then(function(){\n",
              "                            \n",
              "var gd = document.getElementById('9c6126ca-fac2-4dc4-9b72-5a69ec86d72b');\n",
              "var x = new MutationObserver(function (mutations, observer) {{\n",
              "        var display = window.getComputedStyle(gd).display;\n",
              "        if (!display || display === 'none') {{\n",
              "            console.log([gd, 'removed!']);\n",
              "            Plotly.purge(gd);\n",
              "            observer.disconnect();\n",
              "        }}\n",
              "}});\n",
              "\n",
              "// Listen for the removal of the full notebook cells\n",
              "var notebookContainer = gd.closest('#notebook-container');\n",
              "if (notebookContainer) {{\n",
              "    x.observe(notebookContainer, {childList: true});\n",
              "}}\n",
              "\n",
              "// Listen for the clearing of the current output cell\n",
              "var outputEl = gd.closest('.output');\n",
              "if (outputEl) {{\n",
              "    x.observe(outputEl, {childList: true});\n",
              "}}\n",
              "\n",
              "                        })\n",
              "                };\n",
              "                \n",
              "            </script>\n",
              "        </div>\n",
              "</body>\n",
              "</html>"
            ]
          },
          "metadata": {}
        }
      ],
      "source": [
        "px.pie(children_HIV_df, values='mean', names='Continent Name',\n",
        "       title='Average Children HIV Percentage for Different Continents',\n",
        "       color_discrete_sequence=px.colors.sequential.RdBu)"
      ]
    },
    {
      "cell_type": "markdown",
      "metadata": {
        "id": "CIN2BimF53Dk"
      },
      "source": [
        "#### Data Distribution By Country\n",
        "**Motivation:** I am curious about the average data distribution of HIV counts for children (0-14) living with HIV around the world."
      ]
    },
    {
      "cell_type": "code",
      "execution_count": null,
      "metadata": {
        "colab": {
          "base_uri": "https://localhost:8080/",
          "height": 542
        },
        "id": "MaBJ6Xn_Zmqv",
        "outputId": "5726a867-7c40-4a4a-9654-0db74d7af99e"
      },
      "outputs": [
        {
          "output_type": "display_data",
          "data": {
            "text/html": [
              "<html>\n",
              "<head><meta charset=\"utf-8\" /></head>\n",
              "<body>\n",
              "    <div>\n",
              "            <script src=\"https://cdnjs.cloudflare.com/ajax/libs/mathjax/2.7.5/MathJax.js?config=TeX-AMS-MML_SVG\"></script><script type=\"text/javascript\">if (window.MathJax) {MathJax.Hub.Config({SVG: {font: \"STIX-Web\"}});}</script>\n",
              "                <script type=\"text/javascript\">window.PlotlyConfig = {MathJaxConfig: 'local'};</script>\n",
              "        <script src=\"https://cdn.plot.ly/plotly-latest.min.js\"></script>    \n",
              "            <div id=\"e5cf84e7-e9d6-4d5e-8183-eea5f3dcee32\" class=\"plotly-graph-div\" style=\"height:525px; width:100%;\"></div>\n",
              "            <script type=\"text/javascript\">\n",
              "                \n",
              "                    window.PLOTLYENV=window.PLOTLYENV || {};\n",
              "                    \n",
              "                if (document.getElementById(\"e5cf84e7-e9d6-4d5e-8183-eea5f3dcee32\")) {\n",
              "                    Plotly.newPlot(\n",
              "                        'e5cf84e7-e9d6-4d5e-8183-eea5f3dcee32',\n",
              "                        [{\"geo\": \"geo\", \"hoverlabel\": {\"namelength\": 0}, \"hovertemplate\": \"<b>%{hovertext}</b><br><br>Country Name=Afghanistan<br>mean=%{marker.size}<br>Country Code=%{location}\", \"hovertext\": [\"Afghanistan\"], \"legendgroup\": \"Country Name=Afghanistan\", \"locations\": [\"AFG\"], \"marker\": {\"color\": \"#636efa\", \"size\": [2869.230769230769], \"sizemode\": \"area\", \"sizeref\": 11777.884615384615}, \"name\": \"Country Name=Afghanistan\", \"showlegend\": true, \"type\": \"scattergeo\"}, {\"geo\": \"geo\", \"hoverlabel\": {\"namelength\": 0}, \"hovertemplate\": \"<b>%{hovertext}</b><br><br>Country Name=Algeria<br>mean=%{marker.size}<br>Country Code=%{location}\", \"hovertext\": [\"Algeria\"], \"legendgroup\": \"Country Name=Algeria\", \"locations\": [\"DZA\"], \"marker\": {\"color\": \"#EF553B\", \"size\": [3946.153846153846], \"sizemode\": \"area\", \"sizeref\": 11777.884615384615}, \"name\": \"Country Name=Algeria\", \"showlegend\": true, \"type\": \"scattergeo\"}, {\"geo\": \"geo\", \"hoverlabel\": {\"namelength\": 0}, \"hovertemplate\": \"<b>%{hovertext}</b><br><br>Country Name=Angola<br>mean=%{marker.size}<br>Country Code=%{location}\", \"hovertext\": [\"Angola\"], \"legendgroup\": \"Country Name=Angola\", \"locations\": [\"AGO\"], \"marker\": {\"color\": \"#00cc96\", \"size\": [161269.23076923078], \"sizemode\": \"area\", \"sizeref\": 11777.884615384615}, \"name\": \"Country Name=Angola\", \"showlegend\": true, \"type\": \"scattergeo\"}, {\"geo\": \"geo\", \"hoverlabel\": {\"namelength\": 0}, \"hovertemplate\": \"<b>%{hovertext}</b><br><br>Country Name=Argentina<br>mean=%{marker.size}<br>Country Code=%{location}\", \"hovertext\": [\"Argentina\"], \"legendgroup\": \"Country Name=Argentina\", \"locations\": [\"ARG\"], \"marker\": {\"color\": \"#ab63fa\", \"size\": [72769.23076923077], \"sizemode\": \"area\", \"sizeref\": 11777.884615384615}, \"name\": \"Country Name=Argentina\", \"showlegend\": true, \"type\": \"scattergeo\"}, {\"geo\": \"geo\", \"hoverlabel\": {\"namelength\": 0}, \"hovertemplate\": \"<b>%{hovertext}</b><br><br>Country Name=Armenia<br>mean=%{marker.size}<br>Country Code=%{location}\", \"hovertext\": [\"Armenia\"], \"legendgroup\": \"Country Name=Armenia\", \"locations\": [\"ARM\"], \"marker\": {\"color\": \"#FFA15A\", \"size\": [1696.1538461538462], \"sizemode\": \"area\", \"sizeref\": 11777.884615384615}, \"name\": \"Country Name=Armenia\", \"showlegend\": true, \"type\": \"scattergeo\"}, {\"geo\": \"geo\", \"hoverlabel\": {\"namelength\": 0}, \"hovertemplate\": \"<b>%{hovertext}</b><br><br>Country Name=Australia<br>mean=%{marker.size}<br>Country Code=%{location}\", \"hovertext\": [\"Australia\"], \"legendgroup\": \"Country Name=Australia\", \"locations\": [\"AUS\"], \"marker\": {\"color\": \"#19d3f3\", \"size\": [17807.69230769231], \"sizemode\": \"area\", \"sizeref\": 11777.884615384615}, \"name\": \"Country Name=Australia\", \"showlegend\": true, \"type\": \"scattergeo\"}, {\"geo\": \"geo\", \"hoverlabel\": {\"namelength\": 0}, \"hovertemplate\": \"<b>%{hovertext}</b><br><br>Country Name=Azerbaijan<br>mean=%{marker.size}<br>Country Code=%{location}\", \"hovertext\": [\"Azerbaijan\"], \"legendgroup\": \"Country Name=Azerbaijan\", \"locations\": [\"AZE\"], \"marker\": {\"color\": \"#FF6692\", \"size\": [3546.153846153846], \"sizemode\": \"area\", \"sizeref\": 11777.884615384615}, \"name\": \"Country Name=Azerbaijan\", \"showlegend\": true, \"type\": \"scattergeo\"}, {\"geo\": \"geo\", \"hoverlabel\": {\"namelength\": 0}, \"hovertemplate\": \"<b>%{hovertext}</b><br><br>Country Name=Bangladesh<br>mean=%{marker.size}<br>Country Code=%{location}\", \"hovertext\": [\"Bangladesh\"], \"legendgroup\": \"Country Name=Bangladesh\", \"locations\": [\"BGD\"], \"marker\": {\"color\": \"#B6E880\", \"size\": [3788.4615384615386], \"sizemode\": \"area\", \"sizeref\": 11777.884615384615}, \"name\": \"Country Name=Bangladesh\", \"showlegend\": true, \"type\": \"scattergeo\"}, {\"geo\": \"geo\", \"hoverlabel\": {\"namelength\": 0}, \"hovertemplate\": \"<b>%{hovertext}</b><br><br>Country Name=Barbados<br>mean=%{marker.size}<br>Country Code=%{location}\", \"hovertext\": [\"Barbados\"], \"legendgroup\": \"Country Name=Barbados\", \"locations\": [\"BRB\"], \"marker\": {\"color\": \"#FF97FF\", \"size\": [1442.3076923076924], \"sizemode\": \"area\", \"sizeref\": 11777.884615384615}, \"name\": \"Country Name=Barbados\", \"showlegend\": true, \"type\": \"scattergeo\"}, {\"geo\": \"geo\", \"hoverlabel\": {\"namelength\": 0}, \"hovertemplate\": \"<b>%{hovertext}</b><br><br>Country Name=Belarus<br>mean=%{marker.size}<br>Country Code=%{location}\", \"hovertext\": [\"Belarus\"], \"legendgroup\": \"Country Name=Belarus\", \"locations\": [\"BLR\"], \"marker\": {\"color\": \"#FECB52\", \"size\": [11780.76923076923], \"sizemode\": \"area\", \"sizeref\": 11777.884615384615}, \"name\": \"Country Name=Belarus\", \"showlegend\": true, \"type\": \"scattergeo\"}, {\"geo\": \"geo\", \"hoverlabel\": {\"namelength\": 0}, \"hovertemplate\": \"<b>%{hovertext}</b><br><br>Country Name=Belize<br>mean=%{marker.size}<br>Country Code=%{location}\", \"hovertext\": [\"Belize\"], \"legendgroup\": \"Country Name=Belize\", \"locations\": [\"BLZ\"], \"marker\": {\"color\": \"#636efa\", \"size\": [2038.4615384615386], \"sizemode\": \"area\", \"sizeref\": 11777.884615384615}, \"name\": \"Country Name=Belize\", \"showlegend\": true, \"type\": \"scattergeo\"}, {\"geo\": \"geo\", \"hoverlabel\": {\"namelength\": 0}, \"hovertemplate\": \"<b>%{hovertext}</b><br><br>Country Name=Benin<br>mean=%{marker.size}<br>Country Code=%{location}\", \"hovertext\": [\"Benin\"], \"legendgroup\": \"Country Name=Benin\", \"locations\": [\"BEN\"], \"marker\": {\"color\": \"#EF553B\", \"size\": [48853.846153846156], \"sizemode\": \"area\", \"sizeref\": 11777.884615384615}, \"name\": \"Country Name=Benin\", \"showlegend\": true, \"type\": \"scattergeo\"}, {\"geo\": \"geo\", \"hoverlabel\": {\"namelength\": 0}, \"hovertemplate\": \"<b>%{hovertext}</b><br><br>Country Name=Bolivia<br>mean=%{marker.size}<br>Country Code=%{location}\", \"hovertext\": [\"Bolivia\"], \"legendgroup\": \"Country Name=Bolivia\", \"locations\": [\"BOL\"], \"marker\": {\"color\": \"#00cc96\", \"size\": [13542.307692307691], \"sizemode\": \"area\", \"sizeref\": 11777.884615384615}, \"name\": \"Country Name=Bolivia\", \"showlegend\": true, \"type\": \"scattergeo\"}, {\"geo\": \"geo\", \"hoverlabel\": {\"namelength\": 0}, \"hovertemplate\": \"<b>%{hovertext}</b><br><br>Country Name=Botswana<br>mean=%{marker.size}<br>Country Code=%{location}\", \"hovertext\": [\"Botswana\"], \"legendgroup\": \"Country Name=Botswana\", \"locations\": [\"BWA\"], \"marker\": {\"color\": \"#ab63fa\", \"size\": [246846.15384615384], \"sizemode\": \"area\", \"sizeref\": 11777.884615384615}, \"name\": \"Country Name=Botswana\", \"showlegend\": true, \"type\": \"scattergeo\"}, {\"geo\": \"geo\", \"hoverlabel\": {\"namelength\": 0}, \"hovertemplate\": \"<b>%{hovertext}</b><br><br>Country Name=Brazil<br>mean=%{marker.size}<br>Country Code=%{location}\", \"hovertext\": [\"Brazil\"], \"legendgroup\": \"Country Name=Brazil\", \"locations\": [\"BRA\"], \"marker\": {\"color\": \"#FFA15A\", \"size\": [532307.6923076923], \"sizemode\": \"area\", \"sizeref\": 11777.884615384615}, \"name\": \"Country Name=Brazil\", \"showlegend\": true, \"type\": \"scattergeo\"}, {\"geo\": \"geo\", \"hoverlabel\": {\"namelength\": 0}, \"hovertemplate\": \"<b>%{hovertext}</b><br><br>Country Name=Burkina Faso<br>mean=%{marker.size}<br>Country Code=%{location}\", \"hovertext\": [\"Burkina Faso\"], \"legendgroup\": \"Country Name=Burkina Faso\", \"locations\": [\"BFA\"], \"marker\": {\"color\": \"#19d3f3\", \"size\": [137615.38461538462], \"sizemode\": \"area\", \"sizeref\": 11777.884615384615}, \"name\": \"Country Name=Burkina Faso\", \"showlegend\": true, \"type\": \"scattergeo\"}, {\"geo\": \"geo\", \"hoverlabel\": {\"namelength\": 0}, \"hovertemplate\": \"<b>%{hovertext}</b><br><br>Country Name=Burundi<br>mean=%{marker.size}<br>Country Code=%{location}\", \"hovertext\": [\"Burundi\"], \"legendgroup\": \"Country Name=Burundi\", \"locations\": [\"BDI\"], \"marker\": {\"color\": \"#FF6692\", \"size\": [87769.23076923077], \"sizemode\": \"area\", \"sizeref\": 11777.884615384615}, \"name\": \"Country Name=Burundi\", \"showlegend\": true, \"type\": \"scattergeo\"}, {\"geo\": \"geo\", \"hoverlabel\": {\"namelength\": 0}, \"hovertemplate\": \"<b>%{hovertext}</b><br><br>Country Name=Cabo Verde<br>mean=%{marker.size}<br>Country Code=%{location}\", \"hovertext\": [\"Cabo Verde\"], \"legendgroup\": \"Country Name=Cabo Verde\", \"locations\": [\"CPV\"], \"marker\": {\"color\": \"#B6E880\", \"size\": [2976.923076923077], \"sizemode\": \"area\", \"sizeref\": 11777.884615384615}, \"name\": \"Country Name=Cabo Verde\", \"showlegend\": true, \"type\": \"scattergeo\"}, {\"geo\": \"geo\", \"hoverlabel\": {\"namelength\": 0}, \"hovertemplate\": \"<b>%{hovertext}</b><br><br>Country Name=Cambodia<br>mean=%{marker.size}<br>Country Code=%{location}\", \"hovertext\": [\"Cambodia\"], \"legendgroup\": \"Country Name=Cambodia\", \"locations\": [\"KHM\"], \"marker\": {\"color\": \"#FF97FF\", \"size\": [80276.92307692308], \"sizemode\": \"area\", \"sizeref\": 11777.884615384615}, \"name\": \"Country Name=Cambodia\", \"showlegend\": true, \"type\": \"scattergeo\"}, {\"geo\": \"geo\", \"hoverlabel\": {\"namelength\": 0}, \"hovertemplate\": \"<b>%{hovertext}</b><br><br>Country Name=Cameroon<br>mean=%{marker.size}<br>Country Code=%{location}\", \"hovertext\": [\"Cameroon\"], \"legendgroup\": \"Country Name=Cameroon\", \"locations\": [\"CMR\"], \"marker\": {\"color\": \"#FECB52\", \"size\": [446538.46153846156], \"sizemode\": \"area\", \"sizeref\": 11777.884615384615}, \"name\": \"Country Name=Cameroon\", \"showlegend\": true, \"type\": \"scattergeo\"}, {\"geo\": \"geo\", \"hoverlabel\": {\"namelength\": 0}, \"hovertemplate\": \"<b>%{hovertext}</b><br><br>Country Name=Central African Republic<br>mean=%{marker.size}<br>Country Code=%{location}\", \"hovertext\": [\"Central African Republic\"], \"legendgroup\": \"Country Name=Central African Republic\", \"locations\": [\"CAF\"], \"marker\": {\"color\": \"#636efa\", \"size\": [140384.61538461538], \"sizemode\": \"area\", \"sizeref\": 11777.884615384615}, \"name\": \"Country Name=Central African Republic\", \"showlegend\": true, \"type\": \"scattergeo\"}, {\"geo\": \"geo\", \"hoverlabel\": {\"namelength\": 0}, \"hovertemplate\": \"<b>%{hovertext}</b><br><br>Country Name=Chad<br>mean=%{marker.size}<br>Country Code=%{location}\", \"hovertext\": [\"Chad\"], \"legendgroup\": \"Country Name=Chad\", \"locations\": [\"TCD\"], \"marker\": {\"color\": \"#EF553B\", \"size\": [132115.38461538462], \"sizemode\": \"area\", \"sizeref\": 11777.884615384615}, \"name\": \"Country Name=Chad\", \"showlegend\": true, \"type\": \"scattergeo\"}, {\"geo\": \"geo\", \"hoverlabel\": {\"namelength\": 0}, \"hovertemplate\": \"<b>%{hovertext}</b><br><br>Country Name=Chile<br>mean=%{marker.size}<br>Country Code=%{location}\", \"hovertext\": [\"Chile\"], \"legendgroup\": \"Country Name=Chile\", \"locations\": [\"CHL\"], \"marker\": {\"color\": \"#00cc96\", \"size\": [19000.0], \"sizemode\": \"area\", \"sizeref\": 11777.884615384615}, \"name\": \"Country Name=Chile\", \"showlegend\": true, \"type\": \"scattergeo\"}, {\"geo\": \"geo\", \"hoverlabel\": {\"namelength\": 0}, \"hovertemplate\": \"<b>%{hovertext}</b><br><br>Country Name=Colombia<br>mean=%{marker.size}<br>Country Code=%{location}\", \"hovertext\": [\"Colombia\"], \"legendgroup\": \"Country Name=Colombia\", \"locations\": [\"COL\"], \"marker\": {\"color\": \"#ab63fa\", \"size\": [75653.84615384616], \"sizemode\": \"area\", \"sizeref\": 11777.884615384615}, \"name\": \"Country Name=Colombia\", \"showlegend\": true, \"type\": \"scattergeo\"}, {\"geo\": \"geo\", \"hoverlabel\": {\"namelength\": 0}, \"hovertemplate\": \"<b>%{hovertext}</b><br><br>Country Name=Costa Rica<br>mean=%{marker.size}<br>Country Code=%{location}\", \"hovertext\": [\"Costa Rica\"], \"legendgroup\": \"Country Name=Costa Rica\", \"locations\": [\"CRI\"], \"marker\": {\"color\": \"#FFA15A\", \"size\": [5073.076923076923], \"sizemode\": \"area\", \"sizeref\": 11777.884615384615}, \"name\": \"Country Name=Costa Rica\", \"showlegend\": true, \"type\": \"scattergeo\"}, {\"geo\": \"geo\", \"hoverlabel\": {\"namelength\": 0}, \"hovertemplate\": \"<b>%{hovertext}</b><br><br>Country Name=Cuba<br>mean=%{marker.size}<br>Country Code=%{location}\", \"hovertext\": [\"Cuba\"], \"legendgroup\": \"Country Name=Cuba\", \"locations\": [\"CUB\"], \"marker\": {\"color\": \"#19d3f3\", \"size\": [6219.2307692307695], \"sizemode\": \"area\", \"sizeref\": 11777.884615384615}, \"name\": \"Country Name=Cuba\", \"showlegend\": true, \"type\": \"scattergeo\"}, {\"geo\": \"geo\", \"hoverlabel\": {\"namelength\": 0}, \"hovertemplate\": \"<b>%{hovertext}</b><br><br>Country Name=Djibouti<br>mean=%{marker.size}<br>Country Code=%{location}\", \"hovertext\": [\"Djibouti\"], \"legendgroup\": \"Country Name=Djibouti\", \"locations\": [\"DJI\"], \"marker\": {\"color\": \"#FF6692\", \"size\": [8523.076923076924], \"sizemode\": \"area\", \"sizeref\": 11777.884615384615}, \"name\": \"Country Name=Djibouti\", \"showlegend\": true, \"type\": \"scattergeo\"}, {\"geo\": \"geo\", \"hoverlabel\": {\"namelength\": 0}, \"hovertemplate\": \"<b>%{hovertext}</b><br><br>Country Name=Dominican Republic<br>mean=%{marker.size}<br>Country Code=%{location}\", \"hovertext\": [\"Dominican Republic\"], \"legendgroup\": \"Country Name=Dominican Republic\", \"locations\": [\"DOM\"], \"marker\": {\"color\": \"#B6E880\", \"size\": [79576.92307692308], \"sizemode\": \"area\", \"sizeref\": 11777.884615384615}, \"name\": \"Country Name=Dominican Republic\", \"showlegend\": true, \"type\": \"scattergeo\"}, {\"geo\": \"geo\", \"hoverlabel\": {\"namelength\": 0}, \"hovertemplate\": \"<b>%{hovertext}</b><br><br>Country Name=Ecuador<br>mean=%{marker.size}<br>Country Code=%{location}\", \"hovertext\": [\"Ecuador\"], \"legendgroup\": \"Country Name=Ecuador\", \"locations\": [\"ECU\"], \"marker\": {\"color\": \"#FF97FF\", \"size\": [23280.76923076923], \"sizemode\": \"area\", \"sizeref\": 11777.884615384615}, \"name\": \"Country Name=Ecuador\", \"showlegend\": true, \"type\": \"scattergeo\"}, {\"geo\": \"geo\", \"hoverlabel\": {\"namelength\": 0}, \"hovertemplate\": \"<b>%{hovertext}</b><br><br>Country Name=El Salvador<br>mean=%{marker.size}<br>Country Code=%{location}\", \"hovertext\": [\"El Salvador\"], \"legendgroup\": \"Country Name=El Salvador\", \"locations\": [\"SLV\"], \"marker\": {\"color\": \"#FECB52\", \"size\": [13746.153846153846], \"sizemode\": \"area\", \"sizeref\": 11777.884615384615}, \"name\": \"Country Name=El Salvador\", \"showlegend\": true, \"type\": \"scattergeo\"}, {\"geo\": \"geo\", \"hoverlabel\": {\"namelength\": 0}, \"hovertemplate\": \"<b>%{hovertext}</b><br><br>Country Name=Equatorial Guinea<br>mean=%{marker.size}<br>Country Code=%{location}\", \"hovertext\": [\"Equatorial Guinea\"], \"legendgroup\": \"Country Name=Equatorial Guinea\", \"locations\": [\"GNQ\"], \"marker\": {\"color\": \"#636efa\", \"size\": [14876.923076923076], \"sizemode\": \"area\", \"sizeref\": 11777.884615384615}, \"name\": \"Country Name=Equatorial Guinea\", \"showlegend\": true, \"type\": \"scattergeo\"}, {\"geo\": \"geo\", \"hoverlabel\": {\"namelength\": 0}, \"hovertemplate\": \"<b>%{hovertext}</b><br><br>Country Name=Eritrea<br>mean=%{marker.size}<br>Country Code=%{location}\", \"hovertext\": [\"Eritrea\"], \"legendgroup\": \"Country Name=Eritrea\", \"locations\": [\"ERI\"], \"marker\": {\"color\": \"#EF553B\", \"size\": [13696.153846153846], \"sizemode\": \"area\", \"sizeref\": 11777.884615384615}, \"name\": \"Country Name=Eritrea\", \"showlegend\": true, \"type\": \"scattergeo\"}, {\"geo\": \"geo\", \"hoverlabel\": {\"namelength\": 0}, \"hovertemplate\": \"<b>%{hovertext}</b><br><br>Country Name=Gabon<br>mean=%{marker.size}<br>Country Code=%{location}\", \"hovertext\": [\"Gabon\"], \"legendgroup\": \"Country Name=Gabon\", \"locations\": [\"GAB\"], \"marker\": {\"color\": \"#00cc96\", \"size\": [34688.46153846154], \"sizemode\": \"area\", \"sizeref\": 11777.884615384615}, \"name\": \"Country Name=Gabon\", \"showlegend\": true, \"type\": \"scattergeo\"}, {\"geo\": \"geo\", \"hoverlabel\": {\"namelength\": 0}, \"hovertemplate\": \"<b>%{hovertext}</b><br><br>Country Name=Georgia<br>mean=%{marker.size}<br>Country Code=%{location}\", \"hovertext\": [\"Georgia\"], \"legendgroup\": \"Country Name=Georgia\", \"locations\": [\"GEO\"], \"marker\": {\"color\": \"#ab63fa\", \"size\": [3611.5384615384614], \"sizemode\": \"area\", \"sizeref\": 11777.884615384615}, \"name\": \"Country Name=Georgia\", \"showlegend\": true, \"type\": \"scattergeo\"}, {\"geo\": \"geo\", \"hoverlabel\": {\"namelength\": 0}, \"hovertemplate\": \"<b>%{hovertext}</b><br><br>Country Name=Ghana<br>mean=%{marker.size}<br>Country Code=%{location}\", \"hovertext\": [\"Ghana\"], \"legendgroup\": \"Country Name=Ghana\", \"locations\": [\"GHA\"], \"marker\": {\"color\": \"#FFA15A\", \"size\": [265384.6153846154], \"sizemode\": \"area\", \"sizeref\": 11777.884615384615}, \"name\": \"Country Name=Ghana\", \"showlegend\": true, \"type\": \"scattergeo\"}, {\"geo\": \"geo\", \"hoverlabel\": {\"namelength\": 0}, \"hovertemplate\": \"<b>%{hovertext}</b><br><br>Country Name=Greece<br>mean=%{marker.size}<br>Country Code=%{location}\", \"hovertext\": [\"Greece\"], \"legendgroup\": \"Country Name=Greece\", \"locations\": [\"GRC\"], \"marker\": {\"color\": \"#19d3f3\", \"size\": [10819.23076923077], \"sizemode\": \"area\", \"sizeref\": 11777.884615384615}, \"name\": \"Country Name=Greece\", \"showlegend\": true, \"type\": \"scattergeo\"}, {\"geo\": \"geo\", \"hoverlabel\": {\"namelength\": 0}, \"hovertemplate\": \"<b>%{hovertext}</b><br><br>Country Name=Guatemala<br>mean=%{marker.size}<br>Country Code=%{location}\", \"hovertext\": [\"Guatemala\"], \"legendgroup\": \"Country Name=Guatemala\", \"locations\": [\"GTM\"], \"marker\": {\"color\": \"#FF6692\", \"size\": [25196.153846153848], \"sizemode\": \"area\", \"sizeref\": 11777.884615384615}, \"name\": \"Country Name=Guatemala\", \"showlegend\": true, \"type\": \"scattergeo\"}, {\"geo\": \"geo\", \"hoverlabel\": {\"namelength\": 0}, \"hovertemplate\": \"<b>%{hovertext}</b><br><br>Country Name=Guinea<br>mean=%{marker.size}<br>Country Code=%{location}\", \"hovertext\": [\"Guinea\"], \"legendgroup\": \"Country Name=Guinea\", \"locations\": [\"GIN\"], \"marker\": {\"color\": \"#B6E880\", \"size\": [81653.84615384616], \"sizemode\": \"area\", \"sizeref\": 11777.884615384615}, \"name\": \"Country Name=Guinea\", \"showlegend\": true, \"type\": \"scattergeo\"}, {\"geo\": \"geo\", \"hoverlabel\": {\"namelength\": 0}, \"hovertemplate\": \"<b>%{hovertext}</b><br><br>Country Name=Guyana<br>mean=%{marker.size}<br>Country Code=%{location}\", \"hovertext\": [\"Guyana\"], \"legendgroup\": \"Country Name=Guyana\", \"locations\": [\"GUY\"], \"marker\": {\"color\": \"#FF97FF\", \"size\": [4484.615384615385], \"sizemode\": \"area\", \"sizeref\": 11777.884615384615}, \"name\": \"Country Name=Guyana\", \"showlegend\": true, \"type\": \"scattergeo\"}, {\"geo\": \"geo\", \"hoverlabel\": {\"namelength\": 0}, \"hovertemplate\": \"<b>%{hovertext}</b><br><br>Country Name=Haiti<br>mean=%{marker.size}<br>Country Code=%{location}\", \"hovertext\": [\"Haiti\"], \"legendgroup\": \"Country Name=Haiti\", \"locations\": [\"HTI\"], \"marker\": {\"color\": \"#FECB52\", \"size\": [196730.76923076922], \"sizemode\": \"area\", \"sizeref\": 11777.884615384615}, \"name\": \"Country Name=Haiti\", \"showlegend\": true, \"type\": \"scattergeo\"}, {\"geo\": \"geo\", \"hoverlabel\": {\"namelength\": 0}, \"hovertemplate\": \"<b>%{hovertext}</b><br><br>Country Name=Honduras<br>mean=%{marker.size}<br>Country Code=%{location}\", \"hovertext\": [\"Honduras\"], \"legendgroup\": \"Country Name=Honduras\", \"locations\": [\"HND\"], \"marker\": {\"color\": \"#636efa\", \"size\": [36461.53846153846], \"sizemode\": \"area\", \"sizeref\": 11777.884615384615}, \"name\": \"Country Name=Honduras\", \"showlegend\": true, \"type\": \"scattergeo\"}, {\"geo\": \"geo\", \"hoverlabel\": {\"namelength\": 0}, \"hovertemplate\": \"<b>%{hovertext}</b><br><br>Country Name=India<br>mean=%{marker.size}<br>Country Code=%{location}\", \"hovertext\": [\"India\"], \"legendgroup\": \"Country Name=India\", \"locations\": [\"IND\"], \"marker\": {\"color\": \"#EF553B\", \"size\": [1693461.5384615385], \"sizemode\": \"area\", \"sizeref\": 11777.884615384615}, \"name\": \"Country Name=India\", \"showlegend\": true, \"type\": \"scattergeo\"}, {\"geo\": \"geo\", \"hoverlabel\": {\"namelength\": 0}, \"hovertemplate\": \"<b>%{hovertext}</b><br><br>Country Name=Indonesia<br>mean=%{marker.size}<br>Country Code=%{location}\", \"hovertext\": [\"Indonesia\"], \"legendgroup\": \"Country Name=Indonesia\", \"locations\": [\"IDN\"], \"marker\": {\"color\": \"#00cc96\", \"size\": [228257.6923076923], \"sizemode\": \"area\", \"sizeref\": 11777.884615384615}, \"name\": \"Country Name=Indonesia\", \"showlegend\": true, \"type\": \"scattergeo\"}, {\"geo\": \"geo\", \"hoverlabel\": {\"namelength\": 0}, \"hovertemplate\": \"<b>%{hovertext}</b><br><br>Country Name=Italy<br>mean=%{marker.size}<br>Country Code=%{location}\", \"hovertext\": [\"Italy\"], \"legendgroup\": \"Country Name=Italy\", \"locations\": [\"ITA\"], \"marker\": {\"color\": \"#ab63fa\", \"size\": [72057.69230769231], \"sizemode\": \"area\", \"sizeref\": 11777.884615384615}, \"name\": \"Country Name=Italy\", \"showlegend\": true, \"type\": \"scattergeo\"}, {\"geo\": \"geo\", \"hoverlabel\": {\"namelength\": 0}, \"hovertemplate\": \"<b>%{hovertext}</b><br><br>Country Name=Jamaica<br>mean=%{marker.size}<br>Country Code=%{location}\", \"hovertext\": [\"Jamaica\"], \"legendgroup\": \"Country Name=Jamaica\", \"locations\": [\"JAM\"], \"marker\": {\"color\": \"#FFA15A\", \"size\": [27153.846153846152], \"sizemode\": \"area\", \"sizeref\": 11777.884615384615}, \"name\": \"Country Name=Jamaica\", \"showlegend\": true, \"type\": \"scattergeo\"}, {\"geo\": \"geo\", \"hoverlabel\": {\"namelength\": 0}, \"hovertemplate\": \"<b>%{hovertext}</b><br><br>Country Name=Kazakhstan<br>mean=%{marker.size}<br>Country Code=%{location}\", \"hovertext\": [\"Kazakhstan\"], \"legendgroup\": \"Country Name=Kazakhstan\", \"locations\": [\"KAZ\"], \"marker\": {\"color\": \"#19d3f3\", \"size\": [7496.153846153846], \"sizemode\": \"area\", \"sizeref\": 11777.884615384615}, \"name\": \"Country Name=Kazakhstan\", \"showlegend\": true, \"type\": \"scattergeo\"}, {\"geo\": \"geo\", \"hoverlabel\": {\"namelength\": 0}, \"hovertemplate\": \"<b>%{hovertext}</b><br><br>Country Name=Kenya<br>mean=%{marker.size}<br>Country Code=%{location}\", \"hovertext\": [\"Kenya\"], \"legendgroup\": \"Country Name=Kenya\", \"locations\": [\"KEN\"], \"marker\": {\"color\": \"#FF6692\", \"size\": [1446153.8461538462], \"sizemode\": \"area\", \"sizeref\": 11777.884615384615}, \"name\": \"Country Name=Kenya\", \"showlegend\": true, \"type\": \"scattergeo\"}, {\"geo\": \"geo\", \"hoverlabel\": {\"namelength\": 0}, \"hovertemplate\": \"<b>%{hovertext}</b><br><br>Country Name=Kyrgyz Republic<br>mean=%{marker.size}<br>Country Code=%{location}\", \"hovertext\": [\"Kyrgyz Republic\"], \"legendgroup\": \"Country Name=Kyrgyz Republic\", \"locations\": [\"KGZ\"], \"marker\": {\"color\": \"#B6E880\", \"size\": [2776.923076923077], \"sizemode\": \"area\", \"sizeref\": 11777.884615384615}, \"name\": \"Country Name=Kyrgyz Republic\", \"showlegend\": true, \"type\": \"scattergeo\"}, {\"geo\": \"geo\", \"hoverlabel\": {\"namelength\": 0}, \"hovertemplate\": \"<b>%{hovertext}</b><br><br>Country Name=Latvia<br>mean=%{marker.size}<br>Country Code=%{location}\", \"hovertext\": [\"Latvia\"], \"legendgroup\": \"Country Name=Latvia\", \"locations\": [\"LVA\"], \"marker\": {\"color\": \"#FF97FF\", \"size\": [5542.307692307692], \"sizemode\": \"area\", \"sizeref\": 11777.884615384615}, \"name\": \"Country Name=Latvia\", \"showlegend\": true, \"type\": \"scattergeo\"}, {\"geo\": \"geo\", \"hoverlabel\": {\"namelength\": 0}, \"hovertemplate\": \"<b>%{hovertext}</b><br><br>Country Name=Lebanon<br>mean=%{marker.size}<br>Country Code=%{location}\", \"hovertext\": [\"Lebanon\"], \"legendgroup\": \"Country Name=Lebanon\", \"locations\": [\"LBN\"], \"marker\": {\"color\": \"#FECB52\", \"size\": [1334.6153846153845], \"sizemode\": \"area\", \"sizeref\": 11777.884615384615}, \"name\": \"Country Name=Lebanon\", \"showlegend\": true, \"type\": \"scattergeo\"}, {\"geo\": \"geo\", \"hoverlabel\": {\"namelength\": 0}, \"hovertemplate\": \"<b>%{hovertext}</b><br><br>Country Name=Lesotho<br>mean=%{marker.size}<br>Country Code=%{location}\", \"hovertext\": [\"Lesotho\"], \"legendgroup\": \"Country Name=Lesotho\", \"locations\": [\"LSO\"], \"marker\": {\"color\": \"#636efa\", \"size\": [194576.92307692306], \"sizemode\": \"area\", \"sizeref\": 11777.884615384615}, \"name\": \"Country Name=Lesotho\", \"showlegend\": true, \"type\": \"scattergeo\"}, {\"geo\": \"geo\", \"hoverlabel\": {\"namelength\": 0}, \"hovertemplate\": \"<b>%{hovertext}</b><br><br>Country Name=Liberia<br>mean=%{marker.size}<br>Country Code=%{location}\", \"hovertext\": [\"Liberia\"], \"legendgroup\": \"Country Name=Liberia\", \"locations\": [\"LBR\"], \"marker\": {\"color\": \"#EF553B\", \"size\": [29973.076923076922], \"sizemode\": \"area\", \"sizeref\": 11777.884615384615}, \"name\": \"Country Name=Liberia\", \"showlegend\": true, \"type\": \"scattergeo\"}, {\"geo\": \"geo\", \"hoverlabel\": {\"namelength\": 0}, \"hovertemplate\": \"<b>%{hovertext}</b><br><br>Country Name=Madagascar<br>mean=%{marker.size}<br>Country Code=%{location}\", \"hovertext\": [\"Madagascar\"], \"legendgroup\": \"Country Name=Madagascar\", \"locations\": [\"MDG\"], \"marker\": {\"color\": \"#00cc96\", \"size\": [34161.53846153846], \"sizemode\": \"area\", \"sizeref\": 11777.884615384615}, \"name\": \"Country Name=Madagascar\", \"showlegend\": true, \"type\": \"scattergeo\"}, {\"geo\": \"geo\", \"hoverlabel\": {\"namelength\": 0}, \"hovertemplate\": \"<b>%{hovertext}</b><br><br>Country Name=Malawi<br>mean=%{marker.size}<br>Country Code=%{location}\", \"hovertext\": [\"Malawi\"], \"legendgroup\": \"Country Name=Malawi\", \"locations\": [\"MWI\"], \"marker\": {\"color\": \"#ab63fa\", \"size\": [878846.1538461539], \"sizemode\": \"area\", \"sizeref\": 11777.884615384615}, \"name\": \"Country Name=Malawi\", \"showlegend\": true, \"type\": \"scattergeo\"}, {\"geo\": \"geo\", \"hoverlabel\": {\"namelength\": 0}, \"hovertemplate\": \"<b>%{hovertext}</b><br><br>Country Name=Malaysia<br>mean=%{marker.size}<br>Country Code=%{location}\", \"hovertext\": [\"Malaysia\"], \"legendgroup\": \"Country Name=Malaysia\", \"locations\": [\"MYS\"], \"marker\": {\"color\": \"#FFA15A\", \"size\": [88673.07692307692], \"sizemode\": \"area\", \"sizeref\": 11777.884615384615}, \"name\": \"Country Name=Malaysia\", \"showlegend\": true, \"type\": \"scattergeo\"}, {\"geo\": \"geo\", \"hoverlabel\": {\"namelength\": 0}, \"hovertemplate\": \"<b>%{hovertext}</b><br><br>Country Name=Mali<br>mean=%{marker.size}<br>Country Code=%{location}\", \"hovertext\": [\"Mali\"], \"legendgroup\": \"Country Name=Mali\", \"locations\": [\"MLI\"], \"marker\": {\"color\": \"#19d3f3\", \"size\": [105961.53846153847], \"sizemode\": \"area\", \"sizeref\": 11777.884615384615}, \"name\": \"Country Name=Mali\", \"showlegend\": true, \"type\": \"scattergeo\"}, {\"geo\": \"geo\", \"hoverlabel\": {\"namelength\": 0}, \"hovertemplate\": \"<b>%{hovertext}</b><br><br>Country Name=Mauritania<br>mean=%{marker.size}<br>Country Code=%{location}\", \"hovertext\": [\"Mauritania\"], \"legendgroup\": \"Country Name=Mauritania\", \"locations\": [\"MRT\"], \"marker\": {\"color\": \"#FF6692\", \"size\": [11292.307692307691], \"sizemode\": \"area\", \"sizeref\": 11777.884615384615}, \"name\": \"Country Name=Mauritania\", \"showlegend\": true, \"type\": \"scattergeo\"}, {\"geo\": \"geo\", \"hoverlabel\": {\"namelength\": 0}, \"hovertemplate\": \"<b>%{hovertext}</b><br><br>Country Name=Mauritius<br>mean=%{marker.size}<br>Country Code=%{location}\", \"hovertext\": [\"Mauritius\"], \"legendgroup\": \"Country Name=Mauritius\", \"locations\": [\"MUS\"], \"marker\": {\"color\": \"#B6E880\", \"size\": [6426.923076923077], \"sizemode\": \"area\", \"sizeref\": 11777.884615384615}, \"name\": \"Country Name=Mauritius\", \"showlegend\": true, \"type\": \"scattergeo\"}, {\"geo\": \"geo\", \"hoverlabel\": {\"namelength\": 0}, \"hovertemplate\": \"<b>%{hovertext}</b><br><br>Country Name=Mexico<br>mean=%{marker.size}<br>Country Code=%{location}\", \"hovertext\": [\"Mexico\"], \"legendgroup\": \"Country Name=Mexico\", \"locations\": [\"MEX\"], \"marker\": {\"color\": \"#FF97FF\", \"size\": [148307.6923076923], \"sizemode\": \"area\", \"sizeref\": 11777.884615384615}, \"name\": \"Country Name=Mexico\", \"showlegend\": true, \"type\": \"scattergeo\"}, {\"geo\": \"geo\", \"hoverlabel\": {\"namelength\": 0}, \"hovertemplate\": \"<b>%{hovertext}</b><br><br>Country Name=Moldova<br>mean=%{marker.size}<br>Country Code=%{location}\", \"hovertext\": [\"Moldova\"], \"legendgroup\": \"Country Name=Moldova\", \"locations\": [\"MDA\"], \"marker\": {\"color\": \"#FECB52\", \"size\": [9261.538461538461], \"sizemode\": \"area\", \"sizeref\": 11777.884615384615}, \"name\": \"Country Name=Moldova\", \"showlegend\": true, \"type\": \"scattergeo\"}, {\"geo\": \"geo\", \"hoverlabel\": {\"namelength\": 0}, \"hovertemplate\": \"<b>%{hovertext}</b><br><br>Country Name=Mongolia<br>mean=%{marker.size}<br>Country Code=%{location}\", \"hovertext\": [\"Mongolia\"], \"legendgroup\": \"Country Name=Mongolia\", \"locations\": [\"MNG\"], \"marker\": {\"color\": \"#636efa\", \"size\": [188.46153846153845], \"sizemode\": \"area\", \"sizeref\": 11777.884615384615}, \"name\": \"Country Name=Mongolia\", \"showlegend\": true, \"type\": \"scattergeo\"}, {\"geo\": \"geo\", \"hoverlabel\": {\"namelength\": 0}, \"hovertemplate\": \"<b>%{hovertext}</b><br><br>Country Name=Morocco<br>mean=%{marker.size}<br>Country Code=%{location}\", \"hovertext\": [\"Morocco\"], \"legendgroup\": \"Country Name=Morocco\", \"locations\": [\"MAR\"], \"marker\": {\"color\": \"#EF553B\", \"size\": [13861.538461538461], \"sizemode\": \"area\", \"sizeref\": 11777.884615384615}, \"name\": \"Country Name=Morocco\", \"showlegend\": true, \"type\": \"scattergeo\"}, {\"geo\": \"geo\", \"hoverlabel\": {\"namelength\": 0}, \"hovertemplate\": \"<b>%{hovertext}</b><br><br>Country Name=Mozambique<br>mean=%{marker.size}<br>Country Code=%{location}\", \"hovertext\": [\"Mozambique\"], \"legendgroup\": \"Country Name=Mozambique\", \"locations\": [\"MOZ\"], \"marker\": {\"color\": \"#00cc96\", \"size\": [820461.5384615385], \"sizemode\": \"area\", \"sizeref\": 11777.884615384615}, \"name\": \"Country Name=Mozambique\", \"showlegend\": true, \"type\": \"scattergeo\"}, {\"geo\": \"geo\", \"hoverlabel\": {\"namelength\": 0}, \"hovertemplate\": \"<b>%{hovertext}</b><br><br>Country Name=Myanmar<br>mean=%{marker.size}<br>Country Code=%{location}\", \"hovertext\": [\"Myanmar\"], \"legendgroup\": \"Country Name=Myanmar\", \"locations\": [\"MMR\"], \"marker\": {\"color\": \"#ab63fa\", \"size\": [173153.84615384616], \"sizemode\": \"area\", \"sizeref\": 11777.884615384615}, \"name\": \"Country Name=Myanmar\", \"showlegend\": true, \"type\": \"scattergeo\"}, {\"geo\": \"geo\", \"hoverlabel\": {\"namelength\": 0}, \"hovertemplate\": \"<b>%{hovertext}</b><br><br>Country Name=Namibia<br>mean=%{marker.size}<br>Country Code=%{location}\", \"hovertext\": [\"Namibia\"], \"legendgroup\": \"Country Name=Namibia\", \"locations\": [\"NAM\"], \"marker\": {\"color\": \"#FFA15A\", \"size\": [145500.0], \"sizemode\": \"area\", \"sizeref\": 11777.884615384615}, \"name\": \"Country Name=Namibia\", \"showlegend\": true, \"type\": \"scattergeo\"}, {\"geo\": \"geo\", \"hoverlabel\": {\"namelength\": 0}, \"hovertemplate\": \"<b>%{hovertext}</b><br><br>Country Name=Nepal<br>mean=%{marker.size}<br>Country Code=%{location}\", \"hovertext\": [\"Nepal\"], \"legendgroup\": \"Country Name=Nepal\", \"locations\": [\"NPL\"], \"marker\": {\"color\": \"#19d3f3\", \"size\": [26992.30769230769], \"sizemode\": \"area\", \"sizeref\": 11777.884615384615}, \"name\": \"Country Name=Nepal\", \"showlegend\": true, \"type\": \"scattergeo\"}, {\"geo\": \"geo\", \"hoverlabel\": {\"namelength\": 0}, \"hovertemplate\": \"<b>%{hovertext}</b><br><br>Country Name=Nicaragua<br>mean=%{marker.size}<br>Country Code=%{location}\", \"hovertext\": [\"Nicaragua\"], \"legendgroup\": \"Country Name=Nicaragua\", \"locations\": [\"NIC\"], \"marker\": {\"color\": \"#FF6692\", \"size\": [9073.076923076924], \"sizemode\": \"area\", \"sizeref\": 11777.884615384615}, \"name\": \"Country Name=Nicaragua\", \"showlegend\": true, \"type\": \"scattergeo\"}, {\"geo\": \"geo\", \"hoverlabel\": {\"namelength\": 0}, \"hovertemplate\": \"<b>%{hovertext}</b><br><br>Country Name=Niger<br>mean=%{marker.size}<br>Country Code=%{location}\", \"hovertext\": [\"Niger\"], \"legendgroup\": \"Country Name=Niger\", \"locations\": [\"NER\"], \"marker\": {\"color\": \"#B6E880\", \"size\": [51076.92307692308], \"sizemode\": \"area\", \"sizeref\": 11777.884615384615}, \"name\": \"Country Name=Niger\", \"showlegend\": true, \"type\": \"scattergeo\"}, {\"geo\": \"geo\", \"hoverlabel\": {\"namelength\": 0}, \"hovertemplate\": \"<b>%{hovertext}</b><br><br>Country Name=Nigeria<br>mean=%{marker.size}<br>Country Code=%{location}\", \"hovertext\": [\"Nigeria\"], \"legendgroup\": \"Country Name=Nigeria\", \"locations\": [\"NGA\"], \"marker\": {\"color\": \"#FF97FF\", \"size\": [2498076.923076923], \"sizemode\": \"area\", \"sizeref\": 11777.884615384615}, \"name\": \"Country Name=Nigeria\", \"showlegend\": true, \"type\": \"scattergeo\"}, {\"geo\": \"geo\", \"hoverlabel\": {\"namelength\": 0}, \"hovertemplate\": \"<b>%{hovertext}</b><br><br>Country Name=Pakistan<br>mean=%{marker.size}<br>Country Code=%{location}\", \"hovertext\": [\"Pakistan\"], \"legendgroup\": \"Country Name=Pakistan\", \"locations\": [\"PAK\"], \"marker\": {\"color\": \"#FECB52\", \"size\": [26607.69230769231], \"sizemode\": \"area\", \"sizeref\": 11777.884615384615}, \"name\": \"Country Name=Pakistan\", \"showlegend\": true, \"type\": \"scattergeo\"}, {\"geo\": \"geo\", \"hoverlabel\": {\"namelength\": 0}, \"hovertemplate\": \"<b>%{hovertext}</b><br><br>Country Name=Panama<br>mean=%{marker.size}<br>Country Code=%{location}\", \"hovertext\": [\"Panama\"], \"legendgroup\": \"Country Name=Panama\", \"locations\": [\"PAN\"], \"marker\": {\"color\": \"#636efa\", \"size\": [11953.846153846154], \"sizemode\": \"area\", \"sizeref\": 11777.884615384615}, \"name\": \"Country Name=Panama\", \"showlegend\": true, \"type\": \"scattergeo\"}, {\"geo\": \"geo\", \"hoverlabel\": {\"namelength\": 0}, \"hovertemplate\": \"<b>%{hovertext}</b><br><br>Country Name=Papua New Guinea<br>mean=%{marker.size}<br>Country Code=%{location}\", \"hovertext\": [\"Papua New Guinea\"], \"legendgroup\": \"Country Name=Papua New Guinea\", \"locations\": [\"PNG\"], \"marker\": {\"color\": \"#EF553B\", \"size\": [24584.615384615383], \"sizemode\": \"area\", \"sizeref\": 11777.884615384615}, \"name\": \"Country Name=Papua New Guinea\", \"showlegend\": true, \"type\": \"scattergeo\"}, {\"geo\": \"geo\", \"hoverlabel\": {\"namelength\": 0}, \"hovertemplate\": \"<b>%{hovertext}</b><br><br>Country Name=Paraguay<br>mean=%{marker.size}<br>Country Code=%{location}\", \"hovertext\": [\"Paraguay\"], \"legendgroup\": \"Country Name=Paraguay\", \"locations\": [\"PRY\"], \"marker\": {\"color\": \"#00cc96\", \"size\": [11188.461538461539], \"sizemode\": \"area\", \"sizeref\": 11777.884615384615}, \"name\": \"Country Name=Paraguay\", \"showlegend\": true, \"type\": \"scattergeo\"}, {\"geo\": \"geo\", \"hoverlabel\": {\"namelength\": 0}, \"hovertemplate\": \"<b>%{hovertext}</b><br><br>Country Name=Peru<br>mean=%{marker.size}<br>Country Code=%{location}\", \"hovertext\": [\"Peru\"], \"legendgroup\": \"Country Name=Peru\", \"locations\": [\"PER\"], \"marker\": {\"color\": \"#ab63fa\", \"size\": [61615.38461538462], \"sizemode\": \"area\", \"sizeref\": 11777.884615384615}, \"name\": \"Country Name=Peru\", \"showlegend\": true, \"type\": \"scattergeo\"}, {\"geo\": \"geo\", \"hoverlabel\": {\"namelength\": 0}, \"hovertemplate\": \"<b>%{hovertext}</b><br><br>Country Name=Philippines<br>mean=%{marker.size}<br>Country Code=%{location}\", \"hovertext\": [\"Philippines\"], \"legendgroup\": \"Country Name=Philippines\", \"locations\": [\"PHL\"], \"marker\": {\"color\": \"#FFA15A\", \"size\": [9369.23076923077], \"sizemode\": \"area\", \"sizeref\": 11777.884615384615}, \"name\": \"Country Name=Philippines\", \"showlegend\": true, \"type\": \"scattergeo\"}, {\"geo\": \"geo\", \"hoverlabel\": {\"namelength\": 0}, \"hovertemplate\": \"<b>%{hovertext}</b><br><br>Country Name=Rwanda<br>mean=%{marker.size}<br>Country Code=%{location}\", \"hovertext\": [\"Rwanda\"], \"legendgroup\": \"Country Name=Rwanda\", \"locations\": [\"RWA\"], \"marker\": {\"color\": \"#19d3f3\", \"size\": [194615.38461538462], \"sizemode\": \"area\", \"sizeref\": 11777.884615384615}, \"name\": \"Country Name=Rwanda\", \"showlegend\": true, \"type\": \"scattergeo\"}, {\"geo\": \"geo\", \"hoverlabel\": {\"namelength\": 0}, \"hovertemplate\": \"<b>%{hovertext}</b><br><br>Country Name=Senegal<br>mean=%{marker.size}<br>Country Code=%{location}\", \"hovertext\": [\"Senegal\"], \"legendgroup\": \"Country Name=Senegal\", \"locations\": [\"SEN\"], \"marker\": {\"color\": \"#FF6692\", \"size\": [35796.153846153844], \"sizemode\": \"area\", \"sizeref\": 11777.884615384615}, \"name\": \"Country Name=Senegal\", \"showlegend\": true, \"type\": \"scattergeo\"}, {\"geo\": \"geo\", \"hoverlabel\": {\"namelength\": 0}, \"hovertemplate\": \"<b>%{hovertext}</b><br><br>Country Name=Sierra Leone<br>mean=%{marker.size}<br>Country Code=%{location}\", \"hovertext\": [\"Sierra Leone\"], \"legendgroup\": \"Country Name=Sierra Leone\", \"locations\": [\"SLE\"], \"marker\": {\"color\": \"#B6E880\", \"size\": [29403.846153846152], \"sizemode\": \"area\", \"sizeref\": 11777.884615384615}, \"name\": \"Country Name=Sierra Leone\", \"showlegend\": true, \"type\": \"scattergeo\"}, {\"geo\": \"geo\", \"hoverlabel\": {\"namelength\": 0}, \"hovertemplate\": \"<b>%{hovertext}</b><br><br>Country Name=Somalia<br>mean=%{marker.size}<br>Country Code=%{location}\", \"hovertext\": [\"Somalia\"], \"legendgroup\": \"Country Name=Somalia\", \"locations\": [\"SOM\"], \"marker\": {\"color\": \"#FF97FF\", \"size\": [21684.615384615383], \"sizemode\": \"area\", \"sizeref\": 11777.884615384615}, \"name\": \"Country Name=Somalia\", \"showlegend\": true, \"type\": \"scattergeo\"}, {\"geo\": \"geo\", \"hoverlabel\": {\"namelength\": 0}, \"hovertemplate\": \"<b>%{hovertext}</b><br><br>Country Name=South Africa<br>mean=%{marker.size}<br>Country Code=%{location}\", \"hovertext\": [\"South Africa\"], \"legendgroup\": \"Country Name=South Africa\", \"locations\": [\"ZAF\"], \"marker\": {\"color\": \"#FECB52\", \"size\": [4711153.846153846], \"sizemode\": \"area\", \"sizeref\": 11777.884615384615}, \"name\": \"Country Name=South Africa\", \"showlegend\": true, \"type\": \"scattergeo\"}, {\"geo\": \"geo\", \"hoverlabel\": {\"namelength\": 0}, \"hovertemplate\": \"<b>%{hovertext}</b><br><br>Country Name=South Sudan<br>mean=%{marker.size}<br>Country Code=%{location}\", \"hovertext\": [\"South Sudan\"], \"legendgroup\": \"Country Name=South Sudan\", \"locations\": [\"SSD\"], \"marker\": {\"color\": \"#636efa\", \"size\": [99488.46153846153], \"sizemode\": \"area\", \"sizeref\": 11777.884615384615}, \"name\": \"Country Name=South Sudan\", \"showlegend\": true, \"type\": \"scattergeo\"}, {\"geo\": \"geo\", \"hoverlabel\": {\"namelength\": 0}, \"hovertemplate\": \"<b>%{hovertext}</b><br><br>Country Name=Spain<br>mean=%{marker.size}<br>Country Code=%{location}\", \"hovertext\": [\"Spain\"], \"legendgroup\": \"Country Name=Spain\", \"locations\": [\"ESP\"], \"marker\": {\"color\": \"#EF553B\", \"size\": [123807.69230769231], \"sizemode\": \"area\", \"sizeref\": 11777.884615384615}, \"name\": \"Country Name=Spain\", \"showlegend\": true, \"type\": \"scattergeo\"}, {\"geo\": \"geo\", \"hoverlabel\": {\"namelength\": 0}, \"hovertemplate\": \"<b>%{hovertext}</b><br><br>Country Name=Sri Lanka<br>mean=%{marker.size}<br>Country Code=%{location}\", \"hovertext\": [\"Sri Lanka\"], \"legendgroup\": \"Country Name=Sri Lanka\", \"locations\": [\"LKA\"], \"marker\": {\"color\": \"#00cc96\", \"size\": [1400.0], \"sizemode\": \"area\", \"sizeref\": 11777.884615384615}, \"name\": \"Country Name=Sri Lanka\", \"showlegend\": true, \"type\": \"scattergeo\"}, {\"geo\": \"geo\", \"hoverlabel\": {\"namelength\": 0}, \"hovertemplate\": \"<b>%{hovertext}</b><br><br>Country Name=Sudan<br>mean=%{marker.size}<br>Country Code=%{location}\", \"hovertext\": [\"Sudan\"], \"legendgroup\": \"Country Name=Sudan\", \"locations\": [\"SDN\"], \"marker\": {\"color\": \"#ab63fa\", \"size\": [24857.69230769231], \"sizemode\": \"area\", \"sizeref\": 11777.884615384615}, \"name\": \"Country Name=Sudan\", \"showlegend\": true, \"type\": \"scattergeo\"}, {\"geo\": \"geo\", \"hoverlabel\": {\"namelength\": 0}, \"hovertemplate\": \"<b>%{hovertext}</b><br><br>Country Name=Suriname<br>mean=%{marker.size}<br>Country Code=%{location}\", \"hovertext\": [\"Suriname\"], \"legendgroup\": \"Country Name=Suriname\", \"locations\": [\"SUR\"], \"marker\": {\"color\": \"#FFA15A\", \"size\": [2803.846153846154], \"sizemode\": \"area\", \"sizeref\": 11777.884615384615}, \"name\": \"Country Name=Suriname\", \"showlegend\": true, \"type\": \"scattergeo\"}, {\"geo\": \"geo\", \"hoverlabel\": {\"namelength\": 0}, \"hovertemplate\": \"<b>%{hovertext}</b><br><br>Country Name=Swaziland<br>mean=%{marker.size}<br>Country Code=%{location}\", \"hovertext\": [\"Swaziland\"], \"legendgroup\": \"Country Name=Swaziland\", \"locations\": [\"SWZ\"], \"marker\": {\"color\": \"#19d3f3\", \"size\": [127700.0], \"sizemode\": \"area\", \"sizeref\": 11777.884615384615}, \"name\": \"Country Name=Swaziland\", \"showlegend\": true, \"type\": \"scattergeo\"}, {\"geo\": \"geo\", \"hoverlabel\": {\"namelength\": 0}, \"hovertemplate\": \"<b>%{hovertext}</b><br><br>Country Name=Tajikistan<br>mean=%{marker.size}<br>Country Code=%{location}\", \"hovertext\": [\"Tajikistan\"], \"legendgroup\": \"Country Name=Tajikistan\", \"locations\": [\"TJK\"], \"marker\": {\"color\": \"#FF6692\", \"size\": [7215.384615384615], \"sizemode\": \"area\", \"sizeref\": 11777.884615384615}, \"name\": \"Country Name=Tajikistan\", \"showlegend\": true, \"type\": \"scattergeo\"}, {\"geo\": \"geo\", \"hoverlabel\": {\"namelength\": 0}, \"hovertemplate\": \"<b>%{hovertext}</b><br><br>Country Name=Tanzania<br>mean=%{marker.size}<br>Country Code=%{location}\", \"hovertext\": [\"Tanzania\"], \"legendgroup\": \"Country Name=Tanzania\", \"locations\": [\"TZA\"], \"marker\": {\"color\": \"#B6E880\", \"size\": [1249230.7692307692], \"sizemode\": \"area\", \"sizeref\": 11777.884615384615}, \"name\": \"Country Name=Tanzania\", \"showlegend\": true, \"type\": \"scattergeo\"}, {\"geo\": \"geo\", \"hoverlabel\": {\"namelength\": 0}, \"hovertemplate\": \"<b>%{hovertext}</b><br><br>Country Name=Thailand<br>mean=%{marker.size}<br>Country Code=%{location}\", \"hovertext\": [\"Thailand\"], \"legendgroup\": \"Country Name=Thailand\", \"locations\": [\"THA\"], \"marker\": {\"color\": \"#FF97FF\", \"size\": [517692.3076923077], \"sizemode\": \"area\", \"sizeref\": 11777.884615384615}, \"name\": \"Country Name=Thailand\", \"showlegend\": true, \"type\": \"scattergeo\"}, {\"geo\": \"geo\", \"hoverlabel\": {\"namelength\": 0}, \"hovertemplate\": \"<b>%{hovertext}</b><br><br>Country Name=Togo<br>mean=%{marker.size}<br>Country Code=%{location}\", \"hovertext\": [\"Togo\"], \"legendgroup\": \"Country Name=Togo\", \"locations\": [\"TGO\"], \"marker\": {\"color\": \"#FECB52\", \"size\": [103423.07692307692], \"sizemode\": \"area\", \"sizeref\": 11777.884615384615}, \"name\": \"Country Name=Togo\", \"showlegend\": true, \"type\": \"scattergeo\"}, {\"geo\": \"geo\", \"hoverlabel\": {\"namelength\": 0}, \"hovertemplate\": \"<b>%{hovertext}</b><br><br>Country Name=Trinidad and Tobago<br>mean=%{marker.size}<br>Country Code=%{location}\", \"hovertext\": [\"Trinidad and Tobago\"], \"legendgroup\": \"Country Name=Trinidad and Tobago\", \"locations\": [\"TTO\"], \"marker\": {\"color\": \"#636efa\", \"size\": [7907.692307692308], \"sizemode\": \"area\", \"sizeref\": 11777.884615384615}, \"name\": \"Country Name=Trinidad and Tobago\", \"showlegend\": true, \"type\": \"scattergeo\"}, {\"geo\": \"geo\", \"hoverlabel\": {\"namelength\": 0}, \"hovertemplate\": \"<b>%{hovertext}</b><br><br>Country Name=Tunisia<br>mean=%{marker.size}<br>Country Code=%{location}\", \"hovertext\": [\"Tunisia\"], \"legendgroup\": \"Country Name=Tunisia\", \"locations\": [\"TUN\"], \"marker\": {\"color\": \"#EF553B\", \"size\": [988.4615384615385], \"sizemode\": \"area\", \"sizeref\": 11777.884615384615}, \"name\": \"Country Name=Tunisia\", \"showlegend\": true, \"type\": \"scattergeo\"}, {\"geo\": \"geo\", \"hoverlabel\": {\"namelength\": 0}, \"hovertemplate\": \"<b>%{hovertext}</b><br><br>Country Name=Uganda<br>mean=%{marker.size}<br>Country Code=%{location}\", \"hovertext\": [\"Uganda\"], \"legendgroup\": \"Country Name=Uganda\", \"locations\": [\"UGA\"], \"marker\": {\"color\": \"#00cc96\", \"size\": [1117307.6923076923], \"sizemode\": \"area\", \"sizeref\": 11777.884615384615}, \"name\": \"Country Name=Uganda\", \"showlegend\": true, \"type\": \"scattergeo\"}, {\"geo\": \"geo\", \"hoverlabel\": {\"namelength\": 0}, \"hovertemplate\": \"<b>%{hovertext}</b><br><br>Country Name=Ukraine<br>mean=%{marker.size}<br>Country Code=%{location}\", \"hovertext\": [\"Ukraine\"], \"legendgroup\": \"Country Name=Ukraine\", \"locations\": [\"UKR\"], \"marker\": {\"color\": \"#ab63fa\", \"size\": [161538.46153846153], \"sizemode\": \"area\", \"sizeref\": 11777.884615384615}, \"name\": \"Country Name=Ukraine\", \"showlegend\": true, \"type\": \"scattergeo\"}, {\"geo\": \"geo\", \"hoverlabel\": {\"namelength\": 0}, \"hovertemplate\": \"<b>%{hovertext}</b><br><br>Country Name=Uruguay<br>mean=%{marker.size}<br>Country Code=%{location}\", \"hovertext\": [\"Uruguay\"], \"legendgroup\": \"Country Name=Uruguay\", \"locations\": [\"URY\"], \"marker\": {\"color\": \"#FFA15A\", \"size\": [7088.461538461538], \"sizemode\": \"area\", \"sizeref\": 11777.884615384615}, \"name\": \"Country Name=Uruguay\", \"showlegend\": true, \"type\": \"scattergeo\"}, {\"geo\": \"geo\", \"hoverlabel\": {\"namelength\": 0}, \"hovertemplate\": \"<b>%{hovertext}</b><br><br>Country Name=Uzbekistan<br>mean=%{marker.size}<br>Country Code=%{location}\", \"hovertext\": [\"Uzbekistan\"], \"legendgroup\": \"Country Name=Uzbekistan\", \"locations\": [\"UZB\"], \"marker\": {\"color\": \"#19d3f3\", \"size\": [28830.76923076923], \"sizemode\": \"area\", \"sizeref\": 11777.884615384615}, \"name\": \"Country Name=Uzbekistan\", \"showlegend\": true, \"type\": \"scattergeo\"}, {\"geo\": \"geo\", \"hoverlabel\": {\"namelength\": 0}, \"hovertemplate\": \"<b>%{hovertext}</b><br><br>Country Name=Vietnam<br>mean=%{marker.size}<br>Country Code=%{location}\", \"hovertext\": [\"Vietnam\"], \"legendgroup\": \"Country Name=Vietnam\", \"locations\": [\"VNM\"], \"marker\": {\"color\": \"#FF6692\", \"size\": [132942.3076923077], \"sizemode\": \"area\", \"sizeref\": 11777.884615384615}, \"name\": \"Country Name=Vietnam\", \"showlegend\": true, \"type\": \"scattergeo\"}, {\"geo\": \"geo\", \"hoverlabel\": {\"namelength\": 0}, \"hovertemplate\": \"<b>%{hovertext}</b><br><br>Country Name=Zambia<br>mean=%{marker.size}<br>Country Code=%{location}\", \"hovertext\": [\"Zambia\"], \"legendgroup\": \"Country Name=Zambia\", \"locations\": [\"ZMB\"], \"marker\": {\"color\": \"#B6E880\", \"size\": [907307.6923076923], \"sizemode\": \"area\", \"sizeref\": 11777.884615384615}, \"name\": \"Country Name=Zambia\", \"showlegend\": true, \"type\": \"scattergeo\"}, {\"geo\": \"geo\", \"hoverlabel\": {\"namelength\": 0}, \"hovertemplate\": \"<b>%{hovertext}</b><br><br>Country Name=Zimbabwe<br>mean=%{marker.size}<br>Country Code=%{location}\", \"hovertext\": [\"Zimbabwe\"], \"legendgroup\": \"Country Name=Zimbabwe\", \"locations\": [\"ZWE\"], \"marker\": {\"color\": \"#FF97FF\", \"size\": [1367307.6923076923], \"sizemode\": \"area\", \"sizeref\": 11777.884615384615}, \"name\": \"Country Name=Zimbabwe\", \"showlegend\": true, \"type\": \"scattergeo\"}],\n",
              "                        {\"geo\": {\"center\": {}, \"domain\": {\"x\": [0.0, 1.0], \"y\": [0.0, 1.0]}, \"projection\": {\"type\": \"orthographic\"}}, \"legend\": {\"itemsizing\": \"constant\", \"tracegroupgap\": 0}, \"template\": {\"data\": {\"bar\": [{\"error_x\": {\"color\": \"#2a3f5f\"}, \"error_y\": {\"color\": \"#2a3f5f\"}, \"marker\": {\"line\": {\"color\": \"#E5ECF6\", \"width\": 0.5}}, \"type\": \"bar\"}], \"barpolar\": [{\"marker\": {\"line\": {\"color\": \"#E5ECF6\", \"width\": 0.5}}, \"type\": \"barpolar\"}], \"carpet\": [{\"aaxis\": {\"endlinecolor\": \"#2a3f5f\", \"gridcolor\": \"white\", \"linecolor\": \"white\", \"minorgridcolor\": \"white\", \"startlinecolor\": \"#2a3f5f\"}, \"baxis\": {\"endlinecolor\": \"#2a3f5f\", \"gridcolor\": \"white\", \"linecolor\": \"white\", \"minorgridcolor\": \"white\", \"startlinecolor\": \"#2a3f5f\"}, \"type\": \"carpet\"}], \"choropleth\": [{\"colorbar\": {\"outlinewidth\": 0, \"ticks\": \"\"}, \"type\": \"choropleth\"}], \"contour\": [{\"colorbar\": {\"outlinewidth\": 0, \"ticks\": \"\"}, \"colorscale\": [[0.0, \"#0d0887\"], [0.1111111111111111, \"#46039f\"], [0.2222222222222222, \"#7201a8\"], [0.3333333333333333, \"#9c179e\"], [0.4444444444444444, \"#bd3786\"], [0.5555555555555556, \"#d8576b\"], [0.6666666666666666, \"#ed7953\"], [0.7777777777777778, \"#fb9f3a\"], [0.8888888888888888, \"#fdca26\"], [1.0, \"#f0f921\"]], \"type\": \"contour\"}], \"contourcarpet\": [{\"colorbar\": {\"outlinewidth\": 0, \"ticks\": \"\"}, \"type\": \"contourcarpet\"}], \"heatmap\": [{\"colorbar\": {\"outlinewidth\": 0, \"ticks\": \"\"}, \"colorscale\": [[0.0, \"#0d0887\"], [0.1111111111111111, \"#46039f\"], [0.2222222222222222, \"#7201a8\"], [0.3333333333333333, \"#9c179e\"], [0.4444444444444444, \"#bd3786\"], [0.5555555555555556, \"#d8576b\"], [0.6666666666666666, \"#ed7953\"], [0.7777777777777778, \"#fb9f3a\"], [0.8888888888888888, \"#fdca26\"], [1.0, \"#f0f921\"]], \"type\": \"heatmap\"}], \"heatmapgl\": [{\"colorbar\": {\"outlinewidth\": 0, \"ticks\": \"\"}, \"colorscale\": [[0.0, \"#0d0887\"], [0.1111111111111111, \"#46039f\"], [0.2222222222222222, \"#7201a8\"], [0.3333333333333333, \"#9c179e\"], [0.4444444444444444, \"#bd3786\"], [0.5555555555555556, \"#d8576b\"], [0.6666666666666666, \"#ed7953\"], [0.7777777777777778, \"#fb9f3a\"], [0.8888888888888888, \"#fdca26\"], [1.0, \"#f0f921\"]], \"type\": \"heatmapgl\"}], \"histogram\": [{\"marker\": {\"colorbar\": {\"outlinewidth\": 0, \"ticks\": \"\"}}, \"type\": \"histogram\"}], \"histogram2d\": [{\"colorbar\": {\"outlinewidth\": 0, \"ticks\": \"\"}, \"colorscale\": [[0.0, \"#0d0887\"], [0.1111111111111111, \"#46039f\"], [0.2222222222222222, \"#7201a8\"], [0.3333333333333333, \"#9c179e\"], [0.4444444444444444, \"#bd3786\"], [0.5555555555555556, \"#d8576b\"], [0.6666666666666666, \"#ed7953\"], [0.7777777777777778, \"#fb9f3a\"], [0.8888888888888888, \"#fdca26\"], [1.0, \"#f0f921\"]], \"type\": \"histogram2d\"}], \"histogram2dcontour\": [{\"colorbar\": {\"outlinewidth\": 0, \"ticks\": \"\"}, \"colorscale\": [[0.0, \"#0d0887\"], [0.1111111111111111, \"#46039f\"], [0.2222222222222222, \"#7201a8\"], [0.3333333333333333, \"#9c179e\"], [0.4444444444444444, \"#bd3786\"], [0.5555555555555556, \"#d8576b\"], [0.6666666666666666, \"#ed7953\"], [0.7777777777777778, \"#fb9f3a\"], [0.8888888888888888, \"#fdca26\"], [1.0, \"#f0f921\"]], \"type\": \"histogram2dcontour\"}], \"mesh3d\": [{\"colorbar\": {\"outlinewidth\": 0, \"ticks\": \"\"}, \"type\": \"mesh3d\"}], \"parcoords\": [{\"line\": {\"colorbar\": {\"outlinewidth\": 0, \"ticks\": \"\"}}, \"type\": \"parcoords\"}], \"pie\": [{\"automargin\": true, \"type\": \"pie\"}], \"scatter\": [{\"marker\": {\"colorbar\": {\"outlinewidth\": 0, \"ticks\": \"\"}}, \"type\": \"scatter\"}], \"scatter3d\": [{\"line\": {\"colorbar\": {\"outlinewidth\": 0, \"ticks\": \"\"}}, \"marker\": {\"colorbar\": {\"outlinewidth\": 0, \"ticks\": \"\"}}, \"type\": \"scatter3d\"}], \"scattercarpet\": [{\"marker\": {\"colorbar\": {\"outlinewidth\": 0, \"ticks\": \"\"}}, \"type\": \"scattercarpet\"}], \"scattergeo\": [{\"marker\": {\"colorbar\": {\"outlinewidth\": 0, \"ticks\": \"\"}}, \"type\": \"scattergeo\"}], \"scattergl\": [{\"marker\": {\"colorbar\": {\"outlinewidth\": 0, \"ticks\": \"\"}}, \"type\": \"scattergl\"}], \"scattermapbox\": [{\"marker\": {\"colorbar\": {\"outlinewidth\": 0, \"ticks\": \"\"}}, \"type\": \"scattermapbox\"}], \"scatterpolar\": [{\"marker\": {\"colorbar\": {\"outlinewidth\": 0, \"ticks\": \"\"}}, \"type\": \"scatterpolar\"}], \"scatterpolargl\": [{\"marker\": {\"colorbar\": {\"outlinewidth\": 0, \"ticks\": \"\"}}, \"type\": \"scatterpolargl\"}], \"scatterternary\": [{\"marker\": {\"colorbar\": {\"outlinewidth\": 0, \"ticks\": \"\"}}, \"type\": \"scatterternary\"}], \"surface\": [{\"colorbar\": {\"outlinewidth\": 0, \"ticks\": \"\"}, \"colorscale\": [[0.0, \"#0d0887\"], [0.1111111111111111, \"#46039f\"], [0.2222222222222222, \"#7201a8\"], [0.3333333333333333, \"#9c179e\"], [0.4444444444444444, \"#bd3786\"], [0.5555555555555556, \"#d8576b\"], [0.6666666666666666, \"#ed7953\"], [0.7777777777777778, \"#fb9f3a\"], [0.8888888888888888, \"#fdca26\"], [1.0, \"#f0f921\"]], \"type\": \"surface\"}], \"table\": [{\"cells\": {\"fill\": {\"color\": \"#EBF0F8\"}, \"line\": {\"color\": \"white\"}}, \"header\": {\"fill\": {\"color\": \"#C8D4E3\"}, \"line\": {\"color\": \"white\"}}, \"type\": \"table\"}]}, \"layout\": {\"annotationdefaults\": {\"arrowcolor\": \"#2a3f5f\", \"arrowhead\": 0, \"arrowwidth\": 1}, \"coloraxis\": {\"colorbar\": {\"outlinewidth\": 0, \"ticks\": \"\"}}, \"colorscale\": {\"diverging\": [[0, \"#8e0152\"], [0.1, \"#c51b7d\"], [0.2, \"#de77ae\"], [0.3, \"#f1b6da\"], [0.4, \"#fde0ef\"], [0.5, \"#f7f7f7\"], [0.6, \"#e6f5d0\"], [0.7, \"#b8e186\"], [0.8, \"#7fbc41\"], [0.9, \"#4d9221\"], [1, \"#276419\"]], \"sequential\": [[0.0, \"#0d0887\"], [0.1111111111111111, \"#46039f\"], [0.2222222222222222, \"#7201a8\"], [0.3333333333333333, \"#9c179e\"], [0.4444444444444444, \"#bd3786\"], [0.5555555555555556, \"#d8576b\"], [0.6666666666666666, \"#ed7953\"], [0.7777777777777778, \"#fb9f3a\"], [0.8888888888888888, \"#fdca26\"], [1.0, \"#f0f921\"]], \"sequentialminus\": [[0.0, \"#0d0887\"], [0.1111111111111111, \"#46039f\"], [0.2222222222222222, \"#7201a8\"], [0.3333333333333333, \"#9c179e\"], [0.4444444444444444, \"#bd3786\"], [0.5555555555555556, \"#d8576b\"], [0.6666666666666666, \"#ed7953\"], [0.7777777777777778, \"#fb9f3a\"], [0.8888888888888888, \"#fdca26\"], [1.0, \"#f0f921\"]]}, \"colorway\": [\"#636efa\", \"#EF553B\", \"#00cc96\", \"#ab63fa\", \"#FFA15A\", \"#19d3f3\", \"#FF6692\", \"#B6E880\", \"#FF97FF\", \"#FECB52\"], \"font\": {\"color\": \"#2a3f5f\"}, \"geo\": {\"bgcolor\": \"white\", \"lakecolor\": \"white\", \"landcolor\": \"#E5ECF6\", \"showlakes\": true, \"showland\": true, \"subunitcolor\": \"white\"}, \"hoverlabel\": {\"align\": \"left\"}, \"hovermode\": \"closest\", \"mapbox\": {\"style\": \"light\"}, \"paper_bgcolor\": \"white\", \"plot_bgcolor\": \"#E5ECF6\", \"polar\": {\"angularaxis\": {\"gridcolor\": \"white\", \"linecolor\": \"white\", \"ticks\": \"\"}, \"bgcolor\": \"#E5ECF6\", \"radialaxis\": {\"gridcolor\": \"white\", \"linecolor\": \"white\", \"ticks\": \"\"}}, \"scene\": {\"xaxis\": {\"backgroundcolor\": \"#E5ECF6\", \"gridcolor\": \"white\", \"gridwidth\": 2, \"linecolor\": \"white\", \"showbackground\": true, \"ticks\": \"\", \"zerolinecolor\": \"white\"}, \"yaxis\": {\"backgroundcolor\": \"#E5ECF6\", \"gridcolor\": \"white\", \"gridwidth\": 2, \"linecolor\": \"white\", \"showbackground\": true, \"ticks\": \"\", \"zerolinecolor\": \"white\"}, \"zaxis\": {\"backgroundcolor\": \"#E5ECF6\", \"gridcolor\": \"white\", \"gridwidth\": 2, \"linecolor\": \"white\", \"showbackground\": true, \"ticks\": \"\", \"zerolinecolor\": \"white\"}}, \"shapedefaults\": {\"line\": {\"color\": \"#2a3f5f\"}}, \"ternary\": {\"aaxis\": {\"gridcolor\": \"white\", \"linecolor\": \"white\", \"ticks\": \"\"}, \"baxis\": {\"gridcolor\": \"white\", \"linecolor\": \"white\", \"ticks\": \"\"}, \"bgcolor\": \"#E5ECF6\", \"caxis\": {\"gridcolor\": \"white\", \"linecolor\": \"white\", \"ticks\": \"\"}}, \"title\": {\"x\": 0.05}, \"xaxis\": {\"automargin\": true, \"gridcolor\": \"white\", \"linecolor\": \"white\", \"ticks\": \"\", \"title\": {\"standoff\": 15}, \"zerolinecolor\": \"white\", \"zerolinewidth\": 2}, \"yaxis\": {\"automargin\": true, \"gridcolor\": \"white\", \"linecolor\": \"white\", \"ticks\": \"\", \"title\": {\"standoff\": 15}, \"zerolinecolor\": \"white\", \"zerolinewidth\": 2}}}, \"title\": {\"text\": \"Average Total HIV Counts for different Countries from 1990 to 2015\"}},\n",
              "                        {\"responsive\": true}\n",
              "                    ).then(function(){\n",
              "                            \n",
              "var gd = document.getElementById('e5cf84e7-e9d6-4d5e-8183-eea5f3dcee32');\n",
              "var x = new MutationObserver(function (mutations, observer) {{\n",
              "        var display = window.getComputedStyle(gd).display;\n",
              "        if (!display || display === 'none') {{\n",
              "            console.log([gd, 'removed!']);\n",
              "            Plotly.purge(gd);\n",
              "            observer.disconnect();\n",
              "        }}\n",
              "}});\n",
              "\n",
              "// Listen for the removal of the full notebook cells\n",
              "var notebookContainer = gd.closest('#notebook-container');\n",
              "if (notebookContainer) {{\n",
              "    x.observe(notebookContainer, {childList: true});\n",
              "}}\n",
              "\n",
              "// Listen for the clearing of the current output cell\n",
              "var outputEl = gd.closest('.output');\n",
              "if (outputEl) {{\n",
              "    x.observe(outputEl, {childList: true});\n",
              "}}\n",
              "\n",
              "                        })\n",
              "                };\n",
              "                \n",
              "            </script>\n",
              "        </div>\n",
              "</body>\n",
              "</html>"
            ]
          },
          "metadata": {}
        }
      ],
      "source": [
        "fig = px.scatter_geo(total_HIV_df, locations=\"Country Code\",\n",
        "                     color=\"Country Name\", # which column to use to set the color of markers\n",
        "                     hover_name=\"Country Name\", # column added to hover information\n",
        "                     size=\"mean\", # size of markers\n",
        "                     projection=\"orthographic\",\n",
        "                     title=\"Average Total HIV Counts for different Countries from 1990 to 2015\")\n",
        "fig"
      ]
    },
    {
      "cell_type": "markdown",
      "metadata": {
        "id": "-L2w215b599r"
      },
      "source": [
        "#### Data Distribution By Continents\n",
        "**Motivation:** I am curious about the average precentage distribution of HIV counts for children (0-14) living with HIV around different continents."
      ]
    },
    {
      "cell_type": "code",
      "execution_count": null,
      "metadata": {
        "colab": {
          "base_uri": "https://localhost:8080/",
          "height": 542
        },
        "id": "cQpBIRpl6R_f",
        "outputId": "d13cf375-b565-45d1-f0c4-4cc950c5bf3e"
      },
      "outputs": [
        {
          "output_type": "display_data",
          "data": {
            "text/html": [
              "<html>\n",
              "<head><meta charset=\"utf-8\" /></head>\n",
              "<body>\n",
              "    <div>\n",
              "            <script src=\"https://cdnjs.cloudflare.com/ajax/libs/mathjax/2.7.5/MathJax.js?config=TeX-AMS-MML_SVG\"></script><script type=\"text/javascript\">if (window.MathJax) {MathJax.Hub.Config({SVG: {font: \"STIX-Web\"}});}</script>\n",
              "                <script type=\"text/javascript\">window.PlotlyConfig = {MathJaxConfig: 'local'};</script>\n",
              "        <script src=\"https://cdn.plot.ly/plotly-latest.min.js\"></script>    \n",
              "            <div id=\"854c2ed1-a2ef-40f5-8bf9-a1efd728f873\" class=\"plotly-graph-div\" style=\"height:525px; width:100%;\"></div>\n",
              "            <script type=\"text/javascript\">\n",
              "                \n",
              "                    window.PLOTLYENV=window.PLOTLYENV || {};\n",
              "                    \n",
              "                if (document.getElementById(\"854c2ed1-a2ef-40f5-8bf9-a1efd728f873\")) {\n",
              "                    Plotly.newPlot(\n",
              "                        '854c2ed1-a2ef-40f5-8bf9-a1efd728f873',\n",
              "                        [{\"geo\": \"geo\", \"hoverlabel\": {\"namelength\": 0}, \"hovertemplate\": \"<b>%{hovertext}</b><br><br>Continent Name=Asia<br>mean=%{marker.size}<br>Country Code=%{location}\", \"hovertext\": [\"Afghanistan\", \"Azerbaijan\", \"Bangladesh\", \"Georgia\", \"Indonesia\", \"Kazakhstan\", \"Kyrgyz Republic\", \"Malaysia\", \"Mongolia\", \"Myanmar\", \"Nepal\", \"Pakistan\", \"Philippines\", \"Sri Lanka\", \"Tajikistan\", \"Thailand\", \"Uzbekistan\", \"Vietnam\"], \"legendgroup\": \"Continent Name=Asia\", \"locations\": [\"AFG\", \"AZE\", \"BGD\", \"GEO\", \"IDN\", \"KAZ\", \"KGZ\", \"MYS\", \"MNG\", \"MMR\", \"NPL\", \"PAK\", \"PHL\", \"LKA\", \"TJK\", \"THA\", \"UZB\", \"VNM\"], \"marker\": {\"color\": \"#636efa\", \"size\": [176.92307692307693, 100.0, 196.15384615384616, 100.0, 4303.846153846154, 142.30769230769232, 134.6153846153846, 342.3076923076923, 100.0, 5415.384615384615, 996.1538461538462, 792.3076923076923, 230.76923076923077, 100.0, 265.38461538461536, 8600.0, 569.2307692307693, 1942.3076923076924], \"sizemode\": \"area\", \"sizeref\": 526.8076923076924}, \"name\": \"Continent Name=Asia\", \"showlegend\": true, \"type\": \"scattergeo\"}, {\"geo\": \"geo\", \"hoverlabel\": {\"namelength\": 0}, \"hovertemplate\": \"<b>%{hovertext}</b><br><br>Continent Name=Africa<br>mean=%{marker.size}<br>Country Code=%{location}\", \"hovertext\": [\"Algeria\", \"Angola\", \"Benin\", \"Botswana\", \"Burkina Faso\", \"Burundi\", \"Cabo Verde\", \"Cameroon\", \"Central African Republic\", \"Chad\", \"Djibouti\", \"Equatorial Guinea\", \"Eritrea\", \"Gabon\", \"Ghana\", \"Guinea\", \"Kenya\", \"Lesotho\", \"Liberia\", \"Madagascar\", \"Malawi\", \"Mali\", \"Mauritania\", \"Morocco\", \"Mozambique\", \"Namibia\", \"Niger\", \"Nigeria\", \"Rwanda\", \"Senegal\", \"Sierra Leone\", \"Somalia\", \"South Africa\", \"South Sudan\", \"Sudan\", \"Swaziland\", \"Tanzania\", \"Togo\", \"Uganda\", \"Zambia\", \"Zimbabwe\"], \"legendgroup\": \"Continent Name=Africa\", \"locations\": [\"DZA\", \"AGO\", \"BEN\", \"BWA\", \"BFA\", \"BDI\", \"CPV\", \"CMR\", \"CAF\", \"TCD\", \"DJI\", \"GNQ\", \"ERI\", \"GAB\", \"GHA\", \"GIN\", \"KEN\", \"LSO\", \"LBR\", \"MDG\", \"MWI\", \"MLI\", \"MRT\", \"MAR\", \"MOZ\", \"NAM\", \"NER\", \"NGA\", \"RWA\", \"SEN\", \"SLE\", \"SOM\", \"ZAF\", \"SSD\", \"SDN\", \"SWZ\", \"TZA\", \"TGO\", \"UGA\", \"ZMB\", \"ZWE\"], \"marker\": {\"color\": \"#EF553B\", \"size\": [157.69230769230768, 13742.307692307691, 3507.6923076923076, 9626.923076923076, 15153.846153846154, 9250.0, 292.3076923076923, 31415.384615384617, 10911.538461538461, 13142.307692307691, 796.1538461538462, 1238.4615384615386, 1446.1538461538462, 2030.7692307692307, 18615.384615384617, 6353.846153846154, 133846.15384615384, 9430.76923076923, 3169.230769230769, 2696.153846153846, 84000.0, 11288.461538461539, 915.3846153846154, 376.9230769230769, 62976.92307692308, 7407.692307692308, 4711.538461538462, 178269.23076923078, 18576.923076923078, 2984.6153846153848, 2184.6153846153848, 1865.3846153846155, 210723.07692307694, 7265.384615384615, 1550.0, 7515.384615384615, 107653.84615384616, 8757.692307692309, 120807.69230769231, 84576.92307692308, 93153.84615384616], \"sizemode\": \"area\", \"sizeref\": 526.8076923076924}, \"name\": \"Continent Name=Africa\", \"showlegend\": true, \"type\": \"scattergeo\"}, {\"geo\": \"geo\", \"hoverlabel\": {\"namelength\": 0}, \"hovertemplate\": \"<b>%{hovertext}</b><br><br>Continent Name=South America<br>mean=%{marker.size}<br>Country Code=%{location}\", \"hovertext\": [\"Argentina\", \"Bolivia\", \"Brazil\", \"Colombia\", \"Ecuador\", \"Guyana\", \"Paraguay\", \"Peru\", \"Suriname\", \"Uruguay\"], \"legendgroup\": \"Continent Name=South America\", \"locations\": [\"ARG\", \"BOL\", \"BRA\", \"COL\", \"ECU\", \"GUY\", \"PRY\", \"PER\", \"SUR\", \"URY\"], \"marker\": {\"color\": \"#00cc96\", \"size\": [1007.6923076923077, 676.9230769230769, 8953.846153846154, 1500.0, 807.6923076923077, 242.30769230769232, 380.7692307692308, 1896.1538461538462, 130.76923076923077, 100.0], \"sizemode\": \"area\", \"sizeref\": 526.8076923076924}, \"name\": \"Continent Name=South America\", \"showlegend\": true, \"type\": \"scattergeo\"}, {\"geo\": \"geo\", \"hoverlabel\": {\"namelength\": 0}, \"hovertemplate\": \"<b>%{hovertext}</b><br><br>Continent Name=Oceania<br>mean=%{marker.size}<br>Country Code=%{location}\", \"hovertext\": [\"Australia\", \"Papua New Guinea\"], \"legendgroup\": \"Continent Name=Oceania\", \"locations\": [\"AUS\", \"PNG\"], \"marker\": {\"color\": \"#ab63fa\", \"size\": [100.0, 2023.076923076923], \"sizemode\": \"area\", \"sizeref\": 526.8076923076924}, \"name\": \"Continent Name=Oceania\", \"showlegend\": true, \"type\": \"scattergeo\"}, {\"geo\": \"geo\", \"hoverlabel\": {\"namelength\": 0}, \"hovertemplate\": \"<b>%{hovertext}</b><br><br>Continent Name=Europe<br>mean=%{marker.size}<br>Country Code=%{location}\", \"hovertext\": [\"Belarus\", \"Greece\", \"Italy\", \"Latvia\", \"Moldova\", \"Spain\", \"Ukraine\"], \"legendgroup\": \"Continent Name=Europe\", \"locations\": [\"BLR\", \"GRC\", \"ITA\", \"LVA\", \"MDA\", \"ESP\", \"UKR\"], \"marker\": {\"color\": \"#FFA15A\", \"size\": [126.92307692307692, 100.0, 480.7692307692308, 100.0, 146.15384615384616, 396.15384615384613, 1653.8461538461538], \"sizemode\": \"area\", \"sizeref\": 526.8076923076924}, \"name\": \"Continent Name=Europe\", \"showlegend\": true, \"type\": \"scattergeo\"}, {\"geo\": \"geo\", \"hoverlabel\": {\"namelength\": 0}, \"hovertemplate\": \"<b>%{hovertext}</b><br><br>Continent Name=North America<br>mean=%{marker.size}<br>Country Code=%{location}\", \"hovertext\": [\"Belize\", \"Costa Rica\", \"Cuba\", \"Dominican Republic\", \"El Salvador\", \"Guatemala\", \"Haiti\", \"Honduras\", \"Jamaica\", \"Mexico\", \"Nicaragua\", \"Panama\", \"Trinidad and Tobago\"], \"legendgroup\": \"Continent Name=North America\", \"locations\": [\"BLZ\", \"CRI\", \"CUB\", \"DOM\", \"SLV\", \"GTM\", \"HTI\", \"HND\", \"JAM\", \"MEX\", \"NIC\", \"PAN\", \"TTO\"], \"marker\": {\"color\": \"#19d3f3\", \"size\": [142.30769230769232, 142.30769230769232, 100.0, 2780.769230769231, 411.53846153846155, 796.1538461538462, 12223.076923076924, 2596.153846153846, 676.9230769230769, 1653.8461538461538, 700.0, 384.61538461538464, 100.0], \"sizemode\": \"area\", \"sizeref\": 526.8076923076924}, \"name\": \"Continent Name=North America\", \"showlegend\": true, \"type\": \"scattergeo\"}],\n",
              "                        {\"geo\": {\"center\": {}, \"domain\": {\"x\": [0.0, 1.0], \"y\": [0.0, 1.0]}, \"projection\": {\"type\": \"orthographic\"}}, \"legend\": {\"itemsizing\": \"constant\", \"tracegroupgap\": 0}, \"template\": {\"data\": {\"bar\": [{\"error_x\": {\"color\": \"#2a3f5f\"}, \"error_y\": {\"color\": \"#2a3f5f\"}, \"marker\": {\"line\": {\"color\": \"#E5ECF6\", \"width\": 0.5}}, \"type\": \"bar\"}], \"barpolar\": [{\"marker\": {\"line\": {\"color\": \"#E5ECF6\", \"width\": 0.5}}, \"type\": \"barpolar\"}], \"carpet\": [{\"aaxis\": {\"endlinecolor\": \"#2a3f5f\", \"gridcolor\": \"white\", \"linecolor\": \"white\", \"minorgridcolor\": \"white\", \"startlinecolor\": \"#2a3f5f\"}, \"baxis\": {\"endlinecolor\": \"#2a3f5f\", \"gridcolor\": \"white\", \"linecolor\": \"white\", \"minorgridcolor\": \"white\", \"startlinecolor\": \"#2a3f5f\"}, \"type\": \"carpet\"}], \"choropleth\": [{\"colorbar\": {\"outlinewidth\": 0, \"ticks\": \"\"}, \"type\": \"choropleth\"}], \"contour\": [{\"colorbar\": {\"outlinewidth\": 0, \"ticks\": \"\"}, \"colorscale\": [[0.0, \"#0d0887\"], [0.1111111111111111, \"#46039f\"], [0.2222222222222222, \"#7201a8\"], [0.3333333333333333, \"#9c179e\"], [0.4444444444444444, \"#bd3786\"], [0.5555555555555556, \"#d8576b\"], [0.6666666666666666, \"#ed7953\"], [0.7777777777777778, \"#fb9f3a\"], [0.8888888888888888, \"#fdca26\"], [1.0, \"#f0f921\"]], \"type\": \"contour\"}], \"contourcarpet\": [{\"colorbar\": {\"outlinewidth\": 0, \"ticks\": \"\"}, \"type\": \"contourcarpet\"}], \"heatmap\": [{\"colorbar\": {\"outlinewidth\": 0, \"ticks\": \"\"}, \"colorscale\": [[0.0, \"#0d0887\"], [0.1111111111111111, \"#46039f\"], [0.2222222222222222, \"#7201a8\"], [0.3333333333333333, \"#9c179e\"], [0.4444444444444444, \"#bd3786\"], [0.5555555555555556, \"#d8576b\"], [0.6666666666666666, \"#ed7953\"], [0.7777777777777778, \"#fb9f3a\"], [0.8888888888888888, \"#fdca26\"], [1.0, \"#f0f921\"]], \"type\": \"heatmap\"}], \"heatmapgl\": [{\"colorbar\": {\"outlinewidth\": 0, \"ticks\": \"\"}, \"colorscale\": [[0.0, \"#0d0887\"], [0.1111111111111111, \"#46039f\"], [0.2222222222222222, \"#7201a8\"], [0.3333333333333333, \"#9c179e\"], [0.4444444444444444, \"#bd3786\"], [0.5555555555555556, \"#d8576b\"], [0.6666666666666666, \"#ed7953\"], [0.7777777777777778, \"#fb9f3a\"], [0.8888888888888888, \"#fdca26\"], [1.0, \"#f0f921\"]], \"type\": \"heatmapgl\"}], \"histogram\": [{\"marker\": {\"colorbar\": {\"outlinewidth\": 0, \"ticks\": \"\"}}, \"type\": \"histogram\"}], \"histogram2d\": [{\"colorbar\": {\"outlinewidth\": 0, \"ticks\": \"\"}, \"colorscale\": [[0.0, \"#0d0887\"], [0.1111111111111111, \"#46039f\"], [0.2222222222222222, \"#7201a8\"], [0.3333333333333333, \"#9c179e\"], [0.4444444444444444, \"#bd3786\"], [0.5555555555555556, \"#d8576b\"], [0.6666666666666666, \"#ed7953\"], [0.7777777777777778, \"#fb9f3a\"], [0.8888888888888888, \"#fdca26\"], [1.0, \"#f0f921\"]], \"type\": \"histogram2d\"}], \"histogram2dcontour\": [{\"colorbar\": {\"outlinewidth\": 0, \"ticks\": \"\"}, \"colorscale\": [[0.0, \"#0d0887\"], [0.1111111111111111, \"#46039f\"], [0.2222222222222222, \"#7201a8\"], [0.3333333333333333, \"#9c179e\"], [0.4444444444444444, \"#bd3786\"], [0.5555555555555556, \"#d8576b\"], [0.6666666666666666, \"#ed7953\"], [0.7777777777777778, \"#fb9f3a\"], [0.8888888888888888, \"#fdca26\"], [1.0, \"#f0f921\"]], \"type\": \"histogram2dcontour\"}], \"mesh3d\": [{\"colorbar\": {\"outlinewidth\": 0, \"ticks\": \"\"}, \"type\": \"mesh3d\"}], \"parcoords\": [{\"line\": {\"colorbar\": {\"outlinewidth\": 0, \"ticks\": \"\"}}, \"type\": \"parcoords\"}], \"pie\": [{\"automargin\": true, \"type\": \"pie\"}], \"scatter\": [{\"marker\": {\"colorbar\": {\"outlinewidth\": 0, \"ticks\": \"\"}}, \"type\": \"scatter\"}], \"scatter3d\": [{\"line\": {\"colorbar\": {\"outlinewidth\": 0, \"ticks\": \"\"}}, \"marker\": {\"colorbar\": {\"outlinewidth\": 0, \"ticks\": \"\"}}, \"type\": \"scatter3d\"}], \"scattercarpet\": [{\"marker\": {\"colorbar\": {\"outlinewidth\": 0, \"ticks\": \"\"}}, \"type\": \"scattercarpet\"}], \"scattergeo\": [{\"marker\": {\"colorbar\": {\"outlinewidth\": 0, \"ticks\": \"\"}}, \"type\": \"scattergeo\"}], \"scattergl\": [{\"marker\": {\"colorbar\": {\"outlinewidth\": 0, \"ticks\": \"\"}}, \"type\": \"scattergl\"}], \"scattermapbox\": [{\"marker\": {\"colorbar\": {\"outlinewidth\": 0, \"ticks\": \"\"}}, \"type\": \"scattermapbox\"}], \"scatterpolar\": [{\"marker\": {\"colorbar\": {\"outlinewidth\": 0, \"ticks\": \"\"}}, \"type\": \"scatterpolar\"}], \"scatterpolargl\": [{\"marker\": {\"colorbar\": {\"outlinewidth\": 0, \"ticks\": \"\"}}, \"type\": \"scatterpolargl\"}], \"scatterternary\": [{\"marker\": {\"colorbar\": {\"outlinewidth\": 0, \"ticks\": \"\"}}, \"type\": \"scatterternary\"}], \"surface\": [{\"colorbar\": {\"outlinewidth\": 0, \"ticks\": \"\"}, \"colorscale\": [[0.0, \"#0d0887\"], [0.1111111111111111, \"#46039f\"], [0.2222222222222222, \"#7201a8\"], [0.3333333333333333, \"#9c179e\"], [0.4444444444444444, \"#bd3786\"], [0.5555555555555556, \"#d8576b\"], [0.6666666666666666, \"#ed7953\"], [0.7777777777777778, \"#fb9f3a\"], [0.8888888888888888, \"#fdca26\"], [1.0, \"#f0f921\"]], \"type\": \"surface\"}], \"table\": [{\"cells\": {\"fill\": {\"color\": \"#EBF0F8\"}, \"line\": {\"color\": \"white\"}}, \"header\": {\"fill\": {\"color\": \"#C8D4E3\"}, \"line\": {\"color\": \"white\"}}, \"type\": \"table\"}]}, \"layout\": {\"annotationdefaults\": {\"arrowcolor\": \"#2a3f5f\", \"arrowhead\": 0, \"arrowwidth\": 1}, \"coloraxis\": {\"colorbar\": {\"outlinewidth\": 0, \"ticks\": \"\"}}, \"colorscale\": {\"diverging\": [[0, \"#8e0152\"], [0.1, \"#c51b7d\"], [0.2, \"#de77ae\"], [0.3, \"#f1b6da\"], [0.4, \"#fde0ef\"], [0.5, \"#f7f7f7\"], [0.6, \"#e6f5d0\"], [0.7, \"#b8e186\"], [0.8, \"#7fbc41\"], [0.9, \"#4d9221\"], [1, \"#276419\"]], \"sequential\": [[0.0, \"#0d0887\"], [0.1111111111111111, \"#46039f\"], [0.2222222222222222, \"#7201a8\"], [0.3333333333333333, \"#9c179e\"], [0.4444444444444444, \"#bd3786\"], [0.5555555555555556, \"#d8576b\"], [0.6666666666666666, \"#ed7953\"], [0.7777777777777778, \"#fb9f3a\"], [0.8888888888888888, \"#fdca26\"], [1.0, \"#f0f921\"]], \"sequentialminus\": [[0.0, \"#0d0887\"], [0.1111111111111111, \"#46039f\"], [0.2222222222222222, \"#7201a8\"], [0.3333333333333333, \"#9c179e\"], [0.4444444444444444, \"#bd3786\"], [0.5555555555555556, \"#d8576b\"], [0.6666666666666666, \"#ed7953\"], [0.7777777777777778, \"#fb9f3a\"], [0.8888888888888888, \"#fdca26\"], [1.0, \"#f0f921\"]]}, \"colorway\": [\"#636efa\", \"#EF553B\", \"#00cc96\", \"#ab63fa\", \"#FFA15A\", \"#19d3f3\", \"#FF6692\", \"#B6E880\", \"#FF97FF\", \"#FECB52\"], \"font\": {\"color\": \"#2a3f5f\"}, \"geo\": {\"bgcolor\": \"white\", \"lakecolor\": \"white\", \"landcolor\": \"#E5ECF6\", \"showlakes\": true, \"showland\": true, \"subunitcolor\": \"white\"}, \"hoverlabel\": {\"align\": \"left\"}, \"hovermode\": \"closest\", \"mapbox\": {\"style\": \"light\"}, \"paper_bgcolor\": \"white\", \"plot_bgcolor\": \"#E5ECF6\", \"polar\": {\"angularaxis\": {\"gridcolor\": \"white\", \"linecolor\": \"white\", \"ticks\": \"\"}, \"bgcolor\": \"#E5ECF6\", \"radialaxis\": {\"gridcolor\": \"white\", \"linecolor\": \"white\", \"ticks\": \"\"}}, \"scene\": {\"xaxis\": {\"backgroundcolor\": \"#E5ECF6\", \"gridcolor\": \"white\", \"gridwidth\": 2, \"linecolor\": \"white\", \"showbackground\": true, \"ticks\": \"\", \"zerolinecolor\": \"white\"}, \"yaxis\": {\"backgroundcolor\": \"#E5ECF6\", \"gridcolor\": \"white\", \"gridwidth\": 2, \"linecolor\": \"white\", \"showbackground\": true, \"ticks\": \"\", \"zerolinecolor\": \"white\"}, \"zaxis\": {\"backgroundcolor\": \"#E5ECF6\", \"gridcolor\": \"white\", \"gridwidth\": 2, \"linecolor\": \"white\", \"showbackground\": true, \"ticks\": \"\", \"zerolinecolor\": \"white\"}}, \"shapedefaults\": {\"line\": {\"color\": \"#2a3f5f\"}}, \"ternary\": {\"aaxis\": {\"gridcolor\": \"white\", \"linecolor\": \"white\", \"ticks\": \"\"}, \"baxis\": {\"gridcolor\": \"white\", \"linecolor\": \"white\", \"ticks\": \"\"}, \"bgcolor\": \"#E5ECF6\", \"caxis\": {\"gridcolor\": \"white\", \"linecolor\": \"white\", \"ticks\": \"\"}}, \"title\": {\"x\": 0.05}, \"xaxis\": {\"automargin\": true, \"gridcolor\": \"white\", \"linecolor\": \"white\", \"ticks\": \"\", \"title\": {\"standoff\": 15}, \"zerolinecolor\": \"white\", \"zerolinewidth\": 2}, \"yaxis\": {\"automargin\": true, \"gridcolor\": \"white\", \"linecolor\": \"white\", \"ticks\": \"\", \"title\": {\"standoff\": 15}, \"zerolinecolor\": \"white\", \"zerolinewidth\": 2}}}, \"title\": {\"text\": \"Average Children HIV Counts for different Continents from 1990 to 2015\"}},\n",
              "                        {\"responsive\": true}\n",
              "                    ).then(function(){\n",
              "                            \n",
              "var gd = document.getElementById('854c2ed1-a2ef-40f5-8bf9-a1efd728f873');\n",
              "var x = new MutationObserver(function (mutations, observer) {{\n",
              "        var display = window.getComputedStyle(gd).display;\n",
              "        if (!display || display === 'none') {{\n",
              "            console.log([gd, 'removed!']);\n",
              "            Plotly.purge(gd);\n",
              "            observer.disconnect();\n",
              "        }}\n",
              "}});\n",
              "\n",
              "// Listen for the removal of the full notebook cells\n",
              "var notebookContainer = gd.closest('#notebook-container');\n",
              "if (notebookContainer) {{\n",
              "    x.observe(notebookContainer, {childList: true});\n",
              "}}\n",
              "\n",
              "// Listen for the clearing of the current output cell\n",
              "var outputEl = gd.closest('.output');\n",
              "if (outputEl) {{\n",
              "    x.observe(outputEl, {childList: true});\n",
              "}}\n",
              "\n",
              "                        })\n",
              "                };\n",
              "                \n",
              "            </script>\n",
              "        </div>\n",
              "</body>\n",
              "</html>"
            ]
          },
          "metadata": {}
        }
      ],
      "source": [
        "fig = px.scatter_geo(children_HIV_df, locations=\"Country Code\",\n",
        "                     color=\"Continent Name\", # which column to use to set the color of markers\n",
        "                     hover_name=\"Country Name\", # column added to hover information\n",
        "                     size=\"mean\", # size of markers\n",
        "                     projection=\"orthographic\",\n",
        "                     title=\"Average Children HIV Counts for different Continents from 1990 to 2015\")\n",
        "fig"
      ]
    },
    {
      "cell_type": "markdown",
      "metadata": {
        "id": "KlWR0MKIh0K9"
      },
      "source": [
        "## Severe Countries Visualization\n",
        "\n",
        "Those are countries with high HIV counts over the past 30 years."
      ]
    },
    {
      "cell_type": "code",
      "execution_count": null,
      "metadata": {
        "colab": {
          "base_uri": "https://localhost:8080/",
          "height": 677
        },
        "id": "N4LhTpVQh5r4",
        "outputId": "08d78584-fb36-43bf-dac4-3d6e77e7715e"
      },
      "outputs": [
        {
          "output_type": "execute_result",
          "data": {
            "text/html": [
              "<div>\n",
              "<style scoped>\n",
              "    .dataframe tbody tr th:only-of-type {\n",
              "        vertical-align: middle;\n",
              "    }\n",
              "\n",
              "    .dataframe tbody tr th {\n",
              "        vertical-align: top;\n",
              "    }\n",
              "\n",
              "    .dataframe thead th {\n",
              "        text-align: right;\n",
              "    }\n",
              "</style>\n",
              "<table border=\"1\" class=\"dataframe\">\n",
              "  <thead>\n",
              "    <tr style=\"text-align: right;\">\n",
              "      <th></th>\n",
              "      <th>Country Name</th>\n",
              "      <th>Country Code</th>\n",
              "      <th>Indicator Name</th>\n",
              "      <th>Indicator Code</th>\n",
              "      <th>1990</th>\n",
              "      <th>1991</th>\n",
              "      <th>1992</th>\n",
              "      <th>1993</th>\n",
              "      <th>1994</th>\n",
              "      <th>1995</th>\n",
              "      <th>1996</th>\n",
              "      <th>1997</th>\n",
              "      <th>1998</th>\n",
              "      <th>1999</th>\n",
              "      <th>2000</th>\n",
              "      <th>2001</th>\n",
              "      <th>2002</th>\n",
              "      <th>2003</th>\n",
              "      <th>2004</th>\n",
              "      <th>2005</th>\n",
              "      <th>2006</th>\n",
              "      <th>2007</th>\n",
              "      <th>2008</th>\n",
              "      <th>2009</th>\n",
              "      <th>2010</th>\n",
              "      <th>2011</th>\n",
              "      <th>2012</th>\n",
              "      <th>2013</th>\n",
              "      <th>2014</th>\n",
              "      <th>2015</th>\n",
              "      <th>Continent Code</th>\n",
              "      <th>Continent Name</th>\n",
              "      <th>mean</th>\n",
              "    </tr>\n",
              "  </thead>\n",
              "  <tbody>\n",
              "    <tr>\n",
              "      <th>74868</th>\n",
              "      <td>South Africa</td>\n",
              "      <td>ZAF</td>\n",
              "      <td>Adults (ages 15+) and children (0-14 years) li...</td>\n",
              "      <td>SH.HIV.TOTL</td>\n",
              "      <td>210000.0</td>\n",
              "      <td>360000.0</td>\n",
              "      <td>590000.0</td>\n",
              "      <td>930000.0</td>\n",
              "      <td>1400000.0</td>\n",
              "      <td>2000000.0</td>\n",
              "      <td>2700000.0</td>\n",
              "      <td>3400000.0</td>\n",
              "      <td>4100000.0</td>\n",
              "      <td>4700000.0</td>\n",
              "      <td>5300000.0</td>\n",
              "      <td>5800000.0</td>\n",
              "      <td>6100000.0</td>\n",
              "      <td>6400000.0</td>\n",
              "      <td>6500000.0</td>\n",
              "      <td>6500000.0</td>\n",
              "      <td>6500000.0</td>\n",
              "      <td>6500000.0</td>\n",
              "      <td>6400000.0</td>\n",
              "      <td>6400000.0</td>\n",
              "      <td>6400000.0</td>\n",
              "      <td>6400000.0</td>\n",
              "      <td>6500000.0</td>\n",
              "      <td>6600000.0</td>\n",
              "      <td>6800000.0</td>\n",
              "      <td>7000000.0</td>\n",
              "      <td>AF</td>\n",
              "      <td>Africa</td>\n",
              "      <td>4.711154e+06</td>\n",
              "    </tr>\n",
              "    <tr>\n",
              "      <th>63828</th>\n",
              "      <td>Nigeria</td>\n",
              "      <td>NGA</td>\n",
              "      <td>Adults (ages 15+) and children (0-14 years) li...</td>\n",
              "      <td>SH.HIV.TOTL</td>\n",
              "      <td>700000.0</td>\n",
              "      <td>850000.0</td>\n",
              "      <td>1000000.0</td>\n",
              "      <td>1200000.0</td>\n",
              "      <td>1400000.0</td>\n",
              "      <td>1700000.0</td>\n",
              "      <td>1900000.0</td>\n",
              "      <td>2100000.0</td>\n",
              "      <td>2300000.0</td>\n",
              "      <td>2500000.0</td>\n",
              "      <td>2700000.0</td>\n",
              "      <td>2800000.0</td>\n",
              "      <td>2800000.0</td>\n",
              "      <td>2900000.0</td>\n",
              "      <td>3000000.0</td>\n",
              "      <td>3000000.0</td>\n",
              "      <td>3000000.0</td>\n",
              "      <td>3000000.0</td>\n",
              "      <td>3100000.0</td>\n",
              "      <td>3100000.0</td>\n",
              "      <td>3200000.0</td>\n",
              "      <td>3200000.0</td>\n",
              "      <td>3300000.0</td>\n",
              "      <td>3300000.0</td>\n",
              "      <td>3400000.0</td>\n",
              "      <td>3500000.0</td>\n",
              "      <td>AF</td>\n",
              "      <td>Africa</td>\n",
              "      <td>2.498077e+06</td>\n",
              "    </tr>\n",
              "    <tr>\n",
              "      <th>44508</th>\n",
              "      <td>India</td>\n",
              "      <td>IND</td>\n",
              "      <td>Adults (ages 15+) and children (0-14 years) li...</td>\n",
              "      <td>SH.HIV.TOTL</td>\n",
              "      <td>160000.0</td>\n",
              "      <td>250000.0</td>\n",
              "      <td>380000.0</td>\n",
              "      <td>540000.0</td>\n",
              "      <td>740000.0</td>\n",
              "      <td>960000.0</td>\n",
              "      <td>1200000.0</td>\n",
              "      <td>1400000.0</td>\n",
              "      <td>1700000.0</td>\n",
              "      <td>1900000.0</td>\n",
              "      <td>2000000.0</td>\n",
              "      <td>2100000.0</td>\n",
              "      <td>2200000.0</td>\n",
              "      <td>2300000.0</td>\n",
              "      <td>2300000.0</td>\n",
              "      <td>2300000.0</td>\n",
              "      <td>2300000.0</td>\n",
              "      <td>2200000.0</td>\n",
              "      <td>2200000.0</td>\n",
              "      <td>2200000.0</td>\n",
              "      <td>2200000.0</td>\n",
              "      <td>2100000.0</td>\n",
              "      <td>2100000.0</td>\n",
              "      <td>2100000.0</td>\n",
              "      <td>2100000.0</td>\n",
              "      <td>2100000.0</td>\n",
              "      <td>AS</td>\n",
              "      <td>Asia</td>\n",
              "      <td>1.693462e+06</td>\n",
              "    </tr>\n",
              "    <tr>\n",
              "      <th>48648</th>\n",
              "      <td>Kenya</td>\n",
              "      <td>KEN</td>\n",
              "      <td>Adults (ages 15+) and children (0-14 years) li...</td>\n",
              "      <td>SH.HIV.TOTL</td>\n",
              "      <td>700000.0</td>\n",
              "      <td>900000.0</td>\n",
              "      <td>1100000.0</td>\n",
              "      <td>1300000.0</td>\n",
              "      <td>1500000.0</td>\n",
              "      <td>1700000.0</td>\n",
              "      <td>1800000.0</td>\n",
              "      <td>1800000.0</td>\n",
              "      <td>1800000.0</td>\n",
              "      <td>1800000.0</td>\n",
              "      <td>1700000.0</td>\n",
              "      <td>1700000.0</td>\n",
              "      <td>1600000.0</td>\n",
              "      <td>1500000.0</td>\n",
              "      <td>1400000.0</td>\n",
              "      <td>1400000.0</td>\n",
              "      <td>1300000.0</td>\n",
              "      <td>1300000.0</td>\n",
              "      <td>1300000.0</td>\n",
              "      <td>1300000.0</td>\n",
              "      <td>1400000.0</td>\n",
              "      <td>1400000.0</td>\n",
              "      <td>1400000.0</td>\n",
              "      <td>1500000.0</td>\n",
              "      <td>1500000.0</td>\n",
              "      <td>1500000.0</td>\n",
              "      <td>AF</td>\n",
              "      <td>Africa</td>\n",
              "      <td>1.446154e+06</td>\n",
              "    </tr>\n",
              "    <tr>\n",
              "      <th>88668</th>\n",
              "      <td>Zimbabwe</td>\n",
              "      <td>ZWE</td>\n",
              "      <td>Adults (ages 15+) and children (0-14 years) li...</td>\n",
              "      <td>SH.HIV.TOTL</td>\n",
              "      <td>790000.0</td>\n",
              "      <td>960000.0</td>\n",
              "      <td>1100000.0</td>\n",
              "      <td>1300000.0</td>\n",
              "      <td>1400000.0</td>\n",
              "      <td>1500000.0</td>\n",
              "      <td>1600000.0</td>\n",
              "      <td>1700000.0</td>\n",
              "      <td>1700000.0</td>\n",
              "      <td>1700000.0</td>\n",
              "      <td>1700000.0</td>\n",
              "      <td>1600000.0</td>\n",
              "      <td>1500000.0</td>\n",
              "      <td>1500000.0</td>\n",
              "      <td>1400000.0</td>\n",
              "      <td>1300000.0</td>\n",
              "      <td>1300000.0</td>\n",
              "      <td>1200000.0</td>\n",
              "      <td>1200000.0</td>\n",
              "      <td>1200000.0</td>\n",
              "      <td>1200000.0</td>\n",
              "      <td>1300000.0</td>\n",
              "      <td>1300000.0</td>\n",
              "      <td>1300000.0</td>\n",
              "      <td>1400000.0</td>\n",
              "      <td>1400000.0</td>\n",
              "      <td>AF</td>\n",
              "      <td>Africa</td>\n",
              "      <td>1.367308e+06</td>\n",
              "    </tr>\n",
              "  </tbody>\n",
              "</table>\n",
              "</div>"
            ],
            "text/plain": [
              "       Country Name Country Code  ... Continent Name          mean\n",
              "74868  South Africa          ZAF  ...         Africa  4.711154e+06\n",
              "63828       Nigeria          NGA  ...         Africa  2.498077e+06\n",
              "44508         India          IND  ...           Asia  1.693462e+06\n",
              "48648         Kenya          KEN  ...         Africa  1.446154e+06\n",
              "88668      Zimbabwe          ZWE  ...         Africa  1.367308e+06\n",
              "\n",
              "[5 rows x 33 columns]"
            ]
          },
          "metadata": {},
          "execution_count": 29
        }
      ],
      "source": [
        "severe_countries=total_HIV_df.sort_values(by=[\"mean\"],ascending=False).head(5)\n",
        "severe_countries"
      ]
    },
    {
      "cell_type": "code",
      "execution_count": null,
      "metadata": {
        "colab": {
          "base_uri": "https://localhost:8080/"
        },
        "id": "J2lVOIjoPTUD",
        "outputId": "5e62eb46-1390-429d-d276-1657ba199383"
      },
      "outputs": [
        {
          "output_type": "stream",
          "name": "stdout",
          "text": [
            "['South Africa', 'Nigeria', 'India', 'Kenya', 'Zimbabwe']\n"
          ]
        }
      ],
      "source": [
        "severe_countries_name=severe_countries[\"Country Name\"].tolist()\n",
        "print(severe_countries_name)"
      ]
    },
    {
      "cell_type": "markdown",
      "metadata": {
        "id": "5ukHSsRlaZk-"
      },
      "source": [
        "We can see most severe contries are in Africa."
      ]
    },
    {
      "cell_type": "markdown",
      "metadata": {
        "id": "PWzQ7hy-FPnb"
      },
      "source": [
        "# Part 3 : Indicator Analysis"
      ]
    },
    {
      "cell_type": "markdown",
      "metadata": {
        "id": "84lXR7f-ReEz"
      },
      "source": [
        "##Explore Indicator Names\n",
        "\n",
        "* Here I groupby the *Indicator Name* column to obtain the list of indicators that are available in the data. So that, I could filter through the list to identify or select which indicators are most likely related to the HIV counts among male, female, or children."
      ]
    },
    {
      "cell_type": "code",
      "execution_count": null,
      "metadata": {
        "id": "oqT130D0FbIj"
      },
      "outputs": [],
      "source": [
        "indicators_df = cleaned_df.groupby(\"Indicator Name\")[\"Country Name\"].count().reset_index().rename({\"Country Name\":\"Count\"},axis=\"columns\").sort_values('Count', ascending = False).reset_index().iloc[: , 1:]"
      ]
    },
    {
      "cell_type": "code",
      "execution_count": null,
      "metadata": {
        "colab": {
          "base_uri": "https://localhost:8080/"
        },
        "id": "BrqhvGxmyMJk",
        "outputId": "ea531c2d-e310-4352-9674-fed5e241fabc"
      },
      "outputs": [
        {
          "output_type": "execute_result",
          "data": {
            "text/plain": [
              "['Population, total',\n",
              " 'Urban population growth (annual %)',\n",
              " 'Urban population (% of total)',\n",
              " 'Urban population',\n",
              " 'Population growth (annual %)',\n",
              " 'Age at first marriage, female',\n",
              " 'Age at first marriage, male',\n",
              " 'Incidence of tuberculosis (per 100,000 people)',\n",
              " 'Share of women employed in the nonagricultural sector (% of total nonagricultural employment)',\n",
              " 'Prevalence of tuberculosis (per 100,000 population)',\n",
              " 'Tuberculosis case detection rate (all forms)',\n",
              " 'Tuberculosis death rate (per 100,000 people)',\n",
              " 'Rural population growth (annual %)',\n",
              " 'Death rate, crude (per 1,000 people)',\n",
              " 'Birth rate, crude (per 1,000 people)',\n",
              " 'Rural population (% of total population)',\n",
              " 'Rural population',\n",
              " 'Physicians (per 1,000 people)',\n",
              " 'Diabetes prevalence (% of population ages 20 to 79)',\n",
              " 'Improved water source, urban (% of urban population with access)',\n",
              " 'Improved water source (% of population with access)',\n",
              " 'Improved sanitation facilities (% of population with access)',\n",
              " 'Improved sanitation facilities, urban (% of urban population with access)',\n",
              " 'Fertility rate, total (births per woman)',\n",
              " 'Tuberculosis treatment success rate (% of new cases)',\n",
              " 'Life expectancy at birth, female (years)',\n",
              " 'Life expectancy at birth, total (years)',\n",
              " 'Life expectancy at birth, male (years)',\n",
              " 'Improved sanitation facilities, rural (% of rural population with access)',\n",
              " 'GNI per capita, Atlas method (current US$)',\n",
              " 'Improved water source, rural (% of rural population with access)',\n",
              " 'Hospital beds (per 1,000 people)',\n",
              " 'School enrollment, primary (% gross)',\n",
              " 'Births attended by skilled health staff (% of total)',\n",
              " 'School enrollment, secondary (% gross)',\n",
              " 'Public spending on education, total (% of GDP)',\n",
              " 'School enrollment, primary, male (% gross)',\n",
              " 'School enrollment, primary, female (% gross)',\n",
              " 'Immunization, DPT (% of children ages 12-23 months)',\n",
              " 'Mortality rate, adult, female (per 1,000 female adults)',\n",
              " 'Mortality rate, infant (per 1,000 live births)',\n",
              " 'Mortality rate, infant, female (per 1,000 live births)',\n",
              " 'Mortality rate, infant, male (per 1,000 live births)',\n",
              " 'Mortality rate, neonatal (per 1,000 live births)',\n",
              " 'Mortality rate, under-5 (per 1,000)',\n",
              " 'Mortality rate, under-5, female (per 1,000)',\n",
              " 'Mortality rate, under-5, male (per 1,000)',\n",
              " 'Mortality rate, adult, male (per 1,000 male adults)',\n",
              " 'Immunization, Pol3 (% of one-year-old children)',\n",
              " 'Immunization, measles (% of children ages 12-23 months)',\n",
              " 'Number of infant deaths',\n",
              " 'Number of neonatal deaths',\n",
              " 'Number of under-five deaths',\n",
              " 'Low-birthweight babies (% of births)',\n",
              " 'Nurses and midwives (per 1,000 people)',\n",
              " 'Out-of-pocket health expenditure (% of total expenditure on health)',\n",
              " 'Health expenditure, private (% of GDP)',\n",
              " 'Health expenditure per capita (current US$)',\n",
              " 'Health expenditure per capita, PPP',\n",
              " 'Health expenditure, private (% of total health expenditure)',\n",
              " 'Health expenditure, public (% of GDP)',\n",
              " 'Health expenditure, public (% of government expenditure)',\n",
              " 'Health expenditure, public (% of total health expenditure)',\n",
              " 'Health expenditure, total (% of GDP)',\n",
              " 'Health expenditure, total (current US$)',\n",
              " 'School enrollment, secondary, male (% gross)',\n",
              " 'School enrollment, secondary, female (% gross)',\n",
              " 'Out-of-pocket health expenditure (% of private expenditure on health)',\n",
              " 'Prevalence of overweight, male (% of male adults)',\n",
              " 'Prevalence of overweight (% of adults)',\n",
              " 'School enrollment, primary (% net)',\n",
              " 'School enrollment, tertiary (% gross)',\n",
              " 'Prevalence of overweight, female (% of female adults)',\n",
              " 'Immunization, Hib3 (% of children ages 12-23 months)',\n",
              " 'Population ages 00-14, female (% of total)',\n",
              " 'Male population 05-09',\n",
              " 'Population ages 40-44, female (% of female population)',\n",
              " 'Population ages 35-39, male (% of male population)',\n",
              " 'Population ages 35-39, female (% of female population)',\n",
              " 'Population ages 30-34, male (% of male population)',\n",
              " 'Population ages 30-34, female (% of female population)',\n",
              " 'Population ages 25-29, male (% of male population)',\n",
              " 'Population ages 25-29, female (% of female population)',\n",
              " 'Population ages 20-24, male (% of male population)',\n",
              " 'Population ages 20-24, female (% of female population)',\n",
              " 'Population ages 75-79, female (% of female population)',\n",
              " 'Population ages 70-74, male (% of male population)',\n",
              " 'Male population 10-14',\n",
              " 'Male population 15-19',\n",
              " 'Male population 20-24',\n",
              " 'Male population 25-29',\n",
              " 'Population ages 75-79, male (% of male population)',\n",
              " 'Population ages 40-44, male (% of male population)',\n",
              " 'Male population 35-39',\n",
              " 'Population, female (% of total)',\n",
              " 'Population ages 60-64, female (% of female population)',\n",
              " 'Population, male (% of total)',\n",
              " 'Population ages 55-59, male (% of male population)',\n",
              " 'Population ages 55-59, female (% of female population)',\n",
              " 'Population, male',\n",
              " 'Population ages 50-54, male (% of male population)',\n",
              " 'Population, female',\n",
              " 'Male population 00-04',\n",
              " 'Population ages 50-54, female (% of female population)',\n",
              " 'Population ages10-14, male (% of male population)',\n",
              " 'Population ages 80 and older, male (% of male population)',\n",
              " 'Population ages 80 and older, female (% of female population)',\n",
              " 'Population ages 45-49, male (% of male population)',\n",
              " 'Population ages 45-49, female (% of female population)',\n",
              " 'Male population 30-34',\n",
              " 'Male population 40-44',\n",
              " 'Population ages 65 and above, female (% of total)',\n",
              " 'Population ages 65-69, male (% of male population)',\n",
              " 'Population ages 65-69, female (% of female population)',\n",
              " 'Population ages 05-09, male (% of male population)',\n",
              " 'Population ages 05-09, female (% of female population)',\n",
              " 'Primary completion rate, total (% of relevant age group)',\n",
              " 'Population ages 65 and above, female',\n",
              " 'Population ages 00-14, total',\n",
              " 'Population ages 65 and above, total',\n",
              " 'Population ages 65 and above, male (% of total)',\n",
              " 'Population ages 0-14, female',\n",
              " 'Population ages 0-14, male',\n",
              " 'Population ages 00-04, female (% of female population)',\n",
              " 'Population ages 00-04, male (% of male population)',\n",
              " 'Population ages 00-14 (% of total)',\n",
              " 'Population ages 00-14, male (% of total)',\n",
              " 'Population ages 65 and above, male',\n",
              " 'Net migration',\n",
              " 'Population ages 10-14, female (% of female population)',\n",
              " 'Male population 45-49',\n",
              " 'Population ages 60-64, male (% of male population)',\n",
              " 'Male population 50-54',\n",
              " 'Male population 55-59',\n",
              " 'Male population 60-64',\n",
              " 'Male population 65-69',\n",
              " 'Male population 75-79',\n",
              " 'Male population 80+',\n",
              " 'Population ages 15-64, total',\n",
              " 'Population ages 15-64, male (% of total)',\n",
              " 'Population ages 15-64, male',\n",
              " 'Population ages 15-64, female (% of total)',\n",
              " 'Population ages 15-64, female',\n",
              " 'Population ages 15-64 (% of total)',\n",
              " 'Population ages 15-19, male (% of male population)',\n",
              " 'Population ages 15-19, female (% of female population)',\n",
              " 'Population ages 70-74, female (% of female population)',\n",
              " 'Population ages 65 and above (% of total)',\n",
              " 'Male population 70-74',\n",
              " 'Age population, age 22, male, interpolated',\n",
              " 'Age population, age 10, female, interpolated',\n",
              " 'Survival to age 65, male (% of cohort)',\n",
              " 'Survival to age 65, female (% of cohort)',\n",
              " 'Age population, age 13, female, interpolated',\n",
              " 'Age population, age 12, male, interpolated',\n",
              " 'Age population, age 12, female, interpolated',\n",
              " 'Age population, age 11, male, interpolated',\n",
              " 'Age population, age 11, female, interpolated',\n",
              " 'Age population, age 10, male, interpolated',\n",
              " 'Age population, age 09, male, interpolated',\n",
              " 'Age population, age 14, female, interpolated',\n",
              " 'Age population, age 09, female, interpolated',\n",
              " 'Age population, age 08, male, interpolated',\n",
              " 'Age population, age 08, female, interpolated',\n",
              " 'Age population, age 07, male, interpolated',\n",
              " 'Sex ratio at birth (male births per female births)',\n",
              " 'Age population, age 07, female, interpolated',\n",
              " 'Age population, age 06, male, interpolated',\n",
              " 'Age population, age 06, female, interpolated',\n",
              " 'Age population, age 13, male, interpolated',\n",
              " 'Age population, age 14, male, interpolated',\n",
              " 'Age population, age 05, male, interpolated',\n",
              " 'Age population, age 21, male, interpolated',\n",
              " 'Age population, age 17, male, interpolated',\n",
              " 'Age population, age 18, female, interpolated',\n",
              " 'Age population, age 18, male, interpolated',\n",
              " 'Age population, age 19, female, interpolated',\n",
              " 'Age population, age 19, male, interpolated',\n",
              " 'Age population, age 20, female, interpolated',\n",
              " 'Age population, age 20, male, interpolated',\n",
              " 'Age population, age 21, female, interpolated',\n",
              " 'Age population, age 22, female, interpolated',\n",
              " 'Age population, age 15, female, interpolated',\n",
              " 'Age population, age 16, female, interpolated',\n",
              " 'Age population, age 23, female, interpolated',\n",
              " 'Age population, age 23, male, interpolated',\n",
              " 'Age population, age 24, female, interpolated',\n",
              " 'Age population, age 24, male, interpolated',\n",
              " 'Age population, age 25, female, interpolated',\n",
              " 'Age population, age 25, male, interpolated',\n",
              " 'Age population, age 15, male, interpolated',\n",
              " 'Age population, age 16, male, interpolated',\n",
              " 'School enrollment, tertiary, female (% gross)',\n",
              " 'Age population, age 05, female, interpolated',\n",
              " 'Female population 20-24',\n",
              " 'Female population 25-29',\n",
              " 'Female population 30-34',\n",
              " 'Female population 35-39',\n",
              " 'Female population 40-44',\n",
              " 'Female population 45-49',\n",
              " 'Female population 50-54',\n",
              " 'Female population 55-59',\n",
              " 'Female population 60-64',\n",
              " 'Female population 65-69',\n",
              " 'Female population 70-74',\n",
              " 'Female population 75-79',\n",
              " 'Female population 80+',\n",
              " 'Age population, age 0, female, interpolated',\n",
              " 'Age dependency ratio, young',\n",
              " 'Age dependency ratio, old',\n",
              " 'Age dependency ratio (% of working-age population)',\n",
              " 'Adolescent fertility rate (births per 1,000 women ages 15-19)',\n",
              " 'Age population, age 04, male, interpolated',\n",
              " 'Age population, age 17, female, interpolated',\n",
              " 'Female population 15-19',\n",
              " 'Age population, age 02, female, interpolated',\n",
              " 'Age population, age 04, female, interpolated',\n",
              " 'Age population, age 03, male, interpolated',\n",
              " 'Female population 00-04',\n",
              " 'Female population 10-14',\n",
              " 'Age population, age 03, female, interpolated',\n",
              " 'Age population, age 02, male, interpolated',\n",
              " 'Female population 05-09',\n",
              " 'Age population, age 01, male, interpolated',\n",
              " 'Age population, age 01, female, interpolated',\n",
              " 'Age population, age 0, male, interpolated',\n",
              " 'Contraceptive prevalence, any methods (% of women ages 15-49)',\n",
              " 'School enrollment, primary, female (% net)',\n",
              " 'School enrollment, primary, male (% net)',\n",
              " 'Risk of catastrophic expenditure for surgical care (% of people at risk)',\n",
              " 'Prevalence of anemia among women of reproductive age (% of women ages 15-49)',\n",
              " 'Prevalence of anemia among pregnant women (%)',\n",
              " 'Prevalence of anemia among children (% of children under 5)',\n",
              " 'Prevalence of anemia among non-pregnant women (% of women ages 15-49)',\n",
              " 'Primary completion rate, female (% of relevant age group)',\n",
              " 'Primary completion rate, male (% of relevant age group)',\n",
              " 'Number of surgical procedures (per 100,000 population)',\n",
              " 'Immunization, HepB3 (% of one-year-old children)',\n",
              " 'Lifetime risk of maternal death (%)',\n",
              " 'Lifetime risk of maternal death (1 in: rate varies by country)',\n",
              " 'Labor force, female (% of total labor force)',\n",
              " 'Maternal mortality ratio (modeled estimate, per 100,000 live births)',\n",
              " 'Labor force, total',\n",
              " 'Number of maternal deaths',\n",
              " 'Risk of impoverishing expenditure for surgical care (% of people at risk)',\n",
              " 'Mortality caused by road traffic injury (per 100,000 people)',\n",
              " 'Contraceptive prevalence, modern methods (% of women ages 15-49)',\n",
              " 'Maternal mortality ratio (national estimate, per 100,000 live births)',\n",
              " 'Number of weeks of maternity leave',\n",
              " 'Maternal leave benefits (% of wages paid in covered period)',\n",
              " 'Cause of death, by non-communicable diseases (% of total)',\n",
              " 'Cause of death, by injury (% of total)',\n",
              " 'Cause of death, by communicable diseases and maternal, prenatal and nutrition conditions (% of total)',\n",
              " 'School enrollment, secondary (% net)',\n",
              " 'Unemployment, female (% of female labor force)',\n",
              " 'Unemployment, male (% of male labor force)',\n",
              " 'Unemployment, total (% of total labor force)',\n",
              " 'Specialist surgical workforce (per 100,000 population)',\n",
              " 'Completeness of birth registration (%)',\n",
              " 'Pregnant women receiving prenatal care (%)',\n",
              " 'School enrollment, secondary, female (% net)',\n",
              " 'School enrollment, secondary, male (% net)',\n",
              " 'Immunization, BCG (% of one-year-old children)',\n",
              " 'Literacy rate, adult total (% of people ages 15 and above)',\n",
              " 'Literacy rate, adult female (% of females ages 15 and above)',\n",
              " 'Literacy rate, adult male (% of males ages 15 and above)',\n",
              " 'Ratio of young literate females to males (% ages 15-24)',\n",
              " 'Literacy rate, youth male (% of males ages 15-24)',\n",
              " 'Literacy rate, youth total (% of people ages 15-24)',\n",
              " 'External resources for health (% of total expenditure on health)',\n",
              " 'Malnutrition prevalence, weight for age (% of children under 5)',\n",
              " 'Malnutrition prevalence, height for age (% of children under 5)',\n",
              " 'Prevalence of wasting (% of children under 5)',\n",
              " 'Prevalence of overweight (% of children under 5)',\n",
              " 'People practicing open defecation (% of population)',\n",
              " 'People practicing open defecation, rural (% of rural population)',\n",
              " 'Diarrhea treatment (% of children under 5 who received ORS packet)',\n",
              " 'Exclusive breastfeeding (% of children under 6 months)',\n",
              " 'People practicing open defecation, urban (% of urban population)',\n",
              " 'Prevalence of severe wasting, weight for height (% of children under 5)',\n",
              " 'Malnutrition prevalence, weight for age, male (% of children under 5)',\n",
              " 'Malnutrition prevalence, height for age, male (% of children under 5)',\n",
              " 'Unmet need for contraception (% of married women ages 15-49)',\n",
              " 'Malnutrition prevalence, weight for age, female (% of children under 5)',\n",
              " 'Pregnant women receiving prenatal care of at least four visits (% of pregnant women)',\n",
              " 'Prevalence of overweight, male (% of children under 5)',\n",
              " 'Malnutrition prevalence, height for age, female (% of children under 5)',\n",
              " 'Prevalence of wasting, male (% of children under 5)',\n",
              " 'Prevalence of overweight, female (% of children under 5)',\n",
              " 'Prevalence of wasting, female (% of children under 5)',\n",
              " 'Smoking prevalence, females (% of adults)',\n",
              " 'Prevalence of severe wasting, weight for height, male (% of children under 5)',\n",
              " 'Smoking prevalence, males (% of adults)',\n",
              " 'Prevalence of severe wasting, weight for height, female (% of children under 5)',\n",
              " 'Prevalence of syphilis (% of women attending antenatal care)',\n",
              " 'Poverty headcount ratio at national poverty line (% of population)',\n",
              " 'Consumption of iodized salt (% of households)',\n",
              " 'Comprehensive correct knowledge of HIV/AIDS, ages 15-24, female (2 prevent ways and reject 3 misconceptions)',\n",
              " 'Completeness of death registration with cause-of-death information (%)',\n",
              " 'Diarrhea treatment (% of children under 5 receiving oral rehydration and continued feeding)',\n",
              " 'ARI treatment (% of children under 5 taken to a health provider)',\n",
              " 'Completeness of birth registration, urban (%)',\n",
              " 'Completeness of birth registration, rural (%)',\n",
              " 'Prevalence of undernourishment (% of population)',\n",
              " '% of females ages 15-49 having comprehensive correct knowledge about HIV (2 prevent ways and reject 3 misconceptions)',\n",
              " 'Malaria cases reported',\n",
              " 'AIDS estimated deaths (UNAIDS estimates)',\n",
              " 'Adults (ages 15+) newly infected with HIV',\n",
              " 'Adults (ages 15+) living with HIV',\n",
              " 'Adults (ages 15+) and children (ages 0-14) newly infected with HIV',\n",
              " 'Incidence of HIV (% of uninfected population ages 15-49)',\n",
              " 'Adults (ages 15+) and children (0-14 years) living with HIV',\n",
              " \"Women's share of population ages 15+ living with HIV (%)\",\n",
              " 'Prevalence of HIV, female (% ages 15-24)',\n",
              " 'Prevalence of HIV, male (% ages 15-24)',\n",
              " 'Prevalence of HIV, total (% of population ages 15-49)',\n",
              " 'Number of people who are undernourished',\n",
              " 'Antiretroviral therapy coverage (% of people living with HIV)',\n",
              " 'Newborns protected against tetanus (%)',\n",
              " 'Urban poverty headcount ratio at national poverty lines (% of urban population)',\n",
              " 'Antiretroviral therapy coverage for PMTCT (% of pregnant women living with HIV)',\n",
              " 'Children (0-14) living with HIV',\n",
              " 'Children (ages 0-14) newly infected with HIV',\n",
              " 'Children orphaned by HIV/AIDS',\n",
              " 'Rural poverty headcount ratio at national poverty lines (% of rural population)',\n",
              " 'Comprehensive correct knowledge of HIV/AIDS, ages 15-24, male (2 prevent ways and reject 3 misconceptions)',\n",
              " 'Teenage mothers (% of women ages 15-19 who have had children or are currently pregnant)',\n",
              " 'Wanted fertility rate (births per woman)',\n",
              " 'Vitamin A supplementation coverage rate (% of children ages 6-59 months)',\n",
              " 'Female headed households (% of households with a female head)',\n",
              " 'Demand for family planning satisfied by any methods (% of married women with demand for family planning)',\n",
              " 'Demand for family planning satisfied by modern methods (% of married women with demand for family planning)',\n",
              " 'Community health workers (per 1,000 people)',\n",
              " '% of males ages 15-49 having comprehensive correct knowledge about HIV (2 prevent ways and reject 3 misconceptions)',\n",
              " 'Ratio of school attendance of orphans to school attendance of non-orphans ages 10-14',\n",
              " 'Condom use, population ages 15-24, female (% of females ages 15-24)',\n",
              " 'Children with fever receiving antimalarial drugs (% of children under age 5 with fever)',\n",
              " 'Infant and young child feeding practices, all 3 IYCF (% children ages 6-23 months)',\n",
              " 'Condom use with non regular partner, % adults(15-49), male',\n",
              " 'Condom use with non regular partner, % adults(15-49), female',\n",
              " 'Condom use, population ages 15-24, male (% of males ages 15-24)',\n",
              " 'Use of insecticide-treated bed nets (% of under-5 population)',\n",
              " 'Postnatal care coverage (% mothers)',\n",
              " 'Use of Intermittent Preventive Treatment of malaria, 2+ doses of SP/Fansidar (% of pregnant women)',\n",
              " 'Use of any antimalarial drug (% of pregnant women)']"
            ]
          },
          "metadata": {},
          "execution_count": 32
        }
      ],
      "source": [
        "indicators_list = indicators_df[\"Indicator Name\"].tolist()\n",
        "indicators_list"
      ]
    },
    {
      "cell_type": "markdown",
      "metadata": {
        "id": "sAqN-g1kPn4r"
      },
      "source": [
        "## Correlation between People's Health and HIV\n",
        "\n",
        "Exploring the correlation between people's health condition and prevelence of HIV among people.\n",
        "\n",
        "Here, I have done the follwing things:\n",
        "\n",
        "1. Filter the data based on human's health condition such as tuberculosis deadth rate, life expectancy, risk of catastrophic expenditure for surgical case, etc.\n",
        "2. Filter the data based on the prevalence of HIV among people.\n",
        "3. Peform correlation matrix using the filtered data.\n",
        "4. Plot heatmap to show the correlation results."
      ]
    },
    {
      "cell_type": "code",
      "execution_count": null,
      "metadata": {
        "colab": {
          "base_uri": "https://localhost:8080/"
        },
        "id": "2pLfmcrbP6oo",
        "outputId": "1c694fa2-a39b-42aa-b8aa-42542d7201a6"
      },
      "outputs": [
        {
          "output_type": "execute_result",
          "data": {
            "text/plain": [
              "['Tuberculosis death rate (per 100,000 people)',\n",
              " 'Death rate, crude (per 1,000 people)',\n",
              " 'Life expectancy at birth, female (years)',\n",
              " 'Life expectancy at birth, total (years)',\n",
              " 'Life expectancy at birth, male (years)',\n",
              " 'Risk of catastrophic expenditure for surgical care (% of people at risk)',\n",
              " 'Lifetime risk of maternal death (%)',\n",
              " 'Lifetime risk of maternal death (1 in: rate varies by country)',\n",
              " 'Risk of impoverishing expenditure for surgical care (% of people at risk)']"
            ]
          },
          "metadata": {},
          "execution_count": 33
        }
      ],
      "source": [
        "indicators_risk = indicators_df[indicators_df[\"Indicator Name\"].apply(lambda x : 'risk' in x.lower() or 'life expectancy' in x.lower() or 'death rate' in x.lower())]\n",
        "indicators_risk_list = indicators_risk[\"Indicator Name\"].tolist()\n",
        "indicators_risk_list"
      ]
    },
    {
      "cell_type": "code",
      "execution_count": null,
      "metadata": {
        "id": "Kuuh8mutQDOa"
      },
      "outputs": [],
      "source": [
        "hiv_influence_df = cleaned_df[cleaned_df[\"Indicator Name\"].apply(lambda x : x in indicators_risk_list or 'Prevalence of HIV' in x)].groupby(\"Indicator Name\").sum().reset_index()"
      ]
    },
    {
      "cell_type": "markdown",
      "metadata": {
        "id": "39FwJiuNASrF"
      },
      "source": [
        "**Conclusion:** Based on the heatmap below, the selected indicator risks do not show a high correlation with the prevalence of HIV in male or female. However, the heatmap indicates that the prevalence of HIV in male and the prevalence of HIV in female has a high correlation of 0.97."
      ]
    },
    {
      "cell_type": "code",
      "execution_count": null,
      "metadata": {
        "colab": {
          "base_uri": "https://localhost:8080/",
          "height": 792
        },
        "id": "MsL6lKvyP_uy",
        "outputId": "45906086-2270-4b81-d8e9-83cef36d8a1c"
      },
      "outputs": [
        {
          "output_type": "display_data",
          "data": {
            "image/png": "[encoded data removed]",
            "text/plain": [
              "<Figure size 720x576 with 2 Axes>"
            ]
          },
          "metadata": {
            "needs_background": "light"
          }
        }
      ],
      "source": [
        "hiv_influence = hiv_influence_df.set_index('Indicator Name').transpose()\n",
        "cols = [9,10]\n",
        "hiv_influence.drop(hiv_influence.columns[cols],axis=1,inplace=True)\n",
        "# temp.rename_axis('year',axis=0).set_axis([\"children living with HIV\", \"children newely infected with hiv\",\"children orphaned by HIV\",\"condom_female\", \"condom_male\"], axis=1, inplace=False)\n",
        "hiv_influence = hiv_influence.iloc[:-1]\n",
        "hiv_influence_corr = hiv_influence.astype('float64').corr()\n",
        "plt.figure(figsize=(10,8))\n",
        "sns.heatmap(hiv_influence_corr, annot = True)\n",
        "plt.show()"
      ]
    },
    {
      "cell_type": "markdown",
      "metadata": {
        "id": "M4hmjdMJCavL"
      },
      "source": [
        "## Explore correlation between Condom use and prevalence of HIV\n",
        "\n",
        "Here I have done the following things:\n",
        "\n",
        "1. Filter the data based on the use of condom for male and female.\n",
        "2. Filter the data based on the prevalence of HIV in male and female.\n",
        "3. Compare between the filtered data.\n",
        "4. Peformed correlation matrix based on the filtered data to explore how the use of condom for male and female affect the HIV count for children."
      ]
    },
    {
      "cell_type": "markdown",
      "metadata": {
        "id": "ATvOYYF3Ch8V"
      },
      "source": [
        "### Male"
      ]
    },
    {
      "cell_type": "code",
      "execution_count": null,
      "metadata": {
        "id": "N6tm_Bi3Cl2S"
      },
      "outputs": [],
      "source": [
        "condom_hiv_male = cleaned_df[cleaned_df['Indicator Name'].apply(lambda x : ('HIV' in x and'male' in x and '15-24' in x and 'female' not in x)\n",
        "                                                        or('Condom use' in x and'male' in x and '15-24' in x and 'female' not in x))].groupby(\"Indicator Name\").sum().reset_index()\n",
        "condom_hiv_male\n",
        "condom_hiv_male = condom_hiv_male.iloc[1: , :]\n",
        "condom_hiv_male =condom_hiv_male.transpose().iloc[1: , :]\n",
        "condom_hiv_male = condom_hiv_male.rename_axis('year',axis=0).set_axis([\"condom\", \"prevalence\"], axis=1, inplace=False)\n",
        "condom_hiv_male = condom_hiv_male[(condom_hiv_male != 0).all(1)]"
      ]
    },
    {
      "cell_type": "code",
      "execution_count": null,
      "metadata": {
        "colab": {
          "base_uri": "https://localhost:8080/",
          "height": 739
        },
        "id": "4AtJpfSta_xS",
        "outputId": "0afe8f85-8480-47bb-d17b-ecdd691f7076"
      },
      "outputs": [
        {
          "output_type": "execute_result",
          "data": {
            "text/html": [
              "<div>\n",
              "<style scoped>\n",
              "    .dataframe tbody tr th:only-of-type {\n",
              "        vertical-align: middle;\n",
              "    }\n",
              "\n",
              "    .dataframe tbody tr th {\n",
              "        vertical-align: top;\n",
              "    }\n",
              "\n",
              "    .dataframe thead th {\n",
              "        text-align: right;\n",
              "    }\n",
              "</style>\n",
              "<table border=\"1\" class=\"dataframe\">\n",
              "  <thead>\n",
              "    <tr style=\"text-align: right;\">\n",
              "      <th></th>\n",
              "      <th>condom</th>\n",
              "      <th>prevalence</th>\n",
              "    </tr>\n",
              "    <tr>\n",
              "      <th>year</th>\n",
              "      <th></th>\n",
              "      <th></th>\n",
              "    </tr>\n",
              "  </thead>\n",
              "  <tbody>\n",
              "    <tr>\n",
              "      <th>1994</th>\n",
              "      <td>48.5</td>\n",
              "      <td>94.1</td>\n",
              "    </tr>\n",
              "    <tr>\n",
              "      <th>1995</th>\n",
              "      <td>59.1</td>\n",
              "      <td>100.2</td>\n",
              "    </tr>\n",
              "    <tr>\n",
              "      <th>1996</th>\n",
              "      <td>171.4</td>\n",
              "      <td>104.1</td>\n",
              "    </tr>\n",
              "    <tr>\n",
              "      <th>1997</th>\n",
              "      <td>11.4</td>\n",
              "      <td>105.5</td>\n",
              "    </tr>\n",
              "    <tr>\n",
              "      <th>1998</th>\n",
              "      <td>164.2</td>\n",
              "      <td>105.5</td>\n",
              "    </tr>\n",
              "    <tr>\n",
              "      <th>1999</th>\n",
              "      <td>238.5</td>\n",
              "      <td>102.4</td>\n",
              "    </tr>\n",
              "    <tr>\n",
              "      <th>2000</th>\n",
              "      <td>195.8</td>\n",
              "      <td>99.3</td>\n",
              "    </tr>\n",
              "    <tr>\n",
              "      <th>2001</th>\n",
              "      <td>118.7</td>\n",
              "      <td>95.5</td>\n",
              "    </tr>\n",
              "    <tr>\n",
              "      <th>2002</th>\n",
              "      <td>151</td>\n",
              "      <td>90.3</td>\n",
              "    </tr>\n",
              "    <tr>\n",
              "      <th>2003</th>\n",
              "      <td>263.5</td>\n",
              "      <td>86</td>\n",
              "    </tr>\n",
              "    <tr>\n",
              "      <th>2004</th>\n",
              "      <td>297.2</td>\n",
              "      <td>81.7</td>\n",
              "    </tr>\n",
              "    <tr>\n",
              "      <th>2005</th>\n",
              "      <td>430.5</td>\n",
              "      <td>78</td>\n",
              "    </tr>\n",
              "    <tr>\n",
              "      <th>2006</th>\n",
              "      <td>352.1</td>\n",
              "      <td>74.3</td>\n",
              "    </tr>\n",
              "    <tr>\n",
              "      <th>2007</th>\n",
              "      <td>397.4</td>\n",
              "      <td>71.6</td>\n",
              "    </tr>\n",
              "    <tr>\n",
              "      <th>2008</th>\n",
              "      <td>173</td>\n",
              "      <td>69.4</td>\n",
              "    </tr>\n",
              "    <tr>\n",
              "      <th>2009</th>\n",
              "      <td>322</td>\n",
              "      <td>67.6</td>\n",
              "    </tr>\n",
              "    <tr>\n",
              "      <th>2010</th>\n",
              "      <td>286.8</td>\n",
              "      <td>66.4</td>\n",
              "    </tr>\n",
              "    <tr>\n",
              "      <th>2011</th>\n",
              "      <td>311.6</td>\n",
              "      <td>64.8</td>\n",
              "    </tr>\n",
              "    <tr>\n",
              "      <th>2012</th>\n",
              "      <td>450.8</td>\n",
              "      <td>64.6</td>\n",
              "    </tr>\n",
              "    <tr>\n",
              "      <th>2013</th>\n",
              "      <td>263.3</td>\n",
              "      <td>63.7</td>\n",
              "    </tr>\n",
              "    <tr>\n",
              "      <th>2014</th>\n",
              "      <td>96.1</td>\n",
              "      <td>63.1</td>\n",
              "    </tr>\n",
              "  </tbody>\n",
              "</table>\n",
              "</div>"
            ],
            "text/plain": [
              "     condom prevalence\n",
              "year                  \n",
              "1994   48.5       94.1\n",
              "1995   59.1      100.2\n",
              "1996  171.4      104.1\n",
              "1997   11.4      105.5\n",
              "1998  164.2      105.5\n",
              "1999  238.5      102.4\n",
              "2000  195.8       99.3\n",
              "2001  118.7       95.5\n",
              "2002    151       90.3\n",
              "2003  263.5         86\n",
              "2004  297.2       81.7\n",
              "2005  430.5         78\n",
              "2006  352.1       74.3\n",
              "2007  397.4       71.6\n",
              "2008    173       69.4\n",
              "2009    322       67.6\n",
              "2010  286.8       66.4\n",
              "2011  311.6       64.8\n",
              "2012  450.8       64.6\n",
              "2013  263.3       63.7\n",
              "2014   96.1       63.1"
            ]
          },
          "metadata": {},
          "execution_count": 37
        }
      ],
      "source": [
        "condom_hiv_male"
      ]
    },
    {
      "cell_type": "markdown",
      "metadata": {
        "id": "QhrPImIY6u3A"
      },
      "source": [
        "**Result:** From the visual below, it shows that the use of condom only slightly bring down the number of prevalence of HIV among male (ages 15-24)."
      ]
    },
    {
      "cell_type": "code",
      "execution_count": null,
      "metadata": {
        "colab": {
          "base_uri": "https://localhost:8080/",
          "height": 296
        },
        "id": "SXdyeIwqCu30",
        "outputId": "22b20c9b-8bdb-4800-a4a3-8249f16c5a52"
      },
      "outputs": [
        {
          "output_type": "execute_result",
          "data": {
            "text/plain": [
              "<matplotlib.axes._subplots.AxesSubplot at 0x7f17864c6e50>"
            ]
          },
          "metadata": {},
          "execution_count": 38
        },
        {
          "output_type": "display_data",
          "data": {
            "image/png": "[encoded data removed]",
            "text/plain": [
              "<Figure size 432x288 with 1 Axes>"
            ]
          },
          "metadata": {
            "needs_background": "light"
          }
        }
      ],
      "source": [
        "condom_hiv_male.plot.line()"
      ]
    },
    {
      "cell_type": "code",
      "execution_count": null,
      "metadata": {
        "colab": {
          "base_uri": "https://localhost:8080/",
          "height": 112
        },
        "id": "_Kw7W_ZwCyID",
        "outputId": "03607e40-0637-4659-f2d1-ecffad577eae"
      },
      "outputs": [
        {
          "output_type": "execute_result",
          "data": {
            "text/html": [
              "<div>\n",
              "<style scoped>\n",
              "    .dataframe tbody tr th:only-of-type {\n",
              "        vertical-align: middle;\n",
              "    }\n",
              "\n",
              "    .dataframe tbody tr th {\n",
              "        vertical-align: top;\n",
              "    }\n",
              "\n",
              "    .dataframe thead th {\n",
              "        text-align: right;\n",
              "    }\n",
              "</style>\n",
              "<table border=\"1\" class=\"dataframe\">\n",
              "  <thead>\n",
              "    <tr style=\"text-align: right;\">\n",
              "      <th></th>\n",
              "      <th>condom</th>\n",
              "      <th>prevalence</th>\n",
              "    </tr>\n",
              "  </thead>\n",
              "  <tbody>\n",
              "    <tr>\n",
              "      <th>condom</th>\n",
              "      <td>1.000000</td>\n",
              "      <td>-0.598215</td>\n",
              "    </tr>\n",
              "    <tr>\n",
              "      <th>prevalence</th>\n",
              "      <td>-0.598215</td>\n",
              "      <td>1.000000</td>\n",
              "    </tr>\n",
              "  </tbody>\n",
              "</table>\n",
              "</div>"
            ],
            "text/plain": [
              "              condom  prevalence\n",
              "condom      1.000000   -0.598215\n",
              "prevalence -0.598215    1.000000"
            ]
          },
          "metadata": {},
          "execution_count": 39
        }
      ],
      "source": [
        "condom_hiv_male.astype('float64').corr()"
      ]
    },
    {
      "cell_type": "markdown",
      "metadata": {
        "id": "Df7J8URfCzJU"
      },
      "source": [
        "### Female"
      ]
    },
    {
      "cell_type": "code",
      "execution_count": null,
      "metadata": {
        "id": "LymEd6xvC2TS"
      },
      "outputs": [],
      "source": [
        "condom_hiv_female = cleaned_df[cleaned_df['Indicator Name'].apply(lambda x : ('HIV' in x and'female' in x and '15-24' in x)\n",
        "                                                        or('Condom use' in x and'female' in x and '15-24' in x))].groupby(\"Indicator Name\").sum().reset_index()\n",
        "condom_hiv_female = condom_hiv_female.iloc[1: , :]\n",
        "condom_hiv_female=condom_hiv_female.transpose().iloc[1: , :]\n",
        "condom_hiv_female = condom_hiv_female.rename_axis('year',axis=0).set_axis([\"condom\", \"prevalence\"], axis=1, inplace=False)\n",
        "condom_hiv_female = condom_hiv_female[(condom_hiv_female != 0).all(1)]"
      ]
    },
    {
      "cell_type": "markdown",
      "metadata": {
        "id": "J-7zC40P7nYk"
      },
      "source": [
        "**Result:** From the visual below, it shows that the use of condom had bring down the number of prevalence of HIV among female (ages 15-24). Before year 2004, the number of prevalence of HIV among female (ages 15-24) are high, while the number for the use of condom around that time is low. However, after year 2004, the number of use of condom increased and the number of prevalence of HIV among female (ages 15-24) decreased."
      ]
    },
    {
      "cell_type": "code",
      "execution_count": null,
      "metadata": {
        "colab": {
          "base_uri": "https://localhost:8080/",
          "height": 298
        },
        "id": "RjmgiqJ7C45_",
        "outputId": "6c60b5c1-3414-4ef3-d863-c446853c46ee"
      },
      "outputs": [
        {
          "output_type": "execute_result",
          "data": {
            "text/plain": [
              "<matplotlib.axes._subplots.AxesSubplot at 0x7f1787f92c50>"
            ]
          },
          "metadata": {},
          "execution_count": 41
        },
        {
          "output_type": "display_data",
          "data": {
            "image/png": "[encoded data removed]",
            "text/plain": [
              "<Figure size 432x288 with 1 Axes>"
            ]
          },
          "metadata": {
            "needs_background": "light"
          }
        }
      ],
      "source": [
        "# the trend of condom use and prevalence of HIV in female\n",
        "condom_hiv_female.plot.line()"
      ]
    },
    {
      "cell_type": "code",
      "execution_count": null,
      "metadata": {
        "colab": {
          "base_uri": "https://localhost:8080/",
          "height": 112
        },
        "id": "VQ6CFgCqC9fD",
        "outputId": "163fae7f-1739-4e33-c55f-c4c07946b835"
      },
      "outputs": [
        {
          "output_type": "execute_result",
          "data": {
            "text/html": [
              "<div>\n",
              "<style scoped>\n",
              "    .dataframe tbody tr th:only-of-type {\n",
              "        vertical-align: middle;\n",
              "    }\n",
              "\n",
              "    .dataframe tbody tr th {\n",
              "        vertical-align: top;\n",
              "    }\n",
              "\n",
              "    .dataframe thead th {\n",
              "        text-align: right;\n",
              "    }\n",
              "</style>\n",
              "<table border=\"1\" class=\"dataframe\">\n",
              "  <thead>\n",
              "    <tr style=\"text-align: right;\">\n",
              "      <th></th>\n",
              "      <th>condom</th>\n",
              "      <th>prevalence</th>\n",
              "    </tr>\n",
              "  </thead>\n",
              "  <tbody>\n",
              "    <tr>\n",
              "      <th>condom</th>\n",
              "      <td>1.000000</td>\n",
              "      <td>-0.553529</td>\n",
              "    </tr>\n",
              "    <tr>\n",
              "      <th>prevalence</th>\n",
              "      <td>-0.553529</td>\n",
              "      <td>1.000000</td>\n",
              "    </tr>\n",
              "  </tbody>\n",
              "</table>\n",
              "</div>"
            ],
            "text/plain": [
              "              condom  prevalence\n",
              "condom      1.000000   -0.553529\n",
              "prevalence -0.553529    1.000000"
            ]
          },
          "metadata": {},
          "execution_count": 42
        }
      ],
      "source": [
        "# correlation metrix\n",
        "condom_hiv_female.astype('float64').corr()"
      ]
    },
    {
      "cell_type": "markdown",
      "metadata": {
        "id": "ESxT0ePFDANe"
      },
      "source": [
        "### Children"
      ]
    },
    {
      "cell_type": "code",
      "execution_count": null,
      "metadata": {
        "id": "1_DOwByWDCWC"
      },
      "outputs": [],
      "source": [
        "condom_hiv_children = cleaned_df[cleaned_df['Indicator Name'].apply(lambda x : ('Children' in x and 'HIV' in x)\n",
        "                                                        or('Condom use' in x and'male' in x and '15-24' in x ))].groupby(\"Indicator Name\").sum().reset_index()\n",
        "condom_hiv_children = condom_hiv_children\n",
        "condom_hiv_children=condom_hiv_children.transpose().iloc[1: , :]\n",
        "\n",
        "condom_hiv_children = condom_hiv_children.rename_axis('year',axis=0).set_axis([\"children living with HIV\", \"children newely infected with hiv\",\"children orphaned by HIV\",\"condom_female\", \"condom_male\"], axis=1, inplace=False)\n",
        "condom_hiv_children = condom_hiv_children[(condom_hiv_children != 0).all(1)]"
      ]
    },
    {
      "cell_type": "markdown",
      "metadata": {
        "id": "JlSNyIp69OZ5"
      },
      "source": [
        "**Result:** Based on the heatmap below, we can tell that the use of condom has correlation with the number of children living with HIV.\n",
        "\n",
        "* the correlation value between children living with HIV and condom use in male is 0.74."
      ]
    },
    {
      "cell_type": "code",
      "execution_count": null,
      "metadata": {
        "colab": {
          "base_uri": "https://localhost:8080/",
          "height": 642
        },
        "id": "xUc9SQvADFP6",
        "outputId": "d6d1c086-bb97-4cac-98b3-5390d5bcba24"
      },
      "outputs": [
        {
          "output_type": "display_data",
          "data": {
            "image/png": "[encoded data removed]",
            "text/plain": [
              "<Figure size 864x576 with 2 Axes>"
            ]
          },
          "metadata": {
            "needs_background": "light"
          }
        }
      ],
      "source": [
        "\n",
        "condom_children_corr = condom_hiv_children.astype('float64').corr()\n",
        "plt.figure(figsize=(12,8))\n",
        "sns.heatmap(condom_children_corr, annot = True)\n",
        "plt.show()"
      ]
    },
    {
      "cell_type": "markdown",
      "metadata": {
        "id": "A0liOidpWXun"
      },
      "source": [
        "## Correlation between people's comprehensive correct knowledge about HIV and the prevelence of HIV\n",
        "\n",
        "Exploring the correlation between people's comprehensive correct knowledge about HIV and prevelence of HIV among people.\n",
        "\n",
        "Here, we do the follwing things:\n",
        "\n",
        "1. Filter the data based on the keyword 'comprehensive correct knowledge' for male and female.\n",
        "2. Filter the data based on the prevalence of HIV among people.\n",
        "3. Plot line graph to show the relationship between the filtered data."
      ]
    },
    {
      "cell_type": "markdown",
      "metadata": {
        "id": "t1VbXssmXsjC"
      },
      "source": [
        "### Male"
      ]
    },
    {
      "cell_type": "code",
      "execution_count": null,
      "metadata": {
        "id": "6139TPJmW7l4"
      },
      "outputs": [],
      "source": [
        "knowledge_hiv_male = cleaned_df[cleaned_df['Indicator Name'].apply(lambda x : ('HIV' in x and'male' in x and '15-24' in x and 'female' not in x)\n",
        "                                                        or('Comprehensive correct knowledge of HIV/AIDS' in x and 'male' in x and '15-24' in x and 'female' not in x))].groupby(\"Indicator Name\").sum().reset_index()\n",
        "knowledge_hiv_male\n",
        "knowledge_hiv_male = knowledge_hiv_male.transpose().iloc[1: , :]\n",
        "knowledge_hiv_male = knowledge_hiv_male.rename_axis('year',axis=0).set_axis([\"Comprehensive correct knowledge\", \"prevalence\"], axis=1, inplace=False)\n",
        "knowledge_hiv_male = knowledge_hiv_male[(knowledge_hiv_male != 0).all(1)]"
      ]
    },
    {
      "cell_type": "markdown",
      "metadata": {
        "id": "_dsqOl7R-ZEV"
      },
      "source": [
        "**Result:** Based on the line plot below, it indicates that having comprehensive correct knowledge of HIV/AIDS among male doesn't affect the prevalence of HIV among male ages 15-24."
      ]
    },
    {
      "cell_type": "code",
      "execution_count": null,
      "metadata": {
        "colab": {
          "base_uri": "https://localhost:8080/",
          "height": 296
        },
        "id": "a_3dwTGIXncO",
        "outputId": "c093a63a-ec6a-46ab-f1a7-4995e461bc83"
      },
      "outputs": [
        {
          "output_type": "execute_result",
          "data": {
            "text/plain": [
              "<matplotlib.axes._subplots.AxesSubplot at 0x7f1786093950>"
            ]
          },
          "metadata": {},
          "execution_count": 46
        },
        {
          "output_type": "display_data",
          "data": {
            "image/png": "[encoded data removed]",
            "text/plain": [
              "<Figure size 432x288 with 1 Axes>"
            ]
          },
          "metadata": {
            "needs_background": "light"
          }
        }
      ],
      "source": [
        "# the trend of comprehensive correct knowledge of HIV in male\n",
        "knowledge_hiv_male.plot.line()"
      ]
    },
    {
      "cell_type": "markdown",
      "metadata": {
        "id": "zkOV4hWJWm17"
      },
      "source": [
        "### Female"
      ]
    },
    {
      "cell_type": "code",
      "execution_count": null,
      "metadata": {
        "id": "LFb6Y4qKWhT0"
      },
      "outputs": [],
      "source": [
        "knowledge_hiv_female = cleaned_df[cleaned_df['Indicator Name'].apply(lambda x : ('HIV' in x and'female' in x and '15-24' in x)\n",
        "                                                                     or ('Comprehensive correct knowledge' in x and'female' in x and '15-24' in x))].groupby(\"Indicator Name\").sum().reset_index()\n",
        "knowledge_hiv_female = knowledge_hiv_female.transpose().iloc[1: , :]\n",
        "knowledge_hiv_female = knowledge_hiv_female.rename_axis('year',axis=0).set_axis([\"Comprehensive correct knowledge\", \"prevalence\"], axis=1, inplace=False)\n",
        "knowledge_hiv_female = knowledge_hiv_female[(knowledge_hiv_female != 0).all(1)]"
      ]
    },
    {
      "cell_type": "markdown",
      "metadata": {
        "id": "cAu9Ai_Y_E33"
      },
      "source": [
        "**Result:** While for female, based on the line plot below, it indicates that having comprehensive correct knowledge of HIV/AIDS slightly affect the prevalence of HIV among female ages 15-24. The line that represents prevalence of HIV among female slightly went down a little."
      ]
    },
    {
      "cell_type": "code",
      "execution_count": null,
      "metadata": {
        "colab": {
          "base_uri": "https://localhost:8080/",
          "height": 296
        },
        "id": "I50URBAfWrwL",
        "outputId": "be396a30-61be-4a89-81bc-26c3286cb83c"
      },
      "outputs": [
        {
          "output_type": "execute_result",
          "data": {
            "text/plain": [
              "<matplotlib.axes._subplots.AxesSubplot at 0x7f17861c9350>"
            ]
          },
          "metadata": {},
          "execution_count": 48
        },
        {
          "output_type": "display_data",
          "data": {
            "image/png": "[encoded data removed]",
            "text/plain": [
              "<Figure size 432x288 with 1 Axes>"
            ]
          },
          "metadata": {
            "needs_background": "light"
          }
        }
      ],
      "source": [
        "# the trend of comprehensive correct knowledge of HIV in female\n",
        "knowledge_hiv_female.plot.line()"
      ]
    },
    {
      "cell_type": "markdown",
      "metadata": {
        "id": "WRNbM6B17_IQ"
      },
      "source": [
        "# Part 4 : Models for Predicting HIV"
      ]
    },
    {
      "cell_type": "code",
      "execution_count": null,
      "metadata": {
        "id": "q_Tw6CmmDUb3"
      },
      "outputs": [],
      "source": [
        "world_total_df=world_df[world_df[\"Indicator Code\"]==\"SH.HIV.TOTL\"]\n",
        "world_children_df=world_df[world_df[\"Indicator Code\"]==\"SH.HIV.0014\"]"
      ]
    },
    {
      "cell_type": "code",
      "execution_count": null,
      "metadata": {
        "colab": {
          "base_uri": "https://localhost:8080/",
          "height": 205
        },
        "id": "qvKPmmbiGAMB",
        "outputId": "9f5bdb06-96f7-4291-ae4a-28918163d2bd"
      },
      "outputs": [
        {
          "output_type": "execute_result",
          "data": {
            "text/html": [
              "<div>\n",
              "<style scoped>\n",
              "    .dataframe tbody tr th:only-of-type {\n",
              "        vertical-align: middle;\n",
              "    }\n",
              "\n",
              "    .dataframe tbody tr th {\n",
              "        vertical-align: top;\n",
              "    }\n",
              "\n",
              "    .dataframe thead th {\n",
              "        text-align: right;\n",
              "    }\n",
              "</style>\n",
              "<table border=\"1\" class=\"dataframe\">\n",
              "  <thead>\n",
              "    <tr style=\"text-align: right;\">\n",
              "      <th></th>\n",
              "      <th>Country Name</th>\n",
              "      <th>Country Code</th>\n",
              "      <th>Indicator Name</th>\n",
              "      <th>Indicator Code</th>\n",
              "      <th>1990</th>\n",
              "      <th>1991</th>\n",
              "      <th>1992</th>\n",
              "      <th>1993</th>\n",
              "      <th>1994</th>\n",
              "      <th>1995</th>\n",
              "      <th>1996</th>\n",
              "      <th>1997</th>\n",
              "      <th>1998</th>\n",
              "      <th>1999</th>\n",
              "      <th>2000</th>\n",
              "      <th>2001</th>\n",
              "      <th>2002</th>\n",
              "      <th>2003</th>\n",
              "      <th>2004</th>\n",
              "      <th>2005</th>\n",
              "      <th>2006</th>\n",
              "      <th>2007</th>\n",
              "      <th>2008</th>\n",
              "      <th>2009</th>\n",
              "      <th>2010</th>\n",
              "      <th>2011</th>\n",
              "      <th>2012</th>\n",
              "      <th>2013</th>\n",
              "      <th>2014</th>\n",
              "      <th>2015</th>\n",
              "    </tr>\n",
              "  </thead>\n",
              "  <tbody>\n",
              "    <tr>\n",
              "      <th>13803</th>\n",
              "      <td>World</td>\n",
              "      <td>WLD</td>\n",
              "      <td>Adults (ages 15+) and children (0-14 years) li...</td>\n",
              "      <td>SH.HIV.TOTL</td>\n",
              "      <td>9100000.0</td>\n",
              "      <td>10900000.0</td>\n",
              "      <td>12900000.0</td>\n",
              "      <td>15000000.0</td>\n",
              "      <td>17200000.0</td>\n",
              "      <td>19500000.0</td>\n",
              "      <td>21700000.0</td>\n",
              "      <td>23900000.0</td>\n",
              "      <td>25900000.0</td>\n",
              "      <td>27500000.0</td>\n",
              "      <td>28900000.0</td>\n",
              "      <td>30000000.0</td>\n",
              "      <td>30700000.0</td>\n",
              "      <td>31200000.0</td>\n",
              "      <td>31500000.0</td>\n",
              "      <td>31800000.0</td>\n",
              "      <td>31900000.0</td>\n",
              "      <td>32100000.0</td>\n",
              "      <td>32400000.0</td>\n",
              "      <td>32800000.0</td>\n",
              "      <td>33300000.0</td>\n",
              "      <td>33900000.0</td>\n",
              "      <td>34500000.0</td>\n",
              "      <td>35200000.0</td>\n",
              "      <td>35900000.0</td>\n",
              "      <td>36700000.0</td>\n",
              "    </tr>\n",
              "  </tbody>\n",
              "</table>\n",
              "</div>"
            ],
            "text/plain": [
              "      Country Name Country Code  ...        2014        2015\n",
              "13803        World          WLD  ...  35900000.0  36700000.0\n",
              "\n",
              "[1 rows x 30 columns]"
            ]
          },
          "metadata": {},
          "execution_count": 50
        }
      ],
      "source": [
        "world_total_df"
      ]
    },
    {
      "cell_type": "markdown",
      "metadata": {
        "id": "cTpt2QJ1A0Aj"
      },
      "source": [
        "### Convariance Matrix Analysis -- Correlation exploration\n",
        "\n",
        "Exploring correlations of bewtween various Indicator Name(features).\n",
        "Then, retrieve the Indicator Names(features) that have highest positive correlation value with the total count of people living with HIV.\n",
        "\n",
        "* Group by the data by Indicator Name.\n",
        "* Transpose the data from row to column.\n",
        "* Fit the dataframe into the correlation matrix.\n",
        "* Flatten the correlation data frame.\n",
        "* Filter the relevant features by correlation values that are above 0.8 and below 1.\n",
        "* Retrive the relevant feature names in a list."
      ]
    },
    {
      "cell_type": "code",
      "execution_count": null,
      "metadata": {
        "id": "kkE5PS_RFAhD"
      },
      "outputs": [],
      "source": [
        "average_indicator_df = cleaned_df.groupby([\"Indicator Name\"]).mean().reset_index().transpose()\n",
        "average_indicator_df.columns = average_indicator_df.iloc[0]\n",
        "average_indicator_df = average_indicator_df[1:]\n",
        "\n",
        "corr = average_indicator_df.astype('float64').corr()\n",
        "\n",
        "# Unstack the correlation df into a list and sort by descending order\n",
        "corr_list = corr.unstack().sort_values(ascending=False)\n",
        "\n",
        "# Selecting highly correlated features\n",
        "cor_target = abs(corr['Adults (ages 15+) and children (0-14 years) living with HIV'])\n",
        "\n",
        "# Select features with corr relation value higher than 0.8 and not 1\n",
        "relevant_features = cor_target[cor_target>0.8]\n",
        "relevant_features = relevant_features[relevant_features!=1]\n",
        "relevant_features = relevant_features.reset_index()\n",
        "features = relevant_features['Indicator Name'].tolist()\n",
        "\n",
        "# reference = https://towardsdatascience.com/feature-selection-with-pandas-e3690ad8504b"
      ]
    },
    {
      "cell_type": "code",
      "execution_count": null,
      "metadata": {
        "colab": {
          "base_uri": "https://localhost:8080/"
        },
        "id": "krkYfDk8JTzj",
        "outputId": "725319f0-147b-4d36-f70d-89ca7b05623f"
      },
      "outputs": [
        {
          "output_type": "execute_result",
          "data": {
            "text/plain": [
              "['AIDS estimated deaths (UNAIDS estimates)',\n",
              " 'Adolescent fertility rate (births per 1,000 women ages 15-19)',\n",
              " 'Adults (ages 15+) living with HIV',\n",
              " 'Age dependency ratio (% of working-age population)',\n",
              " 'Age dependency ratio, old',\n",
              " 'Age dependency ratio, young',\n",
              " 'Age population, age 11, male, interpolated',\n",
              " 'Age population, age 12, male, interpolated',\n",
              " 'Age population, age 13, female, interpolated',\n",
              " 'Age population, age 13, male, interpolated',\n",
              " 'Age population, age 14, female, interpolated',\n",
              " 'Age population, age 14, male, interpolated',\n",
              " 'Age population, age 15, female, interpolated',\n",
              " 'Age population, age 15, male, interpolated',\n",
              " 'Age population, age 16, female, interpolated',\n",
              " 'Age population, age 16, male, interpolated',\n",
              " 'Age population, age 17, female, interpolated',\n",
              " 'Age population, age 17, male, interpolated',\n",
              " 'Age population, age 18, female, interpolated',\n",
              " 'Age population, age 18, male, interpolated',\n",
              " 'Age population, age 19, female, interpolated',\n",
              " 'Age population, age 19, male, interpolated',\n",
              " 'Age population, age 20, female, interpolated',\n",
              " 'Age population, age 20, male, interpolated',\n",
              " 'Antiretroviral therapy coverage (% of people living with HIV)',\n",
              " 'Antiretroviral therapy coverage for PMTCT (% of pregnant women living with HIV)',\n",
              " 'Birth rate, crude (per 1,000 people)',\n",
              " 'Children (0-14) living with HIV',\n",
              " 'Children orphaned by HIV/AIDS',\n",
              " 'Children with fever receiving antimalarial drugs (% of children under age 5 with fever)',\n",
              " 'Comprehensive correct knowledge of HIV/AIDS, ages 15-24, female (2 prevent ways and reject 3 misconceptions)',\n",
              " 'Death rate, crude (per 1,000 people)',\n",
              " 'External resources for health (% of total expenditure on health)',\n",
              " 'Female population 10-14',\n",
              " 'Female population 15-19',\n",
              " 'Female population 20-24',\n",
              " 'Female population 25-29',\n",
              " 'Female population 30-34',\n",
              " 'Female population 35-39',\n",
              " 'Female population 40-44',\n",
              " 'Female population 45-49',\n",
              " 'Female population 50-54',\n",
              " 'Female population 65-69',\n",
              " 'Female population 70-74',\n",
              " 'Female population 75-79',\n",
              " 'Female population 80+',\n",
              " 'Fertility rate, total (births per woman)',\n",
              " 'Health expenditure per capita, PPP',\n",
              " 'Health expenditure, private (% of GDP)',\n",
              " 'Health expenditure, public (% of GDP)',\n",
              " 'Health expenditure, public (% of government expenditure)',\n",
              " 'Health expenditure, total (% of GDP)',\n",
              " 'Health expenditure, total (current US$)',\n",
              " 'Immunization, BCG (% of one-year-old children)',\n",
              " 'Immunization, DPT (% of children ages 12-23 months)',\n",
              " 'Immunization, Pol3 (% of one-year-old children)',\n",
              " 'Immunization, measles (% of children ages 12-23 months)',\n",
              " 'Improved sanitation facilities (% of population with access)',\n",
              " 'Improved sanitation facilities, rural (% of rural population with access)',\n",
              " 'Improved water source (% of population with access)',\n",
              " 'Improved water source, rural (% of rural population with access)',\n",
              " 'Improved water source, urban (% of urban population with access)',\n",
              " 'Labor force, female (% of total labor force)',\n",
              " 'Labor force, total',\n",
              " 'Life expectancy at birth, female (years)',\n",
              " 'Life expectancy at birth, male (years)',\n",
              " 'Life expectancy at birth, total (years)',\n",
              " 'Lifetime risk of maternal death (%)',\n",
              " 'Lifetime risk of maternal death (1 in: rate varies by country)',\n",
              " 'Male population 10-14',\n",
              " 'Male population 15-19',\n",
              " 'Male population 25-29',\n",
              " 'Male population 30-34',\n",
              " 'Male population 35-39',\n",
              " 'Male population 40-44',\n",
              " 'Male population 45-49',\n",
              " 'Male population 50-54',\n",
              " 'Male population 65-69',\n",
              " 'Male population 70-74',\n",
              " 'Male population 75-79',\n",
              " 'Male population 80+',\n",
              " 'Malnutrition prevalence, height for age, female (% of children under 5)',\n",
              " 'Malnutrition prevalence, height for age, male (% of children under 5)',\n",
              " 'Malnutrition prevalence, weight for age, female (% of children under 5)',\n",
              " 'Malnutrition prevalence, weight for age, male (% of children under 5)',\n",
              " 'Maternal leave benefits (% of wages paid in covered period)',\n",
              " 'Maternal mortality ratio (modeled estimate, per 100,000 live births)',\n",
              " 'Mortality rate, infant (per 1,000 live births)',\n",
              " 'Mortality rate, infant, female (per 1,000 live births)',\n",
              " 'Mortality rate, infant, male (per 1,000 live births)',\n",
              " 'Mortality rate, neonatal (per 1,000 live births)',\n",
              " 'Mortality rate, under-5 (per 1,000)',\n",
              " 'Mortality rate, under-5, female (per 1,000)',\n",
              " 'Mortality rate, under-5, male (per 1,000)',\n",
              " 'Newborns protected against tetanus (%)',\n",
              " 'Number of infant deaths',\n",
              " 'Number of maternal deaths',\n",
              " 'Number of neonatal deaths',\n",
              " 'Number of under-five deaths',\n",
              " 'Out-of-pocket health expenditure (% of private expenditure on health)',\n",
              " 'People practicing open defecation (% of population)',\n",
              " 'People practicing open defecation, rural (% of rural population)',\n",
              " 'People practicing open defecation, urban (% of urban population)',\n",
              " 'Population ages 0-14, male',\n",
              " 'Population ages 00-04, female (% of female population)',\n",
              " 'Population ages 00-04, male (% of male population)',\n",
              " 'Population ages 00-14 (% of total)',\n",
              " 'Population ages 00-14, female (% of total)',\n",
              " 'Population ages 00-14, male (% of total)',\n",
              " 'Population ages 00-14, total',\n",
              " 'Population ages 05-09, female (% of female population)',\n",
              " 'Population ages 05-09, male (% of male population)',\n",
              " 'Population ages 15-64 (% of total)',\n",
              " 'Population ages 15-64, female',\n",
              " 'Population ages 15-64, female (% of total)',\n",
              " 'Population ages 15-64, male',\n",
              " 'Population ages 15-64, male (% of total)',\n",
              " 'Population ages 15-64, total',\n",
              " 'Population ages 35-39, female (% of female population)',\n",
              " 'Population ages 35-39, male (% of male population)',\n",
              " 'Population ages 40-44, female (% of female population)',\n",
              " 'Population ages 40-44, male (% of male population)',\n",
              " 'Population ages 45-49, female (% of female population)',\n",
              " 'Population ages 45-49, male (% of male population)',\n",
              " 'Population ages 50-54, female (% of female population)',\n",
              " 'Population ages 50-54, male (% of male population)',\n",
              " 'Population ages 65 and above (% of total)',\n",
              " 'Population ages 65 and above, female',\n",
              " 'Population ages 65 and above, female (% of total)',\n",
              " 'Population ages 65 and above, male',\n",
              " 'Population ages 65 and above, male (% of total)',\n",
              " 'Population ages 65 and above, total',\n",
              " 'Population ages 65-69, male (% of male population)',\n",
              " 'Population ages 70-74, female (% of female population)',\n",
              " 'Population ages 70-74, male (% of male population)',\n",
              " 'Population ages 75-79, female (% of female population)',\n",
              " 'Population ages 75-79, male (% of male population)',\n",
              " 'Population ages 80 and older, female (% of female population)',\n",
              " 'Population, female',\n",
              " 'Population, male',\n",
              " 'Population, total',\n",
              " 'Prevalence of HIV, total (% of population ages 15-49)',\n",
              " 'Prevalence of anemia among children (% of children under 5)',\n",
              " 'Prevalence of anemia among non-pregnant women (% of women ages 15-49)',\n",
              " 'Prevalence of anemia among pregnant women (%)',\n",
              " 'Prevalence of anemia among women of reproductive age (% of women ages 15-49)',\n",
              " 'Prevalence of undernourishment (% of population)',\n",
              " 'Primary completion rate, female (% of relevant age group)',\n",
              " 'Primary completion rate, male (% of relevant age group)',\n",
              " 'Primary completion rate, total (% of relevant age group)',\n",
              " 'Rural population',\n",
              " 'Rural population (% of total population)',\n",
              " 'School enrollment, primary (% gross)',\n",
              " 'School enrollment, primary (% net)',\n",
              " 'School enrollment, primary, female (% gross)',\n",
              " 'School enrollment, primary, female (% net)',\n",
              " 'School enrollment, primary, male (% gross)',\n",
              " 'School enrollment, primary, male (% net)',\n",
              " 'School enrollment, secondary (% gross)',\n",
              " 'School enrollment, secondary, female (% gross)',\n",
              " 'School enrollment, secondary, male (% gross)',\n",
              " 'School enrollment, tertiary (% gross)',\n",
              " 'School enrollment, tertiary, female (% gross)',\n",
              " 'Sex ratio at birth (male births per female births)',\n",
              " 'Share of women employed in the nonagricultural sector (% of total nonagricultural employment)',\n",
              " 'Smoking prevalence, females (% of adults)',\n",
              " 'Smoking prevalence, males (% of adults)',\n",
              " 'Survival to age 65, female (% of cohort)',\n",
              " 'Survival to age 65, male (% of cohort)',\n",
              " 'Tuberculosis death rate (per 100,000 people)',\n",
              " 'Tuberculosis treatment success rate (% of new cases)',\n",
              " 'Urban population',\n",
              " 'Urban population (% of total)',\n",
              " 'Urban population growth (annual %)',\n",
              " 'Use of insecticide-treated bed nets (% of under-5 population)',\n",
              " \"Women's share of population ages 15+ living with HIV (%)\"]"
            ]
          },
          "metadata": {},
          "execution_count": 52
        }
      ],
      "source": [
        "features"
      ]
    },
    {
      "cell_type": "markdown",
      "metadata": {
        "id": "_E1vE2j7Q5ej"
      },
      "source": [
        "Generate X features and Y label by \"Groupby\" function\" so that each rows is all indicator results for a country in specific year. We extract the following 8 features because they are more approaching to our guess."
      ]
    },
    {
      "cell_type": "code",
      "execution_count": null,
      "metadata": {
        "colab": {
          "base_uri": "https://localhost:8080/",
          "height": 545
        },
        "id": "NUtH5kcNFUpp",
        "outputId": "e472c762-6c16-4c2d-afe1-b33583f5f26b"
      },
      "outputs": [
        {
          "output_type": "execute_result",
          "data": {
            "text/html": [
              "<div>\n",
              "<style scoped>\n",
              "    .dataframe tbody tr th:only-of-type {\n",
              "        vertical-align: middle;\n",
              "    }\n",
              "\n",
              "    .dataframe tbody tr th {\n",
              "        vertical-align: top;\n",
              "    }\n",
              "\n",
              "    .dataframe thead th {\n",
              "        text-align: right;\n",
              "    }\n",
              "</style>\n",
              "<table border=\"1\" class=\"dataframe\">\n",
              "  <thead>\n",
              "    <tr style=\"text-align: right;\">\n",
              "      <th>Indicator Name</th>\n",
              "      <th>Fertility rate, total (births per woman)</th>\n",
              "      <th>Labor force, total</th>\n",
              "      <th>Life expectancy at birth, total (years)</th>\n",
              "      <th>Lifetime risk of maternal death (%)</th>\n",
              "      <th>Improved sanitation facilities (% of population with access)</th>\n",
              "      <th>Improved water source (% of population with access)</th>\n",
              "      <th>Population, total</th>\n",
              "      <th>Sex ratio at birth (male births per female births)</th>\n",
              "      <th>Adults (ages 15+) and children (0-14 years) living with HIV</th>\n",
              "    </tr>\n",
              "  </thead>\n",
              "  <tbody>\n",
              "    <tr>\n",
              "      <th>3</th>\n",
              "      <td>7.208</td>\n",
              "      <td>4118283.0</td>\n",
              "      <td>41.138341</td>\n",
              "      <td>8.482329</td>\n",
              "      <td>22.4</td>\n",
              "      <td>45.7</td>\n",
              "      <td>11127870.0</td>\n",
              "      <td>1.0300</td>\n",
              "      <td>28000.0</td>\n",
              "    </tr>\n",
              "    <tr>\n",
              "      <th>6</th>\n",
              "      <td>2.989</td>\n",
              "      <td>13330838.0</td>\n",
              "      <td>71.543659</td>\n",
              "      <td>0.225988</td>\n",
              "      <td>87.4</td>\n",
              "      <td>93.8</td>\n",
              "      <td>32729740.0</td>\n",
              "      <td>1.0400</td>\n",
              "      <td>26000.0</td>\n",
              "    </tr>\n",
              "    <tr>\n",
              "      <th>10</th>\n",
              "      <td>1.902</td>\n",
              "      <td>8502257.0</td>\n",
              "      <td>76.994634</td>\n",
              "      <td>0.015994</td>\n",
              "      <td>100.0</td>\n",
              "      <td>100.0</td>\n",
              "      <td>17065100.0</td>\n",
              "      <td>1.0552</td>\n",
              "      <td>14000.0</td>\n",
              "    </tr>\n",
              "    <tr>\n",
              "      <th>13</th>\n",
              "      <td>7.542</td>\n",
              "      <td>2653640.0</td>\n",
              "      <td>48.000122</td>\n",
              "      <td>8.590470</td>\n",
              "      <td>41.7</td>\n",
              "      <td>68.8</td>\n",
              "      <td>5613141.0</td>\n",
              "      <td>1.0300</td>\n",
              "      <td>24000.0</td>\n",
              "    </tr>\n",
              "    <tr>\n",
              "      <th>15</th>\n",
              "      <td>6.744</td>\n",
              "      <td>1955656.0</td>\n",
              "      <td>53.420000</td>\n",
              "      <td>3.864932</td>\n",
              "      <td>6.8</td>\n",
              "      <td>57.1</td>\n",
              "      <td>5001271.0</td>\n",
              "      <td>1.0410</td>\n",
              "      <td>5100.0</td>\n",
              "    </tr>\n",
              "    <tr>\n",
              "      <th>...</th>\n",
              "      <td>...</td>\n",
              "      <td>...</td>\n",
              "      <td>...</td>\n",
              "      <td>...</td>\n",
              "      <td>...</td>\n",
              "      <td>...</td>\n",
              "      <td>...</td>\n",
              "      <td>...</td>\n",
              "      <td>...</td>\n",
              "    </tr>\n",
              "    <tr>\n",
              "      <th>4790</th>\n",
              "      <td>2.020</td>\n",
              "      <td>1763727.0</td>\n",
              "      <td>76.986146</td>\n",
              "      <td>0.031188</td>\n",
              "      <td>96.3</td>\n",
              "      <td>99.6</td>\n",
              "      <td>3419516.0</td>\n",
              "      <td>1.0500</td>\n",
              "      <td>10000.0</td>\n",
              "    </tr>\n",
              "    <tr>\n",
              "      <th>4794</th>\n",
              "      <td>1.961</td>\n",
              "      <td>54206654.0</td>\n",
              "      <td>75.629122</td>\n",
              "      <td>0.115190</td>\n",
              "      <td>76.3</td>\n",
              "      <td>96.4</td>\n",
              "      <td>90728900.0</td>\n",
              "      <td>1.1100</td>\n",
              "      <td>250000.0</td>\n",
              "    </tr>\n",
              "    <tr>\n",
              "      <th>4797</th>\n",
              "      <td>2.363</td>\n",
              "      <td>20001038.0</td>\n",
              "      <td>57.182122</td>\n",
              "      <td>0.341526</td>\n",
              "      <td>65.8</td>\n",
              "      <td>92.8</td>\n",
              "      <td>54058647.0</td>\n",
              "      <td>1.0300</td>\n",
              "      <td>6800000.0</td>\n",
              "    </tr>\n",
              "    <tr>\n",
              "      <th>4798</th>\n",
              "      <td>5.353</td>\n",
              "      <td>6720673.0</td>\n",
              "      <td>60.047049</td>\n",
              "      <td>1.317162</td>\n",
              "      <td>43.7</td>\n",
              "      <td>64.6</td>\n",
              "      <td>15721343.0</td>\n",
              "      <td>1.0300</td>\n",
              "      <td>1200000.0</td>\n",
              "    </tr>\n",
              "    <tr>\n",
              "      <th>4799</th>\n",
              "      <td>3.923</td>\n",
              "      <td>7721545.0</td>\n",
              "      <td>57.498317</td>\n",
              "      <td>1.786967</td>\n",
              "      <td>37.0</td>\n",
              "      <td>77.1</td>\n",
              "      <td>15245855.0</td>\n",
              "      <td>1.0200</td>\n",
              "      <td>1400000.0</td>\n",
              "    </tr>\n",
              "  </tbody>\n",
              "</table>\n",
              "<p>1137 rows × 9 columns</p>\n",
              "</div>"
            ],
            "text/plain": [
              "Indicator Name  Fertility rate, total (births per woman)  ...  Adults (ages 15+) and children (0-14 years) living with HIV\n",
              "3                                                  7.208  ...                                            28000.0          \n",
              "6                                                  2.989  ...                                            26000.0          \n",
              "10                                                 1.902  ...                                            14000.0          \n",
              "13                                                 7.542  ...                                            24000.0          \n",
              "15                                                 6.744  ...                                             5100.0          \n",
              "...                                                  ...  ...                                                ...          \n",
              "4790                                               2.020  ...                                            10000.0          \n",
              "4794                                               1.961  ...                                           250000.0          \n",
              "4797                                               2.363  ...                                          6800000.0          \n",
              "4798                                               5.353  ...                                          1200000.0          \n",
              "4799                                               3.923  ...                                          1400000.0          \n",
              "\n",
              "[1137 rows x 9 columns]"
            ]
          },
          "metadata": {},
          "execution_count": 53
        }
      ],
      "source": [
        "# Create a copy of df with selected corr features/indicators\n",
        "selected_features=[\"Fertility rate, total (births per woman)\",\"Labor force, total\",\"Life expectancy at birth, total (years)\",\"Lifetime risk of maternal death (%)\",'Improved sanitation facilities (% of population with access)','Improved water source (% of population with access)','Population, total','Sex ratio at birth (male births per female births)',\"Adults (ages 15+) and children (0-14 years) living with HIV\"]\n",
        "boolean_series = cleaned_df['Indicator Name'].isin(selected_features)\n",
        "\n",
        "total_HIV_corr_df = cleaned_df[boolean_series]\n",
        "\n",
        "total_HIV_corr_df=total_HIV_corr_df.groupby([\"Indicator Name\", \"Country Code\"]).sum().unstack().transpose().reset_index()\n",
        "total_HIV_corr_df=total_HIV_corr_df.dropna()\n",
        "total_HIV_corr_df=total_HIV_corr_df[~(total_HIV_corr_df == 0).any(axis=1)][selected_features]\n",
        "total_HIV_corr_df"
      ]
    },
    {
      "cell_type": "markdown",
      "metadata": {
        "id": "JdF4s57Q5C4_"
      },
      "source": [
        "### Select X features and Y for training data and testing data\n",
        "\n",
        "*   Columns except for the *Adults (ages 15+) and children (0-14 years) living with HIV* are feature columns, will be treated as X.\n",
        "*   *Adults (ages 15+) and children (0-14 years) living with HIV* column is the label that we want to predict, will be treated as y."
      ]
    },
    {
      "cell_type": "code",
      "execution_count": null,
      "metadata": {
        "colab": {
          "base_uri": "https://localhost:8080/"
        },
        "id": "aZYeDK993JPm",
        "outputId": "70537a80-f86b-43a6-8b71-d29ba2be1b9a"
      },
      "outputs": [
        {
          "output_type": "stream",
          "name": "stdout",
          "text": [
            "Features shape (1137, 8)\n",
            "Label shape (1137,)\n"
          ]
        }
      ],
      "source": [
        "y = total_HIV_corr_df[\"Adults (ages 15+) and children (0-14 years) living with HIV\"]\n",
        "X = total_HIV_corr_df.drop(columns=[\"Adults (ages 15+) and children (0-14 years) living with HIV\"])\n",
        "\n",
        "print(\"Features shape {}\".format(X.shape))\n",
        "print(\"Label shape {}\".format(y.shape))"
      ]
    },
    {
      "cell_type": "markdown",
      "metadata": {
        "id": "a7PofA4F4i_4"
      },
      "source": [
        "### Split the training data and testing data\n",
        "*   80% of the data will be used for training, 20% of the data will be used for testing."
      ]
    },
    {
      "cell_type": "code",
      "execution_count": null,
      "metadata": {
        "colab": {
          "base_uri": "https://localhost:8080/"
        },
        "id": "la6FQgZj3PPJ",
        "outputId": "c47d0d48-1372-4410-9732-abccdf87c35e"
      },
      "outputs": [
        {
          "output_type": "stream",
          "name": "stdout",
          "text": [
            "Training Data Size: features x:(909, 8),  label y:(909,)\n",
            "Testing Data Size: features x:(228, 8),  label y:(228,)\n"
          ]
        }
      ],
      "source": [
        "from sklearn.model_selection import train_test_split\n",
        "X_train, X_test, y_train, y_test = train_test_split(X, y, test_size=0.2, random_state=42)\n",
        "\n",
        "# check the training tensor and testing tensor size\n",
        "print(\"Training Data Size: features x:{},  label y:{}\".format(X_train.shape, y_train.shape))\n",
        "print(\"Testing Data Size: features x:{},  label y:{}\".format(X_test.shape, y_test.shape))"
      ]
    },
    {
      "cell_type": "markdown",
      "metadata": {
        "id": "gHnCrncWIl_u"
      },
      "source": [
        "### Linear Regression"
      ]
    },
    {
      "cell_type": "code",
      "execution_count": null,
      "metadata": {
        "id": "r4pEDJ_q3VHp"
      },
      "outputs": [],
      "source": [
        "from sklearn import linear_model\n",
        "from sklearn.linear_model import LinearRegression\n",
        "from sklearn.decomposition import PCA\n",
        "from sklearn.preprocessing import StandardScaler\n",
        "from sklearn.metrics import mean_squared_error, r2_score\n",
        "import numpy as np"
      ]
    },
    {
      "cell_type": "markdown",
      "metadata": {
        "id": "JG4IiuTYGgje"
      },
      "source": [
        "Implementing PCA to reduce dimensions and apply linear regression to the training data and testing data after PCA."
      ]
    },
    {
      "cell_type": "code",
      "execution_count": null,
      "metadata": {
        "id": "QXepUpkZ3Z91"
      },
      "outputs": [],
      "source": [
        "X = StandardScaler().fit_transform(X_train)\n",
        "pca = PCA(n_components=8)\n",
        "X2 = pca.fit_transform(X)"
      ]
    },
    {
      "cell_type": "markdown",
      "metadata": {
        "id": "gl-FbVx6MftA"
      },
      "source": [
        "Visualize the first two dimensions."
      ]
    },
    {
      "cell_type": "code",
      "execution_count": null,
      "metadata": {
        "colab": {
          "base_uri": "https://localhost:8080/",
          "height": 282
        },
        "id": "6ZbETYJKH5D2",
        "outputId": "528513d3-ab97-49e5-ddee-9662fff9b191"
      },
      "outputs": [
        {
          "output_type": "execute_result",
          "data": {
            "text/plain": [
              "<matplotlib.collections.PathCollection at 0x7f1787850350>"
            ]
          },
          "metadata": {},
          "execution_count": 58
        },
        {
          "output_type": "display_data",
          "data": {
            "image/png": "[encoded data removed]",
            "text/plain": [
              "<Figure size 432x288 with 1 Axes>"
            ]
          },
          "metadata": {
            "needs_background": "light"
          }
        }
      ],
      "source": [
        "plt.scatter(X2[:,0], X2[:,1])"
      ]
    },
    {
      "cell_type": "markdown",
      "metadata": {
        "id": "OABBkSevHo-A"
      },
      "source": [
        "Principal Components vs Explained Variance"
      ]
    },
    {
      "cell_type": "code",
      "execution_count": null,
      "metadata": {
        "colab": {
          "base_uri": "https://localhost:8080/"
        },
        "id": "tJcKLmyE3hsJ",
        "outputId": "50cd55b2-110f-4bb9-83b6-098064d8aff8"
      },
      "outputs": [
        {
          "output_type": "execute_result",
          "data": {
            "text/plain": [
              "array([0.55336757, 0.26042258, 0.08827332, 0.03555235, 0.02684089,\n",
              "       0.02001993, 0.01499533, 0.00052802])"
            ]
          },
          "metadata": {},
          "execution_count": 59
        }
      ],
      "source": [
        "np.set_printoptions(suppress=True)\n",
        "pca.explained_variance_ratio_"
      ]
    },
    {
      "cell_type": "code",
      "execution_count": null,
      "metadata": {
        "colab": {
          "base_uri": "https://localhost:8080/",
          "height": 317
        },
        "id": "t0l9Dqbv3nMq",
        "outputId": "c1481e3c-be80-41e5-c417-451220a1f7a9"
      },
      "outputs": [
        {
          "output_type": "stream",
          "name": "stdout",
          "text": [
            "[0.55336757 0.81379015 0.90206347 0.93761582 0.96445671 0.98447665\n",
            " 0.99947198 1.        ]\n"
          ]
        },
        {
          "output_type": "execute_result",
          "data": {
            "text/plain": [
              "[<matplotlib.lines.Line2D at 0x7f177522c210>]"
            ]
          },
          "metadata": {},
          "execution_count": 60
        },
        {
          "output_type": "display_data",
          "data": {
            "image/png": "[encoded data removed]",
            "text/plain": [
              "<Figure size 432x288 with 1 Axes>"
            ]
          },
          "metadata": {
            "needs_background": "light"
          }
        }
      ],
      "source": [
        "# See how much is contributed by the first few terms\n",
        "pc_vs_variance = np.cumsum(pca.explained_variance_ratio_)\n",
        "\n",
        "print(pc_vs_variance)\n",
        "plt.plot(pc_vs_variance)"
      ]
    },
    {
      "cell_type": "markdown",
      "metadata": {
        "id": "Z89AzKgH4S69"
      },
      "source": [
        "Learning over PCA-Reduced Data\n",
        "\n",
        "From the above, we saw how to do PCA on the overall dataset.\n",
        "Here, we scaled down the dataset to 6."
      ]
    },
    {
      "cell_type": "code",
      "execution_count": null,
      "metadata": {
        "colab": {
          "base_uri": "https://localhost:8080/"
        },
        "id": "Gn1iu3H03rap",
        "outputId": "07ecbaf9-3331-42f9-903e-a32da7b496ce"
      },
      "outputs": [
        {
          "output_type": "execute_result",
          "data": {
            "text/plain": [
              "array([[-3.73100982e+07, -9.52717740e+05,  8.57036160e+00,\n",
              "        -2.17653376e+01,  8.96131329e-01, -1.11116567e-01],\n",
              "       [-1.66563864e+07, -9.18445751e+05,  1.54075892e+01,\n",
              "        -7.58942221e-01,  7.44890618e+00,  2.79807938e-01],\n",
              "       [-3.65581247e+07, -7.54450281e+05, -1.03108779e+01,\n",
              "        -1.48242701e+01,  5.20754722e+00, -9.31014699e-01],\n",
              "       ...,\n",
              "       [ 1.89287776e+06, -7.20530640e+05,  3.31585952e+01,\n",
              "        -1.92332669e+01, -6.63018423e-01, -4.94922216e-02],\n",
              "       [ 1.33432983e+08,  1.28333748e+07,  1.58306401e+01,\n",
              "        -2.63652680e+00, -2.10458802e+00, -9.50067095e-03],\n",
              "       [-2.97336421e+07, -5.81504468e+05, -3.14147347e+01,\n",
              "         2.14460849e+01,  1.08465799e+00, -5.75897397e-01]])"
            ]
          },
          "metadata": {},
          "execution_count": 61
        }
      ],
      "source": [
        "# Fit the PCA on the training data\n",
        "pca = PCA(n_components=6)\n",
        "pca.fit(X_train)\n",
        "# and transform it\n",
        "X_train_2 = pca.transform(X_train)\n",
        "\n",
        "# Then train a simple linear regression classifier\n",
        "# (tries to find the best weighted linear combination to\n",
        "# match the output)\n",
        "regr = linear_model.LinearRegression()\n",
        "regr.fit(X_train_2, y_train)\n",
        "\n",
        "X_train_2"
      ]
    },
    {
      "cell_type": "code",
      "execution_count": null,
      "metadata": {
        "colab": {
          "base_uri": "https://localhost:8080/"
        },
        "id": "M3LiAsg83wCf",
        "outputId": "87420e3f-ca51-46c9-d1e9-954705cd8744"
      },
      "outputs": [
        {
          "output_type": "stream",
          "name": "stdout",
          "text": [
            "0.22067508859352158\n",
            "0.2488623962749984\n"
          ]
        }
      ],
      "source": [
        "X_test_2 = pca.transform(X_test)\n",
        "\n",
        "predictions = regr.predict(X_test_2)\n",
        "\n",
        "print(regr.score(X_train_2, y_train))\n",
        "\n",
        "print(regr.score(X_test_2, y_test))"
      ]
    },
    {
      "cell_type": "code",
      "source": [
        "MSE = mean_squared_error(y_test, predictions) ** 0.5\n",
        "print(\"Rooted mean square error: {}\".format(MSE))\n",
        "errors = y_test - predictions\n",
        "#mean absolute error\n",
        "MAE = np.average(np.abs(errors))\n",
        "print(\"MAE: {}\".format(MAE))"
      ],
      "metadata": {
        "id": "K8LGoI4kxiHe",
        "outputId": "ad39d571-a74b-4220-e6c5-29e2c6f18fe0",
        "colab": {
          "base_uri": "https://localhost:8080/"
        }
      },
      "execution_count": null,
      "outputs": [
        {
          "output_type": "stream",
          "name": "stdout",
          "text": [
            "Rooted mean square error: 773386.8421336061\n",
            "MAE: 328560.1956222646\n"
          ]
        }
      ]
    },
    {
      "cell_type": "markdown",
      "source": [
        " **Conclusion:**\n",
        "* By using this model, accuracy on the training dataset is at 0.2206.  \n",
        "* By using this model, accuracy on the testing dataset will be around 0.2486.\n",
        " <br> rooted mean square error: $RMSE=773386.8421$.  \n",
        " mean absolute error: $MAE=328560.1956180393$."
      ],
      "metadata": {
        "id": "PlXfAcKh2f86"
      }
    },
    {
      "cell_type": "markdown",
      "metadata": {
        "id": "Wi_HRoTJKpP6"
      },
      "source": [
        "###Conducting Linear Regression with Penalty, such as Lasso, Ridge, and ElasticNet"
      ]
    },
    {
      "cell_type": "markdown",
      "source": [
        "####Lasso Model"
      ],
      "metadata": {
        "id": "OekVNEER6CRS"
      }
    },
    {
      "cell_type": "code",
      "execution_count": null,
      "metadata": {
        "colab": {
          "base_uri": "https://localhost:8080/"
        },
        "id": "5ByjAp1KKDo9",
        "outputId": "00298f14-0d1c-404b-80eb-a2486e4af9bd"
      },
      "outputs": [
        {
          "output_type": "stream",
          "name": "stdout",
          "text": [
            "0.22067508859198903\n",
            "0.24886214600866408\n"
          ]
        }
      ],
      "source": [
        "from sklearn.linear_model import ElasticNet\n",
        "#LASSO L1\n",
        "regr2 = ElasticNet(alpha=1.0, l1_ratio=1)\n",
        "regr2.fit(X_train_2, y_train)\n",
        "lasso_predict = regr2.predict(X_test_2)\n",
        "print(regr2.score(X_train_2, y_train))\n",
        "print(regr2.score(X_test_2, y_test))"
      ]
    },
    {
      "cell_type": "code",
      "source": [
        "MSE = mean_squared_error(y_test, lasso_predict) ** 0.5\n",
        "print(\"Rooted mean square error: {}\".format(MSE))\n",
        "lasso_errors = y_test - lasso_predict\n",
        "#mean absolute error\n",
        "MAE = np.average(np.abs(lasso_errors))\n",
        "print(\"MAE: {}\".format(MAE))"
      ],
      "metadata": {
        "id": "9CnX-Xhi49od",
        "colab": {
          "base_uri": "https://localhost:8080/"
        },
        "outputId": "3d47da44-372c-4232-cedf-95a988961b1a"
      },
      "execution_count": null,
      "outputs": [
        {
          "output_type": "stream",
          "name": "stdout",
          "text": [
            "Rooted mean square error: 773386.9709732974\n",
            "MAE: 328560.00514198584\n"
          ]
        }
      ]
    },
    {
      "cell_type": "markdown",
      "source": [
        " **Conclusion:**  \n",
        "* By using the Lasso model, accuracy on the training dataset is 0.2206.\n",
        "* By using the Lasso model, accuracy on the testing dataset is 0.2488.\n",
        " <br> rooted mean square error: $RMSE=773386.9709733082$.  \n",
        " mean absolute error: $MAE=328560.0051$.\n",
        "* The result for the lasso model is very close to the result for the model without any penalty."
      ],
      "metadata": {
        "id": "b8XDvGXR8D98"
      }
    },
    {
      "cell_type": "markdown",
      "source": [
        "####RIDGE Model"
      ],
      "metadata": {
        "id": "6Hjid2C452p9"
      }
    },
    {
      "cell_type": "code",
      "source": [
        "#RIDGE L2\n",
        "regr3 = ElasticNet(alpha=1.0, l1_ratio=0)\n",
        "regr3.fit(X_train_2, y_train)\n",
        "ridge_predict = regr3.predict(X_test_2)\n",
        "print(regr3.score(X_train_2, y_train))\n",
        "print(regr3.score(X_test_2, y_test))"
      ],
      "metadata": {
        "id": "XmsBsEgP5vpK",
        "colab": {
          "base_uri": "https://localhost:8080/"
        },
        "outputId": "6accdf2a-23b2-4b88-96f4-ccee7f6aa1a6"
      },
      "execution_count": null,
      "outputs": [
        {
          "output_type": "stream",
          "name": "stdout",
          "text": [
            "0.21679842450688247\n",
            "0.23543471752958445\n"
          ]
        },
        {
          "output_type": "stream",
          "name": "stderr",
          "text": [
            "/usr/local/lib/python3.7/dist-packages/sklearn/linear_model/_coordinate_descent.py:648: ConvergenceWarning:\n",
            "\n",
            "Objective did not converge. You might want to increase the number of iterations, check the scale of the features or consider increasing regularisation. Duality gap: 1.616e+14, tolerance: 4.082e+10 Linear regression models with null weight for the l1 regularization term are more efficiently fitted using one of the solvers implemented in sklearn.linear_model.Ridge/RidgeCV instead.\n",
            "\n"
          ]
        }
      ]
    },
    {
      "cell_type": "code",
      "source": [
        "MSE = mean_squared_error(y_test, ridge_predict) ** 0.5\n",
        "print(\"Rooted mean square error: {}\".format(MSE))\n",
        "ridge_errors = y_test - ridge_predict\n",
        "#mean absolute error\n",
        "MAE = np.average(np.abs(ridge_errors))\n",
        "print(\"MAE: {}\".format(MAE))"
      ],
      "metadata": {
        "id": "3sLuF2NL5Uhv",
        "colab": {
          "base_uri": "https://localhost:8080/"
        },
        "outputId": "e6b11f88-8ca0-4ac5-987d-32e5484d3905"
      },
      "execution_count": null,
      "outputs": [
        {
          "output_type": "stream",
          "name": "stdout",
          "text": [
            "Rooted mean square error: 780268.9296842545\n",
            "MAE: 321050.69029231695\n"
          ]
        }
      ]
    },
    {
      "cell_type": "markdown",
      "source": [
        " **Conclusion:**   \n",
        "* By using the Ridge model, accuracy on the training dataset is 0.2167.\n",
        "* By using the Ridge model, accuracy on the testing dataset is 0.2354.\n",
        " <br> rooted mean square error: $RMSE=780268.9296$.  \n",
        " mean absolute error: $MAE=321050.6902$."
      ],
      "metadata": {
        "id": "iIBdwU9v8mh6"
      }
    },
    {
      "cell_type": "markdown",
      "source": [
        "####L1 combined with L2"
      ],
      "metadata": {
        "id": "H3IHRUP958TV"
      }
    },
    {
      "cell_type": "code",
      "source": [
        "#L1 combined with L2\n",
        "regr4 = ElasticNet(alpha=0.1, l1_ratio=0.6)\n",
        "regr4.fit(X_train_2, y_train)\n",
        "elastic_predict = regr4.predict(X_test_2)\n",
        "print(regr4.score(X_train_2, y_train))\n",
        "print(regr4.score(X_test_2, y_test))"
      ],
      "metadata": {
        "id": "yDTCtrHT51nj",
        "colab": {
          "base_uri": "https://localhost:8080/"
        },
        "outputId": "eab1ab0d-e9e9-44e7-a8b3-0cf85fccd919"
      },
      "execution_count": null,
      "outputs": [
        {
          "output_type": "stream",
          "name": "stdout",
          "text": [
            "0.22065941722924987\n",
            "0.24818166613711679\n"
          ]
        },
        {
          "output_type": "stream",
          "name": "stderr",
          "text": [
            "/usr/local/lib/python3.7/dist-packages/sklearn/linear_model/_coordinate_descent.py:648: ConvergenceWarning:\n",
            "\n",
            "Objective did not converge. You might want to increase the number of iterations, check the scale of the features or consider increasing regularisation. Duality gap: 3.239e+12, tolerance: 4.082e+10\n",
            "\n"
          ]
        }
      ]
    },
    {
      "cell_type": "code",
      "source": [
        "MSE = mean_squared_error(y_test, elastic_predict) ** 0.5\n",
        "print(\"Rooted mean square error: {}\".format(MSE))\n",
        "elastic_errors = y_test - elastic_predict\n",
        "#mean absolute error\n",
        "MAE = np.average(np.abs(elastic_errors))\n",
        "print(\"MAE: {}\".format(MAE))"
      ],
      "metadata": {
        "id": "MjkAIe4o5jnt",
        "colab": {
          "base_uri": "https://localhost:8080/"
        },
        "outputId": "940f5c95-090b-443b-dfb7-db8676385288"
      },
      "execution_count": null,
      "outputs": [
        {
          "output_type": "stream",
          "name": "stdout",
          "text": [
            "Rooted mean square error: 773737.2096982157\n",
            "MAE: 327999.30955752113\n"
          ]
        }
      ]
    },
    {
      "cell_type": "markdown",
      "source": [
        " **Conclusion:**   \n",
        "* By using the Elastic model, accuracy on the training dataset is 0.2206.\n",
        "* By using the Elastic model, accuracy on the testing dataset is 0.2481.\n",
        " <br> rooted mean square error: $RMSE=773737.2096$.  \n",
        " mean absolute error: $MAE=327999.3095$."
      ],
      "metadata": {
        "id": "XVgLTg4i85Uc"
      }
    },
    {
      "cell_type": "markdown",
      "source": [],
      "metadata": {
        "id": "BYNztmof_vt6"
      }
    },
    {
      "cell_type": "markdown",
      "metadata": {
        "id": "eG1pJc3ReP9x"
      },
      "source": [
        "Ridge L2 does not converge. For others, their testing accuracy is still lower than pure Linear regression."
      ]
    },
    {
      "cell_type": "markdown",
      "metadata": {
        "id": "oVIDZPVERdNT"
      },
      "source": [
        "###Regression Tree (a decision tree that can work on continous variable)\n",
        "We tried regression tree with different splitters (\"best\" and \"random\").\n",
        "\n",
        "\"best\": choose the best split.\n",
        "\n",
        "\"random\": choose the best random split.\n",
        "\n",
        "The result is shown below. The max testing accuracy is over 80%."
      ]
    },
    {
      "cell_type": "code",
      "execution_count": null,
      "metadata": {
        "colab": {
          "base_uri": "https://localhost:8080/"
        },
        "id": "H6gJeNVyRyFI",
        "outputId": "a3f1c73b-ba38-431b-81b8-b2a555b3c0e6"
      },
      "outputs": [
        {
          "output_type": "stream",
          "name": "stdout",
          "text": [
            "1.0 0.6218616433060082 best splitter\n",
            "Rooted mean square error: 548734.6606176412\n",
            "MAE: 109028.50877192983\n",
            "\n",
            "1.0 0.8327080479578981 random splitter\n",
            "Rooted mean square error: 364984.60908430244\n",
            "MAE: 99092.54385964913\n",
            "\n"
          ]
        }
      ],
      "source": [
        "from sklearn import tree\n",
        "trainVal=0\n",
        "maxTestVal=0\n",
        "maxS=0\n",
        "maxP=0\n",
        "for method in [\"best\", \"random\"]:\n",
        "  regr5 = tree.DecisionTreeRegressor(splitter=method)\n",
        "  regr5.fit(X_train_2, y_train)\n",
        "  p=regr5.predict(X_test_2)\n",
        "  val=regr5.score(X_test_2, y_test)\n",
        "  trainVal=regr5.score(X_train_2, y_train)\n",
        "  print(trainVal,val,method, \"splitter\")\n",
        "  MSE = mean_squared_error(y_test, p) ** 0.5\n",
        "  print(\"Rooted mean square error: {}\".format(MSE))\n",
        "  error = y_test - p\n",
        "  #mean absolute error\n",
        "  MAE = np.average(np.abs(error))\n",
        "  print(\"MAE: {}\".format(MAE))\n",
        "  print(\"\")"
      ]
    },
    {
      "cell_type": "markdown",
      "source": [
        " **Conclusion:**\n",
        "* By using this model, accuracy on the training dataset is at 1.0 since we do the split until all leaves are pure.  \n",
        "* By using this model, accuracy on the testing dataset (one running) is around 0.6218 (best splitter) and 0.8327 (random splitter).\n",
        " <br> rooted mean square error: $RMSE=548734.6606176412$ (best splitter), $RMSE=364984.60908430244$ (random splitter).  \n",
        " mean absolute error: $MAE=109028.50877192983$ (best splitter), $MAE=109028.50877192983$ (random splitter).\n",
        "\n",
        "Totally, the regression tree works super better, with best testing accuracy over 80%. The RMSE and MAE here are still high, but improved a lot."
      ],
      "metadata": {
        "id": "2hLsGGRH7Vqr"
      }
    },
    {
      "cell_type": "markdown",
      "metadata": {
        "id": "4SV3XAadebGh"
      },
      "source": [
        "# Part 5 : Model Motivation, Comparison and Conclusion\n",
        "* （Why did we choose those models?）Since we are willing to use supervised learning, we firstly extract some features more related to HIV count to help predict by correlation analsyis. We used PCA (unsupervised learning) to reduce dimensional and apply supervised learning models after that. Linear Regression models (Orinary, with Penalty) are used here because we want to find the linear relationship between features and labels. We also want to build a decision tree model working on continous variable. Based on our research, we took adavantage of the property of regression tree and chose different splitters running on it.\n",
        "* The best model here is Regression Tree Model with \"random\" splitter. Linear models totally had weak performance. One reason is that the data samples here are not very large after we group by the countries in different years. NA deletion here also has bad negative impact of the size of our training and testing data. We hope to get better performance on linear models if more related data provided here. But we have to say there is a high probability existing some kind of nonlinear relationship. Regression Tree works much better here because it can capture some relationship beyond linearity.\n",
        "*   After tuning the paramaters, performance of Lasso/Ridge regression model is not improved. The performance of Lasso/Ridge model has the similar accuracy as the default model, which is around 24% - 25%. For the decision tree, we consider the hyperparamer \"splitter\" (can be \"best\" or \"random\" split) to choose the best regression tree model. And we always find \"random\" split gives us a better result, which is over 80%."
      ]
    },
    {
      "cell_type": "markdown",
      "metadata": {
        "id": "PsueCKL8vXVe"
      },
      "source": [
        "# Part 6 : Challenges and Obstacles Faced"
      ]
    },
    {
      "cell_type": "markdown",
      "metadata": {
        "id": "j3Q_EqtsxSPo"
      },
      "source": [
        "* **Duplicate Data:** There are duplication in data, due to countries are included in continents or regions. Also, some indicators has overlapping data. For example, the data for *Life expectancy at birth, female (years)* and *Life expectancy at birth, male (years)* are included in *Life expectancy at birth, total (years)*.\n",
        "\n",
        "* **Data size:** The data is stored based on the various countries and indicatiors in row format, while years are in columns. Therefore, in order for us to select the proper features, we would have to transpose the data frame. This limited the row size because there are only 26 years of data we could use. The years prior to 1990 are lacking most of the data value, which we had dropped.\n",
        "\n",
        "* **Select features:** Additionally, not every feature has the complete data for all 26 years, which forced us to further drop additional rows that contain null value so we could train the data set properly. This issue further reduced our data size.\n",
        "\n",
        "* **Time Series:** We are trying to use time series method covered in the lecture. However, there are only 26 valid years without detailed montly stat. Our seasonality analysis cannot work well on this."
      ]
    },
    {
      "cell_type": "markdown",
      "metadata": {
        "id": "2Snr8LdEcy6U"
      },
      "source": [
        "# Part 7 : Further Exploration"
      ]
    },
    {
      "cell_type": "markdown",
      "metadata": {
        "id": "BBQpEVbHc5nd"
      },
      "source": [
        "* We can try methods covered in the lecture to replace NA with aggregation or KNN value to keep more training data here.\n",
        "* We can also explore more HIV data specific to months (since the Kaggle Data only covers yearly statistics) so that our generated data with features and labels would be large."
      ]
    }
  ],
  "metadata": {
    "colab": {
      "provenance": []
    },
    "kernelspec": {
      "display_name": "Python 3",
      "name": "python3"
    },
    "language_info": {
      "name": "python"
    }
  },
  "nbformat": 4,
  "nbformat_minor": 0
}