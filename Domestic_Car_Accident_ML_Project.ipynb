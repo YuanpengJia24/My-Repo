{
  "cells": [
    {
      "cell_type": "markdown",
      "source": [
        "# Introduction"
      ],
      "metadata": {
        "id": "9wvNfmBOrMSq"
      }
    },
    {
      "cell_type": "markdown",
      "metadata": {
        "id": "zyw56qY24hVK"
      },
      "source": [
        "**Introduction to the Project**\n",
        "\n",
        "Welcome to our Car Accident Analysis project!\n",
        "\n",
        "Our team, consisting of Yicheng Shen, Leshan Feng, and Yuanpeng Jia, has set out to analyze a comprehensive dataset of car accidents across the United States in order to identify key factors influencing accident occurrence and severity. By leveraging this dataset, which covers 49 states and contains around 2.8 million accident records, we aim to develop a model that can accurately predict the likelihood and severity of car accidents."
      ]
    },
    {
      "cell_type": "markdown",
      "metadata": {
        "id": "rp2ALiHL8e24"
      },
      "source": [
        "**Data scource**\n",
        "\n",
        "The dataset, sourced from https://www.kaggle.com/datasets/sobhanmoosavi/us-accidents, is a rich resource that includes variables such as accident severity, time, location, and descriptions. It has been compiled using multiple APIs that provide streaming traffic incident data from various sources, including the US and state departments of transportation, law enforcement agencies, traffic cameras, and road-network traffic sensors."
      ]
    },
    {
      "cell_type": "markdown",
      "metadata": {
        "id": "b__tnR4H8ovq"
      },
      "source": [
        "**Project design**\n",
        "\n",
        "In this project, we will explore various statistical and machine learning models, including different supervised and unsupervised approaches to analyse the factors that effect the severity of the car accident. We will first use unsupervised machine learning method to reduce the number of features. Then we will compare the result of different supervised machine learning models. We aim to present the machine learning model that predict the severity of the accident, which can be used to promote safer driving habits.\n",
        "\n",
        "The framework of the project is below:\n",
        "\n",
        "Part 1: Data Cleaning and Preprocessing\n",
        "\n",
        "Part 2: Exploratory data analysis (EDA)\n",
        "\n",
        "Part 3: Machine Learning Modeling (Unsupervised and supervised)\n",
        "\n",
        "Part 4: Model Comparison and Conclusion\n",
        "\n",
        "Part 5: Challenges and Obstacles Faced\n",
        "\n",
        "Part 6: Further Exploration"
      ]
    },
    {
      "cell_type": "markdown",
      "metadata": {
        "id": "YChzsmTp4-vu"
      },
      "source": [
        "# Part 0 : Before Running⚠️\n",
        "\n",
        "Remember to upload your kaggle.json file (kaggle account required) to colab after you run the following channel. Or, you can directly download file from https://www.kaggle.com/datasets/sobhanmoosavi/us-accidents and upload to colab.\n",
        "\n",
        "Alternately, if you don't want to run it, make sure to load it in Colab to have a complete view of our data visualization.\n",
        "\n"
      ]
    },
    {
      "cell_type": "markdown",
      "metadata": {
        "id": "0u2wAVSu49k_"
      },
      "source": [
        "## Installing the Kaggle API in Colab\n",
        "\n",
        "The dataset we use from kaggle. If you wish to run this notebook, you can do following steps:\n",
        "\n",
        "\n",
        "First, grab your token from Kaggle.\n",
        "1. Navigate to https://www.kaggle.com.\n",
        "2. Then go to the [Account tab of your user profile](https://www.kaggle.com/me/account).\n",
        "3. select Create API Token. This will trigger the download of kaggle.json, a file containing your API credentials.\n",
        "\n",
        "Then run the cell below to upload kaggle.json to your Colab runtime."
      ]
    },
    {
      "cell_type": "code",
      "execution_count": null,
      "metadata": {
        "id": "u4vbeuyC6dB2",
        "colab": {
          "base_uri": "https://localhost:8080/"
        },
        "outputId": "26c56a14-a99b-484f-cef5-ec5e57873bef"
      },
      "outputs": [
        {
          "output_type": "stream",
          "name": "stdout",
          "text": [
            "Looking in indexes: https://pypi.org/simple, https://us-python.pkg.dev/colab-wheels/public/simple/\n",
            "Requirement already satisfied: kaggle in /usr/local/lib/python3.9/dist-packages (1.5.13)\n",
            "Requirement already satisfied: requests in /usr/local/lib/python3.9/dist-packages (from kaggle) (2.27.1)\n",
            "Requirement already satisfied: urllib3 in /usr/local/lib/python3.9/dist-packages (from kaggle) (1.26.15)\n",
            "Requirement already satisfied: six>=1.10 in /usr/local/lib/python3.9/dist-packages (from kaggle) (1.16.0)\n",
            "Requirement already satisfied: certifi in /usr/local/lib/python3.9/dist-packages (from kaggle) (2022.12.7)\n",
            "Requirement already satisfied: python-dateutil in /usr/local/lib/python3.9/dist-packages (from kaggle) (2.8.2)\n",
            "Requirement already satisfied: python-slugify in /usr/local/lib/python3.9/dist-packages (from kaggle) (8.0.1)\n",
            "Requirement already satisfied: tqdm in /usr/local/lib/python3.9/dist-packages (from kaggle) (4.65.0)\n",
            "Requirement already satisfied: text-unidecode>=1.3 in /usr/local/lib/python3.9/dist-packages (from python-slugify->kaggle) (1.3)\n",
            "Requirement already satisfied: idna<4,>=2.5 in /usr/local/lib/python3.9/dist-packages (from requests->kaggle) (3.4)\n",
            "Requirement already satisfied: charset-normalizer~=2.0.0 in /usr/local/lib/python3.9/dist-packages (from requests->kaggle) (2.0.12)\n"
          ]
        }
      ],
      "source": [
        "!pip install kaggle"
      ]
    },
    {
      "cell_type": "code",
      "execution_count": null,
      "metadata": {
        "id": "gTt0fph96umI",
        "colab": {
          "base_uri": "https://localhost:8080/"
        },
        "outputId": "896764eb-8f28-443e-edfb-65b523db6e95"
      },
      "outputs": [
        {
          "output_type": "stream",
          "name": "stdout",
          "text": [
            "Drive already mounted at /content/drive; to attempt to forcibly remount, call drive.mount(\"/content/drive\", force_remount=True).\n"
          ]
        }
      ],
      "source": [
        "from google.colab import drive\n",
        "drive.mount('/content/drive')"
      ]
    },
    {
      "cell_type": "code",
      "execution_count": null,
      "metadata": {
        "id": "tiHN6LPd7UAl",
        "outputId": "40652768-6b1a-4de6-f986-e3a0bf0a9a31",
        "colab": {
          "base_uri": "https://localhost:8080/"
        }
      },
      "outputs": [
        {
          "output_type": "stream",
          "name": "stdout",
          "text": [
            "mkdir: cannot create directory ‘/root/.kaggle’: File exists\n"
          ]
        }
      ],
      "source": [
        "# Create the kaggle directory\n",
        "# (NOTE: Do NOT run this cell more than once unless restarting kernel)\n",
        "!mkdir ~/.kaggle"
      ]
    },
    {
      "cell_type": "code",
      "execution_count": null,
      "metadata": {
        "id": "mhv3H44D7YnW"
      },
      "outputs": [],
      "source": [
        "# Read the uploaded kaggle.json file\n",
        "!cp /content/drive/MyDrive/kaggle.json ~/.kaggle/"
      ]
    },
    {
      "cell_type": "code",
      "execution_count": null,
      "metadata": {
        "id": "8sjyyKXP7cuo",
        "colab": {
          "base_uri": "https://localhost:8080/"
        },
        "outputId": "8103ffd2-84e9-4ebf-ee44-9ad4525604d8"
      },
      "outputs": [
        {
          "output_type": "execute_result",
          "data": {
            "text/plain": [
              "['us-accidents.zip: Skipping, found more recently modified local copy (use --force to force download)']"
            ]
          },
          "metadata": {},
          "execution_count": 5
        }
      ],
      "source": [
        "# Download dataset\n",
        "!!kaggle datasets download -d sobhanmoosavi/us-accidents"
      ]
    },
    {
      "cell_type": "code",
      "execution_count": null,
      "metadata": {
        "id": "ZMwNumBY8HUr",
        "colab": {
          "base_uri": "https://localhost:8080/"
        },
        "outputId": "fc612056-7eac-4574-85ab-ea86a5b141e7"
      },
      "outputs": [
        {
          "output_type": "stream",
          "name": "stdout",
          "text": [
            "Archive:  /content/us-accidents.zip\n",
            "replace US_Accidents_Dec21_updated.csv? [y]es, [n]o, [A]ll, [N]one, [r]ename: "
          ]
        }
      ],
      "source": [
        "# Unzip folder in Colab content folder\n",
        "!unzip /content/us-accidents.zip"
      ]
    },
    {
      "cell_type": "code",
      "execution_count": null,
      "metadata": {
        "id": "VNytm1Jn8u73"
      },
      "outputs": [],
      "source": [
        "# import packages\n",
        "import json\n",
        "import glob\n",
        "import pandas as pd\n",
        "import numpy as np\n",
        "import datetime as dt\n",
        "import re\n",
        "import os\n",
        "import matplotlib.pyplot as plt\n",
        "import seaborn as sns\n",
        "from matplotlib import cm\n",
        "from google.colab import drive\n",
        "from sklearn.model_selection import train_test_split\n",
        "from collections import Counter\n",
        "import seaborn as sns"
      ]
    },
    {
      "cell_type": "code",
      "source": [
        "import pandas as pd\n",
        "import numpy as np\n",
        "import matplotlib.pyplot as plt\n",
        "import seaborn as sns\n",
        "from matplotlib import cm\n",
        "from sklearn.model_selection import train_test_split\n",
        "import torch\n",
        "import torchvision\n",
        "from torchvision import transforms, utils\n",
        "import torch.nn as nn\n",
        "import torch.optim as optim\n",
        "import torchvision.transforms as transforms\n",
        "from collections import Counter\n",
        "from PIL import Image\n",
        "from skimage import io, transform\n",
        "import os\n",
        "from torchvision.io import read_image\n",
        "from torch.utils.data import Dataset, DataLoader\n",
        "from collections import Counter\n",
        "from google.colab import drive\n",
        "torch.manual_seed(42) # For grading consistency\n",
        "device = torch.device(\"cuda:0\" if torch.cuda.is_available() else \"cpu\")\n",
        "print(torch.__version__)\n",
        "print(device)\n",
        "gpu_info = !nvidia-smi\n",
        "gpu_info = '\\n'.join(gpu_info)\n",
        "if gpu_info.find('failed') >= 0:\n",
        "  print('Not connected to a GPU')\n",
        "else:\n",
        "  print(gpu_info)"
      ],
      "metadata": {
        "id": "j25GBJyPxP8c"
      },
      "execution_count": null,
      "outputs": []
    },
    {
      "cell_type": "markdown",
      "metadata": {
        "id": "VOZS1owX9cCF"
      },
      "source": [
        "## Data Loading\n",
        "\n",
        "We are loading the US_accident csv file that we downloaded from Kaggle.\n",
        "\n",
        "Load `US_Accidents_Dec21_updated.csv` as `df_accident`."
      ]
    },
    {
      "cell_type": "code",
      "execution_count": null,
      "metadata": {
        "id": "P6zAq3IS8dTd"
      },
      "outputs": [],
      "source": [
        "#read the dataset in\n",
        "df_accident = pd.read_csv('US_Accidents_Dec21_updated.csv')"
      ]
    },
    {
      "cell_type": "code",
      "execution_count": null,
      "metadata": {
        "id": "ji41O3ZO9t-d"
      },
      "outputs": [],
      "source": [
        "#sneak peak of the dataset\n",
        "df_accident.head(5)"
      ]
    },
    {
      "cell_type": "code",
      "execution_count": null,
      "metadata": {
        "id": "cJtle21F-rYH"
      },
      "outputs": [],
      "source": [
        "#number of rows and columns in the dataset\n",
        "print('The Dataset Contains, Rows: {:,d} & Columns: {}'.format(df_accident.shape[0], df_accident.shape[1]))"
      ]
    },
    {
      "cell_type": "code",
      "execution_count": null,
      "metadata": {
        "id": "XRguZ2Hh_ND3"
      },
      "outputs": [],
      "source": [
        "df_dtypes = df_accident.dtypes.reset_index()\n",
        "df_dtypes.columns = [\"Column Name\", \"Column Type\"]\n",
        "df_dtypes#check each column's variable type"
      ]
    },
    {
      "cell_type": "markdown",
      "metadata": {
        "id": "VJhlLd41-GCV"
      },
      "source": [
        "# Part 1: Data Cleaning and Preprocessing\n",
        "\n",
        "We are going to clean and preprocess our `df_accident` in this part.\n"
      ]
    },
    {
      "cell_type": "code",
      "execution_count": null,
      "metadata": {
        "id": "C0w5m0QH-UjB"
      },
      "outputs": [],
      "source": [
        "# convert the Start_Time & End_Time Variable into Datetime objects and create two new columns\n",
        "df_accident['start_time'] = pd.to_datetime(df_accident.Start_Time,errors='coerce')\n",
        "df_accident['end_time'] = pd.to_datetime(df_accident.End_Time,errors='coerce')"
      ]
    },
    {
      "cell_type": "code",
      "execution_count": null,
      "metadata": {
        "id": "_iNYfeZ-lHsl"
      },
      "outputs": [],
      "source": [
        "# check the number of rows with null values in each column\n",
        "null_counts = df_accident.isnull().sum()\n",
        "print(null_counts)"
      ]
    },
    {
      "cell_type": "markdown",
      "source": [
        "In order to avoid too much observations and create extremely long run times for the system, we decided to select 50000 rows randomly."
      ],
      "metadata": {
        "id": "KHpUGJ-ncG2U"
      }
    },
    {
      "cell_type": "code",
      "execution_count": null,
      "metadata": {
        "id": "zNWCeaF6_g0_"
      },
      "outputs": [],
      "source": [
        "#drop N/A values and any Unamed columns in the dataframe\n",
        "clean_df = df_accident.dropna()\n",
        "#randomly select 50000 observations from the dataset to avoid extremely long run time for future models\n",
        "clean_df = clean_df.sample(n=50000, random_state=42)\n",
        "#clean_df = clean_df.drop('Unnamed: 0', axis=1)"
      ]
    },
    {
      "cell_type": "code",
      "execution_count": null,
      "metadata": {
        "id": "p5wRe_oIBAb-"
      },
      "outputs": [],
      "source": [
        "#check the number of states in the dataset\n",
        "states = clean_df.State.unique()"
      ]
    },
    {
      "cell_type": "code",
      "execution_count": null,
      "metadata": {
        "id": "yiJ6nyXqtQFl"
      },
      "outputs": [],
      "source": [
        "# Extract year, month, day, hour and weekday of both start time and end time and create new columns in the dataset\n",
        "clean_df['Year'] = clean_df['start_time'].dt.year\n",
        "clean_df['Month'] = clean_df['start_time'].dt.strftime('%b')\n",
        "clean_df['Day'] = clean_df['start_time'].dt.day\n",
        "clean_df['Hour'] = clean_df['start_time'].dt.hour\n",
        "clean_df['Weekday'] = clean_df['start_time'].dt.strftime('%a')\n",
        "clean_df['Year_end'] = clean_df['end_time'].dt.year\n",
        "clean_df['Month_end'] = clean_df['end_time'].dt.strftime('%b')\n",
        "clean_df['Day_end'] = clean_df['end_time'].dt.day\n",
        "clean_df['Hour_end'] = clean_df['end_time'].dt.hour\n",
        "clean_df['Weekday_end'] = clean_df['end_time'].dt.strftime('%a')\n"
      ]
    },
    {
      "cell_type": "code",
      "execution_count": null,
      "metadata": {
        "id": "F5MujcWntAD0"
      },
      "outputs": [],
      "source": [
        "# Extract the amount of time in the unit of minutes for each accident, round to the nearest integer\n",
        "td='Time_Duration(min)'\n",
        "clean_df[td]=round((clean_df['end_time']-clean_df['start_time'])/np.timedelta64(1,'m'))"
      ]
    },
    {
      "cell_type": "code",
      "execution_count": null,
      "metadata": {
        "id": "Neq4H_Vz2IgP"
      },
      "outputs": [],
      "source": [
        "#define the negative accident time as outliers\n",
        "outliers=clean_df[td]<=0\n",
        "\n",
        "# Set outlying accident time to NAN\n",
        "clean_df[outliers] = np.nan\n",
        "\n",
        "# Drop rows with NaN values\n",
        "clean_df.dropna(subset=[td],axis=0,inplace=True)"
      ]
    },
    {
      "cell_type": "markdown",
      "metadata": {
        "id": "TxQOZkPlzUH3"
      },
      "source": [
        "Create a new column called `severe_accident`"
      ]
    },
    {
      "cell_type": "code",
      "execution_count": null,
      "metadata": {
        "id": "IpaGL_DmzSW2"
      },
      "outputs": [],
      "source": [
        "#divide accident's severity into two categories, if the severity is 1 or 2,\n",
        "#it will be categorized as not severe, else it is severe\n",
        "severity = lambda x: 'no' if x in [1, 2] else 'yes'\n",
        "\n",
        "# apply the lambda function to create a new column\n",
        "clean_df['severe_accident'] = clean_df['Severity'].apply(severity)"
      ]
    },
    {
      "cell_type": "markdown",
      "metadata": {
        "id": "JvLrE8xdjYCM"
      },
      "source": [
        "# Part 2: Exploratory data analysis (EDA): Data Visualization"
      ]
    },
    {
      "cell_type": "markdown",
      "metadata": {
        "id": "memMWItt3fnM"
      },
      "source": [
        "## Handling Missing Data"
      ]
    },
    {
      "cell_type": "code",
      "execution_count": null,
      "metadata": {
        "id": "JG1danmF3pAE"
      },
      "outputs": [],
      "source": [
        "missing_data = df_accident.isnull().sum()\n",
        "missing_data_percentage = (missing_data / len(df_accident)) * 100\n",
        "print(\"Missing Data Percentage: \\n\", missing_data_percentage)\n"
      ]
    },
    {
      "cell_type": "markdown",
      "metadata": {
        "id": "qH5jYqZ-3tXG"
      },
      "source": [
        "## Get Accident counts\n"
      ]
    },
    {
      "cell_type": "code",
      "execution_count": null,
      "metadata": {
        "id": "ZbrlkbybwxBl"
      },
      "outputs": [],
      "source": [
        "df_state_counts = pd.DataFrame(clean_df.groupby(['State'])['ID'].count())\n",
        "df_state_counts = df_state_counts.reset_index()\n",
        "df_state_counts = df_state_counts.rename(columns={'ID': 'total counts'})\n",
        "df_state_counts = df_state_counts.sort_values('total counts', ascending=False)"
      ]
    },
    {
      "cell_type": "code",
      "execution_count": null,
      "metadata": {
        "id": "GsmHv-gc9AIk"
      },
      "outputs": [],
      "source": [
        "df_state_counts #gives a clear view of which state has the most accidents and least accidents"
      ]
    },
    {
      "cell_type": "markdown",
      "metadata": {
        "id": "xru3qSgAmTT1"
      },
      "source": [
        "## Identify which states have the most number of accidents with visualization\n"
      ]
    },
    {
      "cell_type": "code",
      "execution_count": null,
      "metadata": {
        "id": "174UED6-iyIb"
      },
      "outputs": [],
      "source": [
        "counts_by_states=[]\n",
        "for i in clean_df.State.unique():\n",
        "    counts_by_states.append(clean_df[clean_df['State']==i].count()['ID'])\n",
        "\n",
        "fig,ax = plt.subplots(figsize=(10,8))\n",
        "ax = sns.barplot(x=states, y=counts_by_states, ax=ax)\n",
        "ax.set(xlabel='State Names', ylabel='Number of Accidents', title = 'Numbers of Accidents in Different States')\n",
        "plt.xticks(rotation = 45)\n",
        "plt.show()"
      ]
    },
    {
      "cell_type": "markdown",
      "metadata": {
        "id": "EqiRs4ZPmj3v"
      },
      "source": [
        "## check for the top 5 weather conditions that can cause accidents to happen with visualization\n"
      ]
    },
    {
      "cell_type": "code",
      "execution_count": null,
      "metadata": {
        "id": "LwbYfaoxjEdE"
      },
      "outputs": [],
      "source": [
        "fig, ax=plt.subplots(figsize=(6,6))\n",
        "clean_df['Weather_Condition'].value_counts().sort_values(ascending=False).head(5).plot.bar(width=0.5,edgecolor='k',align='center',linewidth=2)\n",
        "plt.xlabel('Weather_Condition')\n",
        "plt.ylabel('Number of Accidents')\n",
        "ax.tick_params(labelsize=20)\n",
        "plt.title('5 Top Weather Condition for accidents')\n",
        "plt.show()"
      ]
    },
    {
      "cell_type": "markdown",
      "metadata": {
        "id": "lGkDwQvhE99q"
      },
      "source": [
        "## Map visualization"
      ]
    },
    {
      "cell_type": "code",
      "execution_count": null,
      "metadata": {
        "id": "6-ww_QAaDH2J"
      },
      "outputs": [],
      "source": [
        "import plotly.express as px\n",
        "\n",
        "# We will limit the data to a smaller sample for faster visualization\n",
        "sample_df = df_accident.sample(5000)\n",
        "\n",
        "fig = px.scatter_geo(sample_df,\n",
        "                     lat='Start_Lat',\n",
        "                     lon='Start_Lng',\n",
        "                     color='Severity',\n",
        "                     hover_name='Description',\n",
        "                     size='Severity',\n",
        "                     scope='usa',\n",
        "                     title='Accident Locations and Severity in the United States')\n",
        "fig.show()\n"
      ]
    },
    {
      "cell_type": "markdown",
      "metadata": {
        "id": "YYagL56Upvy4"
      },
      "source": [
        "**Severity**: examine the relationship between accident severity and time duration"
      ]
    },
    {
      "cell_type": "code",
      "execution_count": null,
      "metadata": {
        "id": "xiGgYAOl9o23"
      },
      "outputs": [],
      "source": [
        "# Analyze accident severity\n",
        "sns.countplot(x='Severity', data=df_accident)\n",
        "plt.title(\"Accident Severity Distribution\")\n",
        "plt.show()\n"
      ]
    },
    {
      "cell_type": "code",
      "execution_count": null,
      "metadata": {
        "id": "-aW4U-W7pvpg"
      },
      "outputs": [],
      "source": [
        "sns.boxplot(x='Severity', y='Time_Duration(min)', data=clean_df)\n",
        "plt.title('Accident Severity by Time Duration')\n",
        "plt.xlabel('Severity')\n",
        "plt.ylabel('Time Duration (min)')\n",
        "plt.show()\n"
      ]
    },
    {
      "cell_type": "markdown",
      "metadata": {
        "id": "LEcRAiluvHEt"
      },
      "source": [
        "## Distribution of accident severity by state"
      ]
    },
    {
      "cell_type": "code",
      "execution_count": null,
      "metadata": {
        "id": "hkb2vjGbuPQm"
      },
      "outputs": [],
      "source": [
        "clean_df['State'] = clean_df['State'].astype(str)\n",
        "state_severity = clean_df.groupby(['State', 'Severity']).size().reset_index(name='Counts')\n",
        "import matplotlib.pyplot as plt\n",
        "import seaborn as sns\n",
        "\n",
        "plt.figure(figsize=(16, 8))\n",
        "sns.set(font_scale=1.2)\n",
        "\n",
        "sns.scatterplot(x='State', y='Counts', hue='Severity', data=state_severity, s=100)\n",
        "plt.title('Distribution of Accident Severity by State', fontsize=24)\n",
        "plt.xlabel('State', fontsize=18)\n",
        "plt.ylabel('Counts', fontsize=18)\n",
        "plt.legend(title='Severity', fontsize=16, title_fontsize=16)\n",
        "plt.show()\n"
      ]
    },
    {
      "cell_type": "markdown",
      "metadata": {
        "id": "X0YC0DPjwZZd"
      },
      "source": [
        "## Correlation between each variables(both independent and dependent)"
      ]
    },
    {
      "cell_type": "code",
      "execution_count": null,
      "metadata": {
        "id": "RsQnPWs2vJhN"
      },
      "outputs": [],
      "source": [
        "import matplotlib.pyplot as plt\n",
        "import seaborn as sns\n",
        "\n",
        "fig, ax = plt.subplots(figsize=(14, 10))\n",
        "corr = clean_df.corr().round(2)\n",
        "sns.heatmap(corr, cmap='coolwarm', annot=True, fmt='.2f', annot_kws={'fontsize': 12, 'fontweight': 'bold', 'color': 'black'}, ax=ax)\n",
        "ax.set_title('Correlation between Variables', fontsize=16, fontweight='bold')\n",
        "plt.show()\n",
        "\n"
      ]
    },
    {
      "cell_type": "markdown",
      "metadata": {
        "id": "UoHUvd_XGhJl"
      },
      "source": [
        "# Part 3: Machine Learning Modeling\n"
      ]
    },
    {
      "cell_type": "markdown",
      "metadata": {
        "id": "FWMO1mq4q3L6"
      },
      "source": [
        "## Unsupervised Learning Models"
      ]
    },
    {
      "cell_type": "markdown",
      "metadata": {
        "id": "J0laPgdVrSVJ"
      },
      "source": [
        "### **Hyperparameter Tunning: Using PCA**"
      ]
    },
    {
      "cell_type": "code",
      "execution_count": null,
      "metadata": {
        "id": "9DlXBamCrZw7"
      },
      "outputs": [],
      "source": [
        "#Import necessary libraries\n",
        "from sklearn.decomposition import PCA\n",
        "from sklearn.preprocessing import StandardScaler\n",
        "from sklearn.model_selection import train_test_split"
      ]
    },
    {
      "cell_type": "code",
      "execution_count": null,
      "metadata": {
        "id": "V15eNQSFqj73"
      },
      "outputs": [],
      "source": [
        "# Select the features to be used in the model\n",
        "features_temp = ['Temperature(F)', 'Humidity(%)', 'Pressure(in)',\n",
        "            'Visibility(mi)', 'Wind_Speed(mph)', 'Amenity',\n",
        "            'Bump', 'Crossing', 'Give_Way', 'Junction', 'No_Exit', 'Railway', 'Roundabout', 'Station', 'Stop',\n",
        "            'Traffic_Calming', 'Traffic_Signal', 'Turning_Loop']\n",
        "\n",
        "# Encode the categorical features using one-hot encoding\n",
        "# X = pd.get_dummies(clean_df[features_temp], columns=['Weather_Condition'])\n",
        "X = clean_df[features_temp]\n",
        "# Extract the target variable\n",
        "y = clean_df['Severity']\n",
        "\n",
        "# Split the data into training and testing sets(80/20)\n",
        "X_train, X_test, y_train, y_test = train_test_split(X, y, test_size=0.2, random_state=42)"
      ]
    },
    {
      "cell_type": "code",
      "execution_count": null,
      "metadata": {
        "id": "i59sKn40_Qgv"
      },
      "outputs": [],
      "source": [
        "X.shape"
      ]
    },
    {
      "cell_type": "code",
      "execution_count": null,
      "metadata": {
        "id": "Ie9jDlBx2Y0F"
      },
      "outputs": [],
      "source": [
        "#Intermediate step to address fact that PCA is not scale-invariant\n",
        "scaler = StandardScaler()\n",
        "scaler.fit(X_train)\n",
        "# Transform\n",
        "scaled_x_train = scaler.transform(X_train)\n",
        "scaled_x_test = scaler.transform(X_test)\n",
        "\n",
        "#Instantiate and Fit PCA\n",
        "pca = PCA(n_components = 18)\n",
        "pca_x_train = pca.fit(scaled_x_train)"
      ]
    },
    {
      "cell_type": "code",
      "execution_count": null,
      "metadata": {
        "id": "V8CPgogf5D6q"
      },
      "outputs": [],
      "source": [
        "#Save the explained variance ratios into variable called \"explained_variance_ratios\"\n",
        "explained_variance_ratios = pca.explained_variance_ratio_\n",
        "\n",
        "#Save the CUMULATIVE explained variance ratios into variable called \"cum_evr\"\n",
        "cum_evr = np.cumsum(explained_variance_ratios)"
      ]
    },
    {
      "cell_type": "code",
      "execution_count": null,
      "metadata": {
        "id": "WRcbA5Ss5Gkr"
      },
      "outputs": [],
      "source": [
        "# find optimal num components to use (n) by plotting explained variance ratio\n",
        "plt.plot(np.arange(0, 18), cum_evr)\n",
        "plt.plot(np.arange(0, 18), [0.95]*18)\n",
        "plt.xlabel(\"# of components\")\n",
        "plt.ylabel(\"Proportion of Explained Variance\")\n",
        "plt.title(\"PVE as # of components increases\")\n",
        "plt.show()"
      ]
    },
    {
      "cell_type": "code",
      "execution_count": null,
      "metadata": {
        "id": "VbfZ1d81AZYg"
      },
      "outputs": [],
      "source": [
        "# Determine the number of components that explain 95% of the variance\n",
        "optimal_components = np.argmax(cum_evr >= 0.95) + 1\n",
        "\n",
        "# Print the optimal number of components\n",
        "print(f\"The optimal number of components is {optimal_components}\")"
      ]
    },
    {
      "cell_type": "markdown",
      "metadata": {
        "id": "YEW7pDTZ_u8n"
      },
      "source": [
        "**Based on the above plot, we can see the optimal number of components is around 66, to get a precise number. The np.argmax() function returns the index of the first occurrence of the maximum value in a given array. In this case, the cumulative variance ratio array contains the cumulative sum of explained variance ratios for each component. In this way, since python's index begins with 0 so we added 1 to get the number that represent the number of components as it starts with 1.**"
      ]
    },
    {
      "cell_type": "code",
      "execution_count": null,
      "metadata": {
        "id": "ldRsxgR8_t83"
      },
      "outputs": [],
      "source": [
        "#Refit and transform on training with optimal n (as deduced from the previous step)\n",
        "pca = PCA(n_components=optimal_components)\n",
        "X_train_pca = pca.fit_transform(scaled_x_train)\n",
        "\n",
        "#Transform on Testing Set and store it as `X_test_pca`\n",
        "X_test_pca = pca.transform(scaled_x_test)"
      ]
    },
    {
      "cell_type": "markdown",
      "metadata": {
        "id": "0Tv4b71Kt5gD"
      },
      "source": [
        "### **Logistic Regression with PCA**"
      ]
    },
    {
      "cell_type": "code",
      "execution_count": null,
      "metadata": {
        "id": "3tpp3kI7t5D8"
      },
      "outputs": [],
      "source": [
        "from sklearn.linear_model import LogisticRegression\n",
        "import sklearn.metrics\n",
        "# Initialize `log_reg_pca` model with default parameters and fit it on the PCA transformed training set\n",
        "log_reg_pca = LogisticRegression(penalty = None, random_state=42, solver = 'saga',max_iter=50000)\n",
        "\n",
        "# Use the model to predict on the PCA transformed test set and save these predictions as `y_pred`\n",
        "log_reg_pca.fit(X_train_pca, y_train)\n",
        "y_pred = log_reg_pca.predict(X_test_pca)\n",
        "# Find the accuracy\n",
        "test_accuracy = sklearn.metrics.accuracy_score(y_pred, y_test)"
      ]
    },
    {
      "cell_type": "code",
      "execution_count": null,
      "metadata": {
        "id": "cGd7xt5yQurn",
        "colab": {
          "base_uri": "https://localhost:8080/"
        },
        "outputId": "1d5ffc6d-b3d7-40b5-f7c4-2a91477a4aed"
      },
      "outputs": [
        {
          "output_type": "stream",
          "name": "stdout",
          "text": [
            "The accuracy of this model is 0.9452\n"
          ]
        }
      ],
      "source": [
        "print(f\"The accuracy of this model is {test_accuracy}\")"
      ]
    },
    {
      "cell_type": "markdown",
      "metadata": {
        "id": "IA17AWmwFWcb"
      },
      "source": [
        "### **Logistic Regression (whether an accident is severe or not) with PCA**"
      ]
    },
    {
      "cell_type": "markdown",
      "metadata": {
        "id": "sIf29Vcs9mfX"
      },
      "source": [
        "###**Logistic Regression with tuning: Lasso(L1), Ridge(L2), and ElasticNet(L1&L2)**"
      ]
    },
    {
      "cell_type": "markdown",
      "metadata": {
        "id": "_ysxLb-BEEEn"
      },
      "source": [
        "**LASSO L1**"
      ]
    },
    {
      "cell_type": "code",
      "execution_count": null,
      "metadata": {
        "id": "8dedgm-0yOJE",
        "colab": {
          "base_uri": "https://localhost:8080/"
        },
        "outputId": "d9565240-91ad-458e-b75c-88c88378aa3d"
      },
      "outputs": [
        {
          "output_type": "stream",
          "name": "stdout",
          "text": [
            "The test accuracy of this model is 0.9452\n"
          ]
        }
      ],
      "source": [
        "#LASSO L1\n",
        "regr1 = LogisticRegression(penalty='l1', solver='saga', max_iter=50000, random_state=42)\n",
        "#fit the model\n",
        "regr1.fit(X_train_pca, y_train)\n",
        "\n",
        "y_pred = regr1.predict(X_test_pca)\n",
        "#compute test accuracy\n",
        "test_accuracy = sklearn.metrics.accuracy_score(y_pred, y_test)\n",
        "print(f\"The test accuracy of this model is {test_accuracy}\")"
      ]
    },
    {
      "cell_type": "markdown",
      "metadata": {
        "id": "Ljzty_sBEKwi"
      },
      "source": [
        "**Ridge L2**"
      ]
    },
    {
      "cell_type": "code",
      "execution_count": null,
      "metadata": {
        "colab": {
          "base_uri": "https://localhost:8080/"
        },
        "id": "T6S2XsdrD28B",
        "outputId": "f82e950c-51a8-4c45-fc80-f4742fba0247"
      },
      "outputs": [
        {
          "output_type": "stream",
          "name": "stdout",
          "text": [
            "The test accuracy of this model is 0.9452\n"
          ]
        }
      ],
      "source": [
        "#Ridge L2\n",
        "regr2 = LogisticRegression(penalty='l2', solver='saga', max_iter=50000, random_state=42)\n",
        "#fit the model\n",
        "regr2.fit(X_train_pca, y_train)\n",
        "\n",
        "y_pred = regr2.predict(X_test_pca)\n",
        "#compute test accuracy\n",
        "test_accuracy = sklearn.metrics.accuracy_score(y_pred, y_test)\n",
        "print(f\"The test accuracy of this model is {test_accuracy}\")"
      ]
    },
    {
      "cell_type": "markdown",
      "metadata": {
        "id": "p2Z9afuWEpZM"
      },
      "source": [
        "**L1 combined with L2 (Elastic Net)**"
      ]
    },
    {
      "cell_type": "code",
      "execution_count": null,
      "metadata": {
        "colab": {
          "base_uri": "https://localhost:8080/"
        },
        "id": "c58sRAQ9EpuR",
        "outputId": "996a316b-1fdb-4875-a276-b442d499afa4"
      },
      "outputs": [
        {
          "output_type": "stream",
          "name": "stdout",
          "text": [
            "The test accuracy of this model is 0.9452\n"
          ]
        }
      ],
      "source": [
        "#ElasticNet\n",
        "regr3 = LogisticRegression(penalty='elasticnet', solver='saga', max_iter=50000, l1_ratio=0.5, random_state=42)\n",
        "#fit the model\n",
        "regr3.fit(X_train_pca, y_train)\n",
        "\n",
        "y_pred = regr3.predict(X_test_pca)\n",
        "#compute test accuracy\n",
        "test_accuracy = sklearn.metrics.accuracy_score(y_pred, y_test)\n",
        "print(f\"The test accuracy of this model is {test_accuracy}\")"
      ]
    },
    {
      "cell_type": "markdown",
      "metadata": {
        "id": "mYfrUZm_FDkL"
      },
      "source": [
        "**Conclusion**:\n",
        "\n",
        "By implementing different regularizations, we have found the model has accuracy of 94.52% by using Lasso, Ridge, and elastic net, and the result are basically the same compared to pure logistic regression. This indicates that, in this specific problem, adding regularization does not provide significant improvements in model performance.\n"
      ]
    },
    {
      "cell_type": "markdown",
      "metadata": {
        "id": "sG1v19nDHrRf"
      },
      "source": [
        "## Supervised Learning Models (predicting the severity of an accident)\n",
        "Predicting the severity of accidents using machine learning models can help improve road safety and save lives. Accidents can have different levels of severity, ranging from minor injuries to fatalities, and understanding the factors that contribute to these outcomes can inform prevention strategies and improve emergency response. By analyzing large datasets of accident reports and identifying patterns and risk factors associated with different levels of severity, machine learning models can be trained to accurately predict the severity of future accidents. This information can be used to inform policies and interventions aimed at reducing the risk of accidents and mitigating their impact. Overall, the development of machine learning models for accident severity prediction can have important implications for public safety and welfare."
      ]
    },
    {
      "cell_type": "markdown",
      "metadata": {
        "id": "oD0vJkX3IQuF"
      },
      "source": [
        "###**Decision tree**"
      ]
    },
    {
      "cell_type": "code",
      "execution_count": null,
      "metadata": {
        "id": "M9xG-laFIfZu"
      },
      "outputs": [],
      "source": [
        "import numpy as np\n",
        "from sklearn.model_selection import train_test_split, cross_val_score, StratifiedKFold\n",
        "from sklearn.tree import DecisionTreeClassifier\n",
        "from sklearn.metrics import accuracy_score, cohen_kappa_score\n",
        "from sklearn.model_selection import GridSearchCV\n",
        "from sklearn.naive_bayes import GaussianNB\n",
        "from sklearn.linear_model import LogisticRegression\n",
        "from sklearn.svm import SVC\n",
        "from sklearn.tree import DecisionTreeClassifier\n",
        "from sklearn.ensemble import RandomForestClassifier, AdaBoostClassifier\n",
        "from sklearn.metrics import classification_report, accuracy_score"
      ]
    },
    {
      "cell_type": "code",
      "execution_count": null,
      "metadata": {
        "id": "hjcm760xIUQQ",
        "colab": {
          "base_uri": "https://localhost:8080/"
        },
        "outputId": "a2366fad-c2dd-4a1f-acd3-aa5e22c9242b"
      },
      "outputs": [
        {
          "output_type": "stream",
          "name": "stdout",
          "text": [
            "Baseline Model:\n",
            "Accuracy Score: 0.8981\n",
            "Cohen's Kappa Score: 0.08653703500678733\n",
            "\n",
            "Hold one out (90/10 train/test split):\n",
            "Accuracy Score: 0.8956\n",
            "Cohen's Kappa Score: 0.12325932544714624\n",
            "\n",
            "5-fold cross-validation (80/20 train/test split):\n",
            "Accuracy Score: 0.8885399999999999\n",
            "Cohen's Kappa Score: 0.08653703500678733\n",
            "\n",
            "10-fold cross-validation (80/20 train/test split):\n",
            "Accuracy Score: 0.8911200000000001\n",
            "Cohen's Kappa Score: 0.08653703500678733\n",
            "\n",
            "10-fold stratified cross-validation (80/20 train/test split):\n",
            "Accuracy Score: 0.89186\n",
            "Cohen's Kappa Score: 0.08653703500678733\n"
          ]
        }
      ],
      "source": [
        "# Define features and target\n",
        "X = clean_df[['Temperature(F)', 'Humidity(%)', 'Pressure(in)',\n",
        "            'Visibility(mi)', 'Wind_Speed(mph)', 'Amenity', 'Bump',\n",
        "            'Crossing', 'Give_Way', 'Junction', 'No_Exit', 'Railway',\n",
        "            'Roundabout', 'Station', 'Stop',\n",
        "            'Traffic_Calming', 'Traffic_Signal', 'Turning_Loop']]\n",
        "y = clean_df['Severity']\n",
        "\n",
        "# Split the data into training and testing sets (80/20)\n",
        "X_train, X_test, y_train, y_test = train_test_split(X, y, test_size=0.2, random_state=42)\n",
        "\n",
        "# Define the decision tree model\n",
        "model = DecisionTreeClassifier(random_state=42)\n",
        "\n",
        "# Scale the data\n",
        "scaler = StandardScaler()\n",
        "X_train = scaler.fit_transform(X_train)\n",
        "X_test = scaler.transform(X_test)\n",
        "\n",
        "# Fit the model on the training data\n",
        "model.fit(X_train, y_train)\n",
        "\n",
        "# Make predictions on the testing data\n",
        "y_pred = model.predict(X_test)\n",
        "\n",
        "# Calculate the accuracy score and Cohen's kappa for the baseline model\n",
        "acc_score = accuracy_score(y_test, y_pred)\n",
        "kappa_score = cohen_kappa_score(y_test, y_pred)\n",
        "print(\"Baseline Model:\")\n",
        "print(\"Accuracy Score:\", acc_score)\n",
        "print(\"Cohen's Kappa Score:\", kappa_score)\n",
        "\n",
        "# Hold one out (90/10 train/test split)\n",
        "X_train_90, X_test_90, y_train_90, y_test_90 = train_test_split(X, y, test_size=0.1, random_state=42)\n",
        "model.fit(X_train_90, y_train_90)\n",
        "y_pred_90 = model.predict(X_test_90)\n",
        "acc_score_90 = accuracy_score(y_test_90, y_pred_90)\n",
        "kappa_score_90 = cohen_kappa_score(y_test_90, y_pred_90)\n",
        "print(\"\\nHold one out (90/10 train/test split):\")\n",
        "print(\"Accuracy Score:\", acc_score_90)\n",
        "print(\"Cohen's Kappa Score:\", kappa_score_90)\n",
        "\n",
        "# 5-fold cross-validation (80/20 train/test split)\n",
        "cv_scores = cross_val_score(model, X, y, cv=5)\n",
        "acc_score_cv = cv_scores.mean()\n",
        "kappa_score_cv = cohen_kappa_score(y_test, y_pred)\n",
        "print(\"\\n5-fold cross-validation (80/20 train/test split):\")\n",
        "print(\"Accuracy Score:\", acc_score_cv)\n",
        "print(\"Cohen's Kappa Score:\", kappa_score_cv)\n",
        "\n",
        "# 10-fold cross-validation (80/20 train/test split)\n",
        "cv_scores = cross_val_score(model, X, y, cv=10)\n",
        "acc_score_cv10 = cv_scores.mean()\n",
        "kappa_score_cv10 = cohen_kappa_score(y_test, y_pred)\n",
        "print(\"\\n10-fold cross-validation (80/20 train/test split):\")\n",
        "print(\"Accuracy Score:\", acc_score_cv10)\n",
        "print(\"Cohen's Kappa Score:\", kappa_score_cv10)\n",
        "\n",
        "#10-fold stratified cross-validation (80/20 train/test split)\n",
        "skf = StratifiedKFold(n_splits=10, shuffle=True, random_state=42)\n",
        "cv_scores = cross_val_score(model, X, y, cv=skf)\n",
        "acc_score_strat_cv = cv_scores.mean()\n",
        "kappa_score_strat_cv = cohen_kappa_score(y_test, y_pred)\n",
        "print(\"\\n10-fold stratified cross-validation (80/20 train/test split):\")\n",
        "print(\"Accuracy Score:\", acc_score_strat_cv)\n",
        "print(\"Cohen's Kappa Score:\", kappa_score_strat_cv)\n"
      ]
    },
    {
      "cell_type": "code",
      "execution_count": null,
      "metadata": {
        "id": "D7hyDr03Ir42",
        "colab": {
          "base_uri": "https://localhost:8080/"
        },
        "outputId": "a09372fe-2d6d-4f88-862c-f258d424d39f"
      },
      "outputs": [
        {
          "output_type": "stream",
          "name": "stdout",
          "text": [
            "Best Decision Tree parameters: {'criterion': 'gini', 'max_depth': 10}\n",
            "Accuracy: 0.9429\n"
          ]
        }
      ],
      "source": [
        "params_dt = {'criterion': ['gini', 'entropy'], 'max_depth': [None, 10, 20, 30]}\n",
        "grid_dt = GridSearchCV(DecisionTreeClassifier(), params_dt, cv=10, scoring='accuracy')\n",
        "grid_dt.fit(X_train, y_train)\n",
        "print(\"Best Decision Tree parameters:\", grid_dt.best_params_)\n",
        "print(\"Accuracy:\", accuracy_score(y_test, grid_dt.predict(X_test)))"
      ]
    },
    {
      "cell_type": "markdown",
      "metadata": {
        "id": "OLFPZsb3Iote"
      },
      "source": [
        "###**Naïve Bayes**"
      ]
    },
    {
      "cell_type": "code",
      "execution_count": null,
      "metadata": {
        "id": "s2HNr74qJGGF",
        "colab": {
          "base_uri": "https://localhost:8080/"
        },
        "outputId": "ebda43c8-d789-4cf5-8db5-23eff0692110"
      },
      "outputs": [
        {
          "output_type": "stream",
          "name": "stdout",
          "text": [
            "Baseline Model:\n",
            "Accuracy Score: 0.0307\n",
            "Cohen's Kappa Score: 0.0006831603328556479\n",
            "\n",
            "Hold one out (90/10 train/test split):\n",
            "Accuracy Score: 0.0446\n",
            "Cohen's Kappa Score: 0.00525401631033573\n",
            "\n",
            "5-fold cross-validation (80/20 train/test split):\n",
            "Accuracy Score: 0.043500000000000004\n",
            "Cohen's Kappa Score: 0.0006831603328556479\n",
            "\n",
            "10-fold cross-validation (80/20 train/test split):\n",
            "Accuracy Score: 0.042899999999999994\n",
            "Cohen's Kappa Score: 0.0006831603328556479\n",
            "\n",
            "10-fold stratified cross-validation (80/20 train/test split):\n",
            "Accuracy Score: 0.04182\n",
            "Cohen's Kappa Score: 0.0006831603328556479\n"
          ]
        }
      ],
      "source": [
        "from sklearn.naive_bayes import GaussianNB\n",
        "\n",
        "# Define the Naive Bayes model\n",
        "model = GaussianNB()\n",
        "\n",
        "# ... (rest of the code is the same as the Decision Tree example, just replace the model definition)\n",
        "import numpy as np\n",
        "from sklearn.model_selection import train_test_split, cross_val_score, StratifiedKFold\n",
        "from sklearn.tree import DecisionTreeClassifier\n",
        "from sklearn.metrics import accuracy_score, cohen_kappa_score\n",
        "\n",
        "# Define features and target\n",
        "X = clean_df[['Temperature(F)', 'Humidity(%)', 'Pressure(in)',\n",
        "            'Visibility(mi)', 'Wind_Speed(mph)', 'Amenity', 'Bump',\n",
        "            'Crossing', 'Give_Way', 'Junction', 'No_Exit', 'Railway',\n",
        "            'Roundabout', 'Station', 'Stop',\n",
        "            'Traffic_Calming', 'Traffic_Signal', 'Turning_Loop']]\n",
        "y = clean_df['Severity']\n",
        "\n",
        "# Split the data into training and testing sets (80/20)\n",
        "X_train, X_test, y_train, y_test = train_test_split(X, y, test_size=0.2, random_state=42)\n",
        "\n",
        "\n",
        "# Scale the data\n",
        "scaler = StandardScaler()\n",
        "X_train = scaler.fit_transform(X_train)\n",
        "X_test = scaler.transform(X_test)\n",
        "\n",
        "# Define the decision tree model\n",
        "model = GaussianNB()\n",
        "\n",
        "# Fit the model on the training data\n",
        "model.fit(X_train, y_train)\n",
        "\n",
        "# Make predictions on the testing data\n",
        "y_pred = model.predict(X_test)\n",
        "\n",
        "# Calculate the accuracy score and Cohen's kappa for the baseline model\n",
        "NBacc_score = accuracy_score(y_test, y_pred)\n",
        "NBkappa_score = cohen_kappa_score(y_test, y_pred)\n",
        "print(\"Baseline Model:\")\n",
        "print(\"Accuracy Score:\", NBacc_score)\n",
        "print(\"Cohen's Kappa Score:\", NBkappa_score)\n",
        "\n",
        "# Hold one out (90/10 train/test split)\n",
        "X_train_90, X_test_90, y_train_90, y_test_90 = train_test_split(X, y, test_size=0.1, random_state=42)\n",
        "model.fit(X_train_90, y_train_90)\n",
        "y_pred_90 = model.predict(X_test_90)\n",
        "NBacc_score_90 = accuracy_score(y_test_90, y_pred_90)\n",
        "NBkappa_score_90 = cohen_kappa_score(y_test_90, y_pred_90)\n",
        "print(\"\\nHold one out (90/10 train/test split):\")\n",
        "print(\"Accuracy Score:\", NBacc_score_90)\n",
        "print(\"Cohen's Kappa Score:\", NBkappa_score_90)\n",
        "\n",
        "# 5-fold cross-validation (80/20 train/test split)\n",
        "cv_scores = cross_val_score(model, X, y, cv=5)\n",
        "NBacc_score_cv = cv_scores.mean()\n",
        "NBkappa_score_cv = cohen_kappa_score(y_test, y_pred)\n",
        "print(\"\\n5-fold cross-validation (80/20 train/test split):\")\n",
        "print(\"Accuracy Score:\", NBacc_score_cv)\n",
        "print(\"Cohen's Kappa Score:\", NBkappa_score_cv)\n",
        "\n",
        "# 10-fold cross-validation (80/20 train/test split)\n",
        "cv_scores = cross_val_score(model, X, y, cv=10)\n",
        "NBacc_score_cv10 = cv_scores.mean()\n",
        "NBkappa_score_cv10 = cohen_kappa_score(y_test, y_pred)\n",
        "print(\"\\n10-fold cross-validation (80/20 train/test split):\")\n",
        "print(\"Accuracy Score:\", NBacc_score_cv10)\n",
        "print(\"Cohen's Kappa Score:\", NBkappa_score_cv10)\n",
        "\n",
        "#10-fold stratified cross-validation (80/20 train/test split)\n",
        "skf = StratifiedKFold(n_splits=10, shuffle=True, random_state=42)\n",
        "cv_scores = cross_val_score(model, X, y, cv=skf)\n",
        "NBacc_score_strat_cv = cv_scores.mean()\n",
        "NBkappa_score_strat_cv = cohen_kappa_score(y_test, y_pred)\n",
        "print(\"\\n10-fold stratified cross-validation (80/20 train/test split):\")\n",
        "print(\"Accuracy Score:\", NBacc_score_strat_cv)\n",
        "print(\"Cohen's Kappa Score:\", NBkappa_score_strat_cv)\n",
        "\n",
        "\n",
        "\n"
      ]
    },
    {
      "cell_type": "code",
      "execution_count": null,
      "metadata": {
        "id": "b_lSunu3JVtr",
        "colab": {
          "base_uri": "https://localhost:8080/"
        },
        "outputId": "9b1bfed6-0b79-4a24-c7cc-938e47775122"
      },
      "outputs": [
        {
          "output_type": "stream",
          "name": "stdout",
          "text": [
            "Best Naïve Bayes parameters: {'var_smoothing': 1e-10}\n",
            "Accuracy: 0.0308\n"
          ]
        }
      ],
      "source": [
        "params_nb = {'var_smoothing': [1e-10, 1e-9, 1e-8]}\n",
        "grid_nb = GridSearchCV(GaussianNB(), params_nb, cv=10, scoring='accuracy')\n",
        "grid_nb.fit(X_train, y_train)\n",
        "print(\"Best Naïve Bayes parameters:\", grid_nb.best_params_)\n",
        "print(\"Accuracy:\", accuracy_score(y_test, grid_nb.predict(X_test)))"
      ]
    },
    {
      "cell_type": "markdown",
      "metadata": {
        "id": "USfZma5OJZdi"
      },
      "source": [
        "###**Logistic regression**"
      ]
    },
    {
      "cell_type": "code",
      "execution_count": null,
      "metadata": {
        "id": "vrZ2_Y8lJmWV",
        "colab": {
          "base_uri": "https://localhost:8080/"
        },
        "outputId": "d39489c0-dac2-4ff6-e949-815babfb8b07"
      },
      "outputs": [
        {
          "output_type": "stream",
          "name": "stdout",
          "text": [
            "Baseline Model:\n",
            "Accuracy Score: 0.9452\n",
            "Cohen's Kappa Score: -0.00012319035647623267\n",
            "\n",
            "Hold one out (90/10 train/test split):\n",
            "Accuracy Score: 0.9452\n",
            "Cohen's Kappa Score: 0.0\n",
            "\n",
            "5-fold cross-validation (80/20 train/test split):\n",
            "Accuracy Score: 0.9427999999999999\n",
            "Cohen's Kappa Score: -0.00012319035647623267\n"
          ]
        }
      ],
      "source": [
        "import numpy as np\n",
        "from sklearn.model_selection import train_test_split, cross_val_score, StratifiedKFold\n",
        "from sklearn.tree import DecisionTreeClassifier\n",
        "from sklearn.metrics import accuracy_score, cohen_kappa_score\n",
        "\n",
        "# Define features and target\n",
        "X = clean_df[['Temperature(F)', 'Humidity(%)', 'Pressure(in)',\n",
        "            'Visibility(mi)', 'Wind_Speed(mph)', 'Amenity', 'Bump',\n",
        "            'Crossing', 'Give_Way', 'Junction', 'No_Exit', 'Railway',\n",
        "            'Roundabout', 'Station', 'Stop',\n",
        "            'Traffic_Calming', 'Traffic_Signal', 'Turning_Loop']]\n",
        "y = clean_df['Severity']\n",
        "\n",
        "# Split the data into training and testing sets (80/20)\n",
        "X_train, X_test, y_train, y_test = train_test_split(X, y, test_size=0.2, random_state=42)\n",
        "\n",
        "\n",
        "# Scale the data\n",
        "scaler = StandardScaler()\n",
        "X_train = scaler.fit_transform(X_train)\n",
        "X_test = scaler.transform(X_test)\n",
        "\n",
        "# Define the decision tree model with increased max_iter\n",
        "model = LogisticRegression(solver = 'saga', random_state=42, max_iter=10000)\n",
        "\n",
        "# # Define the decision tree model\n",
        "# model = LogisticRegression(random_state=42)\n",
        "\n",
        "# Fit the model on the training data\n",
        "model.fit(X_train, y_train)\n",
        "\n",
        "# Make predictions on the testing data\n",
        "y_pred = model.predict(X_test)\n",
        "\n",
        "# Calculate the accuracy score and Cohen's kappa for the baseline model\n",
        "LRacc_score = accuracy_score(y_test, y_pred)\n",
        "LRkappa_score = cohen_kappa_score(y_test, y_pred)\n",
        "print(\"Baseline Model:\")\n",
        "print(\"Accuracy Score:\", LRacc_score)\n",
        "print(\"Cohen's Kappa Score:\", LRkappa_score)\n",
        "\n",
        "# Hold one out (90/10 train/test split)\n",
        "X_train_90, X_test_90, y_train_90, y_test_90 = train_test_split(X, y, test_size=0.1, random_state=42)\n",
        "model.fit(X_train_90, y_train_90)\n",
        "y_pred_90 = model.predict(X_test_90)\n",
        "LRacc_score_90 = accuracy_score(y_test_90, y_pred_90)\n",
        "LRkappa_score_90 = cohen_kappa_score(y_test_90, y_pred_90)\n",
        "print(\"\\nHold one out (90/10 train/test split):\")\n",
        "print(\"Accuracy Score:\", LRacc_score_90)\n",
        "print(\"Cohen's Kappa Score:\", LRkappa_score_90)\n",
        "\n",
        "# 5-fold cross-validation (80/20 train/test split)\n",
        "cv_scores = cross_val_score(model, X, y, cv=5)\n",
        "LRacc_score_cv = cv_scores.mean()\n",
        "LRkappa_score_cv = cohen_kappa_score(y_test, y_pred)\n",
        "print(\"\\n5-fold cross-validation (80/20 train/test split):\")\n",
        "print(\"Accuracy Score:\", LRacc_score_cv)\n",
        "print(\"Cohen's Kappa Score:\", LRkappa_score_cv)\n",
        "\n",
        "# 10-fold cross-validation (80/20 train/test split)\n",
        "cv_scores = cross_val_score(model, X, y, cv=10)\n",
        "LRacc_score_cv10 = cv_scores.mean()\n",
        "LRkappa_score_cv10 = cohen_kappa_score(y_test, y_pred)\n",
        "print(\"\\n10-fold cross-validation (80/20 train/test split):\")\n",
        "print(\"Accuracy Score:\", LRacc_score_cv10)\n",
        "print(\"Cohen's Kappa Score:\", LRkappa_score_cv10)\n",
        "\n",
        "#10-fold stratified cross-validation (80/20 train/test split)\n",
        "skf = StratifiedKFold(n_splits=10, shuffle=True, random_state=42)\n",
        "cv_scores = cross_val_score(model, X, y, cv=skf)\n",
        "LRacc_score_strat_cv = cv_scores.mean()\n",
        "LRkappa_score_strat_cv = cohen_kappa_score(y_test, y_pred)\n",
        "print(\"\\n10-fold stratified cross-validation (80/20 train/test split):\")\n",
        "print(\"Accuracy Score:\", LRacc_score_strat_cv)\n",
        "print(\"Cohen's Kappa Score:\", LRkappa_score_strat_cv)\n",
        "\n"
      ]
    },
    {
      "cell_type": "code",
      "execution_count": null,
      "metadata": {
        "id": "-zyerbYnMakk"
      },
      "outputs": [],
      "source": [
        "params_lr = {'penalty': ['l1', 'l2']}\n",
        "grid_lr = GridSearchCV(LogisticRegression(max_iter=10000, solver='saga'), params_lr, cv=10, scoring='accuracy')\n",
        "grid_lr.fit(X_train, y_train)\n",
        "print(\"Best Logistic Regression parameters:\", grid_lr.best_params_)\n",
        "print(\"Accuracy:\", accuracy_score(y_test, grid_lr.predict(X_test)))"
      ]
    },
    {
      "cell_type": "markdown",
      "metadata": {
        "id": "UabZ5nhFKoB7"
      },
      "source": [
        "###**Ramdon forest**"
      ]
    },
    {
      "cell_type": "code",
      "execution_count": null,
      "metadata": {
        "id": "olO2iSYqKsap"
      },
      "outputs": [],
      "source": [
        "# Define features and target\n",
        "X = clean_df[['Temperature(F)', 'Humidity(%)', 'Pressure(in)',\n",
        "            'Visibility(mi)', 'Wind_Speed(mph)', 'Amenity', 'Bump',\n",
        "            'Crossing', 'Give_Way', 'Junction', 'No_Exit', 'Railway',\n",
        "            'Roundabout', 'Station', 'Stop',\n",
        "            'Traffic_Calming', 'Traffic_Signal', 'Turning_Loop']]\n",
        "y = clean_df['Severity']\n",
        "# Split the data into training and testing sets (80/20)\n",
        "X_train, X_test, y_train, y_test = train_test_split(X, y, test_size=0.2, random_state=42)\n",
        "\n",
        "# Scale the data\n",
        "scaler = StandardScaler()\n",
        "X_train = scaler.fit_transform(X_train)\n",
        "X_test = scaler.transform(X_test)\n",
        "\n",
        "# Define the AdaBoost model\n",
        "model = RandomForestClassifier(random_state=42)\n",
        "\n",
        "# Fit the model on the training data\n",
        "model.fit(X_train, y_train)\n",
        "\n",
        "# Make predictions on the testing data\n",
        "y_pred = model.predict(X_test)\n",
        "\n",
        "# Calculate the accuracy score and Cohen's kappa for the baseline model\n",
        "RFacc_score = accuracy_score(y_test, y_pred)\n",
        "RFkappa_score = cohen_kappa_score(y_test, y_pred)\n",
        "print(\"Baseline Model:\")\n",
        "print(\"Accuracy Score:\", RFacc_score)\n",
        "print(\"Cohen's Kappa Score:\", RFkappa_score)\n",
        "\n",
        "# Hold one out (90/10 train/test split)\n",
        "X_train_90, X_test_90, y_train_90, y_test_90 = train_test_split(X, y, test_size=0.1, random_state=42)\n",
        "model.fit(X_train_90, y_train_90)\n",
        "y_pred_90 = model.predict(X_test_90)\n",
        "RFacc_score_90 = accuracy_score(y_test_90, y_pred_90)\n",
        "RFkappa_score_90 = cohen_kappa_score(y_test_90, y_pred_90)\n",
        "print(\"\\nHold one out (90/10 train/test split):\")\n",
        "print(\"Accuracy Score:\", RFacc_score_90)\n",
        "print(\"Cohen's Kappa Score:\", RFkappa_score_90)\n",
        "# 5-fold cross-validation (80/20 train/test split)\n",
        "cv_scores = cross_val_score(model, X, y, cv=5)\n",
        "RFacc_score_cv = cv_scores.mean()\n",
        "RFkappa_score_cv = cohen_kappa_score(y_test, y_pred)\n",
        "print(\"\\n5-fold cross-validation (80/20 train/test split):\")\n",
        "print(\"Accuracy Score:\", RFacc_score_cv)\n",
        "print(\"Cohen's Kappa Score:\", RFkappa_score_cv)\n",
        "\n",
        "# 10-fold cross-validation (80/20 train/test split)\n",
        "cv_scores = cross_val_score(model, X, y, cv=10)\n",
        "RFacc_score_cv10 = cv_scores.mean()\n",
        "RFkappa_score_cv10 = cohen_kappa_score(y_test, y_pred)\n",
        "print(\"\\n10-fold cross-validation (80/20 train/test split):\")\n",
        "print(\"Accuracy Score:\", RFacc_score_cv10)\n",
        "print(\"Cohen's Kappa Score:\", RFkappa_score_cv10)\n",
        "\n",
        "#10-fold stratified cross-validation (80/20 train/test split)\n",
        "skf = StratifiedKFold(n_splits=10, shuffle=True, random_state=42)\n",
        "cv_scores = cross_val_score(model, X, y, cv=skf)\n",
        "RFacc_score_strat_cv = cv_scores.mean()\n",
        "RFkappa_score_strat_cv = cohen_kappa_score(y_test, y_pred)\n",
        "print(\"\\n10-fold stratified cross-validation (80/20 train/test split):\")\n",
        "print(\"Accuracy Score:\", RFacc_score_strat_cv)\n",
        "print(\"Cohen's Kappa Score:\", RFkappa_score_strat_cv)\n",
        "\n",
        "\n"
      ]
    },
    {
      "cell_type": "code",
      "execution_count": null,
      "metadata": {
        "id": "tq-eQTkSKpaN"
      },
      "outputs": [],
      "source": [
        "params_rf = {'criterion': ['gini', 'entropy'], 'max_depth': [10, 20]}\n",
        "grid_rf = GridSearchCV(RandomForestClassifier(), params_rf, cv=10, scoring='accuracy')\n",
        "grid_rf.fit(X_train, y_train)\n",
        "print(\"Best Random Forest parameters:\", grid_rf.best_params_)\n",
        "print(\"Accuracy:\", accuracy_score(y_test, grid_rf.predict(X_test)))"
      ]
    },
    {
      "cell_type": "markdown",
      "metadata": {
        "id": "BmC04mgYNIgF"
      },
      "source": [
        "###**Adaboost**"
      ]
    },
    {
      "cell_type": "code",
      "execution_count": null,
      "metadata": {
        "id": "6UBHd0dLNM3M"
      },
      "outputs": [],
      "source": [
        "from sklearn.ensemble import AdaBoostClassifier\n",
        "\n",
        "\n",
        "# Define features and target\n",
        "X = clean_df[['Temperature(F)', 'Humidity(%)', 'Pressure(in)',\n",
        "            'Visibility(mi)', 'Wind_Speed(mph)', 'Amenity', 'Bump',\n",
        "            'Crossing', 'Give_Way', 'Junction', 'No_Exit', 'Railway',\n",
        "            'Roundabout', 'Station', 'Stop',\n",
        "            'Traffic_Calming', 'Traffic_Signal', 'Turning_Loop']]\n",
        "y = clean_df['Severity']\n",
        "# Split the data into training and testing sets (80/20)\n",
        "X_train, X_test, y_train, y_test = train_test_split(X, y, test_size=0.2, random_state=42)\n",
        "\n",
        "# Scale the data\n",
        "scaler = StandardScaler()\n",
        "X_train = scaler.fit_transform(X_train)\n",
        "X_test = scaler.transform(X_test)\n",
        "\n",
        "# Define the AdaBoost model\n",
        "model = AdaBoostClassifier(random_state=42)\n",
        "\n",
        "# Fit the model on the training data\n",
        "model.fit(X_train, y_train)\n",
        "\n",
        "# Make predictions on the testing data\n",
        "y_pred = model.predict(X_test)\n",
        "\n",
        "# Calculate the accuracy score and Cohen's kappa for the baseline model\n",
        "ABacc_score = accuracy_score(y_test, y_pred)\n",
        "ABkappa_score = cohen_kappa_score(y_test, y_pred)\n",
        "print(\"Baseline Model:\")\n",
        "print(\"Accuracy Score:\", ABacc_score)\n",
        "print(\"Cohen's Kappa Score:\", ABkappa_score)\n",
        "\n",
        "# Hold one out (90/10 train/test split)\n",
        "X_train_90, X_test_90, y_train_90, y_test_90 = train_test_split(X, y, test_size=0.1, random_state=42)\n",
        "model.fit(X_train_90, y_train_90)\n",
        "y_pred_90 = model.predict(X_test_90)\n",
        "ABacc_score_90 = accuracy_score(y_test_90, y_pred_90)\n",
        "ABkappa_score_90 = cohen_kappa_score(y_test_90, y_pred_90)\n",
        "print(\"\\nHold one out (90/10 train/test split):\")\n",
        "print(\"Accuracy Score:\", ABacc_score_90)\n",
        "print(\"Cohen's Kappa Score:\", ABkappa_score_90)\n",
        "# 5-fold cross-validation (80/20 train/test split)\n",
        "cv_scores = cross_val_score(model, X, y, cv=5)\n",
        "ABacc_score_cv = cv_scores.mean()\n",
        "ABkappa_score_cv = cohen_kappa_score(y_test, y_pred)\n",
        "print(\"\\n5-fold cross-validation (80/20 train/test split):\")\n",
        "print(\"Accuracy Score:\", ABacc_score_cv)\n",
        "print(\"Cohen's Kappa Score:\", ABkappa_score_cv)\n",
        "\n",
        "# 10-fold cross-validation (80/20 train/test split)\n",
        "cv_scores = cross_val_score(model, X, y, cv=10)\n",
        "ABacc_score_cv10 = cv_scores.mean()\n",
        "ABkappa_score_cv10 = cohen_kappa_score(y_test, y_pred)\n",
        "print(\"\\n10-fold cross-validation (80/20 train/test split):\")\n",
        "print(\"Accuracy Score:\", ABacc_score_cv10)\n",
        "print(\"Cohen's Kappa Score:\", ABkappa_score_cv10)\n",
        "\n",
        "#10-fold stratified cross-validation (80/20 train/test split)\n",
        "skf = StratifiedKFold(n_splits=10, shuffle=True, random_state=42)\n",
        "cv_scores = cross_val_score(model, X, y, cv=skf)\n",
        "ABacc_score_strat_cv = cv_scores.mean()\n",
        "ABkappa_score_strat_cv = cohen_kappa_score(y_test, y_pred)\n",
        "print(\"\\n10-fold stratified cross-validation (80/20 train/test split):\")\n",
        "print(\"Accuracy Score:\", ABacc_score_strat_cv)\n",
        "print(\"Cohen's Kappa Score:\", ABkappa_score_strat_cv)\n",
        "\n"
      ]
    },
    {
      "cell_type": "code",
      "execution_count": null,
      "metadata": {
        "id": "n9IkbaPdR6L1"
      },
      "outputs": [],
      "source": [
        "params_ab = {'n_estimators': [10, 50, 100], 'learning_rate': [0.1, 0.5, 1]}\n",
        "grid_ab = GridSearchCV(AdaBoostClassifier(), params_ab, cv=10, scoring='accuracy')\n",
        "grid_ab.fit(X_train, y_train)\n",
        "print(\"Best AdaBoost parameters:\", grid_ab.best_params_)\n",
        "print(\"Accuracy:\", accuracy_score(y_test, grid_ab.predict(X_test)))"
      ]
    },
    {
      "cell_type": "markdown",
      "metadata": {
        "id": "Sgjp2aR27UL3"
      },
      "source": [
        "## Supervised Learning Models (predicting the possibility of an accident is severe)\n",
        "Using machine learning models to predict the likelihood of a serious accident might enhance safety procedures and lessen the effects of accidents. Accidents can result in major issues including injuries, property damage, and even fatalities. Machine learning algorithms may be taught to precisely forecast the possibility of a catastrophic accident occurring by evaluating massive datasets of accident reports and detecting patterns and risk variables linked with severe accidents. The creation of safety measures and policies, such as bettering road design, traffic management, and emergency response, can be informed by this information in order to decrease the incidence and severity of accidents. Overall, the creation of machine learning models for anticipating the likelihood of serious mishaps can be very advantageous for the welfare and safety of the general population.\n",
        "\n"
      ]
    },
    {
      "cell_type": "markdown",
      "metadata": {
        "id": "UYVqonId3gq3"
      },
      "source": [
        "###**Decision tree**"
      ]
    },
    {
      "cell_type": "code",
      "execution_count": null,
      "metadata": {
        "id": "h9DTdPRR3b-h"
      },
      "outputs": [],
      "source": [
        "import numpy as np\n",
        "from sklearn.model_selection import train_test_split, cross_val_score, StratifiedKFold\n",
        "from sklearn.tree import DecisionTreeClassifier\n",
        "from sklearn.metrics import accuracy_score, cohen_kappa_score\n",
        "from sklearn.model_selection import GridSearchCV\n",
        "from sklearn.naive_bayes import GaussianNB\n",
        "from sklearn.linear_model import LogisticRegression\n",
        "from sklearn.svm import SVC\n",
        "from sklearn.tree import DecisionTreeClassifier\n",
        "from sklearn.ensemble import RandomForestClassifier, AdaBoostClassifier\n",
        "from sklearn.metrics import classification_report, accuracy_score"
      ]
    },
    {
      "cell_type": "code",
      "execution_count": null,
      "metadata": {
        "id": "giQmNV4M2uUP"
      },
      "outputs": [],
      "source": [
        "# Define features and target\n",
        "X = clean_df[['Temperature(F)', 'Humidity(%)', 'Pressure(in)',\n",
        "            'Visibility(mi)', 'Wind_Speed(mph)', 'Amenity', 'Bump',\n",
        "            'Crossing', 'Give_Way', 'Junction', 'No_Exit', 'Railway',\n",
        "            'Roundabout', 'Station', 'Stop',\n",
        "            'Traffic_Calming', 'Traffic_Signal', 'Turning_Loop']]\n",
        "y = clean_df['severe_accident']\n",
        "\n",
        "# Split the data into training and testing sets (80/20)\n",
        "X_train, X_test, y_train, y_test = train_test_split(X, y, test_size=0.2, random_state=42)\n",
        "\n",
        "# Define the decision tree model\n",
        "model = DecisionTreeClassifier(random_state=42)\n",
        "\n",
        "# Scale the data\n",
        "scaler = StandardScaler()\n",
        "X_train = scaler.fit_transform(X_train)\n",
        "X_test = scaler.transform(X_test)\n",
        "\n",
        "# Fit the model on the training data\n",
        "model.fit(X_train, y_train)\n",
        "\n",
        "# Make predictions on the testing data\n",
        "y_pred = model.predict(X_test)\n",
        "\n",
        "# Calculate the accuracy score and Cohen's kappa for the baseline model\n",
        "acc_score = accuracy_score(y_test, y_pred)\n",
        "kappa_score = cohen_kappa_score(y_test, y_pred)\n",
        "print(\"Baseline Model:\")\n",
        "print(\"Accuracy Score:\", acc_score)\n",
        "print(\"Cohen's Kappa Score:\", kappa_score)\n",
        "\n",
        "# Hold one out (90/10 train/test split)\n",
        "X_train_90, X_test_90, y_train_90, y_test_90 = train_test_split(X, y, test_size=0.1, random_state=42)\n",
        "model.fit(X_train_90, y_train_90)\n",
        "y_pred_90 = model.predict(X_test_90)\n",
        "Pacc_score_90 = accuracy_score(y_test_90, y_pred_90)\n",
        "Pkappa_score_90 = cohen_kappa_score(y_test_90, y_pred_90)\n",
        "print(\"\\nHold one out (90/10 train/test split):\")\n",
        "print(\"Accuracy Score:\", Pacc_score_90)\n",
        "print(\"Cohen's Kappa Score:\", Pkappa_score_90)\n",
        "\n",
        "# 5-fold cross-validation (80/20 train/test split)\n",
        "cv_scores = cross_val_score(model, X, y, cv=5)\n",
        "Pacc_score_cv = cv_scores.mean()\n",
        "Pkappa_score_cv = cohen_kappa_score(y_test, y_pred)\n",
        "print(\"\\n5-fold cross-validation (80/20 train/test split):\")\n",
        "print(\"Accuracy Score:\", Pacc_score_cv)\n",
        "print(\"Cohen's Kappa Score:\", Pkappa_score_cv)\n",
        "\n",
        "# 10-fold cross-validation (80/20 train/test split)\n",
        "cv_scores = cross_val_score(model, X, y, cv=10)\n",
        "Pacc_score_cv10 = cv_scores.mean()\n",
        "Pkappa_score_cv10 = cohen_kappa_score(y_test, y_pred)\n",
        "print(\"\\n10-fold cross-validation (80/20 train/test split):\")\n",
        "print(\"Accuracy Score:\", Pacc_score_cv10)\n",
        "print(\"Cohen's Kappa Score:\", Pkappa_score_cv10)\n",
        "\n",
        "#10-fold stratified cross-validation (80/20 train/test split)\n",
        "skf = StratifiedKFold(n_splits=10, shuffle=True, random_state=42)\n",
        "cv_scores = cross_val_score(model, X, y, cv=skf)\n",
        "Pacc_score_strat_cv = cv_scores.mean()\n",
        "Pkappa_score_strat_cv = cohen_kappa_score(y_test, y_pred)\n",
        "print(\"\\n10-fold stratified cross-validation (80/20 train/test split):\")\n",
        "print(\"Accuracy Score:\", Pacc_score_strat_cv)\n",
        "print(\"Cohen's Kappa Score:\", Pkappa_score_strat_cv)\n"
      ]
    },
    {
      "cell_type": "code",
      "execution_count": null,
      "metadata": {
        "id": "Flo_quQl3eXp"
      },
      "outputs": [],
      "source": [
        "params_dt = {'criterion': ['gini', 'entropy'], 'max_depth': [None, 10, 20, 30]}\n",
        "grid_dt = GridSearchCV(DecisionTreeClassifier(), params_dt, cv=10, scoring='accuracy')\n",
        "grid_dt.fit(X_train, y_train)\n",
        "print(\"Best Decision Tree parameters:\", grid_dt.best_params_)\n",
        "print(\"Accuracy:\", accuracy_score(y_test, grid_dt.predict(X_test)))"
      ]
    },
    {
      "cell_type": "markdown",
      "metadata": {
        "id": "TREwmUpI30dY"
      },
      "source": [
        "###**Naïve Bayes**"
      ]
    },
    {
      "cell_type": "code",
      "execution_count": null,
      "metadata": {
        "id": "PQLt0Sfn3vga"
      },
      "outputs": [],
      "source": [
        "from sklearn.naive_bayes import GaussianNB\n",
        "\n",
        "# Define the Naive Bayes model\n",
        "model = GaussianNB()\n",
        "\n",
        "# ... (rest of the code is the same as the Decision Tree example, just replace the model definition)\n",
        "import numpy as np\n",
        "from sklearn.model_selection import train_test_split, cross_val_score, StratifiedKFold\n",
        "from sklearn.tree import DecisionTreeClassifier\n",
        "from sklearn.metrics import accuracy_score, cohen_kappa_score\n",
        "\n",
        "# Define features and target\n",
        "X = clean_df[['Temperature(F)', 'Humidity(%)', 'Pressure(in)',\n",
        "            'Visibility(mi)', 'Wind_Speed(mph)', 'Amenity', 'Bump',\n",
        "            'Crossing', 'Give_Way', 'Junction', 'No_Exit', 'Railway',\n",
        "            'Roundabout', 'Station', 'Stop',\n",
        "            'Traffic_Calming', 'Traffic_Signal', 'Turning_Loop']]\n",
        "y = clean_df['severe_accident']\n",
        "\n",
        "# Split the data into training and testing sets (80/20)\n",
        "X_train, X_test, y_train, y_test = train_test_split(X, y, test_size=0.2, random_state=42)\n",
        "\n",
        "\n",
        "# Scale the data\n",
        "scaler = StandardScaler()\n",
        "X_train = scaler.fit_transform(X_train)\n",
        "X_test = scaler.transform(X_test)\n",
        "\n",
        "# Define the decision tree model\n",
        "model = GaussianNB()\n",
        "\n",
        "# Fit the model on the training data\n",
        "model.fit(X_train, y_train)\n",
        "\n",
        "# Make predictions on the testing data\n",
        "y_pred = model.predict(X_test)\n",
        "\n",
        "# Calculate the accuracy score and Cohen's kappa for the baseline model\n",
        "PNBacc_score = accuracy_score(y_test, y_pred)\n",
        "PNBkappa_score = cohen_kappa_score(y_test, y_pred)\n",
        "print(\"Baseline Model:\")\n",
        "print(\"Accuracy Score:\", PNBacc_score)\n",
        "print(\"Cohen's Kappa Score:\", PNBkappa_score)\n",
        "\n",
        "# Hold one out (90/10 train/test split)\n",
        "X_train_90, X_test_90, y_train_90, y_test_90 = train_test_split(X, y, test_size=0.1, random_state=42)\n",
        "model.fit(X_train_90, y_train_90)\n",
        "y_pred_90 = model.predict(X_test_90)\n",
        "PNBacc_score_90 = accuracy_score(y_test_90, y_pred_90)\n",
        "PNBkappa_score_90 = cohen_kappa_score(y_test_90, y_pred_90)\n",
        "print(\"\\nHold one out (90/10 train/test split):\")\n",
        "print(\"Accuracy Score:\", PNBacc_score_90)\n",
        "print(\"Cohen's Kappa Score:\", PNBkappa_score_90)\n",
        "\n",
        "# 5-fold cross-validation (80/20 train/test split)\n",
        "cv_scores = cross_val_score(model, X, y, cv=5)\n",
        "PNBacc_score_cv = cv_scores.mean()\n",
        "PNBkappa_score_cv = cohen_kappa_score(y_test, y_pred)\n",
        "print(\"\\n5-fold cross-validation (80/20 train/test split):\")\n",
        "print(\"Accuracy Score:\", PNBacc_score_cv)\n",
        "print(\"Cohen's Kappa Score:\", PNBkappa_score_cv)\n",
        "\n",
        "# 10-fold cross-validation (80/20 train/test split)\n",
        "cv_scores = cross_val_score(model, X, y, cv=10)\n",
        "PNBacc_score_cv10 = cv_scores.mean()\n",
        "PNBkappa_score_cv10 = cohen_kappa_score(y_test, y_pred)\n",
        "print(\"\\n10-fold cross-validation (80/20 train/test split):\")\n",
        "print(\"Accuracy Score:\", PNBacc_score_cv10)\n",
        "print(\"Cohen's Kappa Score:\", PNBkappa_score_cv10)\n",
        "\n",
        "#10-fold stratified cross-validation (80/20 train/test split)\n",
        "skf = StratifiedKFold(n_splits=10, shuffle=True, random_state=42)\n",
        "cv_scores = cross_val_score(model, X, y, cv=skf)\n",
        "PNBacc_score_strat_cv = cv_scores.mean()\n",
        "PNBkappa_score_strat_cv = cohen_kappa_score(y_test, y_pred)\n",
        "print(\"\\n10-fold stratified cross-validation (80/20 train/test split):\")\n",
        "print(\"Accuracy Score:\", PNBacc_score_strat_cv)\n",
        "print(\"Cohen's Kappa Score:\", PNBkappa_score_strat_cv)\n",
        "\n",
        "\n",
        "\n"
      ]
    },
    {
      "cell_type": "code",
      "execution_count": null,
      "metadata": {
        "id": "v74Dcv_-4Wu1"
      },
      "outputs": [],
      "source": [
        "params_nb = {'var_smoothing': [1e-10, 1e-9, 1e-8]}\n",
        "grid_nb = GridSearchCV(GaussianNB(), params_nb, cv=10, scoring='accuracy')\n",
        "grid_nb.fit(X_train, y_train)\n",
        "print(\"Best Naïve Bayes parameters:\", grid_nb.best_params_)\n",
        "print(\"Accuracy:\", accuracy_score(y_test, grid_nb.predict(X_test)))"
      ]
    },
    {
      "cell_type": "markdown",
      "metadata": {
        "id": "mjCZb4qU4feC"
      },
      "source": [
        "###**Logistic regression**"
      ]
    },
    {
      "cell_type": "code",
      "execution_count": null,
      "metadata": {
        "id": "2CN2_FEO4eoA"
      },
      "outputs": [],
      "source": [
        "import numpy as np\n",
        "from sklearn.model_selection import train_test_split, cross_val_score, StratifiedKFold\n",
        "from sklearn.tree import DecisionTreeClassifier\n",
        "from sklearn.metrics import accuracy_score, cohen_kappa_score\n",
        "\n",
        "# Define features and target\n",
        "X = clean_df[['Temperature(F)', 'Humidity(%)', 'Pressure(in)',\n",
        "            'Visibility(mi)', 'Wind_Speed(mph)', 'Amenity', 'Bump',\n",
        "            'Crossing', 'Give_Way', 'Junction', 'No_Exit', 'Railway',\n",
        "            'Roundabout', 'Station', 'Stop',\n",
        "            'Traffic_Calming', 'Traffic_Signal', 'Turning_Loop']]\n",
        "y = clean_df['severe_accident']\n",
        "\n",
        "# Split the data into training and testing sets (80/20)\n",
        "X_train, X_test, y_train, y_test = train_test_split(X, y, test_size=0.2, random_state=42)\n",
        "\n",
        "\n",
        "# Scale the data\n",
        "scaler = StandardScaler()\n",
        "X_train = scaler.fit_transform(X_train)\n",
        "X_test = scaler.transform(X_test)\n",
        "\n",
        "# Define the decision tree model with increased max_iter\n",
        "model = LogisticRegression(random_state=42, max_iter=1000)\n",
        "\n",
        "# # Define the decision tree model\n",
        "# model = LogisticRegression(random_state=42)\n",
        "\n",
        "# Fit the model on the training data\n",
        "model.fit(X_train, y_train)\n",
        "\n",
        "# Make predictions on the testing data\n",
        "y_pred = model.predict(X_test)\n",
        "\n",
        "# Calculate the accuracy score and Cohen's kappa for the baseline model\n",
        "PLRacc_score = accuracy_score(y_test, y_pred)\n",
        "PLRkappa_score = cohen_kappa_score(y_test, y_pred)\n",
        "print(\"Baseline Model:\")\n",
        "print(\"Accuracy Score:\", PLRacc_score)\n",
        "print(\"Cohen's Kappa Score:\", PLRkappa_score)\n",
        "\n",
        "# Hold one out (90/10 train/test split)\n",
        "X_train_90, X_test_90, y_train_90, y_test_90 = train_test_split(X, y, test_size=0.1, random_state=42)\n",
        "model.fit(X_train_90, y_train_90)\n",
        "y_pred_90 = model.predict(X_test_90)\n",
        "PLRacc_score_90 = accuracy_score(y_test_90, y_pred_90)\n",
        "PLRkappa_score_90 = cohen_kappa_score(y_test_90, y_pred_90)\n",
        "print(\"\\nHold one out (90/10 train/test split):\")\n",
        "print(\"Accuracy Score:\", PLRacc_score_90)\n",
        "print(\"Cohen's Kappa Score:\", PLRkappa_score_90)\n",
        "\n",
        "# 5-fold cross-validation (80/20 train/test split)\n",
        "cv_scores = cross_val_score(model, X, y, cv=5)\n",
        "PLRacc_score_cv = cv_scores.mean()\n",
        "PLRkappa_score_cv = cohen_kappa_score(y_test, y_pred)\n",
        "print(\"\\n5-fold cross-validation (80/20 train/test split):\")\n",
        "print(\"Accuracy Score:\", PLRacc_score_cv)\n",
        "print(\"Cohen's Kappa Score:\", PLRkappa_score_cv)\n",
        "\n",
        "# 10-fold cross-validation (80/20 train/test split)\n",
        "cv_scores = cross_val_score(model, X, y, cv=10)\n",
        "PLRacc_score_cv10 = cv_scores.mean()\n",
        "PLRkappa_score_cv10 = cohen_kappa_score(y_test, y_pred)\n",
        "print(\"\\n10-fold cross-validation (80/20 train/test split):\")\n",
        "print(\"Accuracy Score:\", PLRacc_score_cv10)\n",
        "print(\"Cohen's Kappa Score:\", PLRkappa_score_cv10)\n",
        "\n",
        "#10-fold stratified cross-validation (80/20 train/test split)\n",
        "skf = StratifiedKFold(n_splits=10, shuffle=True, random_state=42)\n",
        "cv_scores = cross_val_score(model, X, y, cv=skf)\n",
        "PLRacc_score_strat_cv = cv_scores.mean()\n",
        "PLRkappa_score_strat_cv = cohen_kappa_score(y_test, y_pred)\n",
        "print(\"\\n10-fold stratified cross-validation (80/20 train/test split):\")\n",
        "print(\"Accuracy Score:\", PLRacc_score_strat_cv)\n",
        "print(\"Cohen's Kappa Score:\", PLRkappa_score_strat_cv)\n",
        "\n"
      ]
    },
    {
      "cell_type": "code",
      "execution_count": null,
      "metadata": {
        "id": "UVOu4WtP4uvY"
      },
      "outputs": [],
      "source": [
        "params_lr = {'penalty': ['l1', 'l2']}\n",
        "grid_lr = GridSearchCV(LogisticRegression(max_iter=1000), params_lr, cv=10, scoring='accuracy')\n",
        "grid_lr.fit(X_train, y_train)\n",
        "print(\"Best Logistic Regression parameters:\", grid_lr.best_params_)\n",
        "print(\"Accuracy:\", accuracy_score(y_test, grid_lr.predict(X_test)))"
      ]
    },
    {
      "cell_type": "markdown",
      "metadata": {
        "id": "thcbRrcH4rMP"
      },
      "source": [
        "###**Ramdon forest**"
      ]
    },
    {
      "cell_type": "code",
      "execution_count": null,
      "metadata": {
        "id": "yjTa-rl74pZo"
      },
      "outputs": [],
      "source": [
        "# Define features and target\n",
        "X = clean_df[['Temperature(F)', 'Humidity(%)', 'Pressure(in)',\n",
        "            'Visibility(mi)', 'Wind_Speed(mph)', 'Amenity', 'Bump',\n",
        "            'Crossing', 'Give_Way', 'Junction', 'No_Exit', 'Railway',\n",
        "            'Roundabout', 'Station', 'Stop',\n",
        "            'Traffic_Calming', 'Traffic_Signal', 'Turning_Loop']]\n",
        "y = clean_df['severe_accident']\n",
        "# Split the data into training and testing sets (80/20)\n",
        "X_train, X_test, y_train, y_test = train_test_split(X, y, test_size=0.2, random_state=42)\n",
        "\n",
        "# Scale the data\n",
        "scaler = StandardScaler()\n",
        "X_train = scaler.fit_transform(X_train)\n",
        "X_test = scaler.transform(X_test)\n",
        "\n",
        "# Define the AdaBoost model\n",
        "model = RandomForestClassifier(random_state=42)\n",
        "\n",
        "# Fit the model on the training data\n",
        "model.fit(X_train, y_train)\n",
        "\n",
        "# Make predictions on the testing data\n",
        "y_pred = model.predict(X_test)\n",
        "\n",
        "# Calculate the accuracy score and Cohen's kappa for the baseline model\n",
        "PRFacc_score = accuracy_score(y_test, y_pred)\n",
        "PRFkappa_score = cohen_kappa_score(y_test, y_pred)\n",
        "print(\"Baseline Model:\")\n",
        "print(\"Accuracy Score:\", PRFacc_score)\n",
        "print(\"Cohen's Kappa Score:\", PRFkappa_score)\n",
        "\n",
        "# Hold one out (90/10 train/test split)\n",
        "X_train_90, X_test_90, y_train_90, y_test_90 = train_test_split(X, y, test_size=0.1, random_state=42)\n",
        "model.fit(X_train_90, y_train_90)\n",
        "y_pred_90 = model.predict(X_test_90)\n",
        "PRFacc_score_90 = accuracy_score(y_test_90, y_pred_90)\n",
        "PRFkappa_score_90 = cohen_kappa_score(y_test_90, y_pred_90)\n",
        "print(\"\\nHold one out (90/10 train/test split):\")\n",
        "print(\"Accuracy Score:\", acc_score_90)\n",
        "print(\"Cohen's Kappa Score:\", kappa_score_90)\n",
        "# 5-fold cross-validation (80/20 train/test split)\n",
        "cv_scores = cross_val_score(model, X, y, cv=5)\n",
        "PRFacc_score_cv = cv_scores.mean()\n",
        "PRFkappa_score_cv = cohen_kappa_score(y_test, y_pred)\n",
        "print(\"\\n5-fold cross-validation (80/20 train/test split):\")\n",
        "print(\"Accuracy Score:\", PRFacc_score_cv)\n",
        "print(\"Cohen's Kappa Score:\", PRFkappa_score_cv)\n",
        "\n",
        "# 10-fold cross-validation (80/20 train/test split)\n",
        "cv_scores = cross_val_score(model, X, y, cv=10)\n",
        "PRFacc_score_cv10 = cv_scores.mean()\n",
        "PRFkappa_score_cv10 = cohen_kappa_score(y_test, y_pred)\n",
        "print(\"\\n10-fold cross-validation (80/20 train/test split):\")\n",
        "print(\"Accuracy Score:\", PRFacc_score_cv10)\n",
        "print(\"Cohen's Kappa Score:\", PRFkappa_score_cv10)\n",
        "\n",
        "#10-fold stratified cross-validation (80/20 train/test split)\n",
        "skf = StratifiedKFold(n_splits=10, shuffle=True, random_state=42)\n",
        "cv_scores = cross_val_score(model, X, y, cv=skf)\n",
        "PRFacc_score_strat_cv = cv_scores.mean()\n",
        "PRFkappa_score_strat_cv = cohen_kappa_score(y_test, y_pred)\n",
        "print(\"\\n10-fold stratified cross-validation (80/20 train/test split):\")\n",
        "print(\"Accuracy Score:\", PRFacc_score_strat_cv)\n",
        "print(\"Cohen's Kappa Score:\", PRFkappa_score_strat_cv)\n",
        "\n",
        "\n"
      ]
    },
    {
      "cell_type": "code",
      "execution_count": null,
      "metadata": {
        "id": "fGK2NMVT5Cwo"
      },
      "outputs": [],
      "source": [
        "params_rf = {'criterion': ['gini', 'entropy'], 'max_depth': [10, 20]}\n",
        "grid_rf = GridSearchCV(RandomForestClassifier(), params_rf, cv=10, scoring='accuracy')\n",
        "grid_rf.fit(X_train, y_train)\n",
        "print(\"Best Random Forest parameters:\", grid_rf.best_params_)\n",
        "print(\"Accuracy:\", accuracy_score(y_test, grid_rf.predict(X_test)))"
      ]
    },
    {
      "cell_type": "markdown",
      "metadata": {
        "id": "2XBAJWKD54J4"
      },
      "source": [
        "###**Adaboost**"
      ]
    },
    {
      "cell_type": "code",
      "execution_count": null,
      "metadata": {
        "id": "Task-WGM5Iby"
      },
      "outputs": [],
      "source": [
        "from sklearn.ensemble import AdaBoostClassifier\n",
        "\n",
        "\n",
        "# Define features and target\n",
        "X = clean_df[['Temperature(F)', 'Humidity(%)', 'Pressure(in)',\n",
        "            'Visibility(mi)', 'Wind_Speed(mph)', 'Amenity', 'Bump',\n",
        "            'Crossing', 'Give_Way', 'Junction', 'No_Exit', 'Railway',\n",
        "            'Roundabout', 'Station', 'Stop',\n",
        "            'Traffic_Calming', 'Traffic_Signal', 'Turning_Loop']]\n",
        "y = clean_df['severe_accident']\n",
        "# Split the data into training and testing sets (80/20)\n",
        "X_train, X_test, y_train, y_test = train_test_split(X, y, test_size=0.2, random_state=42)\n",
        "\n",
        "# Scale the data\n",
        "scaler = StandardScaler()\n",
        "X_train = scaler.fit_transform(X_train)\n",
        "X_test = scaler.transform(X_test)\n",
        "\n",
        "# Define the AdaBoost model\n",
        "model = AdaBoostClassifier(random_state=42)\n",
        "\n",
        "# Fit the model on the training data\n",
        "model.fit(X_train, y_train)\n",
        "\n",
        "# Make predictions on the testing data\n",
        "y_pred = model.predict(X_test)\n",
        "\n",
        "# Calculate the accuracy score and Cohen's kappa for the baseline model\n",
        "PABacc_score = accuracy_score(y_test, y_pred)\n",
        "PABkappa_score = cohen_kappa_score(y_test, y_pred)\n",
        "print(\"Baseline Model:\")\n",
        "print(\"Accuracy Score:\", PABacc_score)\n",
        "print(\"Cohen's Kappa Score:\", PABkappa_score)\n",
        "\n",
        "# Hold one out (90/10 train/test split)\n",
        "X_train_90, X_test_90, y_train_90, y_test_90 = train_test_split(X, y, test_size=0.1, random_state=42)\n",
        "model.fit(X_train_90, y_train_90)\n",
        "y_pred_90 = model.predict(X_test_90)\n",
        "PABacc_score_90 = accuracy_score(y_test_90, y_pred_90)\n",
        "PABkappa_score_90 = cohen_kappa_score(y_test_90, y_pred_90)\n",
        "print(\"\\nHold one out (90/10 train/test split):\")\n",
        "print(\"Accuracy Score:\", PABacc_score_90)\n",
        "print(\"Cohen's Kappa Score:\", PABkappa_score_90)\n",
        "# 5-fold cross-validation (80/20 train/test split)\n",
        "cv_scores = cross_val_score(model, X, y, cv=5)\n",
        "PABacc_score_cv = cv_scores.mean()\n",
        "PABkappa_score_cv = cohen_kappa_score(y_test, y_pred)\n",
        "print(\"\\n5-fold cross-validation (80/20 train/test split):\")\n",
        "print(\"Accuracy Score:\", PABacc_score_cv)\n",
        "print(\"Cohen's Kappa Score:\", PABkappa_score_cv)\n",
        "\n",
        "# 10-fold cross-validation (80/20 train/test split)\n",
        "cv_scores = cross_val_score(model, X, y, cv=10)\n",
        "PABacc_score_cv10 = cv_scores.mean()\n",
        "PABkappa_score_cv10 = cohen_kappa_score(y_test, y_pred)\n",
        "print(\"\\n10-fold cross-validation (80/20 train/test split):\")\n",
        "print(\"Accuracy Score:\", PABacc_score_cv10)\n",
        "print(\"Cohen's Kappa Score:\", PABkappa_score_cv10)\n",
        "\n",
        "#10-fold stratified cross-validation (80/20 train/test split)\n",
        "skf = StratifiedKFold(n_splits=10, shuffle=True, random_state=42)\n",
        "cv_scores = cross_val_score(model, X, y, cv=skf)\n",
        "PABacc_score_strat_cv = cv_scores.mean()\n",
        "PABkappa_score_strat_cv = cohen_kappa_score(y_test, y_pred)\n",
        "print(\"\\n10-fold stratified cross-validation (80/20 train/test split):\")\n",
        "print(\"Accuracy Score:\", PABacc_score_strat_cv)\n",
        "print(\"Cohen's Kappa Score:\", PABkappa_score_strat_cv)\n",
        "\n"
      ]
    },
    {
      "cell_type": "code",
      "execution_count": null,
      "metadata": {
        "id": "uuPR5CvS6Cuw"
      },
      "outputs": [],
      "source": [
        "params_ab = {'n_estimators': [10, 50, 100], 'learning_rate': [0.1, 0.5, 1]}\n",
        "grid_ab = GridSearchCV(AdaBoostClassifier(), params_ab, cv=10, scoring='accuracy')\n",
        "grid_ab.fit(X_train, y_train)\n",
        "print(\"Best AdaBoost parameters:\", grid_ab.best_params_)\n",
        "print(\"Accuracy:\", accuracy_score(y_test, grid_ab.predict(X_test)))"
      ]
    },
    {
      "cell_type": "markdown",
      "metadata": {
        "id": "YzNN3h-S84Qh"
      },
      "source": [
        "# Part 4: Model Comparsion and Conclusion"
      ]
    },
    {
      "cell_type": "code",
      "source": [
        "# To compare the performance of the different models, you can use the same evaluation metrics (accuracy and Cohen's Kappa score) that you have used for the Decision Tree model. After implementing each of the other models (Logistic Regression, Naïve Bayes, Random Forest, and Adaboost) and applying cross-validation, you can summarize the results in a table or plot.\n",
        "\n",
        "# Here's a suggested approach to compare the models:\n",
        "\n",
        "# Create a dictionary or DataFrame to store the results for each model.\n",
        "# For each model, implement the code similar to what you provided for the Decision Tree model.\n",
        "# Store the accuracy and Cohen's Kappa scores for each model in the results dictionary or DataFrame.\n",
        "# After calculating the scores for all models, compare them using the mean values for each evaluation metric.\n",
        "# Choose the model with the highest mean accuracy and/or Cohen's Kappa score as the best-performing model.\n",
        "# Optionally, you can visualize the results in a bar plot or another suitable plot to make the comparison more intuitive.\n",
        "# Here's an example of how to create a dictionary to store the results:\n",
        "\n",
        "results = {\n",
        "    \"Model\": [],\n",
        "    \"Accuracy\": [],\n",
        "    \"Cohen's Kappa\": []\n",
        "}\n",
        "# After computing the accuracy and Cohen's Kappa scores for each model, you can append the results to the dictionary like this:\n",
        "\n",
        "results[\"Model\"].append(\"Decision Tree\")\n",
        "results[\"Accuracy\"].append(acc_score_cv10)  # Use the desired accuracy score (e.g., 10-fold CV)\n",
        "results[\"Cohen's Kappa\"].append(kappa_score_cv10)  # Use the desired Cohen's Kappa score (e.g., 10-fold CV)\n",
        "results[\"Model\"].append(\"Naive Bayes\")\n",
        "results[\"Accuracy\"].append(NBacc_score_cv10)  # Use the desired accuracy score (e.g., 10-fold CV)\n",
        "results[\"Cohen's Kappa\"].append(NBkappa_score_cv10)\n",
        "results[\"Model\"].append(\"Logistic Regression\")\n",
        "results[\"Accuracy\"].append(LRacc_score_cv10)  # Use the desired accuracy score (e.g., 10-fold CV)\n",
        "results[\"Cohen's Kappa\"].append(LRkappa_score_cv10)\n",
        "results[\"Model\"].append(\"Random Forest\")\n",
        "results[\"Accuracy\"].append(RFacc_score_cv10)  # Use the desired accuracy score (e.g., 10-fold CV)\n",
        "results[\"Cohen's Kappa\"].append(RFkappa_score_cv10)\n",
        "results[\"Model\"].append(\"Adaboost\")\n",
        "results[\"Accuracy\"].append(ABacc_score_cv)  # Use the desired accuracy score (e.g., 10-fold CV)\n",
        "results[\"Cohen's Kappa\"].append(ABkappa_score_cv10)\n",
        "# Repeat the same for the other models (Logistic Regression, Naïve Bayes, Random Forest, and Adaboost).\n",
        "\n",
        "# After obtaining the results for all models, convert the dictionary into a DataFrame:\n",
        "\n",
        "results_df = pd.DataFrame(results)\n",
        "\n",
        "# Then, you can sort the DataFrame based on the evaluation metric of your choice (accuracy or Cohen's Kappa) to find the best-performing model:\n",
        "results_df.sort_values(by=\"Accuracy\", ascending=False, inplace=True)\n",
        "\n",
        "# Finally, visualize the results using a bar plot or any other suitable plot:\n",
        "#import matplotlib.pyplot as plt\n",
        "\n",
        "plt.bar(results_df[\"Model\"], results_df[\"Accuracy\"])\n",
        "plt.xlabel(\"Models\")\n",
        "plt.ylabel(\"Accuracy\")\n",
        "plt.title(\"Model Comparison - Accuracy on predicting accident severity\")\n",
        "plt.xticks(rotation=90)\n",
        "for i, v in enumerate(results_df[\"Accuracy\"]):\n",
        "    plt.text(i, v, str(round(v, 3)), color='blue', fontweight='bold')\n",
        "plt.show()\n",
        "\n"
      ],
      "metadata": {
        "id": "mn6dFtcGOrCM"
      },
      "execution_count": null,
      "outputs": []
    },
    {
      "cell_type": "code",
      "source": [
        "possibility_results = {\n",
        "    \"Model\": [],\n",
        "    \"Accuracy\": [],\n",
        "    \"Cohen's Kappa\": []\n",
        "}\n",
        "# After computing the accuracy and Cohen's Kappa scores for each model, you can append the results to the dictionary like this:\n",
        "\n",
        "possibility_results[\"Model\"].append(\"Decision Tree\")\n",
        "possibility_results[\"Accuracy\"].append(Pacc_score_cv10)  # Use the desired accuracy score (e.g., 10-fold CV)\n",
        "possibility_results[\"Cohen's Kappa\"].append(Pkappa_score_cv10)  # Use the desired Cohen's Kappa score (e.g., 10-fold CV)\n",
        "possibility_results[\"Model\"].append(\"Naive Bayes\")\n",
        "possibility_results[\"Accuracy\"].append(PNBacc_score_cv10)  # Use the desired accuracy score (e.g., 10-fold CV)\n",
        "possibility_results[\"Cohen's Kappa\"].append(PNBkappa_score_cv10)\n",
        "possibility_results[\"Model\"].append(\"Logistic Regression\")\n",
        "possibility_results[\"Accuracy\"].append(PLRacc_score_cv10)  # Use the desired accuracy score (e.g., 10-fold CV)\n",
        "possibility_results[\"Cohen's Kappa\"].append(PLRkappa_score_cv10)\n",
        "possibility_results[\"Model\"].append(\"Random Forest\")\n",
        "possibility_results[\"Accuracy\"].append(PRFacc_score_cv10)  # Use the desired accuracy score (e.g., 10-fold CV)\n",
        "possibility_results[\"Cohen's Kappa\"].append(PRFkappa_score_cv10)\n",
        "possibility_results[\"Model\"].append(\"Adaboost\")\n",
        "possibility_results[\"Accuracy\"].append(PABacc_score_cv)  # Use the desired accuracy score (e.g., 10-fold CV)\n",
        "possibility_results[\"Cohen's Kappa\"].append(PABkappa_score_cv10)\n",
        "# Repeat the same for the other models (Logistic Regression, Naïve Bayes, Random Forest, and Adaboost).\n",
        "\n",
        "# After obtaining the results for all models, convert the dictionary into a DataFrame:\n",
        "\n",
        "possibility_results_df = pd.DataFrame(possibility_results)\n",
        "\n",
        "# Then, you can sort the DataFrame based on the evaluation metric of your choice (accuracy or Cohen's Kappa) to find the best-performing model:\n",
        "possibility_results_df.sort_values(by=\"Accuracy\", ascending=False, inplace=True)\n",
        "\n",
        "# Finally, visualize the results using a bar plot or any other suitable plot:\n",
        "#import matplotlib.pyplot as plt\n",
        "\n",
        "plt.bar(possibility_results_df[\"Model\"], possibility_results_df[\"Accuracy\"])\n",
        "plt.xlabel(\"Models\")\n",
        "plt.ylabel(\"Accuracy\")\n",
        "plt.title(\"Model Comparison - Accuracy on predicting the possibility of severe accident\")\n",
        "plt.xticks(rotation=90)\n",
        "for i, v in enumerate(possibility_results_df[\"Accuracy\"]):\n",
        "    plt.text(i, v, str(round(v, 3)), color='blue', fontweight='bold')\n",
        "plt.show()\n"
      ],
      "metadata": {
        "id": "MkBFEru2uQng"
      },
      "execution_count": null,
      "outputs": []
    },
    {
      "cell_type": "code",
      "source": [
        "possibility_results_df#display the accuracy and kappa score of all 5 models"
      ],
      "metadata": {
        "id": "4ujorwTvNj4S"
      },
      "execution_count": null,
      "outputs": []
    },
    {
      "cell_type": "markdown",
      "metadata": {
        "id": "GA_sSOvE9MxB"
      },
      "source": [
        "In this project, we want to implement both unsupervised and supervised machine learning models to achieve our research questions. We first cleaned the dataset and ensure the data without any outliers (`accident_time` less than 0) and Null values. We then created a new column called `severe_accident` that can distinguish whether an accident is severe or not. According to our dataset, our two labels are binary variables so the machine learning will be a classification question.\n",
        "\n",
        "We used PCA (unsupervised learning) to reduce dimensional and apply supervised learning models (Logistic Regression with regularizations) after that. We then used supervised laerning methods like decision tree, random forest, SVM, Adaboost and Naive Bayes. We also tunned their hyperparameters to see which one can produce the best accuracy.\n",
        "\n",
        "After using PCA on the feature list, the best model is logistic regression with l2 and elastic net.\n",
        "for the model that predicting the severity of an accident, the best one is random forest, the accuracy is 94.4%.\n",
        "for the model that predicting the possibility of an accident is severe or not, the best one is adaboost with accuracy of 95.446%"
      ]
    },
    {
      "cell_type": "markdown",
      "source": [
        "# Part 5 : Challenges and Obstacles Faced"
      ],
      "metadata": {
        "id": "wOoX6ZJQkwDK"
      }
    },
    {
      "cell_type": "markdown",
      "source": [
        "* **Missing Data:** There are many missing value/nulls in data, due to collection error or something else. In this way, the cleaning process has eliminated many rows.\n",
        "\n",
        "* **Data size:** This dataset is extremely large and has nearly 3 million rows. There are still nearly 1 million rows after the data preprocessing and cleaning phase. In order to avoid system overload we have to using sampling to select 50000 rows from the dataset but we think those data might be not very representative for the whole picture.\n",
        "\n",
        "* **Select features:** Additionally, we would like to add some features that can make our model better and representative but the colab environment is unable to process too many features in short time. So we have to further drop the number of features and only keep 18 of them."
      ],
      "metadata": {
        "id": "2_1SMnhMkykW"
      }
    },
    {
      "cell_type": "markdown",
      "source": [
        "# Part 6 : Further Exploration"
      ],
      "metadata": {
        "id": "wWEXWPWVk23D"
      }
    },
    {
      "cell_type": "markdown",
      "source": [
        "* We would like to try methods covered in the lecture to replace missing value/Nulls with aggregation or KNN value to retain more rows in training data\n",
        "* We would like to access more powerful system that can process more rows where we can expand the size of our training and testing data. The current environment has very limited RAM which always crash for large dataset."
      ],
      "metadata": {
        "id": "0VhKp-7Vk7J0"
      }
    }
  ],
  "metadata": {
    "colab": {
      "provenance": [],
      "gpuClass": "premium"
    },
    "gpuClass": "premium",
    "kernelspec": {
      "display_name": "Python 3",
      "name": "python3"
    },
    "language_info": {
      "name": "python"
    },
    "accelerator": "GPU"
  },
  "nbformat": 4,
  "nbformat_minor": 0
}